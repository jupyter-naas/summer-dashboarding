{
 "cells": [
  {
   "cell_type": "markdown",
   "id": "760b85f5-b869-4117-9b68-3084fcdd13d6",
   "metadata": {},
   "source": [
    "<img width=\"10%\" alt=\"Naas\" src=\"https://landen.imgix.net/jtci2pxwjczr/assets/5ice39g4.png?w=160\"/>"
   ]
  },
  {
   "cell_type": "markdown",
   "id": "0b67be94-62bf-45f1-996a-fb016eaa4fa2",
   "metadata": {},
   "source": [
    "# Social Media KPIs dashboard"
   ]
  },
  {
   "cell_type": "markdown",
   "id": "98e9858e-96ef-44c8-82fd-36850a7178f8",
   "metadata": {},
   "source": [
    "**Tags:** #dashboard #plotly #dash #naas #asset #automation #ai #analytics"
   ]
  },
  {
   "cell_type": "markdown",
   "id": "b80162d1-2b90-4340-8c9d-bf46ee74f129",
   "metadata": {},
   "source": [
    "**Author:** [Ismail CHIHAB](https://www.linkedin.com/in/ismail-chihab-4b0a04202/)"
   ]
  },
  {
   "cell_type": "markdown",
   "id": "59e516cf-ce9f-4eac-b177-ebdbf2e90636",
   "metadata": {},
   "source": [
    "## Input"
   ]
  },
  {
   "cell_type": "markdown",
   "id": "383ac6fd-6bf7-42f5-901a-e1086e6720d0",
   "metadata": {},
   "source": [
    "### Import libraries"
   ]
  },
  {
   "cell_type": "code",
   "execution_count": 1,
   "id": "cd726a60-cf9a-45d4-afeb-9124a7f1cadb",
   "metadata": {
    "execution": {
     "iopub.execute_input": "2022-08-24T21:13:49.781633Z",
     "iopub.status.busy": "2022-08-24T21:13:49.781236Z",
     "iopub.status.idle": "2022-08-24T21:13:52.066435Z",
     "shell.execute_reply": "2022-08-24T21:13:52.065845Z",
     "shell.execute_reply.started": "2022-08-24T21:13:49.781565Z"
    },
    "tags": []
   },
   "outputs": [],
   "source": [
    "import naas\n",
    "import naas_drivers\n",
    "import dash\n",
    "from dash import html, dash_table\n",
    "from dash.dependencies import Input, Output, State\n",
    "from dash import dcc\n",
    "import dash_bootstrap_components as dbc\n",
    "import plotly.graph_objects as go\n",
    "import plotly.express as px\n",
    "import pandas as pd\n",
    "import os"
   ]
  },
  {
   "cell_type": "markdown",
   "id": "47187f6b-150f-4072-8e59-910734be1d59",
   "metadata": {},
   "source": [
    "### Variables"
   ]
  },
  {
   "cell_type": "code",
   "execution_count": 2,
   "id": "9af29914-37af-494f-9b1c-8360886b65e5",
   "metadata": {
    "execution": {
     "iopub.execute_input": "2022-08-24T21:13:52.069864Z",
     "iopub.status.busy": "2022-08-24T21:13:52.069678Z",
     "iopub.status.idle": "2022-08-24T21:13:52.081565Z",
     "shell.execute_reply": "2022-08-24T21:13:52.081066Z",
     "shell.execute_reply.started": "2022-08-24T21:13:52.069844Z"
    },
    "tags": []
   },
   "outputs": [],
   "source": [
    "DASH_PORT = 8050\n",
    "app = dash.Dash(requests_pathname_prefix=f'/user/{os.environ.get(\"JUPYTERHUB_USER\")}/proxy/{DASH_PORT}/', \n",
    "                external_stylesheets=[dbc.themes.BOOTSTRAP], meta_tags=[{'name':'viewport',\n",
    "                                                                         'content':'width=device-width, initial-scale=1.0'}])  "
   ]
  },
  {
   "cell_type": "markdown",
   "id": "d375d2f0-edc5-4278-a7ef-2974c010836a",
   "metadata": {},
   "source": [
    "## Model"
   ]
  },
  {
   "cell_type": "markdown",
   "id": "a1c42d27-3911-48e4-9caa-b5f97d13f4ec",
   "metadata": {},
   "source": [
    "### 1.Dataset:"
   ]
  },
  {
   "cell_type": "markdown",
   "id": "837e412a-b86f-4dd9-a864-547d960ff324",
   "metadata": {},
   "source": [
    "#### a. Importing:"
   ]
  },
  {
   "cell_type": "code",
   "execution_count": 3,
   "id": "846d6250-0868-4bf2-872f-1d9cdab6b63b",
   "metadata": {
    "execution": {
     "iopub.execute_input": "2022-08-24T21:13:52.083662Z",
     "iopub.status.busy": "2022-08-24T21:13:52.083447Z",
     "iopub.status.idle": "2022-08-24T21:13:52.170577Z",
     "shell.execute_reply": "2022-08-24T21:13:52.170019Z",
     "shell.execute_reply.started": "2022-08-24T21:13:52.083635Z"
    },
    "tags": []
   },
   "outputs": [],
   "source": [
    "spreadsheet_id = \"1sJgHWhQIj5R11XeNAA4gEj426T1OFS15gbu1DQMvlfk\""
   ]
  },
  {
   "cell_type": "markdown",
   "id": "5993311d-8fc1-4ae9-81fd-774b5415feb6",
   "metadata": {},
   "source": [
    "LinkedIn"
   ]
  },
  {
   "cell_type": "code",
   "execution_count": 4,
   "id": "146e5b60-7b01-439a-a9fa-5d036b105585",
   "metadata": {
    "execution": {
     "iopub.execute_input": "2022-08-24T21:13:52.172256Z",
     "iopub.status.busy": "2022-08-24T21:13:52.172021Z",
     "iopub.status.idle": "2022-08-24T21:13:52.863386Z",
     "shell.execute_reply": "2022-08-24T21:13:52.862855Z",
     "shell.execute_reply.started": "2022-08-24T21:13:52.172220Z"
    },
    "tags": []
   },
   "outputs": [
    {
     "name": "stdout",
     "output_type": "stream",
     "text": [
      "number of rows: 70\n"
     ]
    },
    {
     "data": {
      "text/html": [
       "<div>\n",
       "<style scoped>\n",
       "    .dataframe tbody tr th:only-of-type {\n",
       "        vertical-align: middle;\n",
       "    }\n",
       "\n",
       "    .dataframe tbody tr th {\n",
       "        vertical-align: top;\n",
       "    }\n",
       "\n",
       "    .dataframe thead th {\n",
       "        text-align: right;\n",
       "    }\n",
       "</style>\n",
       "<table border=\"1\" class=\"dataframe\">\n",
       "  <thead>\n",
       "    <tr style=\"text-align: right;\">\n",
       "      <th></th>\n",
       "      <th>ENTITY</th>\n",
       "      <th>SCENARIO</th>\n",
       "      <th>X-AXIS</th>\n",
       "      <th>Y-AXIS</th>\n",
       "      <th>VALUE</th>\n",
       "      <th>UNIT</th>\n",
       "    </tr>\n",
       "  </thead>\n",
       "  <tbody>\n",
       "    <tr>\n",
       "      <th>0</th>\n",
       "      <td>All platforms</td>\n",
       "      <td>2022</td>\n",
       "      <td>Actual</td>\n",
       "      <td>Followers</td>\n",
       "      <td>12</td>\n",
       "      <td>%</td>\n",
       "    </tr>\n",
       "  </tbody>\n",
       "</table>\n",
       "</div>"
      ],
      "text/plain": [
       "          ENTITY  SCENARIO  X-AXIS     Y-AXIS VALUE UNIT\n",
       "0  All platforms      2022  Actual  Followers    12    %"
      ]
     },
     "execution_count": 4,
     "metadata": {},
     "output_type": "execute_result"
    }
   ],
   "source": [
    "sheet_name = \"001\"\n",
    "linkedin_df = naas_drivers.gsheet.connect(spreadsheet_id).get(\n",
    "    sheet_name=sheet_name\n",
    ") \n",
    "print(\"number of rows:\", len(linkedin_df))\n",
    "linkedin_df.head(1)"
   ]
  },
  {
   "cell_type": "markdown",
   "id": "84544867-cbfa-4f07-8a9a-9de2dd4a2a63",
   "metadata": {},
   "source": [
    "Youtube"
   ]
  },
  {
   "cell_type": "code",
   "execution_count": 5,
   "id": "f281abfb-ae97-4cbb-ae0b-a116c0e47ffe",
   "metadata": {
    "execution": {
     "iopub.execute_input": "2022-08-24T21:13:52.866268Z",
     "iopub.status.busy": "2022-08-24T21:13:52.866050Z",
     "iopub.status.idle": "2022-08-24T21:13:53.263951Z",
     "shell.execute_reply": "2022-08-24T21:13:53.263390Z",
     "shell.execute_reply.started": "2022-08-24T21:13:52.866242Z"
    },
    "tags": []
   },
   "outputs": [
    {
     "name": "stdout",
     "output_type": "stream",
     "text": [
      "number of rows: 70\n"
     ]
    },
    {
     "data": {
      "text/html": [
       "<div>\n",
       "<style scoped>\n",
       "    .dataframe tbody tr th:only-of-type {\n",
       "        vertical-align: middle;\n",
       "    }\n",
       "\n",
       "    .dataframe tbody tr th {\n",
       "        vertical-align: top;\n",
       "    }\n",
       "\n",
       "    .dataframe thead th {\n",
       "        text-align: right;\n",
       "    }\n",
       "</style>\n",
       "<table border=\"1\" class=\"dataframe\">\n",
       "  <thead>\n",
       "    <tr style=\"text-align: right;\">\n",
       "      <th></th>\n",
       "      <th>ENTITY</th>\n",
       "      <th>SCENARIO</th>\n",
       "      <th>X-AXIS</th>\n",
       "      <th>Y-AXIS</th>\n",
       "      <th>VALUE</th>\n",
       "      <th>UNIT</th>\n",
       "    </tr>\n",
       "  </thead>\n",
       "  <tbody>\n",
       "    <tr>\n",
       "      <th>0</th>\n",
       "      <td>All platforms</td>\n",
       "      <td>2022</td>\n",
       "      <td>Actual</td>\n",
       "      <td>Followers</td>\n",
       "      <td>12</td>\n",
       "      <td>%</td>\n",
       "    </tr>\n",
       "  </tbody>\n",
       "</table>\n",
       "</div>"
      ],
      "text/plain": [
       "          ENTITY  SCENARIO  X-AXIS     Y-AXIS VALUE UNIT\n",
       "0  All platforms      2022  Actual  Followers    12    %"
      ]
     },
     "execution_count": 5,
     "metadata": {},
     "output_type": "execute_result"
    }
   ],
   "source": [
    "sheet_name = \"002\"\n",
    "youtube_df = naas_drivers.gsheet.connect(spreadsheet_id).get(\n",
    "    sheet_name=sheet_name\n",
    ") \n",
    "print(\"number of rows:\", len(youtube_df))\n",
    "youtube_df.head(1)"
   ]
  },
  {
   "cell_type": "markdown",
   "id": "23d11e23-a313-4568-817e-4dbef73c0e43",
   "metadata": {
    "execution": {
     "iopub.execute_input": "2022-08-23T17:30:31.895931Z",
     "iopub.status.busy": "2022-08-23T17:30:31.895666Z",
     "iopub.status.idle": "2022-08-23T17:30:31.948999Z",
     "shell.execute_reply": "2022-08-23T17:30:31.947919Z",
     "shell.execute_reply.started": "2022-08-23T17:30:31.895865Z"
    },
    "tags": []
   },
   "source": [
    "Instagram"
   ]
  },
  {
   "cell_type": "code",
   "execution_count": 6,
   "id": "c34fb331-5a28-441a-aa33-ee7f044817d9",
   "metadata": {
    "execution": {
     "iopub.execute_input": "2022-08-24T21:13:53.266375Z",
     "iopub.status.busy": "2022-08-24T21:13:53.266210Z",
     "iopub.status.idle": "2022-08-24T21:13:53.656464Z",
     "shell.execute_reply": "2022-08-24T21:13:53.655907Z",
     "shell.execute_reply.started": "2022-08-24T21:13:53.266356Z"
    },
    "tags": []
   },
   "outputs": [
    {
     "name": "stdout",
     "output_type": "stream",
     "text": [
      "number of rows: 70\n"
     ]
    },
    {
     "data": {
      "text/html": [
       "<div>\n",
       "<style scoped>\n",
       "    .dataframe tbody tr th:only-of-type {\n",
       "        vertical-align: middle;\n",
       "    }\n",
       "\n",
       "    .dataframe tbody tr th {\n",
       "        vertical-align: top;\n",
       "    }\n",
       "\n",
       "    .dataframe thead th {\n",
       "        text-align: right;\n",
       "    }\n",
       "</style>\n",
       "<table border=\"1\" class=\"dataframe\">\n",
       "  <thead>\n",
       "    <tr style=\"text-align: right;\">\n",
       "      <th></th>\n",
       "      <th>ENTITY</th>\n",
       "      <th>SCENARIO</th>\n",
       "      <th>X-AXIS</th>\n",
       "      <th>Y-AXIS</th>\n",
       "      <th>VALUE</th>\n",
       "      <th>UNIT</th>\n",
       "    </tr>\n",
       "  </thead>\n",
       "  <tbody>\n",
       "    <tr>\n",
       "      <th>0</th>\n",
       "      <td>All platforms</td>\n",
       "      <td>2022</td>\n",
       "      <td>Actual</td>\n",
       "      <td>Followers</td>\n",
       "      <td>12</td>\n",
       "      <td>%</td>\n",
       "    </tr>\n",
       "  </tbody>\n",
       "</table>\n",
       "</div>"
      ],
      "text/plain": [
       "          ENTITY  SCENARIO  X-AXIS     Y-AXIS VALUE UNIT\n",
       "0  All platforms      2022  Actual  Followers    12    %"
      ]
     },
     "execution_count": 6,
     "metadata": {},
     "output_type": "execute_result"
    }
   ],
   "source": [
    "sheet_name = \"003\"\n",
    "instagram_df = naas_drivers.gsheet.connect(spreadsheet_id).get(\n",
    "    sheet_name=sheet_name\n",
    ") \n",
    "print(\"number of rows:\", len(instagram_df))\n",
    "instagram_df.head(1)"
   ]
  },
  {
   "cell_type": "markdown",
   "id": "7d8f5e73-4814-41c1-b29f-41ca08f0586f",
   "metadata": {},
   "source": [
    "Twitter"
   ]
  },
  {
   "cell_type": "code",
   "execution_count": 7,
   "id": "e626a180-6764-4e3c-9a56-a1e5c0279a14",
   "metadata": {
    "execution": {
     "iopub.execute_input": "2022-08-24T21:13:53.657654Z",
     "iopub.status.busy": "2022-08-24T21:13:53.657434Z",
     "iopub.status.idle": "2022-08-24T21:13:54.040445Z",
     "shell.execute_reply": "2022-08-24T21:13:54.039902Z",
     "shell.execute_reply.started": "2022-08-24T21:13:53.657626Z"
    },
    "tags": []
   },
   "outputs": [
    {
     "name": "stdout",
     "output_type": "stream",
     "text": [
      "number of rows: 70\n"
     ]
    },
    {
     "data": {
      "text/html": [
       "<div>\n",
       "<style scoped>\n",
       "    .dataframe tbody tr th:only-of-type {\n",
       "        vertical-align: middle;\n",
       "    }\n",
       "\n",
       "    .dataframe tbody tr th {\n",
       "        vertical-align: top;\n",
       "    }\n",
       "\n",
       "    .dataframe thead th {\n",
       "        text-align: right;\n",
       "    }\n",
       "</style>\n",
       "<table border=\"1\" class=\"dataframe\">\n",
       "  <thead>\n",
       "    <tr style=\"text-align: right;\">\n",
       "      <th></th>\n",
       "      <th>ENTITY</th>\n",
       "      <th>SCENARIO</th>\n",
       "      <th>X-AXIS</th>\n",
       "      <th>Y-AXIS</th>\n",
       "      <th>VALUE</th>\n",
       "      <th>UNIT</th>\n",
       "    </tr>\n",
       "  </thead>\n",
       "  <tbody>\n",
       "    <tr>\n",
       "      <th>0</th>\n",
       "      <td>All platforms</td>\n",
       "      <td>2022</td>\n",
       "      <td>Actual</td>\n",
       "      <td>Followers</td>\n",
       "      <td>12</td>\n",
       "      <td>%</td>\n",
       "    </tr>\n",
       "  </tbody>\n",
       "</table>\n",
       "</div>"
      ],
      "text/plain": [
       "          ENTITY  SCENARIO  X-AXIS     Y-AXIS VALUE UNIT\n",
       "0  All platforms      2022  Actual  Followers    12    %"
      ]
     },
     "execution_count": 7,
     "metadata": {},
     "output_type": "execute_result"
    }
   ],
   "source": [
    "sheet_name = \"004\"\n",
    "twitter_df = naas_drivers.gsheet.connect(spreadsheet_id).get(\n",
    "    sheet_name=sheet_name\n",
    ") \n",
    "print(\"number of rows:\", len(twitter_df))\n",
    "twitter_df.head(1)"
   ]
  },
  {
   "cell_type": "markdown",
   "id": "31ac32b2-d914-493d-a4c2-7252a683b035",
   "metadata": {},
   "source": [
    "#### b. Manipulation:"
   ]
  },
  {
   "cell_type": "code",
   "execution_count": 8,
   "id": "8eb6ed08-01c9-4cdd-8d1a-082c136bf5c0",
   "metadata": {
    "execution": {
     "iopub.execute_input": "2022-08-24T21:13:54.042808Z",
     "iopub.status.busy": "2022-08-24T21:13:54.042600Z",
     "iopub.status.idle": "2022-08-24T21:13:54.047739Z",
     "shell.execute_reply": "2022-08-24T21:13:54.047261Z",
     "shell.execute_reply.started": "2022-08-24T21:13:54.042788Z"
    },
    "tags": []
   },
   "outputs": [],
   "source": [
    "def update_data(df_init):\n",
    "    # Drop duplicates\n",
    "    df = df_init.copy()\n",
    "    df = df.drop_duplicates()\n",
    "    \n",
    "    # Pivot \n",
    "    df = pd.pivot(df, index=['Y-AXIS', 'SCENARIO'], values='VALUE', columns='X-AXIS')\n",
    "    df.loc[:, \"SCENARIO\"] = df.index.get_level_values(1)\n",
    "    df.loc[:, \"Y-AXIS\"] = df.index.get_level_values(0)\n",
    "    df = df.reset_index(drop=True)\n",
    "    return df "
   ]
  },
  {
   "cell_type": "code",
   "execution_count": 9,
   "id": "91f43904-0a8c-44b9-b514-49d81c3ec59d",
   "metadata": {
    "execution": {
     "iopub.execute_input": "2022-08-24T21:13:54.049382Z",
     "iopub.status.busy": "2022-08-24T21:13:54.049156Z",
     "iopub.status.idle": "2022-08-24T21:13:54.164640Z",
     "shell.execute_reply": "2022-08-24T21:13:54.163948Z",
     "shell.execute_reply.started": "2022-08-24T21:13:54.049343Z"
    },
    "tags": []
   },
   "outputs": [
    {
     "data": {
      "text/plain": [
       "['Actual', 'Prev Period', 'Target', 'To Previous', 'To Target']"
      ]
     },
     "execution_count": 9,
     "metadata": {},
     "output_type": "execute_result"
    }
   ],
   "source": [
    "youtube_dff = update_data(youtube_df)\n",
    "column_list=list(youtube_dff.columns[0:5])\n",
    "column_list"
   ]
  },
  {
   "cell_type": "markdown",
   "id": "0d47a1da-f78f-4d97-9c12-a2673bbab9b3",
   "metadata": {},
   "source": [
    "### 2. Dropdown menus:"
   ]
  },
  {
   "cell_type": "code",
   "execution_count": 24,
   "id": "dede27dc-8c3b-4a79-8462-b55166814748",
   "metadata": {
    "execution": {
     "iopub.execute_input": "2022-08-24T21:24:14.864856Z",
     "iopub.status.busy": "2022-08-24T21:24:14.864664Z",
     "iopub.status.idle": "2022-08-24T21:24:14.871816Z",
     "shell.execute_reply": "2022-08-24T21:24:14.871280Z",
     "shell.execute_reply.started": "2022-08-24T21:24:14.864836Z"
    },
    "tags": []
   },
   "outputs": [],
   "source": [
    "entities = [\n",
    "    \"All Platforms\",\n",
    "    \"Linkedin\",\n",
    "    \"Youtube\",\n",
    "    \"Instagram\",\n",
    "    \"Twitter\"\n",
    "]\n",
    "scenarios = [\n",
    "    {'label': \"2022\", 'value': \"2022\"},\n",
    "    {'label': \"2021\", 'value': \"2021\"},\n",
    "    {'label': \"2020\", 'value': \"2020\"}\n",
    "]\n",
    "\n",
    "entities_dropdown = dcc.Dropdown(\n",
    "    id='platform_dropdown',\n",
    "    options=[{'label': i, 'value': i} for i in entities],\n",
    "    placeholder='Entity',\n",
    "    value=entities[0], \n",
    ")\n",
    "scenarios_dropdown = dcc.Dropdown(\n",
    "    id='year_dropdown',\n",
    "    options=[{'label': i, 'value': i} for i in scenarios],\n",
    "    placeholder=scenarios[0],\n",
    "    value=scenarios[0]\n",
    ")"
   ]
  },
  {
   "cell_type": "markdown",
   "id": "98a1a137-101e-48e3-92df-6ac0b86ad7e2",
   "metadata": {},
   "source": [
    "### 3. Navbar:"
   ]
  },
  {
   "cell_type": "code",
   "execution_count": 25,
   "id": "c36a54f6-b2d5-46d7-9d0b-7b8dbf0346fe",
   "metadata": {
    "execution": {
     "iopub.execute_input": "2022-08-24T21:24:18.862174Z",
     "iopub.status.busy": "2022-08-24T21:24:18.861944Z",
     "iopub.status.idle": "2022-08-24T21:24:18.867803Z",
     "shell.execute_reply": "2022-08-24T21:24:18.867196Z",
     "shell.execute_reply.started": "2022-08-24T21:24:18.862148Z"
    },
    "tags": []
   },
   "outputs": [],
   "source": [
    "navbar = dbc.Navbar(\n",
    "    dbc.Container(\n",
    "        [\n",
    "            html.A(\n",
    "                # Use row and col to control vertical alignment of logo / brand\n",
    "                dbc.Row(\n",
    "                    [\n",
    "                        #dbc.Col(html.Img(src=APP_LOGO, height=\"30px\")),\n",
    "                        dbc.Col(dbc.NavbarBrand(\"Social Media KPIs\", className=\"ms-2\")),\n",
    "                    ],\n",
    "                    align=\"center\",\n",
    "                    className=\"g-0\",\n",
    "                ),\n",
    "                href=\"https://mobile.twitter.com/ws_room/photo\",\n",
    "                style={\"textDecoration\": \"none\"},\n",
    "            ),\n",
    "            dbc.NavbarToggler(id=\"navbar-toggler\", n_clicks=0),\n",
    "            dbc.Collapse(\n",
    "                dbc.Nav(\n",
    "                    [\n",
    "                        html.Div(\n",
    "                            [\n",
    "                                html.Div(className=\"w-100\"),\n",
    "                                html.Div(className=\"w-100\"),\n",
    "                                html.Div(entities_dropdown, className=\"w-100\"),\n",
    "                                html.Div(scenarios_dropdown, className=\"w-100\")\n",
    "                            ],\n",
    "                            className=\"pt-1 pb-1 d-grid gap-2 d-md-flex w-100\")\n",
    "\n",
    "                    ],\n",
    "                    className=\"ms-auto w-100\",\n",
    "                    navbar=True,\n",
    "                ),\n",
    "                id=\"navbar-collapse\",\n",
    "                navbar=True,\n",
    "                is_open=False,\n",
    "            ),\n",
    "        ],\n",
    "    ),\n",
    "    color=\"dark\",\n",
    "    dark=True,\n",
    ")"
   ]
  },
  {
   "cell_type": "markdown",
   "id": "d6b1817a-824f-4411-9851-9f53b723999d",
   "metadata": {},
   "source": [
    "### 4. Cards:"
   ]
  },
  {
   "cell_type": "markdown",
   "id": "96fcc4d0-f6c4-408e-8e31-5664ced52d28",
   "metadata": {},
   "source": [
    "#### a. Logos:"
   ]
  },
  {
   "cell_type": "code",
   "execution_count": 26,
   "id": "e5e1de31-c069-4a68-bec0-6af04ad4e59b",
   "metadata": {
    "execution": {
     "iopub.execute_input": "2022-08-24T21:24:23.232316Z",
     "iopub.status.busy": "2022-08-24T21:24:23.232077Z",
     "iopub.status.idle": "2022-08-24T21:24:23.235295Z",
     "shell.execute_reply": "2022-08-24T21:24:23.234686Z",
     "shell.execute_reply.started": "2022-08-24T21:24:23.232293Z"
    },
    "tags": []
   },
   "outputs": [],
   "source": [
    "facebook_logo = \"https://public.naas.ai/aXNtYWlsY2hpaGFiNzEtNDBnbWFpbC0yRWNvbQ==/asset/0606284b644f3027729e6458673533626294714b23c87a4dc586f3788267.png\"\n",
    "instagram_logo = \"https://public.naas.ai/aXNtYWlsY2hpaGFiNzEtNDBnbWFpbC0yRWNvbQ==/asset/063fd6d5f4bcf0333e24bc9df3e27ff0ac94d87cb3f49deb618e136a2820.png\"\n",
    "twitter_logo = \"https://public.naas.ai/aXNtYWlsY2hpaGFiNzEtNDBnbWFpbC0yRWNvbQ==/asset/6971c34213c7a79bcb5a9583ca77762bf09c84edc942e1d792db2baab22d.png\"\n",
    "youtube_logo = \"https://public.naas.ai/aXNtYWlsY2hpaGFiNzEtNDBnbWFpbC0yRWNvbQ==/asset/1c8d463751a136a2cdead2a0e8c663b1fa19bb623e1d2b8874c17cf6bb96.png\""
   ]
  },
  {
   "cell_type": "markdown",
   "id": "b2403c52-bf74-4549-9202-56142fa2cb7c",
   "metadata": {},
   "source": [
    "#### b. Navbars:"
   ]
  },
  {
   "cell_type": "markdown",
   "id": "189f6ab4-ffc1-4eb1-8363-893cc05010c9",
   "metadata": {},
   "source": [
    "Function:"
   ]
  },
  {
   "cell_type": "code",
   "execution_count": 27,
   "id": "99ba1004-2947-44b8-8cae-5e97a6d0a212",
   "metadata": {
    "execution": {
     "iopub.execute_input": "2022-08-24T21:24:24.560754Z",
     "iopub.status.busy": "2022-08-24T21:24:24.560528Z",
     "iopub.status.idle": "2022-08-24T21:24:24.566656Z",
     "shell.execute_reply": "2022-08-24T21:24:24.566078Z",
     "shell.execute_reply.started": "2022-08-24T21:24:24.560731Z"
    },
    "tags": []
   },
   "outputs": [],
   "source": [
    "def inner_navbar(platform_name, logo, brand_hex_color): \n",
    "    \n",
    "    inner_navbar = dbc.Navbar(\n",
    "            dbc.Container(\n",
    "                [\n",
    "                    html.A(\n",
    "                        # Use row and col to control vertical alignment of logo / brand\n",
    "                        dbc.Row(\n",
    "                            [\n",
    "                                dbc.Col(html.Img(src=logo, height=\"30px\")),\n",
    "                                dbc.Col(dbc.NavbarBrand(platform_name, className=\"ms-2\")),\n",
    "                            ],\n",
    "                            align=\"center\",\n",
    "                            className=\"g-0\",\n",
    "                        ),\n",
    "                        style={\"textDecoration\": \"none\"},\n",
    "                    )\n",
    "                ]\n",
    "            ),\n",
    "            color=str(brand_hex_color),\n",
    "            dark=True,\n",
    "        )\n",
    "    return inner_navbar"
   ]
  },
  {
   "cell_type": "markdown",
   "id": "678f515a-dd6e-4e80-a344-e0b87cd1fac3",
   "metadata": {},
   "source": [
    "Navbar for the cards:"
   ]
  },
  {
   "cell_type": "code",
   "execution_count": 28,
   "id": "9594d8d7-6222-4f77-be9b-bd0ab2fe0615",
   "metadata": {
    "execution": {
     "iopub.execute_input": "2022-08-24T21:24:28.934486Z",
     "iopub.status.busy": "2022-08-24T21:24:28.934256Z",
     "iopub.status.idle": "2022-08-24T21:24:28.938294Z",
     "shell.execute_reply": "2022-08-24T21:24:28.937682Z",
     "shell.execute_reply.started": "2022-08-24T21:24:28.934464Z"
    },
    "tags": []
   },
   "outputs": [],
   "source": [
    "Facebook_navbar =  inner_navbar(\"Facebook\", facebook_logo, \"#4267B2\")\n",
    "Instagram_navbar =  inner_navbar(\"Instagram\", instagram_logo, \"#E1306C\")\n",
    "Twitter_navbar =  inner_navbar(\"Twitter\", twitter_logo, \"#1DA1F2\")\n",
    "Youtube_navbar =  inner_navbar(\"Youtube\", youtube_logo, \"#FF0000\")"
   ]
  },
  {
   "cell_type": "markdown",
   "id": "431dd0c8-bfcb-4916-b8d5-dd4c3bd9d80b",
   "metadata": {},
   "source": [
    "#### c. Table:"
   ]
  },
  {
   "cell_type": "markdown",
   "id": "dadad617-7d47-4128-be5f-3c5d88c84163",
   "metadata": {},
   "source": [
    "Linkedin:"
   ]
  },
  {
   "cell_type": "code",
   "execution_count": 29,
   "id": "6eef9f83-3ccd-450f-8f55-31967578a77b",
   "metadata": {
    "execution": {
     "iopub.execute_input": "2022-08-24T21:24:32.612842Z",
     "iopub.status.busy": "2022-08-24T21:24:32.612553Z",
     "iopub.status.idle": "2022-08-24T21:24:32.643368Z",
     "shell.execute_reply": "2022-08-24T21:24:32.642712Z",
     "shell.execute_reply.started": "2022-08-24T21:24:32.612814Z"
    },
    "tags": []
   },
   "outputs": [],
   "source": [
    "youtube_table = dash_table.DataTable( \n",
    "    id='youtube_table',\n",
    "    #data={},\n",
    "    #columns=column_list, #[{'id': c, 'name': c} for c in df.columns],\n",
    "    \n",
    "     style_data={\n",
    "         'whiteSpace': 'normal',\n",
    "         'height':'auto',\n",
    "         'lineHeight': '15px'\n",
    "     },\n",
    "    \n",
    "    style_cell_conditional=[\n",
    "        {\n",
    "            'if': {'column_id': ''},\n",
    "            'textAlign': 'left',\n",
    "            'width': '150px'\n",
    "        },\n",
    "        {\n",
    "            'if': {'column_id': 'Actual'},\n",
    "         'width': '150px'\n",
    "        }, \n",
    "         {\n",
    "             'if': {'column_id': 'Target'},\n",
    "          'width': '150px'\n",
    "         },\n",
    "         {\n",
    "             'if': {'column_id': 'To Target'},\n",
    "          'width': '150px'\n",
    "         },\n",
    "         {\n",
    "             'if': {'column_id': 'Prev Period'},\n",
    "          'width': '150px'\n",
    "         },\n",
    "         {\n",
    "             'if': {'column_id': 'To Previous'},\n",
    "          'width': '150px'\n",
    "         },\n",
    "    ],\n",
    "    \n",
    "    style_data_conditional=([\n",
    "        {\n",
    "          'if': {\n",
    "              'filter_query': '{To Target} < 0',\n",
    "              'column_id': 'To Target', \n",
    "          },  \n",
    "          'backgroundColor': 'red',\n",
    "          'color': 'white'\n",
    "        },\n",
    "        {\n",
    "          'if': {\n",
    "              'filter_query': '{To Target} >= 0',\n",
    "              'column_id': 'To Target', \n",
    "          },  \n",
    "          'backgroundColor': 'green',\n",
    "          'color': 'white'\n",
    "        },\n",
    "        {\n",
    "          'if': {\n",
    "              'filter_query': '{To Previous} < 0',\n",
    "              'column_id': 'To Previous', \n",
    "          },  \n",
    "          'backgroundColor': 'red',\n",
    "          'color': 'white'\n",
    "        },\n",
    "        {\n",
    "          'if': {\n",
    "              'filter_query': '{To Previous} >= 0',\n",
    "              'column_id': 'To Previous', \n",
    "          },  \n",
    "          'backgroundColor': 'green',\n",
    "          'color': 'white'\n",
    "        },\n",
    "        \n",
    "    ]),\n",
    "    \n",
    "    style_table={\n",
    "        'overflowX':'scroll',\n",
    "    },\n",
    "    style_cell={\n",
    "        'padding': '5px',\n",
    "        'textAlign': 'center',\n",
    "        \n",
    "    },\n",
    "    style_header={\n",
    "        'backgroundColor': 'white',\n",
    "        'fontWeight': 'bold'\n",
    "        \n",
    "    },\n",
    "    style_as_list_view=True,\n",
    ")"
   ]
  },
  {
   "cell_type": "markdown",
   "id": "d016ef26-5faa-476a-bb05-e9a3c7148778",
   "metadata": {
    "execution": {
     "iopub.execute_input": "2022-08-23T17:50:13.223693Z",
     "iopub.status.busy": "2022-08-23T17:50:13.223472Z",
     "iopub.status.idle": "2022-08-23T17:50:13.268541Z",
     "shell.execute_reply": "2022-08-23T17:50:13.267607Z",
     "shell.execute_reply.started": "2022-08-23T17:50:13.223670Z"
    },
    "tags": []
   },
   "source": [
    "Youtube:"
   ]
  },
  {
   "cell_type": "code",
   "execution_count": null,
   "id": "7485a1df-3e91-493a-9132-18f70c343e4d",
   "metadata": {},
   "outputs": [],
   "source": []
  },
  {
   "cell_type": "markdown",
   "id": "e6923e1c-5cec-4fbf-a30c-36d401e269f7",
   "metadata": {},
   "source": [
    "Instagram:"
   ]
  },
  {
   "cell_type": "code",
   "execution_count": null,
   "id": "42501a49-45f7-48bf-b0de-affa51c41b0a",
   "metadata": {},
   "outputs": [],
   "source": []
  },
  {
   "cell_type": "markdown",
   "id": "e2affcdf-791e-4d93-9290-e7b4cb0299fa",
   "metadata": {},
   "source": [
    "Twitter:"
   ]
  },
  {
   "cell_type": "code",
   "execution_count": null,
   "id": "2b97136b-2e1d-494a-95b5-a0ec22fa9a1c",
   "metadata": {},
   "outputs": [],
   "source": []
  },
  {
   "cell_type": "markdown",
   "id": "426babb1-6532-4745-8bfb-285dc2baaecc",
   "metadata": {},
   "source": [
    "#### d. Cards:"
   ]
  },
  {
   "cell_type": "markdown",
   "id": "94bbe5cf-d41e-407b-b532-6ebe0dd228e4",
   "metadata": {},
   "source": [
    "Function:"
   ]
  },
  {
   "cell_type": "code",
   "execution_count": 30,
   "id": "5785af54-0060-4e84-b1b8-d5147a8559a9",
   "metadata": {
    "execution": {
     "iopub.execute_input": "2022-08-24T21:24:38.684447Z",
     "iopub.status.busy": "2022-08-24T21:24:38.684164Z",
     "iopub.status.idle": "2022-08-24T21:24:38.687893Z",
     "shell.execute_reply": "2022-08-24T21:24:38.687198Z",
     "shell.execute_reply.started": "2022-08-24T21:24:38.684423Z"
    },
    "tags": []
   },
   "outputs": [],
   "source": [
    "def inner_card(navbar, table):\n",
    "    card = dbc.Card(\n",
    "        dbc.CardBody(\n",
    "            [\n",
    "                navbar,\n",
    "                table,\n",
    "\n",
    "            ]\n",
    "        ),\n",
    "    )\n",
    "    return card"
   ]
  },
  {
   "cell_type": "markdown",
   "id": "90e48d47-0e31-4c3e-8ac6-ca004a0fcb9a",
   "metadata": {},
   "source": [
    "Cards implementation:"
   ]
  },
  {
   "cell_type": "code",
   "execution_count": 31,
   "id": "1981ab04-e695-4f04-ae6c-261df6e242eb",
   "metadata": {
    "execution": {
     "iopub.execute_input": "2022-08-24T21:24:42.822472Z",
     "iopub.status.busy": "2022-08-24T21:24:42.822249Z",
     "iopub.status.idle": "2022-08-24T21:24:42.825474Z",
     "shell.execute_reply": "2022-08-24T21:24:42.824782Z",
     "shell.execute_reply.started": "2022-08-24T21:24:42.822450Z"
    },
    "tags": []
   },
   "outputs": [],
   "source": [
    "#linkedin_card = inner_card(Facebook_navbar, linkedin_table)\n",
    "#Instagram_card = inner_card(Instagram_navbar, instagram_table)\n",
    "#Twitter_card = inner_card(Twitter_navbar, twitter_table)\n",
    "Youtube_card = inner_card(Youtube_navbar, youtube_table)"
   ]
  },
  {
   "cell_type": "markdown",
   "id": "fe51e12d-2de8-4966-80cc-8a819f7558f2",
   "metadata": {},
   "source": [
    "### 5. Layout:"
   ]
  },
  {
   "cell_type": "code",
   "execution_count": 32,
   "id": "ba882506-f482-4af8-bdea-eeec882bea38",
   "metadata": {
    "execution": {
     "iopub.execute_input": "2022-08-24T21:24:45.892663Z",
     "iopub.status.busy": "2022-08-24T21:24:45.892374Z",
     "iopub.status.idle": "2022-08-24T21:24:45.899274Z",
     "shell.execute_reply": "2022-08-24T21:24:45.898695Z",
     "shell.execute_reply.started": "2022-08-24T21:24:45.892634Z"
    },
    "tags": []
   },
   "outputs": [],
   "source": [
    "app.layout = html.Div(\n",
    "    [\n",
    "        #Navbar:\n",
    "        navbar,\n",
    "        #The page content:\n",
    "        dbc.Container(\n",
    "            [\n",
    "                html.Br(),\n",
    "                dbc.Row(\n",
    "                    [\n",
    "                        dbc.Col(\n",
    "                            [\n",
    "                                #Facebook_card,\n",
    "                            ], \n",
    "                            xs=12, sm=12, md=12, lg=6, xl=6\n",
    "                        ),\n",
    "                        dbc.Col(\n",
    "                            [\n",
    "                                #Instagram_card\n",
    "                            ], \n",
    "                            xs=12, sm=12, md=12, lg=6, xl=6\n",
    "                        )\n",
    "                        ]),\n",
    "                dbc.Row(\n",
    "                    [\n",
    "                        dbc.Col(\n",
    "                            [\n",
    "                                #Twitter_card\n",
    "                            ],\n",
    "                            xs=12, sm=12, md=12, lg=6, xl=6),\n",
    "                        dbc.Col(\n",
    "                            [\n",
    "                                Youtube_card\n",
    "                            ],\n",
    "                            xs=12, sm=12, md=12, lg=6, xl=6\n",
    "                        )\n",
    "                    ]\n",
    "                )\n",
    "            ]\n",
    "        )\n",
    "    ]\n",
    ")"
   ]
  },
  {
   "cell_type": "markdown",
   "id": "72ac35e8-7d13-4e64-a698-761dc3e008ed",
   "metadata": {},
   "source": [
    "### 6. Callbacks:"
   ]
  },
  {
   "cell_type": "code",
   "execution_count": 33,
   "id": "01c74d4b-274f-4b56-8093-b424f7b5b643",
   "metadata": {
    "execution": {
     "iopub.execute_input": "2022-08-24T21:24:49.783529Z",
     "iopub.status.busy": "2022-08-24T21:24:49.783304Z",
     "iopub.status.idle": "2022-08-24T21:24:49.787348Z",
     "shell.execute_reply": "2022-08-24T21:24:49.786707Z",
     "shell.execute_reply.started": "2022-08-24T21:24:49.783507Z"
    },
    "tags": []
   },
   "outputs": [],
   "source": [
    "@app.callback(\n",
    "    [Output(component_id='youtube_table', component_property='rows')],\n",
    "    [Input(component_id='year_dropdown', component_property='value')]\n",
    ")\n",
    "def update_datatable(value):\n",
    "    youtube_table=youtube_dff[youtube_dff[\"SCENARIO\"]==value]\n",
    "    youtube_dict=youtube_table.to_dict('records')\n",
    "    print(youtube_dict)\n",
    "    return youtube_dict"
   ]
  },
  {
   "cell_type": "markdown",
   "id": "f3e0f900-5b58-4012-8e70-695594dcd372",
   "metadata": {
    "execution": {
     "iopub.execute_input": "2021-07-02T23:32:10.789097Z",
     "iopub.status.busy": "2021-07-02T23:32:10.788829Z",
     "iopub.status.idle": "2021-07-02T23:32:10.796900Z",
     "shell.execute_reply": "2021-07-02T23:32:10.796358Z",
     "shell.execute_reply.started": "2021-07-02T23:32:10.789033Z"
    },
    "papermill": {},
    "tags": []
   },
   "source": [
    "## Output"
   ]
  },
  {
   "cell_type": "markdown",
   "id": "74eb5829-9e0e-4a3c-9ba7-b33efdbf3b83",
   "metadata": {},
   "source": [
    "### Generate URL and show logs"
   ]
  },
  {
   "cell_type": "code",
   "execution_count": 34,
   "id": "35e8c988-8d11-477a-8ac5-5095465825f1",
   "metadata": {
    "execution": {
     "iopub.execute_input": "2022-08-24T21:24:53.318775Z",
     "iopub.status.busy": "2022-08-24T21:24:53.318505Z",
     "iopub.status.idle": "2022-08-24T21:25:04.353001Z",
     "shell.execute_reply": "2022-08-24T21:25:04.351696Z",
     "shell.execute_reply.started": "2022-08-24T21:24:53.318749Z"
    },
    "papermill": {},
    "tags": []
   },
   "outputs": [
    {
     "name": "stdout",
     "output_type": "stream",
     "text": [
      "Dash is running on https://app.naas.ai/user/ismailchihab71@gmail.com/proxy/8050/\n",
      "\n",
      "\u001b[31m\u001b[1mWARNING: This is a development server. Do not use it in a production deployment. Use a production WSGI server instead.\u001b[0m\n",
      " * Serving Flask app '__main__'\n",
      " * Debug mode: off\n"
     ]
    },
    {
     "name": "stderr",
     "output_type": "stream",
     "text": [
      " * Running on http://127.0.0.1:8050 (Press CTRL+C to quit)\n",
      "127.0.0.1 - - [24/Aug/2022 23:24:56] \"GET / HTTP/1.1\" 200 -\n",
      "127.0.0.1 - - [24/Aug/2022 23:24:57] \"GET /_dash-layout HTTP/1.1\" 200 -\n",
      "127.0.0.1 - - [24/Aug/2022 23:24:57] \"GET /_dash-dependencies HTTP/1.1\" 200 -\n",
      "127.0.0.1 - - [24/Aug/2022 23:24:57] \"GET /_favicon.ico?v=2.6.1 HTTP/1.1\" 200 -\n",
      "127.0.0.1 - - [24/Aug/2022 23:24:57] \"GET /_dash-component-suites/dash/dcc/async-dropdown.js HTTP/1.1\" 200 -\n",
      "127.0.0.1 - - [24/Aug/2022 23:24:57] \"GET /_dash-component-suites/dash/dash_table/async-highlight.js HTTP/1.1\" 200 -\n",
      "127.0.0.1 - - [24/Aug/2022 23:24:57] \"GET /_dash-component-suites/dash/dash_table/async-table.js HTTP/1.1\" 200 -\n"
     ]
    }
   ],
   "source": [
    "if __name__ == '__main__':\n",
    "    app.run_server(proxy=f\"http://127.0.0.1:{DASH_PORT}::https://app.naas.ai\")"
   ]
  },
  {
   "cell_type": "code",
   "execution_count": null,
   "id": "c42e4957-c0f1-4fba-8ec6-87f65c17df97",
   "metadata": {},
   "outputs": [],
   "source": []
  }
 ],
 "metadata": {
  "kernelspec": {
   "display_name": "Python 3",
   "language": "python",
   "name": "python3"
  },
  "language_info": {
   "codemirror_mode": {
    "name": "ipython",
    "version": 3
   },
   "file_extension": ".py",
   "mimetype": "text/x-python",
   "name": "python",
   "nbconvert_exporter": "python",
   "pygments_lexer": "ipython3",
   "version": "3.9.6"
  }
 },
 "nbformat": 4,
 "nbformat_minor": 5
}
