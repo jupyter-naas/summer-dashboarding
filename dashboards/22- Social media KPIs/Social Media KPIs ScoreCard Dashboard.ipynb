{
 "cells": [
  {
   "cell_type": "markdown",
   "id": "760b85f5-b869-4117-9b68-3084fcdd13d6",
   "metadata": {},
   "source": [
    "<img width=\"10%\" alt=\"Naas\" src=\"https://landen.imgix.net/jtci2pxwjczr/assets/5ice39g4.png?w=160\"/>"
   ]
  },
  {
   "cell_type": "markdown",
   "id": "0b67be94-62bf-45f1-996a-fb016eaa4fa2",
   "metadata": {},
   "source": [
    "# Social Media KPIs dashboard"
   ]
  },
  {
   "cell_type": "markdown",
   "id": "98e9858e-96ef-44c8-82fd-36850a7178f8",
   "metadata": {},
   "source": [
    "**Tags:** #dashboard #plotly #dash #naas #asset #automation #ai #analytics"
   ]
  },
  {
   "cell_type": "markdown",
   "id": "b80162d1-2b90-4340-8c9d-bf46ee74f129",
   "metadata": {},
   "source": [
    "**Author:** [Ismail CHIHAB](https://www.linkedin.com/in/ismail-chihab-4b0a04202/)"
   ]
  },
  {
   "cell_type": "markdown",
   "id": "59e516cf-ce9f-4eac-b177-ebdbf2e90636",
   "metadata": {},
   "source": [
    "## Input"
   ]
  },
  {
   "cell_type": "markdown",
   "id": "383ac6fd-6bf7-42f5-901a-e1086e6720d0",
   "metadata": {},
   "source": [
    "### Import libraries"
   ]
  },
  {
   "cell_type": "code",
   "execution_count": 1,
   "id": "cd726a60-cf9a-45d4-afeb-9124a7f1cadb",
   "metadata": {
    "execution": {
     "iopub.execute_input": "2022-08-23T14:40:53.244595Z",
     "iopub.status.busy": "2022-08-23T14:40:53.244251Z",
     "iopub.status.idle": "2022-08-23T14:40:57.180512Z",
     "shell.execute_reply": "2022-08-23T14:40:57.179805Z",
     "shell.execute_reply.started": "2022-08-23T14:40:53.244509Z"
    },
    "tags": []
   },
   "outputs": [],
   "source": [
    "import naas\n",
    "import naas_drivers\n",
    "import dash\n",
    "from dash import html, dash_table\n",
    "from dash import dcc\n",
    "import dash_bootstrap_components as dbc\n",
    "import plotly.graph_objects as go\n",
    "import plotly.express as px\n",
    "import pandas as pd\n",
    "import os"
   ]
  },
  {
   "cell_type": "markdown",
   "id": "47187f6b-150f-4072-8e59-910734be1d59",
   "metadata": {},
   "source": [
    "### Variables"
   ]
  },
  {
   "cell_type": "code",
   "execution_count": 2,
   "id": "9af29914-37af-494f-9b1c-8360886b65e5",
   "metadata": {
    "execution": {
     "iopub.execute_input": "2022-08-23T14:40:57.670440Z",
     "iopub.status.busy": "2022-08-23T14:40:57.670173Z",
     "iopub.status.idle": "2022-08-23T14:40:57.673484Z",
     "shell.execute_reply": "2022-08-23T14:40:57.672954Z",
     "shell.execute_reply.started": "2022-08-23T14:40:57.670414Z"
    },
    "tags": []
   },
   "outputs": [],
   "source": [
    "DASH_PORT = 8050"
   ]
  },
  {
   "cell_type": "markdown",
   "id": "d375d2f0-edc5-4278-a7ef-2974c010836a",
   "metadata": {},
   "source": [
    "## Model"
   ]
  },
  {
   "cell_type": "raw",
   "id": "7fbf1456-bec5-4c6e-b277-bd091706a57b",
   "metadata": {},
   "source": [
    "1. Dataset:\n",
    "    a. Importing\n",
    "    b. Manipulation\n",
    "2. DropDown menus\n",
    "3. Navbar\n",
    "4. Cards:\n",
    "    a. Logo\n",
    "    b. Navbar\n",
    "    c. Table\n",
    "5. CallBacks"
   ]
  },
  {
   "cell_type": "markdown",
   "id": "a1c42d27-3911-48e4-9caa-b5f97d13f4ec",
   "metadata": {},
   "source": [
    "### 1.Dataset:"
   ]
  },
  {
   "cell_type": "markdown",
   "id": "837e412a-b86f-4dd9-a864-547d960ff324",
   "metadata": {},
   "source": [
    "#### a. Importing:"
   ]
  },
  {
   "cell_type": "code",
   "execution_count": null,
   "id": "846d6250-0868-4bf2-872f-1d9cdab6b63b",
   "metadata": {},
   "outputs": [],
   "source": [
    "spreadsheet_id = \"1sJgHWhQIj5R11XeNAA4gEj426T1OFS15gbu1DQMvlfk\""
   ]
  },
  {
   "cell_type": "markdown",
   "id": "5993311d-8fc1-4ae9-81fd-774b5415feb6",
   "metadata": {},
   "source": [
    "LinkedIn"
   ]
  },
  {
   "cell_type": "code",
   "execution_count": null,
   "id": "146e5b60-7b01-439a-a9fa-5d036b105585",
   "metadata": {},
   "outputs": [],
   "source": [
    "sheet_name = \"001\"\n",
    "linkedin_df = naas_drivers.gsheet.connect(spreadsheet_id).get(\n",
    "    sheet_name=sheet_name\n",
    ") "
   ]
  },
  {
   "cell_type": "markdown",
   "id": "84544867-cbfa-4f07-8a9a-9de2dd4a2a63",
   "metadata": {},
   "source": [
    "Youtube"
   ]
  },
  {
   "cell_type": "code",
   "execution_count": null,
   "id": "f281abfb-ae97-4cbb-ae0b-a116c0e47ffe",
   "metadata": {},
   "outputs": [],
   "source": [
    "sheet_name = \"002\"\n",
    "youtube_df = naas_drivers.gsheet.connect(spreadsheet_id).get(\n",
    "    sheet_name=sheet_name\n",
    ") "
   ]
  },
  {
   "cell_type": "markdown",
   "id": "23d11e23-a313-4568-817e-4dbef73c0e43",
   "metadata": {
    "execution": {
     "iopub.execute_input": "2022-08-23T17:30:31.895931Z",
     "iopub.status.busy": "2022-08-23T17:30:31.895666Z",
     "iopub.status.idle": "2022-08-23T17:30:31.948999Z",
     "shell.execute_reply": "2022-08-23T17:30:31.947919Z",
     "shell.execute_reply.started": "2022-08-23T17:30:31.895865Z"
    },
    "tags": []
   },
   "source": [
    "Instagram"
   ]
  },
  {
   "cell_type": "code",
   "execution_count": null,
   "id": "c34fb331-5a28-441a-aa33-ee7f044817d9",
   "metadata": {},
   "outputs": [],
   "source": [
    "sheet_name = \"003\"\n",
    "instagram_df = naas_drivers.gsheet.connect(spreadsheet_id).get(\n",
    "    sheet_name=sheet_name\n",
    ") "
   ]
  },
  {
   "cell_type": "markdown",
   "id": "7d8f5e73-4814-41c1-b29f-41ca08f0586f",
   "metadata": {},
   "source": [
    "Twitter"
   ]
  },
  {
   "cell_type": "code",
   "execution_count": null,
   "id": "e626a180-6764-4e3c-9a56-a1e5c0279a14",
   "metadata": {},
   "outputs": [],
   "source": [
    "sheet_name = \"004\"\n",
    "twitter_df = naas_drivers.gsheet.connect(spreadsheet_id).get(\n",
    "    sheet_name=sheet_name\n",
    ") "
   ]
  },
  {
   "cell_type": "markdown",
   "id": "31ac32b2-d914-493d-a4c2-7252a683b035",
   "metadata": {},
   "source": [
    "#### b. Manipulation:"
   ]
  },
  {
   "cell_type": "code",
   "execution_count": null,
   "id": "91f43904-0a8c-44b9-b514-49d81c3ec59d",
   "metadata": {},
   "outputs": [],
   "source": []
  },
  {
   "cell_type": "markdown",
   "id": "0d47a1da-f78f-4d97-9c12-a2673bbab9b3",
   "metadata": {},
   "source": [
    "### 2. Dropdown menus:"
   ]
  },
  {
   "cell_type": "code",
   "execution_count": null,
   "id": "dede27dc-8c3b-4a79-8462-b55166814748",
   "metadata": {},
   "outputs": [],
   "source": [
    "available_indicators1 = [\n",
    "    \"All Platforms\",\n",
    "    \"Linkedin\",\n",
    "    \"Youtube\",\n",
    "    \"Instagram\",\n",
    "    \"Twitter\"\n",
    "]\n",
    "available_indicators2 = [\n",
    "    \"2022\",\n",
    "    \"2021\",\n",
    "    \"2020\",\n",
    "    \"2019\"\n",
    "]\n",
    "\n",
    "entities_dropdown = dcc.Dropdown(\n",
    "    id='crossfilter-xaxis-column',\n",
    "    options=[{'label': i, 'value': i} for i in available_indicators1],\n",
    "    placeholder='Entity',\n",
    "    value=\"Entity\",  \n",
    ")\n",
    "scenarios_dropdown = dcc.Dropdown(\n",
    "    id='crossfilter-yaxis-column',\n",
    "    options=[{'label': i, 'value': i} for i in available_indicators2],\n",
    "    placeholder='Scenario',\n",
    ")"
   ]
  },
  {
   "cell_type": "markdown",
   "id": "98a1a137-101e-48e3-92df-6ac0b86ad7e2",
   "metadata": {},
   "source": [
    "### 3. Navbar:"
   ]
  },
  {
   "cell_type": "code",
   "execution_count": null,
   "id": "c36a54f6-b2d5-46d7-9d0b-7b8dbf0346fe",
   "metadata": {},
   "outputs": [],
   "source": []
  },
  {
   "cell_type": "markdown",
   "id": "d6b1817a-824f-4411-9851-9f53b723999d",
   "metadata": {},
   "source": [
    "### 4. Cards:"
   ]
  },
  {
   "cell_type": "markdown",
   "id": "96fcc4d0-f6c4-408e-8e31-5664ced52d28",
   "metadata": {},
   "source": [
    "#### a. Logos:"
   ]
  },
  {
   "cell_type": "code",
   "execution_count": null,
   "id": "e5e1de31-c069-4a68-bec0-6af04ad4e59b",
   "metadata": {},
   "outputs": [],
   "source": []
  },
  {
   "cell_type": "markdown",
   "id": "b2403c52-bf74-4549-9202-56142fa2cb7c",
   "metadata": {},
   "source": [
    "#### b. Navbas:"
   ]
  },
  {
   "cell_type": "code",
   "execution_count": null,
   "id": "375f0404-6ef4-4c58-9488-9a16366c463e",
   "metadata": {},
   "outputs": [],
   "source": []
  },
  {
   "cell_type": "markdown",
   "id": "431dd0c8-bfcb-4916-b8d5-dd4c3bd9d80b",
   "metadata": {},
   "source": [
    "#### c. Table:"
   ]
  },
  {
   "cell_type": "code",
   "execution_count": null,
   "id": "6eef9f83-3ccd-450f-8f55-31967578a77b",
   "metadata": {},
   "outputs": [],
   "source": []
  },
  {
   "cell_type": "markdown",
   "id": "72ac35e8-7d13-4e64-a698-761dc3e008ed",
   "metadata": {},
   "source": [
    "### 5. Callbacks:"
   ]
  },
  {
   "cell_type": "code",
   "execution_count": null,
   "id": "01c74d4b-274f-4b56-8093-b424f7b5b643",
   "metadata": {},
   "outputs": [],
   "source": []
  },
  {
   "cell_type": "markdown",
   "id": "f3e0f900-5b58-4012-8e70-695594dcd372",
   "metadata": {
    "execution": {
     "iopub.execute_input": "2021-07-02T23:32:10.789097Z",
     "iopub.status.busy": "2021-07-02T23:32:10.788829Z",
     "iopub.status.idle": "2021-07-02T23:32:10.796900Z",
     "shell.execute_reply": "2021-07-02T23:32:10.796358Z",
     "shell.execute_reply.started": "2021-07-02T23:32:10.789033Z"
    },
    "papermill": {},
    "tags": []
   },
   "source": [
    "## Output"
   ]
  },
  {
   "cell_type": "markdown",
   "id": "74eb5829-9e0e-4a3c-9ba7-b33efdbf3b83",
   "metadata": {},
   "source": [
    "### Generate URL and show logs"
   ]
  },
  {
   "cell_type": "code",
   "execution_count": 19,
   "id": "35e8c988-8d11-477a-8ac5-5095465825f1",
   "metadata": {
    "execution": {
     "iopub.execute_input": "2022-08-23T10:18:41.865722Z",
     "iopub.status.busy": "2022-08-23T10:18:41.865480Z",
     "iopub.status.idle": "2022-08-23T12:07:43.921711Z",
     "shell.execute_reply": "2022-08-23T12:07:43.920940Z",
     "shell.execute_reply.started": "2022-08-23T10:18:41.865700Z"
    },
    "papermill": {},
    "tags": []
   },
   "outputs": [
    {
     "name": "stdout",
     "output_type": "stream",
     "text": [
      "Dash is running on https://app.naas.ai/user/ismailchihab71@gmail.com/proxy/8050/\n",
      "\n",
      "\u001b[31m\u001b[1mWARNING: This is a development server. Do not use it in a production deployment. Use a production WSGI server instead.\u001b[0m\n",
      " * Serving Flask app '__main__'\n",
      " * Debug mode: off\n"
     ]
    },
    {
     "name": "stderr",
     "output_type": "stream",
     "text": [
      " * Running on http://127.0.0.1:8050 (Press CTRL+C to quit)\n",
      "127.0.0.1 - - [23/Aug/2022 12:18:44] \"GET / HTTP/1.1\" 200 -\n",
      "127.0.0.1 - - [23/Aug/2022 12:18:44] \"GET /_dash-layout HTTP/1.1\" 200 -\n",
      "127.0.0.1 - - [23/Aug/2022 12:18:44] \"GET /_dash-dependencies HTTP/1.1\" 200 -\n",
      "127.0.0.1 - - [23/Aug/2022 12:18:44] \"GET /_favicon.ico?v=2.6.1 HTTP/1.1\" 200 -\n",
      "127.0.0.1 - - [23/Aug/2022 12:18:44] \"GET /_dash-component-suites/dash/dash_table/async-highlight.js HTTP/1.1\" 200 -\n",
      "127.0.0.1 - - [23/Aug/2022 12:18:44] \"GET /_dash-component-suites/dash/dash_table/async-table.js HTTP/1.1\" 200 -\n"
     ]
    }
   ],
   "source": [
    "if __name__ == '__main__':\n",
    "    app.run_server(proxy=f\"http://127.0.0.1:{DASH_PORT}::https://app.naas.ai\")"
   ]
  },
  {
   "cell_type": "code",
   "execution_count": null,
   "id": "c42e4957-c0f1-4fba-8ec6-87f65c17df97",
   "metadata": {},
   "outputs": [],
   "source": []
  }
 ],
 "metadata": {
  "kernelspec": {
   "display_name": "Python 3",
   "language": "python",
   "name": "python3"
  },
  "language_info": {
   "codemirror_mode": {
    "name": "ipython",
    "version": 3
   },
   "file_extension": ".py",
   "mimetype": "text/x-python",
   "name": "python",
   "nbconvert_exporter": "python",
   "pygments_lexer": "ipython3",
   "version": "3.9.6"
  }
 },
 "nbformat": 4,
 "nbformat_minor": 5
}
