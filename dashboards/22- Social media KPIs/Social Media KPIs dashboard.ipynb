{
 "cells": [
  {
   "cell_type": "markdown",
   "id": "760b85f5-b869-4117-9b68-3084fcdd13d6",
   "metadata": {},
   "source": [
    "<img width=\"10%\" alt=\"Naas\" src=\"https://landen.imgix.net/jtci2pxwjczr/assets/5ice39g4.png?w=160\"/>"
   ]
  },
  {
   "cell_type": "markdown",
   "id": "0b67be94-62bf-45f1-996a-fb016eaa4fa2",
   "metadata": {},
   "source": [
    "# Social Media KPIs dashboard"
   ]
  },
  {
   "cell_type": "markdown",
   "id": "98e9858e-96ef-44c8-82fd-36850a7178f8",
   "metadata": {},
   "source": [
    "**Tags:** #dashboard #plotly #dash #naas #asset #automation #ai #analytics"
   ]
  },
  {
   "cell_type": "markdown",
   "id": "b80162d1-2b90-4340-8c9d-bf46ee74f129",
   "metadata": {},
   "source": [
    "**Author:** [Ismail CHIHAB](https://www.linkedin.com/in/ismail-chihab-4b0a04202/)"
   ]
  },
  {
   "cell_type": "markdown",
   "id": "59e516cf-ce9f-4eac-b177-ebdbf2e90636",
   "metadata": {},
   "source": [
    "## Input"
   ]
  },
  {
   "cell_type": "markdown",
   "id": "383ac6fd-6bf7-42f5-901a-e1086e6720d0",
   "metadata": {},
   "source": [
    "### Import libraries"
   ]
  },
  {
   "cell_type": "code",
   "execution_count": 2,
   "id": "cd726a60-cf9a-45d4-afeb-9124a7f1cadb",
   "metadata": {
    "execution": {
     "iopub.execute_input": "2022-08-23T10:08:10.110827Z",
     "iopub.status.busy": "2022-08-23T10:08:10.110438Z",
     "iopub.status.idle": "2022-08-23T10:08:13.011602Z",
     "shell.execute_reply": "2022-08-23T10:08:13.010999Z",
     "shell.execute_reply.started": "2022-08-23T10:08:10.110792Z"
    },
    "tags": []
   },
   "outputs": [],
   "source": [
    "import naas\n",
    "import dash\n",
    "from dash import html, dash_table\n",
    "from dash import dcc\n",
    "import dash_bootstrap_components as dbc\n",
    "import plotly.graph_objects as go\n",
    "import plotly.express as px\n",
    "import pandas as pd\n",
    "import os"
   ]
  },
  {
   "cell_type": "markdown",
   "id": "47187f6b-150f-4072-8e59-910734be1d59",
   "metadata": {},
   "source": [
    "### Variables"
   ]
  },
  {
   "cell_type": "code",
   "execution_count": 3,
   "id": "9af29914-37af-494f-9b1c-8360886b65e5",
   "metadata": {
    "execution": {
     "iopub.execute_input": "2022-08-23T10:08:18.226336Z",
     "iopub.status.busy": "2022-08-23T10:08:18.226104Z",
     "iopub.status.idle": "2022-08-23T10:08:18.229846Z",
     "shell.execute_reply": "2022-08-23T10:08:18.229077Z",
     "shell.execute_reply.started": "2022-08-23T10:08:18.226313Z"
    },
    "tags": []
   },
   "outputs": [],
   "source": [
    "DASH_PORT = 8050"
   ]
  },
  {
   "cell_type": "markdown",
   "id": "5e2982c8-d74b-47d6-9d0e-7a3c599ea281",
   "metadata": {},
   "source": [
    "## Model"
   ]
  },
  {
   "cell_type": "markdown",
   "id": "11095603-aa40-400b-b176-34f32ee21d00",
   "metadata": {},
   "source": [
    "### Initialize Dash app"
   ]
  },
  {
   "cell_type": "markdown",
   "id": "59a261f6-3ff1-4643-9db1-0c71af9bec43",
   "metadata": {},
   "source": [
    "### Create app layout"
   ]
  },
  {
   "cell_type": "code",
   "execution_count": 4,
   "id": "c1034d37-5b53-49fc-8910-3fcb48a4ec5d",
   "metadata": {
    "execution": {
     "iopub.execute_input": "2022-08-23T10:08:21.477600Z",
     "iopub.status.busy": "2022-08-23T10:08:21.477359Z",
     "iopub.status.idle": "2022-08-23T10:08:21.488200Z",
     "shell.execute_reply": "2022-08-23T10:08:21.487552Z",
     "shell.execute_reply.started": "2022-08-23T10:08:21.477575Z"
    },
    "tags": []
   },
   "outputs": [],
   "source": [
    "app = dash.Dash(requests_pathname_prefix=f'/user/{os.environ.get(\"JUPYTERHUB_USER\")}/proxy/{DASH_PORT}/', \n",
    "                external_stylesheets=[dbc.themes.BOOTSTRAP], meta_tags=[{'name':'viewport',\n",
    "                                                                         'content':'width=device-width, initial-scale=1.0'}])  \n",
    "#app = dash.Dash() if you are not in Naas"
   ]
  },
  {
   "cell_type": "markdown",
   "id": "71162fd6-fdbc-470c-a94d-e22b0803c789",
   "metadata": {},
   "source": [
    "### 1. Data Imports:"
   ]
  },
  {
   "cell_type": "code",
   "execution_count": null,
   "id": "a9e82ba3-9e31-4972-a6e8-bd348af33846",
   "metadata": {},
   "outputs": [],
   "source": []
  },
  {
   "cell_type": "markdown",
   "id": "0ec5a1f8-39aa-4035-8b31-9c3704709a44",
   "metadata": {
    "execution": {
     "iopub.execute_input": "2022-08-09T20:02:28.992841Z",
     "iopub.status.busy": "2022-08-09T20:02:28.992622Z",
     "iopub.status.idle": "2022-08-09T20:02:28.995727Z",
     "shell.execute_reply": "2022-08-09T20:02:28.995079Z",
     "shell.execute_reply.started": "2022-08-09T20:02:28.992818Z"
    },
    "tags": []
   },
   "source": [
    "### 2. Data Manipulation:"
   ]
  },
  {
   "cell_type": "markdown",
   "id": "141cd45f-15d9-4aff-a474-909ae53bc949",
   "metadata": {},
   "source": [
    "#### a. Logos:"
   ]
  },
  {
   "cell_type": "code",
   "execution_count": 5,
   "id": "7eb4eb26-6de2-40f0-8b78-4e8cac986b53",
   "metadata": {
    "execution": {
     "iopub.execute_input": "2022-08-23T10:08:24.911707Z",
     "iopub.status.busy": "2022-08-23T10:08:24.911478Z",
     "iopub.status.idle": "2022-08-23T10:08:24.914762Z",
     "shell.execute_reply": "2022-08-23T10:08:24.914030Z",
     "shell.execute_reply.started": "2022-08-23T10:08:24.911683Z"
    },
    "tags": []
   },
   "outputs": [],
   "source": [
    "#naas.assets.add(\"logo_file_path_or_name\")\n",
    "facebook_logo = \"https://public.naas.ai/aXNtYWlsY2hpaGFiNzEtNDBnbWFpbC0yRWNvbQ==/asset/0606284b644f3027729e6458673533626294714b23c87a4dc586f3788267.png\"\n",
    "instagram_logo = \"https://public.naas.ai/aXNtYWlsY2hpaGFiNzEtNDBnbWFpbC0yRWNvbQ==/asset/063fd6d5f4bcf0333e24bc9df3e27ff0ac94d87cb3f49deb618e136a2820.png\"\n",
    "twitter_logo = \"https://public.naas.ai/aXNtYWlsY2hpaGFiNzEtNDBnbWFpbC0yRWNvbQ==/asset/6971c34213c7a79bcb5a9583ca77762bf09c84edc942e1d792db2baab22d.png\"\n",
    "youtube_logo = \"https://public.naas.ai/aXNtYWlsY2hpaGFiNzEtNDBnbWFpbC0yRWNvbQ==/asset/1c8d463751a136a2cdead2a0e8c663b1fa19bb623e1d2b8874c17cf6bb96.png\""
   ]
  },
  {
   "cell_type": "markdown",
   "id": "22d40b4c-c6da-4c8a-b88d-b1a3b0404e65",
   "metadata": {},
   "source": [
    "#### b. Dataset"
   ]
  },
  {
   "cell_type": "code",
   "execution_count": 6,
   "id": "7bebaea7-d838-4489-b934-0f5bb1c556f0",
   "metadata": {
    "execution": {
     "iopub.execute_input": "2022-08-23T10:08:28.728463Z",
     "iopub.status.busy": "2022-08-23T10:08:28.728236Z",
     "iopub.status.idle": "2022-08-23T10:08:28.850839Z",
     "shell.execute_reply": "2022-08-23T10:08:28.850115Z",
     "shell.execute_reply.started": "2022-08-23T10:08:28.728438Z"
    },
    "tags": []
   },
   "outputs": [
    {
     "name": "stdout",
     "output_type": "stream",
     "text": [
      "[0.5, 8.0]\n"
     ]
    }
   ],
   "source": [
    "data = {'':['Followers', 'Impressions', 'link clicks', 'engagement', 'engagement rate', 'avg order value', 'avg time to conversion'],\n",
    "        'Actual':[22800, 198990, 594, 3366, '1.69%', 22.95, '10.4 days'],\n",
    "       'Target':[25000, 200000, 550, 3500, '1.80%', 25, '9 days'],\n",
    "       'To Target':[-8.8, 0.5, 8, -3.8, -9, -22, -10.4],\n",
    "       'Prev Period':[22800, 198990, 594, 3366, '1.69%', 22.95, '9.5 days'],\n",
    "       'To Previous':[8.8, 0.5, 8, -3.8, -9, -22, -10.4]}\n",
    "\n",
    "df=pd.DataFrame(data)\n",
    "\n",
    "def split_green_red(df, column_name):\n",
    "    green_cells=[]\n",
    "    red_cells=[]\n",
    "    for element in df[column_name]:\n",
    "        if element>=0:\n",
    "            green_cells.append(element)\n",
    "        else:\n",
    "            red_cells.append(element)\n",
    "    return green_cells, red_cells\n",
    "tt_green, tt_red= split_green_red(df, 'To Target')\n",
    "tp_green, tp_red= split_green_red(df, 'To Previous')\n",
    "print(tt_green)\n",
    "    "
   ]
  },
  {
   "cell_type": "markdown",
   "id": "2d885141-aeeb-4d92-b1a9-c94b19635902",
   "metadata": {
    "execution": {
     "iopub.execute_input": "2022-08-09T20:11:31.313904Z",
     "iopub.status.busy": "2022-08-09T20:11:31.313673Z",
     "iopub.status.idle": "2022-08-09T20:11:31.324068Z",
     "shell.execute_reply": "2022-08-09T20:11:31.323217Z",
     "shell.execute_reply.started": "2022-08-09T20:11:31.313879Z"
    },
    "tags": []
   },
   "source": [
    "### 3. Dashboard:"
   ]
  },
  {
   "cell_type": "markdown",
   "id": "629b576b-ddf4-4e70-8c6e-0555203e2615",
   "metadata": {},
   "source": [
    "#### a.NavBar:"
   ]
  },
  {
   "cell_type": "code",
   "execution_count": 7,
   "id": "68f590de-2c01-4760-a092-4d26fd8a305d",
   "metadata": {
    "execution": {
     "iopub.execute_input": "2022-08-23T10:08:32.196245Z",
     "iopub.status.busy": "2022-08-23T10:08:32.196015Z",
     "iopub.status.idle": "2022-08-23T10:08:32.204704Z",
     "shell.execute_reply": "2022-08-23T10:08:32.204046Z",
     "shell.execute_reply.started": "2022-08-23T10:08:32.196221Z"
    },
    "tags": []
   },
   "outputs": [],
   "source": [
    "#NavBar:\n",
    "def inner_navbar(platform_name, logo, brand_hex_color): \n",
    "    \n",
    "    inner_navbar = dbc.Navbar(\n",
    "            dbc.Container(\n",
    "                [\n",
    "                    html.A(\n",
    "                        # Use row and col to control vertical alignment of logo / brand\n",
    "                        dbc.Row(\n",
    "                            [\n",
    "                                dbc.Col(html.Img(src=logo, height=\"30px\")),\n",
    "                                dbc.Col(dbc.NavbarBrand(platform_name, className=\"ms-2\")),\n",
    "                            ],\n",
    "                            align=\"center\",\n",
    "                            className=\"g-0\",\n",
    "                        ),\n",
    "                        style={\"textDecoration\": \"none\"},\n",
    "                    )\n",
    "                ]\n",
    "            ),\n",
    "            color=str(brand_hex_color),\n",
    "            dark=True,\n",
    "        )\n",
    "    return inner_navbar\n",
    "\n",
    "Facebook_navbar =  inner_navbar(\"Facebook\", facebook_logo, \"#4267B2\")\n",
    "Instagram_navbar =  inner_navbar(\"Instagram\", instagram_logo, \"#E1306C\")\n",
    "Twitter_navbar =  inner_navbar(\"Twitter\", twitter_logo, \"#1DA1F2\")\n",
    "Youtube_navbar =  inner_navbar(\"Youtube\", youtube_logo, \"#FF0000\")\n",
    "\n",
    "\n",
    "general_navbar = dbc.NavbarSimple(\n",
    "    children=[\n",
    "        dbc.NavItem(dbc.NavLink(\"General ScoreCard\", href=\"#\")),\n",
    "        dbc.DropdownMenu(\n",
    "            label=\"Menu\",\n",
    "            children=[\n",
    "                dbc.DropdownMenuItem(\"More\", header=True),\n",
    "                dbc.DropdownMenuItem(\"Facebook\"),\n",
    "                dbc.DropdownMenuItem(\"Instagram\"),\n",
    "                dbc.DropdownMenuItem(\"Twitter\"),\n",
    "                dbc.DropdownMenuItem(\"Youtube\"),\n",
    "            ],\n",
    "            nav=True,\n",
    "            in_navbar=True,\n",
    "        ),\n",
    "    ],\n",
    "    brand=\"Social Media KPIs Scorecard\",\n",
    "    brand_href=\"#\",\n",
    "    color=\"dark\",\n",
    "    dark=True,\n",
    ")"
   ]
  },
  {
   "cell_type": "markdown",
   "id": "152c6159-1e85-45fd-8148-a2f18767bdff",
   "metadata": {},
   "source": [
    "#### b. Card:"
   ]
  },
  {
   "cell_type": "code",
   "execution_count": 17,
   "id": "0e80513c-714b-40a8-b712-b20048272ca3",
   "metadata": {
    "execution": {
     "iopub.execute_input": "2022-08-23T10:18:33.685306Z",
     "iopub.status.busy": "2022-08-23T10:18:33.685077Z",
     "iopub.status.idle": "2022-08-23T10:18:33.693817Z",
     "shell.execute_reply": "2022-08-23T10:18:33.693172Z",
     "shell.execute_reply.started": "2022-08-23T10:18:33.685281Z"
    },
    "tags": []
   },
   "outputs": [],
   "source": [
    "#card:\n",
    "table = dash_table.DataTable(\n",
    "    data=df.to_dict('records'),\n",
    "    columns=[{'id': c, 'name': c} for c in df.columns],\n",
    "    \n",
    "     style_data={\n",
    "         'whiteSpace': 'normal',\n",
    "         'height':'auto',\n",
    "         'lineHeight': '15px'\n",
    "     },\n",
    "    \n",
    "    style_cell_conditional=[\n",
    "        {\n",
    "            'if': {'column_id': ''},\n",
    "            'textAlign': 'left',\n",
    "            'width': '150px'\n",
    "        },\n",
    "        {\n",
    "            'if': {'column_id': 'Actual'},\n",
    "         'width': '150px'\n",
    "        }, \n",
    "         {\n",
    "             'if': {'column_id': 'Target'},\n",
    "          'width': '150px'\n",
    "         },\n",
    "         {\n",
    "             'if': {'column_id': 'To Target'},\n",
    "          'width': '150px'\n",
    "         },\n",
    "         {\n",
    "             'if': {'column_id': 'Prev Period'},\n",
    "          'width': '150px'\n",
    "         },\n",
    "         {\n",
    "             'if': {'column_id': 'To Previous'},\n",
    "          'width': '150px'\n",
    "         },\n",
    "    ],\n",
    "    \n",
    "    style_data_conditional=([\n",
    "        {\n",
    "          'if': {\n",
    "              'filter_query': '{To Target} < 0',\n",
    "              'column_id': 'To Target', \n",
    "          },  \n",
    "          'backgroundColor': 'red',\n",
    "          'color': 'white'\n",
    "        },\n",
    "        {\n",
    "          'if': {\n",
    "              'filter_query': '{To Target} >= 0',\n",
    "              'column_id': 'To Target', \n",
    "          },  \n",
    "          'backgroundColor': 'green',\n",
    "          'color': 'white'\n",
    "        },\n",
    "        {\n",
    "          'if': {\n",
    "              'filter_query': '{To Previous} < 0',\n",
    "              'column_id': 'To Previous', \n",
    "          },  \n",
    "          'backgroundColor': 'red',\n",
    "          'color': 'white'\n",
    "        },\n",
    "        {\n",
    "          'if': {\n",
    "              'filter_query': '{To Previous} >= 0',\n",
    "              'column_id': 'To Previous', \n",
    "          },  \n",
    "          'backgroundColor': 'green',\n",
    "          'color': 'white'\n",
    "        },\n",
    "        \n",
    "    ]),\n",
    "    \n",
    "    style_table={\n",
    "        'overflowX':'scroll',\n",
    "    },\n",
    "    style_cell={\n",
    "        'padding': '5px',\n",
    "        'textAlign': 'center',\n",
    "        \n",
    "    },\n",
    "    style_header={\n",
    "        'backgroundColor': 'white',\n",
    "        'fontWeight': 'bold'\n",
    "        \n",
    "    },\n",
    "    style_as_list_view=True,\n",
    ")\n",
    "\n",
    "def inner_card(navbar, table):\n",
    "    card = dbc.Card(\n",
    "        dbc.CardBody(\n",
    "            [\n",
    "                navbar,\n",
    "                table,\n",
    "\n",
    "            ]\n",
    "        ),\n",
    "    )\n",
    "    return card\n",
    "\n",
    "Facebook_card = inner_card(Facebook_navbar, table)\n",
    "Instagram_card = inner_card(Instagram_navbar, table)\n",
    "Twitter_card = inner_card(Twitter_navbar, table)\n",
    "Youtube_card = inner_card(Youtube_navbar, table)"
   ]
  },
  {
   "cell_type": "markdown",
   "id": "98d51619-3639-48e5-aca7-f601973cbd5f",
   "metadata": {},
   "source": [
    "#### c. Layout:"
   ]
  },
  {
   "cell_type": "code",
   "execution_count": 18,
   "id": "3c541ee0-4791-47bf-93ab-b8597a964a0e",
   "metadata": {
    "execution": {
     "iopub.execute_input": "2022-08-23T10:18:38.231536Z",
     "iopub.status.busy": "2022-08-23T10:18:38.231303Z",
     "iopub.status.idle": "2022-08-23T10:18:38.250084Z",
     "shell.execute_reply": "2022-08-23T10:18:38.249345Z",
     "shell.execute_reply.started": "2022-08-23T10:18:38.231511Z"
    },
    "tags": []
   },
   "outputs": [],
   "source": [
    "app.layout = html.Div(\n",
    "    [\n",
    "        #Navbar:\n",
    "        general_navbar,\n",
    "        #The page content:\n",
    "        dbc.Container(\n",
    "            [\n",
    "                html.Br(),\n",
    "                dbc.Row(\n",
    "                    [\n",
    "                        dbc.Col(\n",
    "                            [\n",
    "                                Facebook_card,\n",
    "                            ], \n",
    "                            xs=12, sm=12, md=12, lg=6, xl=6\n",
    "                        ),\n",
    "                        dbc.Col(\n",
    "                            [\n",
    "                                Instagram_card\n",
    "                            ], \n",
    "                            xs=12, sm=12, md=12, lg=6, xl=6\n",
    "                        )\n",
    "                        ]),\n",
    "                dbc.Row(\n",
    "                    [\n",
    "                        dbc.Col(\n",
    "                            [\n",
    "                                Twitter_card\n",
    "                            ],\n",
    "                            xs=12, sm=12, md=12, lg=6, xl=6),\n",
    "                        dbc.Col(\n",
    "                            [\n",
    "                                Youtube_card\n",
    "                            ],\n",
    "                            xs=12, sm=12, md=12, lg=6, xl=6\n",
    "                        )\n",
    "                    ]\n",
    "                )\n",
    "            ]\n",
    "        )\n",
    "    ]\n",
    ")"
   ]
  },
  {
   "cell_type": "markdown",
   "id": "5dedefef-3902-4103-8e1e-7f7a5cd4eced",
   "metadata": {},
   "source": [
    "### 4. CallBacks:"
   ]
  },
  {
   "cell_type": "code",
   "execution_count": null,
   "id": "8cae4f72-c294-4f57-a7fe-ffad5b1c060b",
   "metadata": {},
   "outputs": [],
   "source": []
  },
  {
   "cell_type": "markdown",
   "id": "f3e0f900-5b58-4012-8e70-695594dcd372",
   "metadata": {
    "execution": {
     "iopub.execute_input": "2021-07-02T23:32:10.789097Z",
     "iopub.status.busy": "2021-07-02T23:32:10.788829Z",
     "iopub.status.idle": "2021-07-02T23:32:10.796900Z",
     "shell.execute_reply": "2021-07-02T23:32:10.796358Z",
     "shell.execute_reply.started": "2021-07-02T23:32:10.789033Z"
    },
    "papermill": {},
    "tags": []
   },
   "source": [
    "## Output"
   ]
  },
  {
   "cell_type": "markdown",
   "id": "74eb5829-9e0e-4a3c-9ba7-b33efdbf3b83",
   "metadata": {},
   "source": [
    "### Generate URL and show logs"
   ]
  },
  {
   "cell_type": "code",
   "execution_count": null,
   "id": "35e8c988-8d11-477a-8ac5-5095465825f1",
   "metadata": {
    "execution": {
     "iopub.execute_input": "2022-08-23T10:18:41.865722Z",
     "iopub.status.busy": "2022-08-23T10:18:41.865480Z"
    },
    "papermill": {},
    "tags": []
   },
   "outputs": [
    {
     "name": "stdout",
     "output_type": "stream",
     "text": [
      "Dash is running on https://app.naas.ai/user/ismailchihab71@gmail.com/proxy/8050/\n",
      "\n",
      "\u001b[31m\u001b[1mWARNING: This is a development server. Do not use it in a production deployment. Use a production WSGI server instead.\u001b[0m\n",
      " * Serving Flask app '__main__'\n",
      " * Debug mode: off\n"
     ]
    },
    {
     "name": "stderr",
     "output_type": "stream",
     "text": [
      " * Running on http://127.0.0.1:8050 (Press CTRL+C to quit)\n",
      "127.0.0.1 - - [23/Aug/2022 12:18:44] \"GET / HTTP/1.1\" 200 -\n",
      "127.0.0.1 - - [23/Aug/2022 12:18:44] \"GET /_dash-layout HTTP/1.1\" 200 -\n",
      "127.0.0.1 - - [23/Aug/2022 12:18:44] \"GET /_dash-dependencies HTTP/1.1\" 200 -\n",
      "127.0.0.1 - - [23/Aug/2022 12:18:44] \"GET /_favicon.ico?v=2.6.1 HTTP/1.1\" 200 -\n",
      "127.0.0.1 - - [23/Aug/2022 12:18:44] \"GET /_dash-component-suites/dash/dash_table/async-highlight.js HTTP/1.1\" 200 -\n",
      "127.0.0.1 - - [23/Aug/2022 12:18:44] \"GET /_dash-component-suites/dash/dash_table/async-table.js HTTP/1.1\" 200 -\n"
     ]
    }
   ],
   "source": [
    "if __name__ == '__main__':\n",
    "    app.run_server(proxy=f\"http://127.0.0.1:{DASH_PORT}::https://app.naas.ai\")"
   ]
  },
  {
   "cell_type": "code",
   "execution_count": null,
   "id": "c42e4957-c0f1-4fba-8ec6-87f65c17df97",
   "metadata": {},
   "outputs": [],
   "source": []
  }
 ],
 "metadata": {
  "kernelspec": {
   "display_name": "Python 3",
   "language": "python",
   "name": "python3"
  },
  "language_info": {
   "codemirror_mode": {
    "name": "ipython",
    "version": 3
   },
   "file_extension": ".py",
   "mimetype": "text/x-python",
   "name": "python",
   "nbconvert_exporter": "python",
   "pygments_lexer": "ipython3",
   "version": "3.9.6"
  }
 },
 "nbformat": 4,
 "nbformat_minor": 5
}
