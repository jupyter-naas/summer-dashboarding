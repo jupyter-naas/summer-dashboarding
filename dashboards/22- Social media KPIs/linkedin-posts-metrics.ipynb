{
 "cells": [
  {
   "cell_type": "markdown",
   "id": "latin-packing",
   "metadata": {
    "execution": {
     "iopub.execute_input": "2021-02-23T14:22:16.610471Z",
     "iopub.status.busy": "2021-02-23T14:22:16.610129Z",
     "iopub.status.idle": "2021-02-23T14:22:16.627784Z",
     "shell.execute_reply": "2021-02-23T14:22:16.626866Z",
     "shell.execute_reply.started": "2021-02-23T14:22:16.610384Z"
    },
    "papermill": {},
    "tags": []
   },
   "source": [
    "<img width=\"10%\" alt=\"Naas\" src=\"https://landen.imgix.net/jtci2pxwjczr/assets/5ice39g4.png?w=160\"/>"
   ]
  },
  {
   "cell_type": "markdown",
   "id": "compressed-wilson",
   "metadata": {
    "papermill": {},
    "tags": []
   },
   "source": [
    "# LinkedIn Posts Metrics"
   ]
  },
  {
   "cell_type": "markdown",
   "id": "religious-programmer",
   "metadata": {
    "papermill": {},
    "tags": []
   },
   "source": [
    "**Tags:** #dashboard #plotly #dash #naas #asset #automation #analytics"
   ]
  },
  {
   "cell_type": "markdown",
   "id": "1fe9f56e-561c-4f52-aef8-b861c9462107",
   "metadata": {
    "papermill": {},
    "tags": []
   },
   "source": [
    "**Author:** [Florent Ravenel](https://www.linkedin.com/in/florent-ravenel/)"
   ]
  },
  {
   "cell_type": "markdown",
   "id": "31ea7cdb-e10d-43fc-b026-f69249a59736",
   "metadata": {
    "papermill": {},
    "tags": []
   },
   "source": [
    "This notebook enables you to generate a dashboard to follow your LinkedIn Posts Metrics."
   ]
  },
  {
   "cell_type": "markdown",
   "id": "8ae57c9e-a826-48bf-92f0-14dfddcef630",
   "metadata": {},
   "source": [
    "<div class=\"alert alert-info\" role=\"info\" style=\"margin: 10px\">\n",
    "<b>Requirements:</b><br>\n",
    "To run this notebook, you must have already run <b>LinkedIn_Get_profile_posts_stats.ipynb</b> or <b>LinkedIn_Get_company_posts_stats.ipynb</b> to get your post stats in CSV.<br>\n",
    "</div>"
   ]
  },
  {
   "cell_type": "markdown",
   "id": "distinguished-truth",
   "metadata": {
    "papermill": {},
    "tags": []
   },
   "source": [
    "## Input"
   ]
  },
  {
   "cell_type": "markdown",
   "id": "numeric-mediterranean",
   "metadata": {
    "papermill": {},
    "tags": []
   },
   "source": [
    "### Import libraries"
   ]
  },
  {
   "cell_type": "code",
   "execution_count": null,
   "id": "potential-surfing",
   "metadata": {
    "papermill": {},
    "tags": []
   },
   "outputs": [],
   "source": [
    "# Data\n",
    "import os\n",
    "import pandas as pd\n",
    "import naas\n",
    "from datetime import datetime\n",
    "\n",
    "# Plotly\n",
    "import plotly.graph_objects as go\n",
    "import plotly.express as px\n",
    "from plotly.subplots import make_subplots\n",
    "\n",
    "# Dash\n",
    "import dash\n",
    "from dash import html, dcc, Input, Output, State\n",
    "import dash_bootstrap_components as dbc\n",
    "from dash_bootstrap_components._components.Container import Container\n",
    "from dash.exceptions import PreventUpdate"
   ]
  },
  {
   "cell_type": "markdown",
   "id": "616706cc-2d4e-4e32-b7f2-ac3e991313d6",
   "metadata": {},
   "source": [
    "### Setup Dash App\n",
    "Elements displayed in Dash App"
   ]
  },
  {
   "cell_type": "code",
   "execution_count": null,
   "id": "f4c043e1-cd66-410f-9037-ba8cb11e111b",
   "metadata": {
    "tags": []
   },
   "outputs": [],
   "source": [
    "# Defining the port of the dashboard\n",
    "APP_TITLE = 'LinkedIn Posts Metrics'\n",
    "APP_LOGO = \"https://upload.wikimedia.org/wikipedia/commons/thumb/c/ca/LinkedIn_logo_initials.png/800px-LinkedIn_logo_initials.png\"\n",
    "COLOR = \"#1293d2\"\n",
    "BACKGROUND_COLOR = \"#f8f9fa\"\n",
    "\n",
    "# Navbar\n",
    "NAVBAR_COLOR = \"white\"\n",
    "NAVBAR_TOGGLE_BD_COLOR = \"#f8f9fa\"\n",
    "\n",
    "# Card\n",
    "CARD_COLOR = \"white\"\n",
    "\n",
    "# Chart\n",
    "CHART_COLOR = \"white\" \n",
    "\n",
    "# Port used to displayed preview\n",
    "DASH_PORT = 8050 "
   ]
  },
  {
   "cell_type": "markdown",
   "id": "2a220105-8fa0-4208-8372-b2e2ccb64839",
   "metadata": {},
   "source": [
    "### Setup CSV\n",
    "List of CSV with posts stats. \n",
    "\n",
    "You must have already run <b>LinkedIn_Get_profile_posts_stats.ipynb</b> or <b>LinkedIn_Get_company_posts_stats.ipynb</b> to get your post stats in CSV.<br>"
   ]
  },
  {
   "cell_type": "code",
   "execution_count": null,
   "id": "e0473f78-d6da-41b4-897d-a68e6270d8a8",
   "metadata": {
    "tags": []
   },
   "outputs": [],
   "source": [
    "CSV_FILES = [\n",
    "    \"LINKEDIN_COMPANY_POSTS_70506391.csv\",\n",
    "    \"LINKEDIN_PROFILE_POSTS_ACoAAAJHE7sB5OxuKHuzguZ9L6lfDHqw--cdnJg.csv\",\n",
    "    \"LINKEDIN_PROFILE_POSTS_ACoAABCNSioBW3YZHc2lBHVG0E_TXYWitQkmwog.csv\"\n",
    "]"
   ]
  },
  {
   "cell_type": "markdown",
   "id": "registered-showcase",
   "metadata": {
    "papermill": {},
    "tags": []
   },
   "source": [
    "## Model"
   ]
  },
  {
   "cell_type": "markdown",
   "id": "f2aea9ef-5957-4532-a6fc-0befb62d70c0",
   "metadata": {},
   "source": [
    "### Constants"
   ]
  },
  {
   "cell_type": "code",
   "execution_count": null,
   "id": "564311f4-1242-4230-be47-560c2949c6a7",
   "metadata": {
    "tags": []
   },
   "outputs": [],
   "source": [
    "DATE_FORMAT = \"%Y-%m-%d\"\n",
    "PERIOD = \"%Y%m\"\n",
    "PERIOD_D = \"%b %Y\"\n",
    "PERIOD_TEXT = \"This Month\"\n",
    "PERIOD_COMP = \"last month\""
   ]
  },
  {
   "cell_type": "markdown",
   "id": "f6558026-6566-4b4d-ab74-a5eec170f57b",
   "metadata": {},
   "source": [
    "### Data"
   ]
  },
  {
   "cell_type": "markdown",
   "id": "f17d77bc-4737-41dd-bdc4-1bce4706bdfb",
   "metadata": {},
   "source": [
    "#### Get posts data"
   ]
  },
  {
   "cell_type": "code",
   "execution_count": null,
   "id": "01764bb0-5ea8-48e0-838b-1a01ada8b9da",
   "metadata": {
    "tags": []
   },
   "outputs": [],
   "source": [
    "def concat_csv(files):\n",
    "    df = pd.DataFrame()\n",
    "    for file in files:\n",
    "        tmp_df = pd.read_csv(file)\n",
    "        df = pd.concat([df, tmp_df])\n",
    "    return df\n",
    "\n",
    "df_posts = concat_csv(CSV_FILES)\n",
    "print(\"Posts fetched:\", len(df_posts))\n",
    "df_posts.head(1)"
   ]
  },
  {
   "cell_type": "markdown",
   "id": "3700f163-91e4-4e59-927f-3745aee7658c",
   "metadata": {},
   "source": [
    "#### Create Master data"
   ]
  },
  {
   "cell_type": "code",
   "execution_count": null,
   "id": "5db7ca91-d601-4909-a266-c7ea1331a08c",
   "metadata": {
    "tags": []
   },
   "outputs": [],
   "source": [
    "def create_master_table(df):\n",
    "    df_master = df.copy()\n",
    "\n",
    "    # Add entity and scenario\n",
    "    df_master[\"ENTITY\"] = df_master[\"AUTHOR_NAME\"]\n",
    "    df_master[\"SCENARIO\"] = pd.to_datetime(df_master[\"PUBLISHED_DATE\"].str[:7], format=\"%Y-%m\").dt.strftime(\"%b %Y\")\n",
    "    df_master[\"SCENARIO_ORDER\"] = pd.to_datetime(df_master[\"PUBLISHED_DATE\"].str[:7], format=\"%Y-%m\").dt.strftime(PERIOD)\n",
    "    df_master = df_master[df_master[\"VIEWS\"] != 0]\n",
    "\n",
    "    # Clean\n",
    "    df_master = df_master.drop_duplicates(\"ACTIVITY_ID\")\n",
    "    return df_master\n",
    "\n",
    "df_master = create_master_table(df_posts)\n",
    "print(\"Posts fetched clean:\", len(df_master))\n",
    "df_master.head(1)"
   ]
  },
  {
   "cell_type": "markdown",
   "id": "0527b0b3-5bc1-4a3b-b24d-43d0a23f8a1c",
   "metadata": {},
   "source": [
    "#### Create Ref Data: Entities"
   ]
  },
  {
   "cell_type": "code",
   "execution_count": null,
   "id": "3713a83c-1416-4b23-a922-b2413b209a9e",
   "metadata": {
    "tags": []
   },
   "outputs": [],
   "source": [
    "entities = sorted(df_master[\"ENTITY\"].unique().tolist(), reverse=True)\n",
    "entities"
   ]
  },
  {
   "cell_type": "markdown",
   "id": "753b37e9-a47c-43ae-9690-832ee179e9a4",
   "metadata": {},
   "source": [
    "#### Create Ref Data: Scenarios"
   ]
  },
  {
   "cell_type": "code",
   "execution_count": null,
   "id": "f947d866-32a3-43e0-a1c6-deb1ce14f3eb",
   "metadata": {
    "tags": []
   },
   "outputs": [],
   "source": [
    "scenarios = df_master[[\"SCENARIO_ORDER\", \"SCENARIO\"]].drop_duplicates().sort_values(by=\"SCENARIO_ORDER\", ascending=False)[\"SCENARIO\"].tolist()[:12]\n",
    "scenarios"
   ]
  },
  {
   "cell_type": "markdown",
   "id": "f20f64fc-e388-42e7-9010-4e8764de4c98",
   "metadata": {},
   "source": [
    "### Charts"
   ]
  },
  {
   "cell_type": "markdown",
   "id": "07490f8f-58dc-49e2-a532-dba238982af3",
   "metadata": {},
   "source": [
    "#### Create barchart"
   ]
  },
  {
   "cell_type": "code",
   "execution_count": null,
   "id": "14129999-cd1f-4ebf-80ef-fa7eb0922b45",
   "metadata": {
    "tags": []
   },
   "outputs": [],
   "source": [
    "def get_trend_barchart(df_init,\n",
    "                       col_date,\n",
    "                       col_value,\n",
    "                       agg_value,\n",
    "                       entity=None,\n",
    "                       scenario=None,\n",
    "                       period_rolling=12):\n",
    "    # Init variable\n",
    "    df = df_init.copy()\n",
    "    \n",
    "    # Filter on entity\n",
    "    df = df[(df.ENTITY == entity)]\n",
    "    \n",
    "    # Groupby period\n",
    "    if isinstance(col_value, list):\n",
    "        df[\"VALUE\"] = 0\n",
    "        for c in col_value:\n",
    "            df[c] = df[c].astype(float)\n",
    "            df[\"VALUE\"] = df[\"VALUE\"] + df[c]    \n",
    "        col_value = \"VALUE\"\n",
    "    elif agg_value == \"sum\":\n",
    "        df[col_value] = df[col_value].astype(float)\n",
    "    df[col_date] = pd.to_datetime(df[col_date].str[:-6]).dt.strftime(DATE_FORMAT)\n",
    "    df = df.groupby(col_date, as_index=False).agg({col_value: agg_value})\n",
    "    \n",
    "    # Rename column\n",
    "    to_rename = {\n",
    "        col_date: \"DATE_ISO\",\n",
    "        col_value: \"VALUE\"\n",
    "    }\n",
    "    df = df.rename(columns=to_rename)\n",
    "    \n",
    "    # Reindex value\n",
    "    d = datetime.now().date()\n",
    "    d2 = df.loc[df.index[0], \"DATE_ISO\"]\n",
    "    idx = pd.date_range(d2, d, freq = \"D\")    \n",
    "    df.set_index(\"DATE_ISO\", drop=True, inplace=True)\n",
    "    df.index = pd.DatetimeIndex(df.index)\n",
    "    df = df.reindex(idx, fill_value=0)\n",
    "    df[\"DATE_ISO\"] = pd.DatetimeIndex(df.index)\n",
    "    \n",
    "    # Groupby month\n",
    "    df[\"DATE\"] = pd.to_datetime(df[\"DATE_ISO\"], format=DATE_FORMAT).dt.strftime(PERIOD)\n",
    "    # Plotly: Date display\n",
    "    df[\"DATE_D\"] = pd.to_datetime(df[\"DATE_ISO\"], format=DATE_FORMAT).dt.strftime(PERIOD_D)\n",
    "    df = df.groupby([\"DATE\", \"DATE_D\"], as_index=False).agg({\"VALUE\": \"sum\"})\n",
    "\n",
    "    # Calc variation\n",
    "    for index, row in df.iterrows():\n",
    "        if index > 0:\n",
    "            n = df.loc[df.index[index], \"VALUE\"]\n",
    "            n_1 = df.loc[df.index[index-1], \"VALUE\"]\n",
    "            df.loc[df.index[index], \"VALUE_COMP\"] = n_1\n",
    "            df.loc[df.index[index], \"VARV\"] = n - n_1\n",
    "            if n_1 > 0:\n",
    "                df.loc[df.index[index], \"VARP\"] = (n - n_1) / abs(n_1)\n",
    "    df = df.fillna(0)\n",
    "    \n",
    "    # Plotly: Value display\n",
    "    df[\"VALUE_D\"] = \"<b><span style='font-family: Arial;'>\" + df[\"VALUE\"].map(\"{:,.0f}\".format).str.replace(\",\", \" \") + \"</span></b>\"\n",
    "    \n",
    "    # Plotly: Variation display\n",
    "    df[\"VARV_D\"] = df[\"VARV\"].map(\"{:,.0f}\".format).str.replace(\",\", \" \")\n",
    "    df.loc[df[\"VARV\"] > 0, \"VARV_D\"] = \"🟢 +\" + df[\"VARV_D\"]\n",
    "    df.loc[df[\"VARV\"] == 0, \"VARV_D\"] = \"🟠 \" + df[\"VARV_D\"]\n",
    "    df.loc[df[\"VARV\"] < 0, \"VARV_D\"] = \"🔴 \" + df[\"VARV_D\"]\n",
    "    df[\"VARP_D\"] = df[\"VARP\"].map(\"{:,.0%}\".format).str.replace(\",\", \" \")\n",
    "    df.loc[df[\"VARP\"] > 0, \"VARP_D\"] = \"+\" + df[\"VARP_D\"]\n",
    "    \n",
    "    # Plotly: hovertext\n",
    "    df[\"HKPI_VALUE\"] = df[\"VALUE\"].map(\"{:,.0f}\".format).str.replace(\",\", \" \") + \" as of \" + df[\"DATE_D\"].astype(str)\n",
    "    df[\"HKPI_VAR\"] = df[\"VARV_D\"] + \" (\" + df[\"VARP_D\"] + f\") vs {PERIOD_COMP}\"\n",
    "    \n",
    "    # Filter on entity\n",
    "    scenario_date = datetime.strptime(scenario, PERIOD_D).strftime(PERIOD)\n",
    "    df = df[(df.DATE <= scenario_date)]\n",
    "    \n",
    "    # Return month rolling\n",
    "    return df[-period_rolling:].reset_index(drop=True)\n",
    "\n",
    "df_barchart = get_trend_barchart(df_master,\n",
    "                                 \"PUBLISHED_DATE\",\n",
    "                                 \"VIEWS\",\n",
    "                                 \"count\",\n",
    "                                 entity=entities[0],\n",
    "                                 scenario=scenarios[0])\n",
    "df_barchart"
   ]
  },
  {
   "cell_type": "code",
   "execution_count": null,
   "id": "92761dcc-d4da-4f86-935e-9028dbe64cd3",
   "metadata": {
    "tags": []
   },
   "outputs": [],
   "source": [
    "def create_barchart(df,\n",
    "                    title=None,\n",
    "                    label=\"DATE_D\",\n",
    "                    value=\"VALUE\",\n",
    "                    value_d=\"VALUE_D\"):\n",
    "    # Init\n",
    "    fig = go.Figure()\n",
    "    \n",
    "    # Create fig\n",
    "    fig.add_trace(\n",
    "        go.Bar(\n",
    "            x=df[label],\n",
    "            y=df[value],\n",
    "            text=df[value_d],\n",
    "            textposition=\"outside\",\n",
    "            marker=dict(color=COLOR),\n",
    "        )\n",
    "    )\n",
    "    fig.update_traces(showlegend=False)\n",
    "    \n",
    "    # Update layout\n",
    "    fig.update_layout(\n",
    "        title=title,\n",
    "        title_font=dict(family=\"Arial\", color=\"black\"),\n",
    "        paper_bgcolor=CHART_COLOR,\n",
    "        plot_bgcolor=CHART_COLOR,\n",
    "        xaxis=dict(showgrid=False),\n",
    "        yaxis=dict(showgrid=False),\n",
    "        margin=dict(l=20, r=20, t=20, b=20)\n",
    "    )\n",
    "    fig.update_yaxes(showticklabels=False)\n",
    "    config = {'displayModeBar': False, \"responsive\": True}\n",
    "    fig.show(config=config)\n",
    "    return fig\n",
    "\n",
    "fig = create_barchart(df_barchart)"
   ]
  },
  {
   "cell_type": "markdown",
   "id": "3ee93f31-81d4-4ad3-8b58-f5b038802ed4",
   "metadata": {
    "execution": {
     "iopub.execute_input": "2022-08-07T12:36:43.651149Z",
     "iopub.status.busy": "2022-08-07T12:36:43.650909Z",
     "iopub.status.idle": "2022-08-07T12:36:43.655756Z",
     "shell.execute_reply": "2022-08-07T12:36:43.655122Z",
     "shell.execute_reply.started": "2022-08-07T12:36:43.651126Z"
    }
   },
   "source": [
    "### Dash App"
   ]
  },
  {
   "cell_type": "markdown",
   "id": "145b9578-9eb6-4754-b067-5af5f3a0021e",
   "metadata": {},
   "source": [
    "#### Create dropdown \"Entity\""
   ]
  },
  {
   "cell_type": "code",
   "execution_count": null,
   "id": "604e3369-e87b-45be-bec8-0a891510f333",
   "metadata": {
    "tags": []
   },
   "outputs": [],
   "source": [
    "dropdown_entity = dcc.Dropdown(\n",
    "    id='entity',\n",
    "    options=[{'label': i, 'value': i} for i in entities],\n",
    "    placeholder='Entity',\n",
    "    value=entities[0],\n",
    "    style={\n",
    "        \"text-align\": \"center\",\n",
    "        \"background-color\": \"#EEF3F8\",\n",
    "        \"color\": \"light\"\n",
    "    }\n",
    ")"
   ]
  },
  {
   "cell_type": "markdown",
   "id": "5ca44d4b-de5c-49bc-b0b2-7d3da3670e0c",
   "metadata": {},
   "source": [
    "#### Create dropdown \"Scenario\""
   ]
  },
  {
   "cell_type": "code",
   "execution_count": null,
   "id": "34063f1b-5a36-4440-94c5-9919596f0492",
   "metadata": {
    "tags": []
   },
   "outputs": [],
   "source": [
    "dropdown_scenario = dcc.Dropdown(\n",
    "    id='scenario',\n",
    "    options=[{'label': i, 'value': i} for i in scenarios],\n",
    "    placeholder='Scenario',\n",
    "    value=scenarios[0],\n",
    "    style={\n",
    "        \"text-align\": \"center\",\n",
    "        \"background-color\": \"#EEF3F8\",\n",
    "        \"color\": \"light\"\n",
    "    }\n",
    ")"
   ]
  },
  {
   "cell_type": "markdown",
   "id": "0a450c71-ebc4-4261-b9e2-16dbc549316b",
   "metadata": {},
   "source": [
    "#### Create Navbar"
   ]
  },
  {
   "cell_type": "code",
   "execution_count": null,
   "id": "afab0065-49aa-4945-a8ec-0b81fc58fe28",
   "metadata": {
    "tags": []
   },
   "outputs": [],
   "source": [
    "navbar = dbc.Navbar(\n",
    "    dbc.Container(\n",
    "        [\n",
    "            html.A(\n",
    "                # Use row and col to control vertical alignment of logo / brand\n",
    "                dbc.Row(\n",
    "                    [\n",
    "                        dbc.Col(\n",
    "                            html.Img(\n",
    "                                src=APP_LOGO,\n",
    "                                height=\"30px\"\n",
    "                            )\n",
    "                        ),\n",
    "                        dbc.Col(\n",
    "                            dbc.NavbarBrand(\n",
    "                                APP_TITLE,\n",
    "                                className=\"ms-2\",\n",
    "                                style={\n",
    "                                    \"color\": COLOR,\n",
    "                                    \"font-weight\": \"bold\"\n",
    "                                }\n",
    "                            )\n",
    "                        ),\n",
    "                    ],\n",
    "                    align=\"center\",\n",
    "                    className=\"g-0\",\n",
    "                ),\n",
    "                href=\"https://github.com/jupyter-naas/awesome-notebooks/tree/master/Dash\",\n",
    "                style={\"textDecoration\": \"none\"},\n",
    "            ),\n",
    "            dbc.NavbarToggler(\n",
    "                id=\"navbar-toggler\",\n",
    "                n_clicks=0,\n",
    "                style={\n",
    "                    \"border-color\": NAVBAR_TOGGLE_BD_COLOR,\n",
    "                    \"background\": COLOR\n",
    "                }\n",
    "            ),\n",
    "            dbc.Collapse(\n",
    "                dbc.Nav(\n",
    "                    [\n",
    "                        html.Div(\n",
    "                            [\n",
    "                                html.Div(className=\"w-100\"),\n",
    "                                html.Div(className=\"w-100\"),\n",
    "                                html.Div(dropdown_entity, className=\"w-100\"),\n",
    "                                html.Div(dropdown_scenario, className=\"w-100\")\n",
    "                            ],\n",
    "                            className=\"pt-1 pb-1 d-grid gap-2 d-md-flex w-100\")\n",
    "\n",
    "                    ],\n",
    "                    className=\"ms-auto w-100\",\n",
    "                    navbar=True,\n",
    "                ),\n",
    "                id=\"navbar-collapse\",\n",
    "                navbar=True,\n",
    "                is_open=False,\n",
    "            ),\n",
    "        ],\n",
    "    ),\n",
    "    color=NAVBAR_COLOR,\n",
    "    dark=True,\n",
    "#     className=\"navbar border-bottom border-light fixed-top\",\n",
    "    className=\"navbar border-bottom border-light\",\n",
    "    style={}\n",
    ")"
   ]
  },
  {
   "cell_type": "markdown",
   "id": "3b3c067d-ca98-4fe1-be01-58c220524d79",
   "metadata": {},
   "source": [
    "#### Create HKPIs"
   ]
  },
  {
   "cell_type": "code",
   "execution_count": null,
   "id": "8abe0788-45c6-45db-a390-157d90b5fc79",
   "metadata": {
    "tags": []
   },
   "outputs": [],
   "source": [
    "def create_hkpis(card_title, card_value, card_var):\n",
    "    card = dbc.Col(\n",
    "        dbc.Card(\n",
    "            dbc.CardBody(\n",
    "                [\n",
    "                    html.P(\n",
    "                        card_title,\n",
    "                        className=\"card-title\",\n",
    "                        style={\n",
    "                            \"font-size\": \"15px\",\n",
    "                            \"font-weight\": \"bold\",\n",
    "                            \"padding-bottom\": \"5px\",\n",
    "                           }\n",
    "                    ),\n",
    "                    html.P(\n",
    "                        className=\"card-text\",\n",
    "                        style={},\n",
    "                        id=card_var\n",
    "                    ),\n",
    "                    html.P(\n",
    "                        className=\"card-text\",\n",
    "                        style={\n",
    "                            \"font-size\": \"14px\",\n",
    "                           },\n",
    "                        id=card_value\n",
    "                    )\n",
    "                ]\n",
    "            ),\n",
    "            color=CARD_COLOR,\n",
    "            inverse=False\n",
    "        ),\n",
    "        style={\n",
    "            \"background-color\": BACKGROUND_COLOR\n",
    "        },\n",
    "        className=\"gx-5 g-2\",\n",
    "        xs=12,\n",
    "        sm=12,\n",
    "        md=12,\n",
    "        lg=3,\n",
    "        xl=3\n",
    "    )\n",
    "    return card"
   ]
  },
  {
   "cell_type": "markdown",
   "id": "ecdff953-c07b-41eb-b238-3f1a45317e5e",
   "metadata": {},
   "source": [
    "#### Create Chart"
   ]
  },
  {
   "cell_type": "code",
   "execution_count": null,
   "id": "f8923d5f-f576-4959-a6b4-cdb2952fcea5",
   "metadata": {
    "tags": []
   },
   "outputs": [],
   "source": [
    "def create_chart(title, chart_id):\n",
    "    card = dbc.Col(\n",
    "        dbc.Card(\n",
    "            dbc.CardBody(\n",
    "                [\n",
    "                    html.H5(\n",
    "                        title,\n",
    "                        style={\n",
    "                            \"padding-top\": \"20px\",\n",
    "                            \"margin-left\": \"20px\",\n",
    "                            \"font-weight\": \"bold\",\n",
    "                        }\n",
    "                    ),\n",
    "                    dcc.Graph(\n",
    "                        id=chart_id,\n",
    "                        config={\n",
    "                            'displayModeBar': False,\n",
    "                            \"staticPlot\": True\n",
    "                        }\n",
    "                    ),\n",
    "                ],\n",
    "            ),\n",
    "            color=CARD_COLOR,\n",
    "            inverse=False\n",
    "        ),\n",
    "        style={\n",
    "            \"background-color\": BACKGROUND_COLOR\n",
    "        },\n",
    "        className=\"gx-5 g-2\",\n",
    "        xs=12,\n",
    "        sm=12,\n",
    "        md=12,\n",
    "        lg=6,\n",
    "        xl=6\n",
    "    )\n",
    "    return card"
   ]
  },
  {
   "cell_type": "markdown",
   "id": "fd1d09b0-20eb-4d8e-a6a1-8e4ca908bdf4",
   "metadata": {},
   "source": [
    "#### Create Layout"
   ]
  },
  {
   "cell_type": "code",
   "execution_count": null,
   "id": "d8d7988b-0d84-481e-9a8b-9ce487573eba",
   "metadata": {
    "tags": []
   },
   "outputs": [],
   "source": [
    "# Init App\n",
    "app = dash.Dash(\n",
    "    requests_pathname_prefix=f'/user/{os.environ.get(\"JUPYTERHUB_USER\")}/proxy/{DASH_PORT}/', \n",
    "    external_stylesheets=[dbc.themes.BOOTSTRAP],\n",
    "    assets_external_path=\"chart.css\",\n",
    "    meta_tags=[{'name': 'viewport','content': 'width=device-width, initial-scale=1.0'}]\n",
    "                \n",
    ")\n",
    "\n",
    "# App title\n",
    "app.title = APP_TITLE\n",
    "\n",
    "# App layout\n",
    "app.layout = html.Div(\n",
    "    [\n",
    "        #Navbar\n",
    "        navbar,\n",
    "\n",
    "        #HKPIS\n",
    "        dbc.Row(\n",
    "            [\n",
    "                create_hkpis(\"PUBLISHED\", \"card_val1\", \"card_var1\"),\n",
    "                create_hkpis(\"VIEWS\", \"card_val2\", \"card_var2\"),\n",
    "                create_hkpis(\"LIKES\", \"card_val3\", \"card_var3\"),\n",
    "                create_hkpis(\"COMMENTS\", \"card_val4\", \"card_var4\"),\n",
    "            ],\n",
    "            style={\n",
    "                \"background-color\": BACKGROUND_COLOR,\n",
    "#                 \"padding-top\": \"60px\"\n",
    "            },\n",
    "            className=\"g-0 d-flex align-items-center\",\n",
    "        ),\n",
    "\n",
    "        #Charts \n",
    "        dbc.Row(\n",
    "            [\n",
    "                create_chart(\"POST PUBLISHED\", \"fig1\"),\n",
    "                create_chart(\"POST VIEWS\", \"fig2\"),\n",
    "\n",
    "            ],\n",
    "            style={\n",
    "                \"background-color\": BACKGROUND_COLOR\n",
    "            },\n",
    "        ),\n",
    "        dbc.Row(\n",
    "            [\n",
    "                create_chart(\"POST LIKES\", \"fig3\"),\n",
    "                create_chart(\"POST COMMENTS\", \"fig4\"),\n",
    "            ],\n",
    "            style={\n",
    "                \"background-color\": BACKGROUND_COLOR\n",
    "            },\n",
    "        )\n",
    "    ]\n",
    ")\n",
    "\n",
    "# add callback for toggling the collapse on small screens\n",
    "@app.callback(\n",
    "    Output(\"navbar-collapse\", \"is_open\"),\n",
    "    [Input(\"navbar-toggler\", \"n_clicks\")],\n",
    "    [State(\"navbar-collapse\", \"is_open\")],\n",
    ")\n",
    "def toggle_navbar_collapse(n, is_open):\n",
    "    if n:\n",
    "        return not is_open\n",
    "    return is_open\n",
    "\n",
    "@app.callback(\n",
    "    [\n",
    "        Output('card_val1', 'children'),\n",
    "        Output('card_var1', 'children'),\n",
    "        Output('card_val2', 'children'),\n",
    "        Output('card_var2', 'children'),\n",
    "        Output('card_val3', 'children'),\n",
    "        Output('card_var3', 'children'),\n",
    "        Output('card_val4', 'children'),\n",
    "        Output('card_var4', 'children'), \n",
    "        Output('fig1', 'figure'),\n",
    "        Output('fig2', 'figure'), \n",
    "        Output('fig3', 'figure'),\n",
    "        Output('fig4', 'figure'),\n",
    "    ],\n",
    "    [\n",
    "        Input('entity', 'value'),\n",
    "        Input('scenario', 'value')\n",
    "    ]\n",
    "    \n",
    ")\n",
    "\n",
    "def multi_outputs(entity, scenario):\n",
    "    if entity is None and scenario is None:\n",
    "        raise PreventUpdate\n",
    "        \n",
    "    # Get graph dataframe\n",
    "    df_g = df_master.copy()\n",
    "    df1 = get_trend_barchart(df_g, \"PUBLISHED_DATE\", \"VIEWS\", \"count\", entity, scenario)\n",
    "    df2 = get_trend_barchart(df_g, \"PUBLISHED_DATE\", \"VIEWS\", \"sum\", entity, scenario)\n",
    "    df3 = get_trend_barchart(df_g, \"PUBLISHED_DATE\", \"LIKES\", \"sum\", entity, scenario)\n",
    "    df4 = get_trend_barchart(df_g, \"PUBLISHED_DATE\", \"COMMENTS\", \"sum\", entity, scenario)\n",
    "    \n",
    "    # Return card data\n",
    "    card_val1 = df1.loc[df1.index[-1], \"HKPI_VALUE\"]\n",
    "    card_var1 = df1.loc[df1.index[-1], \"HKPI_VAR\"]\n",
    "    card_val2 = df2.loc[df2.index[-1], \"HKPI_VALUE\"]\n",
    "    card_var2 = df2.loc[df2.index[-1], \"HKPI_VAR\"]\n",
    "    card_val3 = df3.loc[df3.index[-1], \"HKPI_VALUE\"]\n",
    "    card_var3 = df3.loc[df3.index[-1], \"HKPI_VAR\"]\n",
    "    card_val4 = df4.loc[df4.index[-1], \"HKPI_VALUE\"]\n",
    "    card_var4 = df4.loc[df4.index[-1], \"HKPI_VAR\"]\n",
    "\n",
    "    # Create graph\n",
    "    fig1 = create_barchart(df1)\n",
    "    fig2 = create_barchart(df2)\n",
    "    fig3 = create_barchart(df3)\n",
    "    fig4 = create_barchart(df4)\n",
    "    return card_val1, card_var1, card_val2, card_var2, card_val3, card_var3, card_val4, card_var4, fig1, fig2, fig3, fig4"
   ]
  },
  {
   "cell_type": "markdown",
   "id": "lonely-pacific",
   "metadata": {
    "execution": {
     "iopub.execute_input": "2021-07-02T23:32:10.789097Z",
     "iopub.status.busy": "2021-07-02T23:32:10.788829Z",
     "iopub.status.idle": "2021-07-02T23:32:10.796900Z",
     "shell.execute_reply": "2021-07-02T23:32:10.796358Z",
     "shell.execute_reply.started": "2021-07-02T23:32:10.789033Z"
    },
    "papermill": {},
    "tags": []
   },
   "source": [
    "## Output"
   ]
  },
  {
   "cell_type": "markdown",
   "id": "890f7c86-b7bb-4f5d-9a1b-e492dd9580fd",
   "metadata": {
    "papermill": {},
    "tags": []
   },
   "source": [
    "### Generate URL and show logs"
   ]
  },
  {
   "cell_type": "code",
   "execution_count": null,
   "id": "9c4e3b7b-6440-4844-8054-265f1aec65eb",
   "metadata": {
    "papermill": {},
    "tags": []
   },
   "outputs": [],
   "source": [
    "if __name__ == '__main__':\n",
    "    app.run_server(proxy=f\"http://127.0.0.1:{DASH_PORT}::https://app.naas.ai\")"
   ]
  }
 ],
 "metadata": {
  "kernelspec": {
   "display_name": "Python 3",
   "language": "python",
   "name": "python3"
  },
  "language_info": {
   "codemirror_mode": {
    "name": "ipython",
    "version": 3
   },
   "file_extension": ".py",
   "mimetype": "text/x-python",
   "name": "python",
   "nbconvert_exporter": "python",
   "pygments_lexer": "ipython3",
   "version": "3.9.6"
  },
  "papermill": {
   "default_parameters": {},
   "environment_variables": {},
   "parameters": {},
   "version": "2.3.3"
  },
  "widgets": {
   "application/vnd.jupyter.widget-state+json": {
    "state": {},
    "version_major": 2,
    "version_minor": 0
   }
  }
 },
 "nbformat": 4,
 "nbformat_minor": 5
}
