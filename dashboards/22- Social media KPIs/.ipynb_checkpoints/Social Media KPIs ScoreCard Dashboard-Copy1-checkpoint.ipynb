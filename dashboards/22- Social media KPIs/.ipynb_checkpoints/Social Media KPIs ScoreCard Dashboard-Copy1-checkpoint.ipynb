{
 "cells": [
  {
   "cell_type": "markdown",
   "id": "760b85f5-b869-4117-9b68-3084fcdd13d6",
   "metadata": {},
   "source": [
    "<img width=\"10%\" alt=\"Naas\" src=\"https://landen.imgix.net/jtci2pxwjczr/assets/5ice39g4.png?w=160\"/>"
   ]
  },
  {
   "cell_type": "markdown",
   "id": "0b67be94-62bf-45f1-996a-fb016eaa4fa2",
   "metadata": {},
   "source": [
    "# Social Media KPIs dashboard"
   ]
  },
  {
   "cell_type": "markdown",
   "id": "98e9858e-96ef-44c8-82fd-36850a7178f8",
   "metadata": {},
   "source": [
    "**Tags:** #dashboard #plotly #dash #naas #asset #automation #ai #analytics"
   ]
  },
  {
   "cell_type": "markdown",
   "id": "b80162d1-2b90-4340-8c9d-bf46ee74f129",
   "metadata": {},
   "source": [
    "**Author:** [Ismail CHIHAB](https://www.linkedin.com/in/ismail-chihab-4b0a04202/)"
   ]
  },
  {
   "cell_type": "markdown",
   "id": "59e516cf-ce9f-4eac-b177-ebdbf2e90636",
   "metadata": {},
   "source": [
    "## Input"
   ]
  },
  {
   "cell_type": "markdown",
   "id": "383ac6fd-6bf7-42f5-901a-e1086e6720d0",
   "metadata": {},
   "source": [
    "### Import libraries"
   ]
  },
  {
   "cell_type": "code",
   "execution_count": 1,
   "id": "cd726a60-cf9a-45d4-afeb-9124a7f1cadb",
   "metadata": {
    "execution": {
     "iopub.execute_input": "2022-08-26T16:08:57.315389Z",
     "iopub.status.busy": "2022-08-26T16:08:57.315144Z",
     "iopub.status.idle": "2022-08-26T16:08:59.516903Z",
     "shell.execute_reply": "2022-08-26T16:08:59.516261Z",
     "shell.execute_reply.started": "2022-08-26T16:08:57.315324Z"
    },
    "tags": []
   },
   "outputs": [],
   "source": [
    "import naas\n",
    "import naas_drivers\n",
    "import dash\n",
    "from dash import html, dash_table\n",
    "from dash.dependencies import Input, Output, State\n",
    "from dash import dcc\n",
    "import dash_bootstrap_components as dbc\n",
    "import pandas as pd\n",
    "import os"
   ]
  },
  {
   "cell_type": "markdown",
   "id": "47187f6b-150f-4072-8e59-910734be1d59",
   "metadata": {},
   "source": [
    "### Setup Dash App"
   ]
  },
  {
   "cell_type": "code",
   "execution_count": 2,
   "id": "9af29914-37af-494f-9b1c-8360886b65e5",
   "metadata": {
    "execution": {
     "iopub.execute_input": "2022-08-26T16:08:59.519994Z",
     "iopub.status.busy": "2022-08-26T16:08:59.519534Z",
     "iopub.status.idle": "2022-08-26T16:08:59.523169Z",
     "shell.execute_reply": "2022-08-26T16:08:59.522530Z",
     "shell.execute_reply.started": "2022-08-26T16:08:59.519961Z"
    },
    "tags": []
   },
   "outputs": [],
   "source": [
    "DASH_PORT = 8050"
   ]
  },
  {
   "cell_type": "markdown",
   "id": "d375d2f0-edc5-4278-a7ef-2974c010836a",
   "metadata": {},
   "source": [
    "## Model"
   ]
  },
  {
   "cell_type": "markdown",
   "id": "a1c42d27-3911-48e4-9caa-b5f97d13f4ec",
   "metadata": {},
   "source": [
    "### 1.Dataset:"
   ]
  },
  {
   "cell_type": "markdown",
   "id": "837e412a-b86f-4dd9-a864-547d960ff324",
   "metadata": {},
   "source": [
    "#### a. Importing:"
   ]
  },
  {
   "cell_type": "code",
   "execution_count": 3,
   "id": "846d6250-0868-4bf2-872f-1d9cdab6b63b",
   "metadata": {
    "execution": {
     "iopub.execute_input": "2022-08-26T16:08:59.524784Z",
     "iopub.status.busy": "2022-08-26T16:08:59.524357Z",
     "iopub.status.idle": "2022-08-26T16:08:59.623308Z",
     "shell.execute_reply": "2022-08-26T16:08:59.622725Z",
     "shell.execute_reply.started": "2022-08-26T16:08:59.524752Z"
    },
    "tags": []
   },
   "outputs": [],
   "source": [
    "spreadsheet_id = \"1sJgHWhQIj5R11XeNAA4gEj426T1OFS15gbu1DQMvlfk\""
   ]
  },
  {
   "cell_type": "markdown",
   "id": "5993311d-8fc1-4ae9-81fd-774b5415feb6",
   "metadata": {},
   "source": [
    "LinkedIn"
   ]
  },
  {
   "cell_type": "code",
   "execution_count": 4,
   "id": "146e5b60-7b01-439a-a9fa-5d036b105585",
   "metadata": {
    "execution": {
     "iopub.execute_input": "2022-08-26T16:08:59.626006Z",
     "iopub.status.busy": "2022-08-26T16:08:59.625812Z",
     "iopub.status.idle": "2022-08-26T16:09:00.311380Z",
     "shell.execute_reply": "2022-08-26T16:09:00.310827Z",
     "shell.execute_reply.started": "2022-08-26T16:08:59.625984Z"
    },
    "tags": []
   },
   "outputs": [
    {
     "name": "stdout",
     "output_type": "stream",
     "text": [
      "number of rows: 70\n"
     ]
    },
    {
     "data": {
      "text/html": [
       "<div>\n",
       "<style scoped>\n",
       "    .dataframe tbody tr th:only-of-type {\n",
       "        vertical-align: middle;\n",
       "    }\n",
       "\n",
       "    .dataframe tbody tr th {\n",
       "        vertical-align: top;\n",
       "    }\n",
       "\n",
       "    .dataframe thead th {\n",
       "        text-align: right;\n",
       "    }\n",
       "</style>\n",
       "<table border=\"1\" class=\"dataframe\">\n",
       "  <thead>\n",
       "    <tr style=\"text-align: right;\">\n",
       "      <th></th>\n",
       "      <th>ENTITY</th>\n",
       "      <th>SCENARIO</th>\n",
       "      <th>X-AXIS</th>\n",
       "      <th>Y-AXIS</th>\n",
       "      <th>VALUE</th>\n",
       "      <th>UNIT</th>\n",
       "    </tr>\n",
       "  </thead>\n",
       "  <tbody>\n",
       "    <tr>\n",
       "      <th>0</th>\n",
       "      <td>All platforms</td>\n",
       "      <td>2022</td>\n",
       "      <td>Actual</td>\n",
       "      <td>Followers</td>\n",
       "      <td>18</td>\n",
       "      <td>%</td>\n",
       "    </tr>\n",
       "  </tbody>\n",
       "</table>\n",
       "</div>"
      ],
      "text/plain": [
       "          ENTITY  SCENARIO  X-AXIS     Y-AXIS VALUE UNIT\n",
       "0  All platforms      2022  Actual  Followers    18    %"
      ]
     },
     "execution_count": 4,
     "metadata": {},
     "output_type": "execute_result"
    }
   ],
   "source": [
    "sheet_name = \"001\"\n",
    "linkedin_df = naas_drivers.gsheet.connect(spreadsheet_id).get(\n",
    "    sheet_name=sheet_name\n",
    ") \n",
    "print(\"number of rows:\", len(linkedin_df))\n",
    "linkedin_df.head(1)"
   ]
  },
  {
   "cell_type": "markdown",
   "id": "84544867-cbfa-4f07-8a9a-9de2dd4a2a63",
   "metadata": {},
   "source": [
    "Youtube"
   ]
  },
  {
   "cell_type": "code",
   "execution_count": 5,
   "id": "f281abfb-ae97-4cbb-ae0b-a116c0e47ffe",
   "metadata": {
    "execution": {
     "iopub.execute_input": "2022-08-26T16:09:00.312715Z",
     "iopub.status.busy": "2022-08-26T16:09:00.312472Z",
     "iopub.status.idle": "2022-08-26T16:09:00.628474Z",
     "shell.execute_reply": "2022-08-26T16:09:00.627781Z",
     "shell.execute_reply.started": "2022-08-26T16:09:00.312685Z"
    },
    "tags": []
   },
   "outputs": [
    {
     "name": "stdout",
     "output_type": "stream",
     "text": [
      "number of rows: 70\n"
     ]
    },
    {
     "data": {
      "text/html": [
       "<div>\n",
       "<style scoped>\n",
       "    .dataframe tbody tr th:only-of-type {\n",
       "        vertical-align: middle;\n",
       "    }\n",
       "\n",
       "    .dataframe tbody tr th {\n",
       "        vertical-align: top;\n",
       "    }\n",
       "\n",
       "    .dataframe thead th {\n",
       "        text-align: right;\n",
       "    }\n",
       "</style>\n",
       "<table border=\"1\" class=\"dataframe\">\n",
       "  <thead>\n",
       "    <tr style=\"text-align: right;\">\n",
       "      <th></th>\n",
       "      <th>ENTITY</th>\n",
       "      <th>SCENARIO</th>\n",
       "      <th>X-AXIS</th>\n",
       "      <th>Y-AXIS</th>\n",
       "      <th>VALUE</th>\n",
       "      <th>UNIT</th>\n",
       "    </tr>\n",
       "  </thead>\n",
       "  <tbody>\n",
       "    <tr>\n",
       "      <th>0</th>\n",
       "      <td>All platforms</td>\n",
       "      <td>2022</td>\n",
       "      <td>Actual</td>\n",
       "      <td>Followers</td>\n",
       "      <td>12</td>\n",
       "      <td>%</td>\n",
       "    </tr>\n",
       "  </tbody>\n",
       "</table>\n",
       "</div>"
      ],
      "text/plain": [
       "          ENTITY  SCENARIO  X-AXIS     Y-AXIS VALUE UNIT\n",
       "0  All platforms      2022  Actual  Followers    12    %"
      ]
     },
     "execution_count": 5,
     "metadata": {},
     "output_type": "execute_result"
    }
   ],
   "source": [
    "sheet_name = \"002\"\n",
    "youtube_df = naas_drivers.gsheet.connect(spreadsheet_id).get(\n",
    "    sheet_name=sheet_name\n",
    ") \n",
    "print(\"number of rows:\", len(youtube_df))\n",
    "youtube_df.head(1)"
   ]
  },
  {
   "cell_type": "markdown",
   "id": "23d11e23-a313-4568-817e-4dbef73c0e43",
   "metadata": {
    "execution": {
     "iopub.execute_input": "2022-08-23T17:30:31.895931Z",
     "iopub.status.busy": "2022-08-23T17:30:31.895666Z",
     "iopub.status.idle": "2022-08-23T17:30:31.948999Z",
     "shell.execute_reply": "2022-08-23T17:30:31.947919Z",
     "shell.execute_reply.started": "2022-08-23T17:30:31.895865Z"
    },
    "tags": []
   },
   "source": [
    "Instagram"
   ]
  },
  {
   "cell_type": "code",
   "execution_count": 6,
   "id": "c34fb331-5a28-441a-aa33-ee7f044817d9",
   "metadata": {
    "execution": {
     "iopub.execute_input": "2022-08-26T16:09:00.629841Z",
     "iopub.status.busy": "2022-08-26T16:09:00.629603Z",
     "iopub.status.idle": "2022-08-26T16:09:00.945268Z",
     "shell.execute_reply": "2022-08-26T16:09:00.944746Z",
     "shell.execute_reply.started": "2022-08-26T16:09:00.629809Z"
    },
    "tags": []
   },
   "outputs": [
    {
     "name": "stdout",
     "output_type": "stream",
     "text": [
      "number of rows: 70\n"
     ]
    },
    {
     "data": {
      "text/html": [
       "<div>\n",
       "<style scoped>\n",
       "    .dataframe tbody tr th:only-of-type {\n",
       "        vertical-align: middle;\n",
       "    }\n",
       "\n",
       "    .dataframe tbody tr th {\n",
       "        vertical-align: top;\n",
       "    }\n",
       "\n",
       "    .dataframe thead th {\n",
       "        text-align: right;\n",
       "    }\n",
       "</style>\n",
       "<table border=\"1\" class=\"dataframe\">\n",
       "  <thead>\n",
       "    <tr style=\"text-align: right;\">\n",
       "      <th></th>\n",
       "      <th>ENTITY</th>\n",
       "      <th>SCENARIO</th>\n",
       "      <th>X-AXIS</th>\n",
       "      <th>Y-AXIS</th>\n",
       "      <th>VALUE</th>\n",
       "      <th>UNIT</th>\n",
       "    </tr>\n",
       "  </thead>\n",
       "  <tbody>\n",
       "    <tr>\n",
       "      <th>0</th>\n",
       "      <td>All platforms</td>\n",
       "      <td>2022</td>\n",
       "      <td>Actual</td>\n",
       "      <td>Followers</td>\n",
       "      <td>12</td>\n",
       "      <td>%</td>\n",
       "    </tr>\n",
       "  </tbody>\n",
       "</table>\n",
       "</div>"
      ],
      "text/plain": [
       "          ENTITY  SCENARIO  X-AXIS     Y-AXIS VALUE UNIT\n",
       "0  All platforms      2022  Actual  Followers    12    %"
      ]
     },
     "execution_count": 6,
     "metadata": {},
     "output_type": "execute_result"
    }
   ],
   "source": [
    "sheet_name = \"003\"\n",
    "instagram_df = naas_drivers.gsheet.connect(spreadsheet_id).get(\n",
    "    sheet_name=sheet_name\n",
    ") \n",
    "print(\"number of rows:\", len(instagram_df))\n",
    "instagram_df.head(1)"
   ]
  },
  {
   "cell_type": "markdown",
   "id": "7d8f5e73-4814-41c1-b29f-41ca08f0586f",
   "metadata": {},
   "source": [
    "Twitter"
   ]
  },
  {
   "cell_type": "code",
   "execution_count": 7,
   "id": "e626a180-6764-4e3c-9a56-a1e5c0279a14",
   "metadata": {
    "execution": {
     "iopub.execute_input": "2022-08-26T16:09:00.948608Z",
     "iopub.status.busy": "2022-08-26T16:09:00.948437Z",
     "iopub.status.idle": "2022-08-26T16:09:01.271569Z",
     "shell.execute_reply": "2022-08-26T16:09:01.271045Z",
     "shell.execute_reply.started": "2022-08-26T16:09:00.948587Z"
    },
    "tags": []
   },
   "outputs": [
    {
     "name": "stdout",
     "output_type": "stream",
     "text": [
      "number of rows: 70\n"
     ]
    },
    {
     "data": {
      "text/html": [
       "<div>\n",
       "<style scoped>\n",
       "    .dataframe tbody tr th:only-of-type {\n",
       "        vertical-align: middle;\n",
       "    }\n",
       "\n",
       "    .dataframe tbody tr th {\n",
       "        vertical-align: top;\n",
       "    }\n",
       "\n",
       "    .dataframe thead th {\n",
       "        text-align: right;\n",
       "    }\n",
       "</style>\n",
       "<table border=\"1\" class=\"dataframe\">\n",
       "  <thead>\n",
       "    <tr style=\"text-align: right;\">\n",
       "      <th></th>\n",
       "      <th>ENTITY</th>\n",
       "      <th>SCENARIO</th>\n",
       "      <th>X-AXIS</th>\n",
       "      <th>Y-AXIS</th>\n",
       "      <th>VALUE</th>\n",
       "      <th>UNIT</th>\n",
       "    </tr>\n",
       "  </thead>\n",
       "  <tbody>\n",
       "    <tr>\n",
       "      <th>0</th>\n",
       "      <td>All platforms</td>\n",
       "      <td>2022</td>\n",
       "      <td>Actual</td>\n",
       "      <td>Followers</td>\n",
       "      <td>12</td>\n",
       "      <td>%</td>\n",
       "    </tr>\n",
       "  </tbody>\n",
       "</table>\n",
       "</div>"
      ],
      "text/plain": [
       "          ENTITY  SCENARIO  X-AXIS     Y-AXIS VALUE UNIT\n",
       "0  All platforms      2022  Actual  Followers    12    %"
      ]
     },
     "execution_count": 7,
     "metadata": {},
     "output_type": "execute_result"
    }
   ],
   "source": [
    "sheet_name = \"004\"\n",
    "twitter_df = naas_drivers.gsheet.connect(spreadsheet_id).get(\n",
    "    sheet_name=sheet_name\n",
    ") \n",
    "print(\"number of rows:\", len(twitter_df))\n",
    "twitter_df.head(1)"
   ]
  },
  {
   "cell_type": "markdown",
   "id": "31ac32b2-d914-493d-a4c2-7252a683b035",
   "metadata": {},
   "source": [
    "#### b. Manipulation:"
   ]
  },
  {
   "cell_type": "code",
   "execution_count": 8,
   "id": "8eb6ed08-01c9-4cdd-8d1a-082c136bf5c0",
   "metadata": {
    "execution": {
     "iopub.execute_input": "2022-08-26T16:09:01.274344Z",
     "iopub.status.busy": "2022-08-26T16:09:01.274169Z",
     "iopub.status.idle": "2022-08-26T16:09:01.280671Z",
     "shell.execute_reply": "2022-08-26T16:09:01.280176Z",
     "shell.execute_reply.started": "2022-08-26T16:09:01.274323Z"
    },
    "tags": []
   },
   "outputs": [],
   "source": [
    "def update_data(df_init):\n",
    "    # Drop duplicates\n",
    "    df = df_init.copy()\n",
    "    df = df.drop_duplicates()\n",
    "\n",
    "    # Pivot \n",
    "    df = pd.pivot(df, index=['Y-AXIS', 'SCENARIO'], values='VALUE', columns='X-AXIS')\n",
    "    df.loc[:, \"SCENARIO\"] = df.index.get_level_values(1)\n",
    "    df.loc[:, \"Y-AXIS\"] = df.index.get_level_values(0)\n",
    "    df = df.reset_index(drop=True)\n",
    "    \n",
    "    df = df.reindex(columns = ['Y-AXIS','Actual','Target','To Target','Prev Period', 'To Previous','SCENARIO'])\n",
    "    df.rename(columns={'Y-AXIS': ''}, inplace=True)\n",
    "    return df "
   ]
  },
  {
   "cell_type": "code",
   "execution_count": 9,
   "id": "91f43904-0a8c-44b9-b514-49d81c3ec59d",
   "metadata": {
    "execution": {
     "iopub.execute_input": "2022-08-26T16:09:01.283191Z",
     "iopub.status.busy": "2022-08-26T16:09:01.283018Z",
     "iopub.status.idle": "2022-08-26T16:09:01.443807Z",
     "shell.execute_reply": "2022-08-26T16:09:01.443133Z",
     "shell.execute_reply.started": "2022-08-26T16:09:01.283171Z"
    },
    "tags": []
   },
   "outputs": [],
   "source": [
    "linkedin_dff = update_data(linkedin_df)\n",
    "youtube_dff = update_data(youtube_df)\n",
    "instagram_dff = update_data(instagram_df)\n",
    "twitter_dff = update_data(twitter_df)"
   ]
  },
  {
   "cell_type": "code",
   "execution_count": 10,
   "id": "35d6063f-dc24-45f5-b521-a31fc9cc2a20",
   "metadata": {
    "execution": {
     "iopub.execute_input": "2022-08-26T16:09:01.445047Z",
     "iopub.status.busy": "2022-08-26T16:09:01.444820Z",
     "iopub.status.idle": "2022-08-26T16:09:01.539329Z",
     "shell.execute_reply": "2022-08-26T16:09:01.538723Z",
     "shell.execute_reply.started": "2022-08-26T16:09:01.445017Z"
    },
    "tags": []
   },
   "outputs": [
    {
     "data": {
      "text/plain": [
       "[{'id': '', 'name': ''},\n",
       " {'id': 'Actual', 'name': 'Actual'},\n",
       " {'id': 'Target', 'name': 'Target'},\n",
       " {'id': 'To Target', 'name': 'To Target'},\n",
       " {'id': 'Prev Period', 'name': 'Prev Period'},\n",
       " {'id': 'To Previous', 'name': 'To Previous'}]"
      ]
     },
     "execution_count": 10,
     "metadata": {},
     "output_type": "execute_result"
    }
   ],
   "source": [
    "table_columns = [{'id': c, 'name': c} for c in linkedin_dff.iloc[:, 0:6].columns]\n",
    "table_columns"
   ]
  },
  {
   "cell_type": "markdown",
   "id": "0d47a1da-f78f-4d97-9c12-a2673bbab9b3",
   "metadata": {},
   "source": [
    "### 2. Dropdown menus:"
   ]
  },
  {
   "cell_type": "code",
   "execution_count": 11,
   "id": "dede27dc-8c3b-4a79-8462-b55166814748",
   "metadata": {
    "execution": {
     "iopub.execute_input": "2022-08-26T16:09:01.540447Z",
     "iopub.status.busy": "2022-08-26T16:09:01.540240Z",
     "iopub.status.idle": "2022-08-26T16:09:01.631585Z",
     "shell.execute_reply": "2022-08-26T16:09:01.630856Z",
     "shell.execute_reply.started": "2022-08-26T16:09:01.540421Z"
    },
    "tags": []
   },
   "outputs": [],
   "source": [
    "entities = [\n",
    "    \"All Platforms\",\n",
    "    \"Linkedin\",\n",
    "    \"Youtube\",\n",
    "    \"Instagram\",\n",
    "    \"Twitter\"\n",
    "]\n",
    "\n",
    "scenarios = [\n",
    "    \"2022\",\n",
    "    \"2021\",\n",
    "    \"2020\",\n",
    "]\n",
    "\n",
    "dropdown_entity = dcc.Dropdown(\n",
    "    id='entity',\n",
    "    options=[{'label': i, 'value': i} for i in entities],\n",
    "    placeholder='Entity',\n",
    "    value=entities[0],\n",
    "    style={\n",
    "        \"text-align\": \"center\",\n",
    "    }\n",
    ")\n",
    "\n",
    "dropdown_scenario = dcc.Dropdown(\n",
    "    id='scenario',\n",
    "    options=[{'label': i, 'value': i} for i in scenarios],\n",
    "    placeholder='Scenario',\n",
    "    value=scenarios[0],\n",
    "    style={\n",
    "        \"text-align\": \"center\",\n",
    "    }\n",
    ")"
   ]
  },
  {
   "cell_type": "markdown",
   "id": "98a1a137-101e-48e3-92df-6ac0b86ad7e2",
   "metadata": {},
   "source": [
    "### 3. Navbar:"
   ]
  },
  {
   "cell_type": "code",
   "execution_count": 12,
   "id": "c36a54f6-b2d5-46d7-9d0b-7b8dbf0346fe",
   "metadata": {
    "execution": {
     "iopub.execute_input": "2022-08-26T16:09:01.633182Z",
     "iopub.status.busy": "2022-08-26T16:09:01.632932Z",
     "iopub.status.idle": "2022-08-26T16:09:01.729592Z",
     "shell.execute_reply": "2022-08-26T16:09:01.728982Z",
     "shell.execute_reply.started": "2022-08-26T16:09:01.633152Z"
    },
    "tags": []
   },
   "outputs": [],
   "source": [
    "navbar = dbc.Navbar(\n",
    "    dbc.Container(\n",
    "        [\n",
    "            html.A(\n",
    "                # Use row and col to control vertical alignment of logo / brand\n",
    "                dbc.Row(\n",
    "                    [\n",
    "                        #dbc.Col(html.Img(src=APP_LOGO, height=\"30px\")),\n",
    "                        dbc.Col(dbc.NavbarBrand(\"Social Media KPIs\", className=\"ms-2\")),\n",
    "                    ],\n",
    "                    align=\"center\",\n",
    "                    className=\"g-0\",\n",
    "                ),\n",
    "                href=\"https://mobile.twitter.com/ws_room/photo\",\n",
    "                style={\"textDecoration\": \"none\"},\n",
    "            ),\n",
    "            dbc.NavbarToggler(id=\"navbar-toggler\", n_clicks=0),\n",
    "            dbc.Collapse(\n",
    "                dbc.Nav(\n",
    "                    [\n",
    "                        html.Div(\n",
    "                            [\n",
    "                                html.Div(className=\"w-100\"),\n",
    "                                html.Div(className=\"w-100\"),\n",
    "                                html.Div(dropdown_entity, className=\"w-100\"),\n",
    "                                html.Div(dropdown_scenario, className=\"w-100\")\n",
    "                            ],\n",
    "                            className=\"pt-1 pb-1 d-grid gap-2 d-md-flex w-100\")\n",
    "\n",
    "                    ],\n",
    "                    className=\"ms-auto w-100\",\n",
    "                    navbar=True,\n",
    "                ),\n",
    "                id=\"navbar-collapse\",\n",
    "                navbar=True,\n",
    "                is_open=False,\n",
    "            ),\n",
    "        ],\n",
    "    ),\n",
    "    color=\"dark\",\n",
    "    dark=True,\n",
    ")"
   ]
  },
  {
   "cell_type": "markdown",
   "id": "d6b1817a-824f-4411-9851-9f53b723999d",
   "metadata": {},
   "source": [
    "### 4. Cards:"
   ]
  },
  {
   "cell_type": "markdown",
   "id": "96fcc4d0-f6c4-408e-8e31-5664ced52d28",
   "metadata": {},
   "source": [
    "#### a. Logos:"
   ]
  },
  {
   "cell_type": "code",
   "execution_count": 13,
   "id": "e5e1de31-c069-4a68-bec0-6af04ad4e59b",
   "metadata": {
    "execution": {
     "iopub.execute_input": "2022-08-26T16:09:01.732879Z",
     "iopub.status.busy": "2022-08-26T16:09:01.732609Z",
     "iopub.status.idle": "2022-08-26T16:09:01.814938Z",
     "shell.execute_reply": "2022-08-26T16:09:01.814146Z",
     "shell.execute_reply.started": "2022-08-26T16:09:01.732856Z"
    },
    "tags": []
   },
   "outputs": [],
   "source": [
    "facebook_logo = \"https://public.naas.ai/aXNtYWlsY2hpaGFiNzEtNDBnbWFpbC0yRWNvbQ==/asset/0606284b644f3027729e6458673533626294714b23c87a4dc586f3788267.png\"\n",
    "instagram_logo = \"https://public.naas.ai/aXNtYWlsY2hpaGFiNzEtNDBnbWFpbC0yRWNvbQ==/asset/063fd6d5f4bcf0333e24bc9df3e27ff0ac94d87cb3f49deb618e136a2820.png\"\n",
    "twitter_logo = \"https://public.naas.ai/aXNtYWlsY2hpaGFiNzEtNDBnbWFpbC0yRWNvbQ==/asset/6971c34213c7a79bcb5a9583ca77762bf09c84edc942e1d792db2baab22d.png\"\n",
    "youtube_logo = \"https://public.naas.ai/aXNtYWlsY2hpaGFiNzEtNDBnbWFpbC0yRWNvbQ==/asset/1c8d463751a136a2cdead2a0e8c663b1fa19bb623e1d2b8874c17cf6bb96.png\""
   ]
  },
  {
   "cell_type": "markdown",
   "id": "b2403c52-bf74-4549-9202-56142fa2cb7c",
   "metadata": {},
   "source": [
    "#### b. Navbars:"
   ]
  },
  {
   "cell_type": "markdown",
   "id": "189f6ab4-ffc1-4eb1-8363-893cc05010c9",
   "metadata": {},
   "source": [
    "Function:"
   ]
  },
  {
   "cell_type": "code",
   "execution_count": 14,
   "id": "99ba1004-2947-44b8-8cae-5e97a6d0a212",
   "metadata": {
    "execution": {
     "iopub.execute_input": "2022-08-26T16:09:01.816638Z",
     "iopub.status.busy": "2022-08-26T16:09:01.816334Z",
     "iopub.status.idle": "2022-08-26T16:09:01.904101Z",
     "shell.execute_reply": "2022-08-26T16:09:01.903524Z",
     "shell.execute_reply.started": "2022-08-26T16:09:01.816591Z"
    },
    "tags": []
   },
   "outputs": [],
   "source": [
    "def inner_navbar(platform_name, logo, brand_hex_color): \n",
    "    inner_navbar = dbc.Navbar(\n",
    "            dbc.Container(\n",
    "                [\n",
    "                    html.A(\n",
    "                        # Use row and col to control vertical alignment of logo / brand\n",
    "                        dbc.Row(\n",
    "                            [\n",
    "                                dbc.Col(html.Img(src=logo, height=\"30px\")),\n",
    "                                dbc.Col(dbc.NavbarBrand(platform_name, className=\"ms-2\")),\n",
    "                            ],\n",
    "                            align=\"center\",\n",
    "                            className=\"g-0\",\n",
    "                        ),\n",
    "                        style={\"textDecoration\": \"none\"},\n",
    "                    )\n",
    "                ]\n",
    "            ),\n",
    "            color=str(brand_hex_color),\n",
    "            dark=True,\n",
    "        )\n",
    "    return inner_navbar"
   ]
  },
  {
   "cell_type": "markdown",
   "id": "678f515a-dd6e-4e80-a344-e0b87cd1fac3",
   "metadata": {},
   "source": [
    "Navbar for the cards:"
   ]
  },
  {
   "cell_type": "code",
   "execution_count": 15,
   "id": "9594d8d7-6222-4f77-be9b-bd0ab2fe0615",
   "metadata": {
    "execution": {
     "iopub.execute_input": "2022-08-26T16:09:01.905503Z",
     "iopub.status.busy": "2022-08-26T16:09:01.905153Z",
     "iopub.status.idle": "2022-08-26T16:09:02.014485Z",
     "shell.execute_reply": "2022-08-26T16:09:02.013858Z",
     "shell.execute_reply.started": "2022-08-26T16:09:01.905471Z"
    },
    "tags": []
   },
   "outputs": [],
   "source": [
    "Facebook_navbar =  inner_navbar(\"LinkedIn\", facebook_logo, \"#4267B2\")\n",
    "Instagram_navbar =  inner_navbar(\"Instagram\", instagram_logo, \"#ed5a9c\")\n",
    "Twitter_navbar =  inner_navbar(\"Twitter\", twitter_logo, \"#6cd5f7\")\n",
    "Youtube_navbar =  inner_navbar(\"Youtube\", youtube_logo, \"#ed494a\")"
   ]
  },
  {
   "cell_type": "markdown",
   "id": "431dd0c8-bfcb-4916-b8d5-dd4c3bd9d80b",
   "metadata": {},
   "source": [
    "#### c. Table:"
   ]
  },
  {
   "cell_type": "markdown",
   "id": "dadad617-7d47-4128-be5f-3c5d88c84163",
   "metadata": {},
   "source": [
    "Function:"
   ]
  },
  {
   "cell_type": "code",
   "execution_count": 16,
   "id": "6eef9f83-3ccd-450f-8f55-31967578a77b",
   "metadata": {
    "execution": {
     "iopub.execute_input": "2022-08-26T16:09:02.017694Z",
     "iopub.status.busy": "2022-08-26T16:09:02.017417Z",
     "iopub.status.idle": "2022-08-26T16:09:02.118558Z",
     "shell.execute_reply": "2022-08-26T16:09:02.117952Z",
     "shell.execute_reply.started": "2022-08-26T16:09:02.017629Z"
    },
    "tags": []
   },
   "outputs": [],
   "source": [
    "def create_table(df, table_id):    \n",
    "    table = dash_table.DataTable( \n",
    "        id=table_id,\n",
    "        data=df.to_dict('records'),\n",
    "        columns=table_columns,\n",
    "        \n",
    "        # Style\n",
    "        style_data={\n",
    "             'whiteSpace': 'normal',\n",
    "             'height':'16px',\n",
    "             'lineHeight': '13px',\n",
    "             'border': '7px solid white'\n",
    "         },\n",
    "        style_cell_conditional=[\n",
    "            {\n",
    "                'if': {'column_id': ''},\n",
    "                'textAlign': 'left',\n",
    "                'width': '150px'\n",
    "            },\n",
    "            {\n",
    "                'if': {'column_id': 'Actual'},\n",
    "             'width': '150px'\n",
    "            }, \n",
    "             {\n",
    "                 'if': {'column_id': 'Target'},\n",
    "              'width': '150px'\n",
    "             },\n",
    "             {\n",
    "                 'if': {'column_id': 'To Target'},\n",
    "              'width': '150px'\n",
    "             },\n",
    "             {\n",
    "                 'if': {'column_id': 'Prev Period'},\n",
    "              'width': '150px'\n",
    "             },\n",
    "             {\n",
    "                 'if': {'column_id': 'To Previous'},\n",
    "              'width': '150px'\n",
    "             },\n",
    "        ],\n",
    "\n",
    "        style_data_conditional=([\n",
    "             {\n",
    "              'if': {\n",
    "                  'column_id': 'Target', \n",
    "              },  \n",
    "              'backgroundColor': '#f9f9f9',\n",
    "              'color': 'black'\n",
    "            },\n",
    "            {\n",
    "              'if': {\n",
    "                  'column_id': 'Prev Period', \n",
    "              },  \n",
    "              'backgroundColor': '#f9f9f9',\n",
    "              'color': 'black'\n",
    "            },\n",
    "            {\n",
    "              'if': {\n",
    "                  'filter_query': '{To Target} < 0',\n",
    "                  'column_id': 'To Target', \n",
    "              },  \n",
    "              'backgroundColor': '#ebc7c3',\n",
    "              'color': '#cf8076'\n",
    "            },\n",
    "            {\n",
    "              'if': {\n",
    "                  'filter_query': '{To Target} >= 0',\n",
    "                  'column_id': 'To Target', \n",
    "              },  \n",
    "              'backgroundColor': '#d5e6d1',\n",
    "              'color': 'rgba(146,170,107,255)'\n",
    "            },\n",
    "            {\n",
    "              'if': {\n",
    "                  'filter_query': '{To Previous} < 0',\n",
    "                  'column_id': 'To Previous', \n",
    "              },  \n",
    "              'backgroundColor': '#ebc7c3',\n",
    "              'color': '#cf8076'\n",
    "            },\n",
    "            {\n",
    "              'if': {\n",
    "                  'filter_query': '{To Previous} >= 0',\n",
    "                  'column_id': 'To Previous', \n",
    "              },  \n",
    "              'backgroundColor': '#d5e6d1',\n",
    "              'color': '#92aa6b'\n",
    "            },\n",
    "\n",
    "        ]),\n",
    "\n",
    "        style_table={\n",
    "            'overflowX':'scroll',\n",
    "        },\n",
    "        style_cell={\n",
    "            'padding': '5px',\n",
    "            'textAlign': 'center',\n",
    "            'font-family':'sans-serif'\n",
    "\n",
    "        },\n",
    "        style_header={\n",
    "            'backgroundColor': 'white',\n",
    "            'fontWeight': 'bold',\n",
    "            'border': '7px solid white'\n",
    "\n",
    "        },\n",
    "        #style_as_list_view=True,\n",
    "    )\n",
    "    return table"
   ]
  },
  {
   "cell_type": "markdown",
   "id": "426babb1-6532-4745-8bfb-285dc2baaecc",
   "metadata": {},
   "source": [
    "#### d. Cards:"
   ]
  },
  {
   "cell_type": "markdown",
   "id": "94bbe5cf-d41e-407b-b532-6ebe0dd228e4",
   "metadata": {},
   "source": [
    "Function:"
   ]
  },
  {
   "cell_type": "code",
   "execution_count": 17,
   "id": "5785af54-0060-4e84-b1b8-d5147a8559a9",
   "metadata": {
    "execution": {
     "iopub.execute_input": "2022-08-26T16:09:02.121520Z",
     "iopub.status.busy": "2022-08-26T16:09:02.121343Z",
     "iopub.status.idle": "2022-08-26T16:09:02.221483Z",
     "shell.execute_reply": "2022-08-26T16:09:02.220920Z",
     "shell.execute_reply.started": "2022-08-26T16:09:02.121500Z"
    },
    "tags": []
   },
   "outputs": [],
   "source": [
    "def inner_card(navbar, df, uid):\n",
    "    card = dbc.Card(\n",
    "        dbc.CardBody(\n",
    "            [\n",
    "                navbar,\n",
    "                create_table(df, uid),\n",
    "\n",
    "            ]\n",
    "        ),\n",
    "    )\n",
    "    return card"
   ]
  },
  {
   "cell_type": "markdown",
   "id": "fe51e12d-2de8-4966-80cc-8a819f7558f2",
   "metadata": {},
   "source": [
    "### 5. Layout:"
   ]
  },
  {
   "cell_type": "code",
   "execution_count": 18,
   "id": "ba882506-f482-4af8-bdea-eeec882bea38",
   "metadata": {
    "execution": {
     "iopub.execute_input": "2022-08-26T16:09:02.223339Z",
     "iopub.status.busy": "2022-08-26T16:09:02.223160Z",
     "iopub.status.idle": "2022-08-26T16:09:02.342506Z",
     "shell.execute_reply": "2022-08-26T16:09:02.341948Z",
     "shell.execute_reply.started": "2022-08-26T16:09:02.223319Z"
    },
    "tags": []
   },
   "outputs": [],
   "source": [
    "app = dash.Dash(\n",
    "    requests_pathname_prefix=f'/user/{os.environ.get(\"JUPYTERHUB_USER\")}/proxy/{DASH_PORT}/', \n",
    "    external_stylesheets=[dbc.themes.BOOTSTRAP],\n",
    "    meta_tags=[\n",
    "        {\n",
    "            'name':'viewport',\n",
    "            'content': 'width=device-width, initial-scale=1.0'\n",
    "        }\n",
    "    ]\n",
    ")\n",
    "\n",
    "app.layout = html.Div(\n",
    "    [\n",
    "        #Navbar:\n",
    "        navbar,\n",
    "        \n",
    "        #The page content:\n",
    "        dbc.Container(\n",
    "            [\n",
    "                html.Br(),\n",
    "                dbc.Row(\n",
    "                    [\n",
    "                        dbc.Col(\n",
    "                            [\n",
    "                                inner_card(Facebook_navbar, linkedin_dff, \"linkedin_table\"),\n",
    "                            ], \n",
    "                            xs=12, sm=12, md=12, lg=6, xl=6\n",
    "                        ),\n",
    "                        dbc.Col(\n",
    "                            [\n",
    "                                inner_card(Instagram_navbar, youtube_dff, \"youtube_table\"),\n",
    "                            ], \n",
    "                            xs=12, sm=12, md=12, lg=6, xl=6\n",
    "                        )\n",
    "                        ]),\n",
    "                dbc.Row(\n",
    "                    [\n",
    "                        dbc.Col(\n",
    "                            [\n",
    "                                inner_card(Twitter_navbar, instagram_dff, \"instagram_table\"),\n",
    "                            ],\n",
    "                            xs=12, sm=12, md=12, lg=6, xl=6),\n",
    "                        dbc.Col(\n",
    "                            [\n",
    "                                inner_card(Youtube_navbar, twitter_dff, \"twitter_table\"),\n",
    "                            ],\n",
    "                            xs=12, sm=12, md=12, lg=6, xl=6\n",
    "                        )\n",
    "                    ]\n",
    "                )\n",
    "            ]\n",
    "        )\n",
    "    ]\n",
    ")"
   ]
  },
  {
   "cell_type": "markdown",
   "id": "72ac35e8-7d13-4e64-a698-761dc3e008ed",
   "metadata": {},
   "source": [
    "### 6. Callbacks:"
   ]
  },
  {
   "cell_type": "code",
   "execution_count": 19,
   "id": "01c74d4b-274f-4b56-8093-b424f7b5b643",
   "metadata": {
    "execution": {
     "iopub.execute_input": "2022-08-26T16:09:02.345844Z",
     "iopub.status.busy": "2022-08-26T16:09:02.345675Z",
     "iopub.status.idle": "2022-08-26T16:09:02.439099Z",
     "shell.execute_reply": "2022-08-26T16:09:02.438486Z",
     "shell.execute_reply.started": "2022-08-26T16:09:02.345825Z"
    },
    "tags": []
   },
   "outputs": [],
   "source": [
    "# add callback for toggling the collapse on small screens\n",
    "@app.callback(\n",
    "    Output(\"navbar-collapse\", \"is_open\"),\n",
    "    [Input(\"navbar-toggler\", \"n_clicks\")],\n",
    "    [State(\"navbar-collapse\", \"is_open\")],\n",
    ")\n",
    "def toggle_navbar_collapse(n, is_open):\n",
    "    if n:\n",
    "        return not is_open\n",
    "    return is_open\n",
    "\n",
    "@app.callback(\n",
    "    [Output('linkedin_table', 'data'),\n",
    "     Output('youtube_table', 'data'),\n",
    "     Output('instagram_table', 'data'),\n",
    "     Output('twitter_table', 'data')],\n",
    "    [\n",
    "        Input('entity', 'value'),\n",
    "        Input('scenario', 'value')\n",
    "    ]\n",
    "    \n",
    ")\n",
    "\n",
    "def multi_outputs(entity, scenario):\n",
    "    if entity is None and scenario is None:\n",
    "        raise PreventUpdate\n",
    "        \n",
    "    # Get dataframes\n",
    "    lk_df = linkedin_dff.copy()\n",
    "    yt_df = youtube_dff.copy()\n",
    "    ig_df = instagram_dff.copy()\n",
    "    tit_df = twitter_dff.copy()\n",
    "    # Create tables\n",
    "    if str(scenario) == '2021':\n",
    "        lk_df = lk_df[lk_df['SCENARIO'] == 2021]\n",
    "        yt_df = yt_df[yt_df['SCENARIO'] == 2021]\n",
    "        ig_df = ig_df[ig_df['SCENARIO'] == 2021]\n",
    "        tit_df = tit_df[tit_df['SCENARIO'] == 2021]\n",
    "        \n",
    "    elif str(scenario) =='2022':\n",
    "        lk_df = lk_df[lk_df['SCENARIO'] == 2022]\n",
    "        yt_df = yt_df[yt_df['SCENARIO'] == 2022]\n",
    "        ig_df = ig_df[ig_df['SCENARIO'] == 2022]\n",
    "        tit_df = tit_df[tit_df['SCENARIO'] == 2022]\n",
    "    elif str(scenario) =='2020':\n",
    "        lk_df = lk_df[lk_df['SCENARIO'] == 2020]\n",
    "        yt_df = yt_df[yt_df['SCENARIO'] == 2020]\n",
    "        ig_df = ig_df[ig_df['SCENARIO'] == 2020]\n",
    "        tit_df = tit_df[tit_df['SCENARIO'] == 2020]\n",
    "    #Drop the SCENARIO column\n",
    "    lk_df.drop(['SCENARIO'], axis = 1, inplace = True) \n",
    "    yt_df.drop(['SCENARIO'], axis = 1, inplace = True)  \n",
    "    ig_df.drop(['SCENARIO'], axis = 1, inplace = True) \n",
    "    tit_df.drop(['SCENARIO'], axis = 1, inplace = True) \n",
    "    #Create dictionaries\n",
    "    lk_table = lk_df.to_dict('records')\n",
    "    yt_table = yt_df.to_dict('records')\n",
    "    ig_table = ig_df.to_dict('records')\n",
    "    tit_table = tit_df.to_dict('records')\n",
    "    \n",
    "    return lk_table, yt_table, ig_table, tit_table\n"
   ]
  },
  {
   "cell_type": "markdown",
   "id": "f3e0f900-5b58-4012-8e70-695594dcd372",
   "metadata": {
    "execution": {
     "iopub.execute_input": "2021-07-02T23:32:10.789097Z",
     "iopub.status.busy": "2021-07-02T23:32:10.788829Z",
     "iopub.status.idle": "2021-07-02T23:32:10.796900Z",
     "shell.execute_reply": "2021-07-02T23:32:10.796358Z",
     "shell.execute_reply.started": "2021-07-02T23:32:10.789033Z"
    },
    "papermill": {},
    "tags": []
   },
   "source": [
    "## Output"
   ]
  },
  {
   "cell_type": "markdown",
   "id": "74eb5829-9e0e-4a3c-9ba7-b33efdbf3b83",
   "metadata": {},
   "source": [
    "### Generate URL and show logs"
   ]
  },
  {
   "cell_type": "code",
   "execution_count": 20,
   "id": "35e8c988-8d11-477a-8ac5-5095465825f1",
   "metadata": {
    "execution": {
     "iopub.execute_input": "2022-08-26T16:09:02.442294Z",
     "iopub.status.busy": "2022-08-26T16:09:02.442090Z",
     "iopub.status.idle": "2022-08-26T16:10:37.338733Z",
     "shell.execute_reply": "2022-08-26T16:10:37.338045Z",
     "shell.execute_reply.started": "2022-08-26T16:09:02.442273Z"
    },
    "papermill": {},
    "tags": []
   },
   "outputs": [
    {
     "name": "stdout",
     "output_type": "stream",
     "text": [
      "Dash is running on https://app.naas.ai/user/ismailchihab71@gmail.com/proxy/8050/\n",
      "\n",
      "\u001b[31m\u001b[1mWARNING: This is a development server. Do not use it in a production deployment. Use a production WSGI server instead.\u001b[0m\n",
      " * Serving Flask app '__main__'\n",
      " * Debug mode: off\n"
     ]
    },
    {
     "name": "stderr",
     "output_type": "stream",
     "text": [
      " * Running on http://127.0.0.1:8050 (Press CTRL+C to quit)\n",
      "127.0.0.1 - - [26/Aug/2022 18:09:05] \"GET / HTTP/1.1\" 200 -\n",
      "127.0.0.1 - - [26/Aug/2022 18:09:05] \"GET /_dash-dependencies HTTP/1.1\" 200 -\n",
      "127.0.0.1 - - [26/Aug/2022 18:09:05] \"GET /_dash-layout HTTP/1.1\" 200 -\n",
      "127.0.0.1 - - [26/Aug/2022 18:09:05] \"GET /_favicon.ico?v=2.6.1 HTTP/1.1\" 200 -\n",
      "127.0.0.1 - - [26/Aug/2022 18:09:05] \"GET /_dash-component-suites/dash/dcc/async-dropdown.js HTTP/1.1\" 200 -\n",
      "127.0.0.1 - - [26/Aug/2022 18:09:05] \"GET /_dash-component-suites/dash/dash_table/async-highlight.js HTTP/1.1\" 200 -\n",
      "127.0.0.1 - - [26/Aug/2022 18:09:05] \"GET /_dash-component-suites/dash/dash_table/async-table.js HTTP/1.1\" 200 -\n",
      "127.0.0.1 - - [26/Aug/2022 18:09:05] \"POST /_dash-update-component HTTP/1.1\" 200 -\n",
      "127.0.0.1 - - [26/Aug/2022 18:09:05] \"POST /_dash-update-component HTTP/1.1\" 200 -\n",
      "127.0.0.1 - - [26/Aug/2022 18:09:10] \"POST /_dash-update-component HTTP/1.1\" 200 -\n",
      "127.0.0.1 - - [26/Aug/2022 18:09:22] \"POST /_dash-update-component HTTP/1.1\" 200 -\n",
      "127.0.0.1 - - [26/Aug/2022 18:09:25] \"POST /_dash-update-component HTTP/1.1\" 200 -\n"
     ]
    }
   ],
   "source": [
    "if __name__ == '__main__':\n",
    "    app.run_server(proxy=f\"http://127.0.0.1:{DASH_PORT}::https://app.naas.ai\")"
   ]
  }
 ],
 "metadata": {
  "kernelspec": {
   "display_name": "Python 3",
   "language": "python",
   "name": "python3"
  },
  "language_info": {
   "codemirror_mode": {
    "name": "ipython",
    "version": 3
   },
   "file_extension": ".py",
   "mimetype": "text/x-python",
   "name": "python",
   "nbconvert_exporter": "python",
   "pygments_lexer": "ipython3",
   "version": "3.9.6"
  }
 },
 "nbformat": 4,
 "nbformat_minor": 5
}
