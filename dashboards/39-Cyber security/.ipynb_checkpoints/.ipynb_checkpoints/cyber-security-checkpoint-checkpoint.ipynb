{
 "cells": [
  {
   "cell_type": "markdown",
   "id": "latin-packing",
   "metadata": {
    "execution": {
     "iopub.execute_input": "2021-02-23T14:22:16.610471Z",
     "iopub.status.busy": "2021-02-23T14:22:16.610129Z",
     "iopub.status.idle": "2021-02-23T14:22:16.627784Z",
     "shell.execute_reply": "2021-02-23T14:22:16.626866Z",
     "shell.execute_reply.started": "2021-02-23T14:22:16.610384Z"
    },
    "papermill": {},
    "tags": []
   },
   "source": [
    "<img width=\"10%\" alt=\"Naas\" src=\"https://landen.imgix.net/jtci2pxwjczr/assets/5ice39g4.png?w=160\"/>"
   ]
  },
  {
   "cell_type": "markdown",
   "id": "compressed-wilson",
   "metadata": {
    "papermill": {},
    "tags": []
   },
   "source": [
    "# Cyber security Dashboard "
   ]
  },
  {
   "cell_type": "markdown",
   "id": "religious-programmer",
   "metadata": {
    "papermill": {},
    "tags": []
   },
   "source": [
    "**Tags:** #dashboard #plotly #dash #naas #asset #automation #ai #analytics"
   ]
  },
  {
   "cell_type": "markdown",
   "id": "1fe9f56e-561c-4f52-aef8-b861c9462107",
   "metadata": {
    "papermill": {},
    "tags": []
   },
   "source": [
    "**Author:** [Firstname Name](/)"
   ]
  },
  {
   "cell_type": "markdown",
   "id": "31ea7cdb-e10d-43fc-b026-f69249a59736",
   "metadata": {
    "papermill": {},
    "tags": []
   },
   "source": [
    "This notebook enables you to generate a dashboard to follow the world situation."
   ]
  },
  {
   "cell_type": "markdown",
   "id": "distinguished-truth",
   "metadata": {
    "papermill": {},
    "tags": []
   },
   "source": [
    "## Input"
   ]
  },
  {
   "cell_type": "markdown",
   "id": "f5d505b9-238e-4704-ba8f-16dea3af15e5",
   "metadata": {
    "papermill": {},
    "tags": []
   },
   "source": [
    "### Install packages"
   ]
  },
  {
   "cell_type": "code",
   "execution_count": 1,
   "id": "7b6cda7a-77c6-464c-bdef-cfcaebe83255",
   "metadata": {
    "execution": {
     "iopub.execute_input": "2022-08-08T12:17:36.817921Z",
     "iopub.status.busy": "2022-08-08T12:17:36.817668Z",
     "iopub.status.idle": "2022-08-08T12:17:36.821174Z",
     "shell.execute_reply": "2022-08-08T12:17:36.820620Z",
     "shell.execute_reply.started": "2022-08-08T12:17:36.817851Z"
    },
    "papermill": {},
    "tags": []
   },
   "outputs": [],
   "source": [
    "#!pip install dash   \n",
    "#!pip install dash-html-components                                         \n",
    "#!pip install dash-core-components                                     \n",
    "#!pip install plotly"
   ]
  },
  {
   "cell_type": "markdown",
   "id": "numeric-mediterranean",
   "metadata": {
    "papermill": {},
    "tags": []
   },
   "source": [
    "### Import library"
   ]
  },
  {
   "cell_type": "code",
   "execution_count": 42,
   "id": "potential-surfing",
   "metadata": {
    "execution": {
     "iopub.execute_input": "2022-08-08T19:50:55.411894Z",
     "iopub.status.busy": "2022-08-08T19:50:55.411590Z",
     "iopub.status.idle": "2022-08-08T19:50:55.419550Z",
     "shell.execute_reply": "2022-08-08T19:50:55.418821Z",
     "shell.execute_reply.started": "2022-08-08T19:50:55.411863Z"
    },
    "papermill": {},
    "tags": []
   },
   "outputs": [],
   "source": [
    "import os\n",
    "import naas_drivers\n",
    "import naas\n",
    "import dash\n",
    "from dash import html, dcc, Input, Output, State\n",
    "import dash_bootstrap_components as dbc\n",
    "import plotly.graph_objects as go\n",
    "import plotly.express as px\n",
    "from dash_bootstrap_components._components.Container import Container\n",
    "import pandas as pd\n",
    "from plotly.subplots import make_subplots\n"
   ]
  },
  {
   "cell_type": "markdown",
   "id": "aggressive-trustee",
   "metadata": {
    "papermill": {},
    "tags": []
   },
   "source": [
    "### Defining the port of the dashboard"
   ]
  },
  {
   "cell_type": "code",
   "execution_count": 19,
   "id": "continuous-melbourne",
   "metadata": {
    "execution": {
     "iopub.execute_input": "2022-08-08T19:37:02.970126Z",
     "iopub.status.busy": "2022-08-08T19:37:02.969850Z",
     "iopub.status.idle": "2022-08-08T19:37:02.972907Z",
     "shell.execute_reply": "2022-08-08T19:37:02.972227Z",
     "shell.execute_reply.started": "2022-08-08T19:37:02.970100Z"
    },
    "papermill": {},
    "tags": []
   },
   "outputs": [],
   "source": [
    "DASH_PORT = 8050"
   ]
  },
  {
   "cell_type": "markdown",
   "id": "d32dd999-e7f9-4332-b145-933fbc678caf",
   "metadata": {},
   "source": [
    "### Input data from Gsheets"
   ]
  },
  {
   "cell_type": "code",
   "execution_count": 4,
   "id": "d86a116f-97b6-4fc8-9a26-10415562a635",
   "metadata": {
    "execution": {
     "iopub.execute_input": "2022-08-08T12:17:38.323909Z",
     "iopub.status.busy": "2022-08-08T12:17:38.323740Z",
     "iopub.status.idle": "2022-08-08T12:17:38.420081Z",
     "shell.execute_reply": "2022-08-08T12:17:38.419473Z",
     "shell.execute_reply.started": "2022-08-08T12:17:38.323891Z"
    },
    "tags": []
   },
   "outputs": [],
   "source": [
    "spreadsheet_id = \"1yi0qzuUEnE9wMWWQFIVq5Uou8ChxFqF0MMqFM5FtVIM\""
   ]
  },
  {
   "cell_type": "markdown",
   "id": "registered-showcase",
   "metadata": {
    "papermill": {},
    "tags": []
   },
   "source": [
    "## Model"
   ]
  },
  {
   "cell_type": "markdown",
   "id": "f6558026-6566-4b4d-ab74-a5eec170f57b",
   "metadata": {},
   "source": [
    "### Data"
   ]
  },
  {
   "cell_type": "markdown",
   "id": "aac432b4-bbe6-402b-85d0-3461b3ec0ee3",
   "metadata": {},
   "source": [
    "#### Highlighted KPIs"
   ]
  },
  {
   "cell_type": "code",
   "execution_count": 5,
   "id": "2537c49b-e1f7-4115-97ba-3ef1cba717c0",
   "metadata": {
    "execution": {
     "iopub.execute_input": "2022-08-08T12:17:38.421410Z",
     "iopub.status.busy": "2022-08-08T12:17:38.421148Z",
     "iopub.status.idle": "2022-08-08T12:17:39.563063Z",
     "shell.execute_reply": "2022-08-08T12:17:39.562396Z",
     "shell.execute_reply.started": "2022-08-08T12:17:38.421381Z"
    },
    "tags": []
   },
   "outputs": [],
   "source": [
    "# Dataframe is returned\n",
    "df_hkpis = naas_drivers.gsheet.connect(spreadsheet_id).get(\n",
    "    sheet_name=\"KPIS\"\n",
    ")"
   ]
  },
  {
   "cell_type": "markdown",
   "id": "9baacf1d-7dbd-4398-8f63-9de552af0043",
   "metadata": {
    "papermill": {},
    "tags": []
   },
   "source": [
    "#### Earth Overshoot Day"
   ]
  },
  {
   "cell_type": "code",
   "execution_count": 6,
   "id": "c7bb0592-3522-49e7-be1f-e4706dd18b8a",
   "metadata": {
    "execution": {
     "iopub.execute_input": "2022-08-08T12:17:39.567641Z",
     "iopub.status.busy": "2022-08-08T12:17:39.563939Z",
     "iopub.status.idle": "2022-08-08T12:17:39.570387Z",
     "shell.execute_reply": "2022-08-08T12:17:39.569789Z",
     "shell.execute_reply.started": "2022-08-08T12:17:39.567615Z"
    },
    "papermill": {},
    "tags": []
   },
   "outputs": [],
   "source": [
    "def overshootday():\n",
    "\n",
    "    return fig  \n"
   ]
  },
  {
   "cell_type": "markdown",
   "id": "dbab68a6-4016-4ded-b06b-98a7db5be0cf",
   "metadata": {
    "papermill": {},
    "tags": []
   },
   "source": [
    "#### Land and Ocean Temperature"
   ]
  },
  {
   "cell_type": "code",
   "execution_count": 7,
   "id": "8618936c-99f6-4512-a406-22ebba6313c3",
   "metadata": {
    "execution": {
     "iopub.execute_input": "2022-08-08T12:17:39.572946Z",
     "iopub.status.busy": "2022-08-08T12:17:39.572471Z",
     "iopub.status.idle": "2022-08-08T12:17:39.675206Z",
     "shell.execute_reply": "2022-08-08T12:17:39.674651Z",
     "shell.execute_reply.started": "2022-08-08T12:17:39.572916Z"
    },
    "papermill": {},
    "tags": []
   },
   "outputs": [],
   "source": [
    "def landoceantemp():\n",
    "\n",
    "    return fig  \n"
   ]
  },
  {
   "cell_type": "markdown",
   "id": "2cd237ee-e609-4858-ade6-be26c5f6718e",
   "metadata": {
    "papermill": {},
    "tags": []
   },
   "source": [
    "#### Energy consumption by source"
   ]
  },
  {
   "cell_type": "code",
   "execution_count": 8,
   "id": "122d8c69-d7a3-424b-9891-1f7daf076686",
   "metadata": {
    "execution": {
     "iopub.execute_input": "2022-08-08T12:17:39.678663Z",
     "iopub.status.busy": "2022-08-08T12:17:39.678488Z",
     "iopub.status.idle": "2022-08-08T12:17:39.785806Z",
     "shell.execute_reply": "2022-08-08T12:17:39.785208Z",
     "shell.execute_reply.started": "2022-08-08T12:17:39.678644Z"
    },
    "papermill": {},
    "tags": []
   },
   "outputs": [],
   "source": [
    "def energyconsumption():\n",
    "\n",
    "    return fig  \n"
   ]
  },
  {
   "cell_type": "markdown",
   "id": "014478b7-31c9-42d0-a31a-d82399ff138b",
   "metadata": {
    "papermill": {},
    "tags": []
   },
   "source": [
    "#### Threaten species"
   ]
  },
  {
   "cell_type": "code",
   "execution_count": 9,
   "id": "644b8945-a727-4fb9-8aaf-aed4cbe6991d",
   "metadata": {
    "execution": {
     "iopub.execute_input": "2022-08-08T12:17:39.787406Z",
     "iopub.status.busy": "2022-08-08T12:17:39.787213Z",
     "iopub.status.idle": "2022-08-08T12:17:39.884832Z",
     "shell.execute_reply": "2022-08-08T12:17:39.884245Z",
     "shell.execute_reply.started": "2022-08-08T12:17:39.787386Z"
    },
    "papermill": {},
    "tags": []
   },
   "outputs": [],
   "source": [
    "def threatenspecies():\n",
    "\n",
    "    return fig  \n"
   ]
  },
  {
   "cell_type": "markdown",
   "id": "694d36c0-625e-4440-b9a2-7db31cc3225b",
   "metadata": {
    "papermill": {},
    "tags": []
   },
   "source": [
    "#### Per Capita emissions"
   ]
  },
  {
   "cell_type": "code",
   "execution_count": 10,
   "id": "cbab4704-3d9d-4ab0-8d02-8af65596ffc4",
   "metadata": {
    "execution": {
     "iopub.execute_input": "2022-08-08T12:17:39.886124Z",
     "iopub.status.busy": "2022-08-08T12:17:39.885896Z",
     "iopub.status.idle": "2022-08-08T12:17:39.989648Z",
     "shell.execute_reply": "2022-08-08T12:17:39.988630Z",
     "shell.execute_reply.started": "2022-08-08T12:17:39.886097Z"
    },
    "papermill": {},
    "tags": []
   },
   "outputs": [],
   "source": [
    "def percapitaemissions():\n",
    "\n",
    "    return fig  \n"
   ]
  },
  {
   "cell_type": "markdown",
   "id": "1b3ee868-5b56-42d5-8d27-5a8eb0ea794f",
   "metadata": {
    "papermill": {},
    "tags": []
   },
   "source": [
    "#### Estimated annual world water use"
   ]
  },
  {
   "cell_type": "code",
   "execution_count": 11,
   "id": "36bbcb02-f28f-477e-9f2a-491fc039cb7e",
   "metadata": {
    "execution": {
     "iopub.execute_input": "2022-08-08T12:17:39.993380Z",
     "iopub.status.busy": "2022-08-08T12:17:39.993100Z",
     "iopub.status.idle": "2022-08-08T12:17:40.101752Z",
     "shell.execute_reply": "2022-08-08T12:17:40.098949Z",
     "shell.execute_reply.started": "2022-08-08T12:17:39.993349Z"
    },
    "papermill": {},
    "tags": []
   },
   "outputs": [],
   "source": [
    "def annualwateruse():\n",
    "\n",
    "    return fig  \n"
   ]
  },
  {
   "cell_type": "markdown",
   "id": "07490f8f-58dc-49e2-a532-dba238982af3",
   "metadata": {},
   "source": [
    "#### Barline "
   ]
  },
  {
   "cell_type": "code",
   "execution_count": 109,
   "id": "709fa16a-9431-4ff8-a5a4-7fb2e38d519b",
   "metadata": {
    "execution": {
     "iopub.execute_input": "2022-08-08T20:29:26.904810Z",
     "iopub.status.busy": "2022-08-08T20:29:26.904576Z",
     "iopub.status.idle": "2022-08-08T20:29:26.948483Z",
     "shell.execute_reply": "2022-08-08T20:29:26.947832Z",
     "shell.execute_reply.started": "2022-08-08T20:29:26.904787Z"
    },
    "tags": []
   },
   "outputs": [
    {
     "data": {
      "application/vnd.plotly.v1+json": {
       "config": {
        "plotlyServerURL": "https://plot.ly"
       },
       "data": [
        {
         "marker": {
          "color": "#ADD8E6"
         },
         "showlegend": false,
         "type": "bar",
         "x": [
          "202201",
          "202202",
          "202203",
          "202204",
          "202205"
         ],
         "xaxis": "x",
         "y": [
          130,
          50,
          10,
          10,
          80
         ],
         "yaxis": "y"
        },
        {
         "line": {
          "color": "#0A66C2",
          "width": 2.5
         },
         "mode": "lines",
         "showlegend": false,
         "type": "scatter",
         "x": [
          "202201",
          "202202",
          "202203",
          "202204",
          "202205"
         ],
         "xaxis": "x",
         "y": [
          130,
          180,
          190,
          200,
          280
         ],
         "yaxis": "y2"
        }
       ],
       "layout": {
        "autosize": true,
        "legend": {},
        "paper_bgcolor": "white",
        "plot_bgcolor": "#ffffff",
        "template": {
         "data": {
          "bar": [
           {
            "error_x": {
             "color": "#2a3f5f"
            },
            "error_y": {
             "color": "#2a3f5f"
            },
            "marker": {
             "line": {
              "color": "#E5ECF6",
              "width": 0.5
             },
             "pattern": {
              "fillmode": "overlay",
              "size": 10,
              "solidity": 0.2
             }
            },
            "type": "bar"
           }
          ],
          "barpolar": [
           {
            "marker": {
             "line": {
              "color": "#E5ECF6",
              "width": 0.5
             },
             "pattern": {
              "fillmode": "overlay",
              "size": 10,
              "solidity": 0.2
             }
            },
            "type": "barpolar"
           }
          ],
          "carpet": [
           {
            "aaxis": {
             "endlinecolor": "#2a3f5f",
             "gridcolor": "white",
             "linecolor": "white",
             "minorgridcolor": "white",
             "startlinecolor": "#2a3f5f"
            },
            "baxis": {
             "endlinecolor": "#2a3f5f",
             "gridcolor": "white",
             "linecolor": "white",
             "minorgridcolor": "white",
             "startlinecolor": "#2a3f5f"
            },
            "type": "carpet"
           }
          ],
          "choropleth": [
           {
            "colorbar": {
             "outlinewidth": 0,
             "ticks": ""
            },
            "type": "choropleth"
           }
          ],
          "contour": [
           {
            "colorbar": {
             "outlinewidth": 0,
             "ticks": ""
            },
            "colorscale": [
             [
              0,
              "#0d0887"
             ],
             [
              0.1111111111111111,
              "#46039f"
             ],
             [
              0.2222222222222222,
              "#7201a8"
             ],
             [
              0.3333333333333333,
              "#9c179e"
             ],
             [
              0.4444444444444444,
              "#bd3786"
             ],
             [
              0.5555555555555556,
              "#d8576b"
             ],
             [
              0.6666666666666666,
              "#ed7953"
             ],
             [
              0.7777777777777778,
              "#fb9f3a"
             ],
             [
              0.8888888888888888,
              "#fdca26"
             ],
             [
              1,
              "#f0f921"
             ]
            ],
            "type": "contour"
           }
          ],
          "contourcarpet": [
           {
            "colorbar": {
             "outlinewidth": 0,
             "ticks": ""
            },
            "type": "contourcarpet"
           }
          ],
          "heatmap": [
           {
            "colorbar": {
             "outlinewidth": 0,
             "ticks": ""
            },
            "colorscale": [
             [
              0,
              "#0d0887"
             ],
             [
              0.1111111111111111,
              "#46039f"
             ],
             [
              0.2222222222222222,
              "#7201a8"
             ],
             [
              0.3333333333333333,
              "#9c179e"
             ],
             [
              0.4444444444444444,
              "#bd3786"
             ],
             [
              0.5555555555555556,
              "#d8576b"
             ],
             [
              0.6666666666666666,
              "#ed7953"
             ],
             [
              0.7777777777777778,
              "#fb9f3a"
             ],
             [
              0.8888888888888888,
              "#fdca26"
             ],
             [
              1,
              "#f0f921"
             ]
            ],
            "type": "heatmap"
           }
          ],
          "heatmapgl": [
           {
            "colorbar": {
             "outlinewidth": 0,
             "ticks": ""
            },
            "colorscale": [
             [
              0,
              "#0d0887"
             ],
             [
              0.1111111111111111,
              "#46039f"
             ],
             [
              0.2222222222222222,
              "#7201a8"
             ],
             [
              0.3333333333333333,
              "#9c179e"
             ],
             [
              0.4444444444444444,
              "#bd3786"
             ],
             [
              0.5555555555555556,
              "#d8576b"
             ],
             [
              0.6666666666666666,
              "#ed7953"
             ],
             [
              0.7777777777777778,
              "#fb9f3a"
             ],
             [
              0.8888888888888888,
              "#fdca26"
             ],
             [
              1,
              "#f0f921"
             ]
            ],
            "type": "heatmapgl"
           }
          ],
          "histogram": [
           {
            "marker": {
             "pattern": {
              "fillmode": "overlay",
              "size": 10,
              "solidity": 0.2
             }
            },
            "type": "histogram"
           }
          ],
          "histogram2d": [
           {
            "colorbar": {
             "outlinewidth": 0,
             "ticks": ""
            },
            "colorscale": [
             [
              0,
              "#0d0887"
             ],
             [
              0.1111111111111111,
              "#46039f"
             ],
             [
              0.2222222222222222,
              "#7201a8"
             ],
             [
              0.3333333333333333,
              "#9c179e"
             ],
             [
              0.4444444444444444,
              "#bd3786"
             ],
             [
              0.5555555555555556,
              "#d8576b"
             ],
             [
              0.6666666666666666,
              "#ed7953"
             ],
             [
              0.7777777777777778,
              "#fb9f3a"
             ],
             [
              0.8888888888888888,
              "#fdca26"
             ],
             [
              1,
              "#f0f921"
             ]
            ],
            "type": "histogram2d"
           }
          ],
          "histogram2dcontour": [
           {
            "colorbar": {
             "outlinewidth": 0,
             "ticks": ""
            },
            "colorscale": [
             [
              0,
              "#0d0887"
             ],
             [
              0.1111111111111111,
              "#46039f"
             ],
             [
              0.2222222222222222,
              "#7201a8"
             ],
             [
              0.3333333333333333,
              "#9c179e"
             ],
             [
              0.4444444444444444,
              "#bd3786"
             ],
             [
              0.5555555555555556,
              "#d8576b"
             ],
             [
              0.6666666666666666,
              "#ed7953"
             ],
             [
              0.7777777777777778,
              "#fb9f3a"
             ],
             [
              0.8888888888888888,
              "#fdca26"
             ],
             [
              1,
              "#f0f921"
             ]
            ],
            "type": "histogram2dcontour"
           }
          ],
          "mesh3d": [
           {
            "colorbar": {
             "outlinewidth": 0,
             "ticks": ""
            },
            "type": "mesh3d"
           }
          ],
          "parcoords": [
           {
            "line": {
             "colorbar": {
              "outlinewidth": 0,
              "ticks": ""
             }
            },
            "type": "parcoords"
           }
          ],
          "pie": [
           {
            "automargin": true,
            "type": "pie"
           }
          ],
          "scatter": [
           {
            "fillpattern": {
             "fillmode": "overlay",
             "size": 10,
             "solidity": 0.2
            },
            "type": "scatter"
           }
          ],
          "scatter3d": [
           {
            "line": {
             "colorbar": {
              "outlinewidth": 0,
              "ticks": ""
             }
            },
            "marker": {
             "colorbar": {
              "outlinewidth": 0,
              "ticks": ""
             }
            },
            "type": "scatter3d"
           }
          ],
          "scattercarpet": [
           {
            "marker": {
             "colorbar": {
              "outlinewidth": 0,
              "ticks": ""
             }
            },
            "type": "scattercarpet"
           }
          ],
          "scattergeo": [
           {
            "marker": {
             "colorbar": {
              "outlinewidth": 0,
              "ticks": ""
             }
            },
            "type": "scattergeo"
           }
          ],
          "scattergl": [
           {
            "marker": {
             "colorbar": {
              "outlinewidth": 0,
              "ticks": ""
             }
            },
            "type": "scattergl"
           }
          ],
          "scattermapbox": [
           {
            "marker": {
             "colorbar": {
              "outlinewidth": 0,
              "ticks": ""
             }
            },
            "type": "scattermapbox"
           }
          ],
          "scatterpolar": [
           {
            "marker": {
             "colorbar": {
              "outlinewidth": 0,
              "ticks": ""
             }
            },
            "type": "scatterpolar"
           }
          ],
          "scatterpolargl": [
           {
            "marker": {
             "colorbar": {
              "outlinewidth": 0,
              "ticks": ""
             }
            },
            "type": "scatterpolargl"
           }
          ],
          "scatterternary": [
           {
            "marker": {
             "colorbar": {
              "outlinewidth": 0,
              "ticks": ""
             }
            },
            "type": "scatterternary"
           }
          ],
          "surface": [
           {
            "colorbar": {
             "outlinewidth": 0,
             "ticks": ""
            },
            "colorscale": [
             [
              0,
              "#0d0887"
             ],
             [
              0.1111111111111111,
              "#46039f"
             ],
             [
              0.2222222222222222,
              "#7201a8"
             ],
             [
              0.3333333333333333,
              "#9c179e"
             ],
             [
              0.4444444444444444,
              "#bd3786"
             ],
             [
              0.5555555555555556,
              "#d8576b"
             ],
             [
              0.6666666666666666,
              "#ed7953"
             ],
             [
              0.7777777777777778,
              "#fb9f3a"
             ],
             [
              0.8888888888888888,
              "#fdca26"
             ],
             [
              1,
              "#f0f921"
             ]
            ],
            "type": "surface"
           }
          ],
          "table": [
           {
            "cells": {
             "fill": {
              "color": "#EBF0F8"
             },
             "line": {
              "color": "white"
             }
            },
            "header": {
             "fill": {
              "color": "#C8D4E3"
             },
             "line": {
              "color": "white"
             }
            },
            "type": "table"
           }
          ]
         },
         "layout": {
          "annotationdefaults": {
           "arrowcolor": "#2a3f5f",
           "arrowhead": 0,
           "arrowwidth": 1
          },
          "autotypenumbers": "strict",
          "coloraxis": {
           "colorbar": {
            "outlinewidth": 0,
            "ticks": ""
           }
          },
          "colorscale": {
           "diverging": [
            [
             0,
             "#8e0152"
            ],
            [
             0.1,
             "#c51b7d"
            ],
            [
             0.2,
             "#de77ae"
            ],
            [
             0.3,
             "#f1b6da"
            ],
            [
             0.4,
             "#fde0ef"
            ],
            [
             0.5,
             "#f7f7f7"
            ],
            [
             0.6,
             "#e6f5d0"
            ],
            [
             0.7,
             "#b8e186"
            ],
            [
             0.8,
             "#7fbc41"
            ],
            [
             0.9,
             "#4d9221"
            ],
            [
             1,
             "#276419"
            ]
           ],
           "sequential": [
            [
             0,
             "#0d0887"
            ],
            [
             0.1111111111111111,
             "#46039f"
            ],
            [
             0.2222222222222222,
             "#7201a8"
            ],
            [
             0.3333333333333333,
             "#9c179e"
            ],
            [
             0.4444444444444444,
             "#bd3786"
            ],
            [
             0.5555555555555556,
             "#d8576b"
            ],
            [
             0.6666666666666666,
             "#ed7953"
            ],
            [
             0.7777777777777778,
             "#fb9f3a"
            ],
            [
             0.8888888888888888,
             "#fdca26"
            ],
            [
             1,
             "#f0f921"
            ]
           ],
           "sequentialminus": [
            [
             0,
             "#0d0887"
            ],
            [
             0.1111111111111111,
             "#46039f"
            ],
            [
             0.2222222222222222,
             "#7201a8"
            ],
            [
             0.3333333333333333,
             "#9c179e"
            ],
            [
             0.4444444444444444,
             "#bd3786"
            ],
            [
             0.5555555555555556,
             "#d8576b"
            ],
            [
             0.6666666666666666,
             "#ed7953"
            ],
            [
             0.7777777777777778,
             "#fb9f3a"
            ],
            [
             0.8888888888888888,
             "#fdca26"
            ],
            [
             1,
             "#f0f921"
            ]
           ]
          },
          "colorway": [
           "#636efa",
           "#EF553B",
           "#00cc96",
           "#ab63fa",
           "#FFA15A",
           "#19d3f3",
           "#FF6692",
           "#B6E880",
           "#FF97FF",
           "#FECB52"
          ],
          "font": {
           "color": "#2a3f5f"
          },
          "geo": {
           "bgcolor": "white",
           "lakecolor": "white",
           "landcolor": "#E5ECF6",
           "showlakes": true,
           "showland": true,
           "subunitcolor": "white"
          },
          "hoverlabel": {
           "align": "left"
          },
          "hovermode": "closest",
          "mapbox": {
           "style": "light"
          },
          "paper_bgcolor": "white",
          "plot_bgcolor": "#E5ECF6",
          "polar": {
           "angularaxis": {
            "gridcolor": "white",
            "linecolor": "white",
            "ticks": ""
           },
           "bgcolor": "#E5ECF6",
           "radialaxis": {
            "gridcolor": "white",
            "linecolor": "white",
            "ticks": ""
           }
          },
          "scene": {
           "xaxis": {
            "backgroundcolor": "#E5ECF6",
            "gridcolor": "white",
            "gridwidth": 2,
            "linecolor": "white",
            "showbackground": true,
            "ticks": "",
            "zerolinecolor": "white"
           },
           "yaxis": {
            "backgroundcolor": "#E5ECF6",
            "gridcolor": "white",
            "gridwidth": 2,
            "linecolor": "white",
            "showbackground": true,
            "ticks": "",
            "zerolinecolor": "white"
           },
           "zaxis": {
            "backgroundcolor": "#E5ECF6",
            "gridcolor": "white",
            "gridwidth": 2,
            "linecolor": "white",
            "showbackground": true,
            "ticks": "",
            "zerolinecolor": "white"
           }
          },
          "shapedefaults": {
           "line": {
            "color": "#2a3f5f"
           }
          },
          "ternary": {
           "aaxis": {
            "gridcolor": "white",
            "linecolor": "white",
            "ticks": ""
           },
           "baxis": {
            "gridcolor": "white",
            "linecolor": "white",
            "ticks": ""
           },
           "bgcolor": "#E5ECF6",
           "caxis": {
            "gridcolor": "white",
            "linecolor": "white",
            "ticks": ""
           }
          },
          "title": {
           "x": 0.05
          },
          "xaxis": {
           "automargin": true,
           "gridcolor": "white",
           "linecolor": "white",
           "ticks": "",
           "title": {
            "standoff": 15
           },
           "zerolinecolor": "white",
           "zerolinewidth": 2
          },
          "yaxis": {
           "automargin": true,
           "gridcolor": "white",
           "linecolor": "white",
           "ticks": "",
           "title": {
            "standoff": 15
           },
           "zerolinecolor": "white",
           "zerolinewidth": 2
          }
         }
        },
        "title": {
         "font": {
          "color": "black",
          "family": "Arial",
          "size": 18
         },
         "text": "Plotly - Barline chart"
        },
        "xaxis": {
         "anchor": "y",
         "autorange": true,
         "domain": [
          0,
          0.94
         ],
         "range": [
          -0.5,
          4.5
         ],
         "title": {
          "font": {
           "color": "black",
           "family": "Arial",
           "size": 10
          },
          "text": "Months"
         },
         "type": "category"
        },
        "yaxis": {
         "anchor": "x",
         "autorange": true,
         "domain": [
          0,
          1
         ],
         "range": [
          0,
          136.8421052631579
         ],
         "title": {
          "font": {
           "color": "black",
           "family": "Arial",
           "size": 10
          },
          "text": "Variation"
         },
         "type": "linear"
        },
        "yaxis2": {
         "anchor": "x",
         "autorange": true,
         "overlaying": "y",
         "range": [
          121.66666666666667,
          288.3333333333333
         ],
         "side": "right",
         "title": {
          "font": {
           "color": "black",
           "family": "Arial",
           "size": 10
          },
          "text": "Value"
         },
         "type": "linear"
        }
       }
      },
      "image/png": "[encoded data removed]",
      "text/html": [
       "<div>                            <div id=\"540ead2e-4cb6-4e06-8bc5-7e5324d1bfac\" class=\"plotly-graph-div\" style=\"height:525px; width:100%;\"></div>            <script type=\"text/javascript\">                require([\"plotly\"], function(Plotly) {                    window.PLOTLYENV=window.PLOTLYENV || {};                                    if (document.getElementById(\"540ead2e-4cb6-4e06-8bc5-7e5324d1bfac\")) {                    Plotly.newPlot(                        \"540ead2e-4cb6-4e06-8bc5-7e5324d1bfac\",                        [{\"marker\":{\"color\":\"#ADD8E6\"},\"x\":[\"202201\",\"202202\",\"202203\",\"202204\",\"202205\"],\"y\":[130,50,10,10,80],\"type\":\"bar\",\"xaxis\":\"x\",\"yaxis\":\"y\",\"showlegend\":false},{\"line\":{\"color\":\"#0A66C2\",\"width\":2.5},\"mode\":\"lines\",\"x\":[\"202201\",\"202202\",\"202203\",\"202204\",\"202205\"],\"y\":[130,180,190,200,280],\"type\":\"scatter\",\"xaxis\":\"x\",\"yaxis\":\"y2\",\"showlegend\":false}],                        {\"template\":{\"data\":{\"histogram2dcontour\":[{\"type\":\"histogram2dcontour\",\"colorbar\":{\"outlinewidth\":0,\"ticks\":\"\"},\"colorscale\":[[0.0,\"#0d0887\"],[0.1111111111111111,\"#46039f\"],[0.2222222222222222,\"#7201a8\"],[0.3333333333333333,\"#9c179e\"],[0.4444444444444444,\"#bd3786\"],[0.5555555555555556,\"#d8576b\"],[0.6666666666666666,\"#ed7953\"],[0.7777777777777778,\"#fb9f3a\"],[0.8888888888888888,\"#fdca26\"],[1.0,\"#f0f921\"]]}],\"choropleth\":[{\"type\":\"choropleth\",\"colorbar\":{\"outlinewidth\":0,\"ticks\":\"\"}}],\"histogram2d\":[{\"type\":\"histogram2d\",\"colorbar\":{\"outlinewidth\":0,\"ticks\":\"\"},\"colorscale\":[[0.0,\"#0d0887\"],[0.1111111111111111,\"#46039f\"],[0.2222222222222222,\"#7201a8\"],[0.3333333333333333,\"#9c179e\"],[0.4444444444444444,\"#bd3786\"],[0.5555555555555556,\"#d8576b\"],[0.6666666666666666,\"#ed7953\"],[0.7777777777777778,\"#fb9f3a\"],[0.8888888888888888,\"#fdca26\"],[1.0,\"#f0f921\"]]}],\"heatmap\":[{\"type\":\"heatmap\",\"colorbar\":{\"outlinewidth\":0,\"ticks\":\"\"},\"colorscale\":[[0.0,\"#0d0887\"],[0.1111111111111111,\"#46039f\"],[0.2222222222222222,\"#7201a8\"],[0.3333333333333333,\"#9c179e\"],[0.4444444444444444,\"#bd3786\"],[0.5555555555555556,\"#d8576b\"],[0.6666666666666666,\"#ed7953\"],[0.7777777777777778,\"#fb9f3a\"],[0.8888888888888888,\"#fdca26\"],[1.0,\"#f0f921\"]]}],\"heatmapgl\":[{\"type\":\"heatmapgl\",\"colorbar\":{\"outlinewidth\":0,\"ticks\":\"\"},\"colorscale\":[[0.0,\"#0d0887\"],[0.1111111111111111,\"#46039f\"],[0.2222222222222222,\"#7201a8\"],[0.3333333333333333,\"#9c179e\"],[0.4444444444444444,\"#bd3786\"],[0.5555555555555556,\"#d8576b\"],[0.6666666666666666,\"#ed7953\"],[0.7777777777777778,\"#fb9f3a\"],[0.8888888888888888,\"#fdca26\"],[1.0,\"#f0f921\"]]}],\"contourcarpet\":[{\"type\":\"contourcarpet\",\"colorbar\":{\"outlinewidth\":0,\"ticks\":\"\"}}],\"contour\":[{\"type\":\"contour\",\"colorbar\":{\"outlinewidth\":0,\"ticks\":\"\"},\"colorscale\":[[0.0,\"#0d0887\"],[0.1111111111111111,\"#46039f\"],[0.2222222222222222,\"#7201a8\"],[0.3333333333333333,\"#9c179e\"],[0.4444444444444444,\"#bd3786\"],[0.5555555555555556,\"#d8576b\"],[0.6666666666666666,\"#ed7953\"],[0.7777777777777778,\"#fb9f3a\"],[0.8888888888888888,\"#fdca26\"],[1.0,\"#f0f921\"]]}],\"surface\":[{\"type\":\"surface\",\"colorbar\":{\"outlinewidth\":0,\"ticks\":\"\"},\"colorscale\":[[0.0,\"#0d0887\"],[0.1111111111111111,\"#46039f\"],[0.2222222222222222,\"#7201a8\"],[0.3333333333333333,\"#9c179e\"],[0.4444444444444444,\"#bd3786\"],[0.5555555555555556,\"#d8576b\"],[0.6666666666666666,\"#ed7953\"],[0.7777777777777778,\"#fb9f3a\"],[0.8888888888888888,\"#fdca26\"],[1.0,\"#f0f921\"]]}],\"mesh3d\":[{\"type\":\"mesh3d\",\"colorbar\":{\"outlinewidth\":0,\"ticks\":\"\"}}],\"scatter\":[{\"fillpattern\":{\"fillmode\":\"overlay\",\"size\":10,\"solidity\":0.2},\"type\":\"scatter\"}],\"parcoords\":[{\"type\":\"parcoords\",\"line\":{\"colorbar\":{\"outlinewidth\":0,\"ticks\":\"\"}}}],\"scatterpolargl\":[{\"type\":\"scatterpolargl\",\"marker\":{\"colorbar\":{\"outlinewidth\":0,\"ticks\":\"\"}}}],\"bar\":[{\"error_x\":{\"color\":\"#2a3f5f\"},\"error_y\":{\"color\":\"#2a3f5f\"},\"marker\":{\"line\":{\"color\":\"#E5ECF6\",\"width\":0.5},\"pattern\":{\"fillmode\":\"overlay\",\"size\":10,\"solidity\":0.2}},\"type\":\"bar\"}],\"scattergeo\":[{\"type\":\"scattergeo\",\"marker\":{\"colorbar\":{\"outlinewidth\":0,\"ticks\":\"\"}}}],\"scatterpolar\":[{\"type\":\"scatterpolar\",\"marker\":{\"colorbar\":{\"outlinewidth\":0,\"ticks\":\"\"}}}],\"histogram\":[{\"marker\":{\"pattern\":{\"fillmode\":\"overlay\",\"size\":10,\"solidity\":0.2}},\"type\":\"histogram\"}],\"scattergl\":[{\"type\":\"scattergl\",\"marker\":{\"colorbar\":{\"outlinewidth\":0,\"ticks\":\"\"}}}],\"scatter3d\":[{\"type\":\"scatter3d\",\"line\":{\"colorbar\":{\"outlinewidth\":0,\"ticks\":\"\"}},\"marker\":{\"colorbar\":{\"outlinewidth\":0,\"ticks\":\"\"}}}],\"scattermapbox\":[{\"type\":\"scattermapbox\",\"marker\":{\"colorbar\":{\"outlinewidth\":0,\"ticks\":\"\"}}}],\"scatterternary\":[{\"type\":\"scatterternary\",\"marker\":{\"colorbar\":{\"outlinewidth\":0,\"ticks\":\"\"}}}],\"scattercarpet\":[{\"type\":\"scattercarpet\",\"marker\":{\"colorbar\":{\"outlinewidth\":0,\"ticks\":\"\"}}}],\"carpet\":[{\"aaxis\":{\"endlinecolor\":\"#2a3f5f\",\"gridcolor\":\"white\",\"linecolor\":\"white\",\"minorgridcolor\":\"white\",\"startlinecolor\":\"#2a3f5f\"},\"baxis\":{\"endlinecolor\":\"#2a3f5f\",\"gridcolor\":\"white\",\"linecolor\":\"white\",\"minorgridcolor\":\"white\",\"startlinecolor\":\"#2a3f5f\"},\"type\":\"carpet\"}],\"table\":[{\"cells\":{\"fill\":{\"color\":\"#EBF0F8\"},\"line\":{\"color\":\"white\"}},\"header\":{\"fill\":{\"color\":\"#C8D4E3\"},\"line\":{\"color\":\"white\"}},\"type\":\"table\"}],\"barpolar\":[{\"marker\":{\"line\":{\"color\":\"#E5ECF6\",\"width\":0.5},\"pattern\":{\"fillmode\":\"overlay\",\"size\":10,\"solidity\":0.2}},\"type\":\"barpolar\"}],\"pie\":[{\"automargin\":true,\"type\":\"pie\"}]},\"layout\":{\"autotypenumbers\":\"strict\",\"colorway\":[\"#636efa\",\"#EF553B\",\"#00cc96\",\"#ab63fa\",\"#FFA15A\",\"#19d3f3\",\"#FF6692\",\"#B6E880\",\"#FF97FF\",\"#FECB52\"],\"font\":{\"color\":\"#2a3f5f\"},\"hovermode\":\"closest\",\"hoverlabel\":{\"align\":\"left\"},\"paper_bgcolor\":\"white\",\"plot_bgcolor\":\"#E5ECF6\",\"polar\":{\"bgcolor\":\"#E5ECF6\",\"angularaxis\":{\"gridcolor\":\"white\",\"linecolor\":\"white\",\"ticks\":\"\"},\"radialaxis\":{\"gridcolor\":\"white\",\"linecolor\":\"white\",\"ticks\":\"\"}},\"ternary\":{\"bgcolor\":\"#E5ECF6\",\"aaxis\":{\"gridcolor\":\"white\",\"linecolor\":\"white\",\"ticks\":\"\"},\"baxis\":{\"gridcolor\":\"white\",\"linecolor\":\"white\",\"ticks\":\"\"},\"caxis\":{\"gridcolor\":\"white\",\"linecolor\":\"white\",\"ticks\":\"\"}},\"coloraxis\":{\"colorbar\":{\"outlinewidth\":0,\"ticks\":\"\"}},\"colorscale\":{\"sequential\":[[0.0,\"#0d0887\"],[0.1111111111111111,\"#46039f\"],[0.2222222222222222,\"#7201a8\"],[0.3333333333333333,\"#9c179e\"],[0.4444444444444444,\"#bd3786\"],[0.5555555555555556,\"#d8576b\"],[0.6666666666666666,\"#ed7953\"],[0.7777777777777778,\"#fb9f3a\"],[0.8888888888888888,\"#fdca26\"],[1.0,\"#f0f921\"]],\"sequentialminus\":[[0.0,\"#0d0887\"],[0.1111111111111111,\"#46039f\"],[0.2222222222222222,\"#7201a8\"],[0.3333333333333333,\"#9c179e\"],[0.4444444444444444,\"#bd3786\"],[0.5555555555555556,\"#d8576b\"],[0.6666666666666666,\"#ed7953\"],[0.7777777777777778,\"#fb9f3a\"],[0.8888888888888888,\"#fdca26\"],[1.0,\"#f0f921\"]],\"diverging\":[[0,\"#8e0152\"],[0.1,\"#c51b7d\"],[0.2,\"#de77ae\"],[0.3,\"#f1b6da\"],[0.4,\"#fde0ef\"],[0.5,\"#f7f7f7\"],[0.6,\"#e6f5d0\"],[0.7,\"#b8e186\"],[0.8,\"#7fbc41\"],[0.9,\"#4d9221\"],[1,\"#276419\"]]},\"xaxis\":{\"gridcolor\":\"white\",\"linecolor\":\"white\",\"ticks\":\"\",\"title\":{\"standoff\":15},\"zerolinecolor\":\"white\",\"automargin\":true,\"zerolinewidth\":2},\"yaxis\":{\"gridcolor\":\"white\",\"linecolor\":\"white\",\"ticks\":\"\",\"title\":{\"standoff\":15},\"zerolinecolor\":\"white\",\"automargin\":true,\"zerolinewidth\":2},\"scene\":{\"xaxis\":{\"backgroundcolor\":\"#E5ECF6\",\"gridcolor\":\"white\",\"linecolor\":\"white\",\"showbackground\":true,\"ticks\":\"\",\"zerolinecolor\":\"white\",\"gridwidth\":2},\"yaxis\":{\"backgroundcolor\":\"#E5ECF6\",\"gridcolor\":\"white\",\"linecolor\":\"white\",\"showbackground\":true,\"ticks\":\"\",\"zerolinecolor\":\"white\",\"gridwidth\":2},\"zaxis\":{\"backgroundcolor\":\"#E5ECF6\",\"gridcolor\":\"white\",\"linecolor\":\"white\",\"showbackground\":true,\"ticks\":\"\",\"zerolinecolor\":\"white\",\"gridwidth\":2}},\"shapedefaults\":{\"line\":{\"color\":\"#2a3f5f\"}},\"annotationdefaults\":{\"arrowcolor\":\"#2a3f5f\",\"arrowhead\":0,\"arrowwidth\":1},\"geo\":{\"bgcolor\":\"white\",\"landcolor\":\"#E5ECF6\",\"subunitcolor\":\"white\",\"showland\":true,\"showlakes\":true,\"lakecolor\":\"white\"},\"title\":{\"x\":0.05},\"mapbox\":{\"style\":\"light\"}}},\"xaxis\":{\"anchor\":\"y\",\"domain\":[0.0,0.94],\"title\":{\"text\":\"Months\",\"font\":{\"family\":\"Arial\",\"size\":10,\"color\":\"black\"}}},\"yaxis\":{\"anchor\":\"x\",\"domain\":[0.0,1.0],\"title\":{\"font\":{\"family\":\"Arial\",\"size\":10,\"color\":\"black\"},\"text\":\"Variation\"}},\"yaxis2\":{\"anchor\":\"x\",\"overlaying\":\"y\",\"side\":\"right\",\"title\":{\"font\":{\"family\":\"Arial\",\"size\":10,\"color\":\"black\"},\"text\":\"Value\"}},\"title\":{\"text\":\"Plotly - Barline chart\",\"font\":{\"family\":\"Arial\",\"size\":18,\"color\":\"black\"}},\"legend\":{},\"plot_bgcolor\":\"#ffffff\",\"paper_bgcolor\":\"white\"},                        {\"responsive\": true}                    ).then(function(){\n",
       "                            \n",
       "var gd = document.getElementById('540ead2e-4cb6-4e06-8bc5-7e5324d1bfac');\n",
       "var x = new MutationObserver(function (mutations, observer) {{\n",
       "        var display = window.getComputedStyle(gd).display;\n",
       "        if (!display || display === 'none') {{\n",
       "            console.log([gd, 'removed!']);\n",
       "            Plotly.purge(gd);\n",
       "            observer.disconnect();\n",
       "        }}\n",
       "}});\n",
       "\n",
       "// Listen for the removal of the full notebook cells\n",
       "var notebookContainer = gd.closest('#notebook-container');\n",
       "if (notebookContainer) {{\n",
       "    x.observe(notebookContainer, {childList: true});\n",
       "}}\n",
       "\n",
       "// Listen for the clearing of the current output cell\n",
       "var outputEl = gd.closest('.output');\n",
       "if (outputEl) {{\n",
       "    x.observe(outputEl, {childList: true});\n",
       "}}\n",
       "\n",
       "                        })                };                });            </script>        </div>"
      ]
     },
     "metadata": {},
     "output_type": "display_data"
    }
   ],
   "source": [
    "data = [\n",
    "    {\"DATE\": \"202201\", \"VALUE\": 130, \"VARV\": 130},\n",
    "    {\"DATE\": \"202202\", \"VALUE\": 180, \"VARV\": 50},\n",
    "    {\"DATE\": \"202203\", \"VALUE\": 190, \"VARV\": 10},\n",
    "    {\"DATE\": \"202204\", \"VALUE\": 200, \"VARV\": 10},\n",
    "    {\"DATE\": \"202205\", \"VALUE\": 280, \"VARV\": 80},\n",
    "]\n",
    "df = pd.DataFrame(data)\n",
    "df\n",
    "\n",
    "def create_barlinechart(df,\n",
    "                        label=\"DATE\",\n",
    "                        value=\"VALUE\",\n",
    "                        varv=\"VARV\",\n",
    "                        xaxis_title=\"Months\",\n",
    "                        yaxis_title_r=None,\n",
    "                        yaxis_title_l=None):    \n",
    "    # Create figure with secondary y-axis\n",
    "    fig = make_subplots(specs=[[{\"secondary_y\": True}]])\n",
    "\n",
    "    # Add traces\n",
    "    fig.add_trace(\n",
    "        go.Bar(\n",
    "            x=df[label],\n",
    "            y=df[varv],\n",
    "            marker=dict(color=\"#ADD8E6\"),\n",
    "        ),\n",
    "        secondary_y=False,\n",
    "    )\n",
    "    fig.add_trace(\n",
    "        go.Scatter(\n",
    "            x=df[label],\n",
    "            y=df[value],\n",
    "            mode=\"lines\",\n",
    "            line=dict(color=\"#0A66C2\", width=2.5),\n",
    "        ),\n",
    "        secondary_y=True,\n",
    "    )\n",
    "\n",
    "    # Add figure title\n",
    "    fig.update_layout(\n",
    "        title=\"Plotly - Barline chart\",\n",
    "        title_font=dict(family=\"Arial\", size=18, color=\"black\"),\n",
    "        legend=None,\n",
    "        plot_bgcolor=\"#ffffff\",\n",
    "        #width=1200,\n",
    "        #height=800,\n",
    "        paper_bgcolor=\"white\",\n",
    "        xaxis_title=xaxis_title,\n",
    "        xaxis_title_font=dict(family=\"Arial\", size=10, color=\"black\"),\n",
    "    )\n",
    "\n",
    "    # Set y-axes titles\n",
    "    fig.update_yaxes(\n",
    "        title_text=yaxis_title_r,\n",
    "        title_font=dict(family=\"Arial\", size=10, color=\"black\"),\n",
    "        secondary_y=False\n",
    "    )\n",
    "    fig.update_yaxes(\n",
    "        title_text=yaxis_title_l,\n",
    "        title_font=dict(family=\"Arial\", size=10, color=\"black\"),\n",
    "        secondary_y=True\n",
    "    )\n",
    "    fig.update_traces(showlegend=False)\n",
    "    fig.show()\n",
    "    return fig\n",
    "\n",
    "fig = create_barlinechart(df,\n",
    "                          yaxis_title_r=\"Variation\",\n",
    "                          yaxis_title_l=\"Value\")"
   ]
  },
  {
   "cell_type": "markdown",
   "id": "68991f96-e25f-4aa8-8c3c-987f2b555ab3",
   "metadata": {
    "papermill": {},
    "tags": []
   },
   "source": [
    "#### Create Heatmap"
   ]
  },
  {
   "cell_type": "code",
   "execution_count": 171,
   "id": "a259a043-42c5-4614-9785-0db262b285c0",
   "metadata": {
    "execution": {
     "iopub.execute_input": "2022-08-08T21:36:04.355503Z",
     "iopub.status.busy": "2022-08-08T21:36:04.355278Z",
     "iopub.status.idle": "2022-08-08T21:36:04.403990Z",
     "shell.execute_reply": "2022-08-08T21:36:04.403318Z",
     "shell.execute_reply.started": "2022-08-08T21:36:04.355481Z"
    },
    "papermill": {},
    "tags": []
   },
   "outputs": [
    {
     "data": {
      "application/vnd.plotly.v1+json": {
       "config": {
        "displayModeBar": false,
        "plotlyServerURL": "https://plot.ly"
       },
       "data": [
        {
         "colorscale": [
          [
           0,
           "#d94228"
          ],
          [
           0.5,
           "#d94228"
          ],
          [
           0.5,
           "#5ee290"
          ],
          [
           1,
           "#5ee290"
          ]
         ],
         "hovertemplate": "Business lines: %{x}<br>Products: %{y}<br>Sales: %{z}<extra></extra>",
         "name": "0",
         "showscale": false,
         "type": "heatmap",
         "x": [
          "Global",
          "Americas",
          "EMEA",
          "Asia",
          "Oceania"
         ],
         "xaxis": "x",
         "xgap": 5,
         "y": [
          "Product 1",
          "Product 2",
          "Product 3",
          "Product 4"
         ],
         "yaxis": "y",
         "ygap": 5,
         "z": [
          [
           54.25,
           65,
           52,
           51,
           49
          ],
          [
           20,
           16,
           60,
           80,
           30
          ],
          [
           30,
           60,
           51,
           59,
           20
          ],
          [
           40,
           30,
           12,
           25,
           20
          ]
         ]
        }
       ],
       "layout": {
        "autosize": true,
        "coloraxis": {
         "colorbar": {
          "title": {
           "text": "Sales"
          }
         },
         "colorscale": [
          [
           0,
           "#0d0887"
          ],
          [
           0.1111111111111111,
           "#46039f"
          ],
          [
           0.2222222222222222,
           "#7201a8"
          ],
          [
           0.3333333333333333,
           "#9c179e"
          ],
          [
           0.4444444444444444,
           "#bd3786"
          ],
          [
           0.5555555555555556,
           "#d8576b"
          ],
          [
           0.6666666666666666,
           "#ed7953"
          ],
          [
           0.7777777777777778,
           "#fb9f3a"
          ],
          [
           0.8888888888888888,
           "#fdca26"
          ],
          [
           1,
           "#f0f921"
          ]
         ]
        },
        "margin": {
         "b": 50,
         "l": 0,
         "r": 0,
         "t": 150
        },
        "template": {
         "data": {
          "bar": [
           {
            "error_x": {
             "color": "#2a3f5f"
            },
            "error_y": {
             "color": "#2a3f5f"
            },
            "marker": {
             "line": {
              "color": "#E5ECF6",
              "width": 0.5
             },
             "pattern": {
              "fillmode": "overlay",
              "size": 10,
              "solidity": 0.2
             }
            },
            "type": "bar"
           }
          ],
          "barpolar": [
           {
            "marker": {
             "line": {
              "color": "#E5ECF6",
              "width": 0.5
             },
             "pattern": {
              "fillmode": "overlay",
              "size": 10,
              "solidity": 0.2
             }
            },
            "type": "barpolar"
           }
          ],
          "carpet": [
           {
            "aaxis": {
             "endlinecolor": "#2a3f5f",
             "gridcolor": "white",
             "linecolor": "white",
             "minorgridcolor": "white",
             "startlinecolor": "#2a3f5f"
            },
            "baxis": {
             "endlinecolor": "#2a3f5f",
             "gridcolor": "white",
             "linecolor": "white",
             "minorgridcolor": "white",
             "startlinecolor": "#2a3f5f"
            },
            "type": "carpet"
           }
          ],
          "choropleth": [
           {
            "colorbar": {
             "outlinewidth": 0,
             "ticks": ""
            },
            "type": "choropleth"
           }
          ],
          "contour": [
           {
            "colorbar": {
             "outlinewidth": 0,
             "ticks": ""
            },
            "colorscale": [
             [
              0,
              "#0d0887"
             ],
             [
              0.1111111111111111,
              "#46039f"
             ],
             [
              0.2222222222222222,
              "#7201a8"
             ],
             [
              0.3333333333333333,
              "#9c179e"
             ],
             [
              0.4444444444444444,
              "#bd3786"
             ],
             [
              0.5555555555555556,
              "#d8576b"
             ],
             [
              0.6666666666666666,
              "#ed7953"
             ],
             [
              0.7777777777777778,
              "#fb9f3a"
             ],
             [
              0.8888888888888888,
              "#fdca26"
             ],
             [
              1,
              "#f0f921"
             ]
            ],
            "type": "contour"
           }
          ],
          "contourcarpet": [
           {
            "colorbar": {
             "outlinewidth": 0,
             "ticks": ""
            },
            "type": "contourcarpet"
           }
          ],
          "heatmap": [
           {
            "colorbar": {
             "outlinewidth": 0,
             "ticks": ""
            },
            "colorscale": [
             [
              0,
              "#0d0887"
             ],
             [
              0.1111111111111111,
              "#46039f"
             ],
             [
              0.2222222222222222,
              "#7201a8"
             ],
             [
              0.3333333333333333,
              "#9c179e"
             ],
             [
              0.4444444444444444,
              "#bd3786"
             ],
             [
              0.5555555555555556,
              "#d8576b"
             ],
             [
              0.6666666666666666,
              "#ed7953"
             ],
             [
              0.7777777777777778,
              "#fb9f3a"
             ],
             [
              0.8888888888888888,
              "#fdca26"
             ],
             [
              1,
              "#f0f921"
             ]
            ],
            "type": "heatmap"
           }
          ],
          "heatmapgl": [
           {
            "colorbar": {
             "outlinewidth": 0,
             "ticks": ""
            },
            "colorscale": [
             [
              0,
              "#0d0887"
             ],
             [
              0.1111111111111111,
              "#46039f"
             ],
             [
              0.2222222222222222,
              "#7201a8"
             ],
             [
              0.3333333333333333,
              "#9c179e"
             ],
             [
              0.4444444444444444,
              "#bd3786"
             ],
             [
              0.5555555555555556,
              "#d8576b"
             ],
             [
              0.6666666666666666,
              "#ed7953"
             ],
             [
              0.7777777777777778,
              "#fb9f3a"
             ],
             [
              0.8888888888888888,
              "#fdca26"
             ],
             [
              1,
              "#f0f921"
             ]
            ],
            "type": "heatmapgl"
           }
          ],
          "histogram": [
           {
            "marker": {
             "pattern": {
              "fillmode": "overlay",
              "size": 10,
              "solidity": 0.2
             }
            },
            "type": "histogram"
           }
          ],
          "histogram2d": [
           {
            "colorbar": {
             "outlinewidth": 0,
             "ticks": ""
            },
            "colorscale": [
             [
              0,
              "#0d0887"
             ],
             [
              0.1111111111111111,
              "#46039f"
             ],
             [
              0.2222222222222222,
              "#7201a8"
             ],
             [
              0.3333333333333333,
              "#9c179e"
             ],
             [
              0.4444444444444444,
              "#bd3786"
             ],
             [
              0.5555555555555556,
              "#d8576b"
             ],
             [
              0.6666666666666666,
              "#ed7953"
             ],
             [
              0.7777777777777778,
              "#fb9f3a"
             ],
             [
              0.8888888888888888,
              "#fdca26"
             ],
             [
              1,
              "#f0f921"
             ]
            ],
            "type": "histogram2d"
           }
          ],
          "histogram2dcontour": [
           {
            "colorbar": {
             "outlinewidth": 0,
             "ticks": ""
            },
            "colorscale": [
             [
              0,
              "#0d0887"
             ],
             [
              0.1111111111111111,
              "#46039f"
             ],
             [
              0.2222222222222222,
              "#7201a8"
             ],
             [
              0.3333333333333333,
              "#9c179e"
             ],
             [
              0.4444444444444444,
              "#bd3786"
             ],
             [
              0.5555555555555556,
              "#d8576b"
             ],
             [
              0.6666666666666666,
              "#ed7953"
             ],
             [
              0.7777777777777778,
              "#fb9f3a"
             ],
             [
              0.8888888888888888,
              "#fdca26"
             ],
             [
              1,
              "#f0f921"
             ]
            ],
            "type": "histogram2dcontour"
           }
          ],
          "mesh3d": [
           {
            "colorbar": {
             "outlinewidth": 0,
             "ticks": ""
            },
            "type": "mesh3d"
           }
          ],
          "parcoords": [
           {
            "line": {
             "colorbar": {
              "outlinewidth": 0,
              "ticks": ""
             }
            },
            "type": "parcoords"
           }
          ],
          "pie": [
           {
            "automargin": true,
            "type": "pie"
           }
          ],
          "scatter": [
           {
            "fillpattern": {
             "fillmode": "overlay",
             "size": 10,
             "solidity": 0.2
            },
            "type": "scatter"
           }
          ],
          "scatter3d": [
           {
            "line": {
             "colorbar": {
              "outlinewidth": 0,
              "ticks": ""
             }
            },
            "marker": {
             "colorbar": {
              "outlinewidth": 0,
              "ticks": ""
             }
            },
            "type": "scatter3d"
           }
          ],
          "scattercarpet": [
           {
            "marker": {
             "colorbar": {
              "outlinewidth": 0,
              "ticks": ""
             }
            },
            "type": "scattercarpet"
           }
          ],
          "scattergeo": [
           {
            "marker": {
             "colorbar": {
              "outlinewidth": 0,
              "ticks": ""
             }
            },
            "type": "scattergeo"
           }
          ],
          "scattergl": [
           {
            "marker": {
             "colorbar": {
              "outlinewidth": 0,
              "ticks": ""
             }
            },
            "type": "scattergl"
           }
          ],
          "scattermapbox": [
           {
            "marker": {
             "colorbar": {
              "outlinewidth": 0,
              "ticks": ""
             }
            },
            "type": "scattermapbox"
           }
          ],
          "scatterpolar": [
           {
            "marker": {
             "colorbar": {
              "outlinewidth": 0,
              "ticks": ""
             }
            },
            "type": "scatterpolar"
           }
          ],
          "scatterpolargl": [
           {
            "marker": {
             "colorbar": {
              "outlinewidth": 0,
              "ticks": ""
             }
            },
            "type": "scatterpolargl"
           }
          ],
          "scatterternary": [
           {
            "marker": {
             "colorbar": {
              "outlinewidth": 0,
              "ticks": ""
             }
            },
            "type": "scatterternary"
           }
          ],
          "surface": [
           {
            "colorbar": {
             "outlinewidth": 0,
             "ticks": ""
            },
            "colorscale": [
             [
              0,
              "#0d0887"
             ],
             [
              0.1111111111111111,
              "#46039f"
             ],
             [
              0.2222222222222222,
              "#7201a8"
             ],
             [
              0.3333333333333333,
              "#9c179e"
             ],
             [
              0.4444444444444444,
              "#bd3786"
             ],
             [
              0.5555555555555556,
              "#d8576b"
             ],
             [
              0.6666666666666666,
              "#ed7953"
             ],
             [
              0.7777777777777778,
              "#fb9f3a"
             ],
             [
              0.8888888888888888,
              "#fdca26"
             ],
             [
              1,
              "#f0f921"
             ]
            ],
            "type": "surface"
           }
          ],
          "table": [
           {
            "cells": {
             "fill": {
              "color": "#EBF0F8"
             },
             "line": {
              "color": "white"
             }
            },
            "header": {
             "fill": {
              "color": "#C8D4E3"
             },
             "line": {
              "color": "white"
             }
            },
            "type": "table"
           }
          ]
         },
         "layout": {
          "annotationdefaults": {
           "arrowcolor": "#2a3f5f",
           "arrowhead": 0,
           "arrowwidth": 1
          },
          "autotypenumbers": "strict",
          "coloraxis": {
           "colorbar": {
            "outlinewidth": 0,
            "ticks": ""
           }
          },
          "colorscale": {
           "diverging": [
            [
             0,
             "#8e0152"
            ],
            [
             0.1,
             "#c51b7d"
            ],
            [
             0.2,
             "#de77ae"
            ],
            [
             0.3,
             "#f1b6da"
            ],
            [
             0.4,
             "#fde0ef"
            ],
            [
             0.5,
             "#f7f7f7"
            ],
            [
             0.6,
             "#e6f5d0"
            ],
            [
             0.7,
             "#b8e186"
            ],
            [
             0.8,
             "#7fbc41"
            ],
            [
             0.9,
             "#4d9221"
            ],
            [
             1,
             "#276419"
            ]
           ],
           "sequential": [
            [
             0,
             "#0d0887"
            ],
            [
             0.1111111111111111,
             "#46039f"
            ],
            [
             0.2222222222222222,
             "#7201a8"
            ],
            [
             0.3333333333333333,
             "#9c179e"
            ],
            [
             0.4444444444444444,
             "#bd3786"
            ],
            [
             0.5555555555555556,
             "#d8576b"
            ],
            [
             0.6666666666666666,
             "#ed7953"
            ],
            [
             0.7777777777777778,
             "#fb9f3a"
            ],
            [
             0.8888888888888888,
             "#fdca26"
            ],
            [
             1,
             "#f0f921"
            ]
           ],
           "sequentialminus": [
            [
             0,
             "#0d0887"
            ],
            [
             0.1111111111111111,
             "#46039f"
            ],
            [
             0.2222222222222222,
             "#7201a8"
            ],
            [
             0.3333333333333333,
             "#9c179e"
            ],
            [
             0.4444444444444444,
             "#bd3786"
            ],
            [
             0.5555555555555556,
             "#d8576b"
            ],
            [
             0.6666666666666666,
             "#ed7953"
            ],
            [
             0.7777777777777778,
             "#fb9f3a"
            ],
            [
             0.8888888888888888,
             "#fdca26"
            ],
            [
             1,
             "#f0f921"
            ]
           ]
          },
          "colorway": [
           "#636efa",
           "#EF553B",
           "#00cc96",
           "#ab63fa",
           "#FFA15A",
           "#19d3f3",
           "#FF6692",
           "#B6E880",
           "#FF97FF",
           "#FECB52"
          ],
          "font": {
           "color": "#2a3f5f"
          },
          "geo": {
           "bgcolor": "white",
           "lakecolor": "white",
           "landcolor": "#E5ECF6",
           "showlakes": true,
           "showland": true,
           "subunitcolor": "white"
          },
          "hoverlabel": {
           "align": "left"
          },
          "hovermode": "closest",
          "mapbox": {
           "style": "light"
          },
          "paper_bgcolor": "white",
          "plot_bgcolor": "#E5ECF6",
          "polar": {
           "angularaxis": {
            "gridcolor": "white",
            "linecolor": "white",
            "ticks": ""
           },
           "bgcolor": "#E5ECF6",
           "radialaxis": {
            "gridcolor": "white",
            "linecolor": "white",
            "ticks": ""
           }
          },
          "scene": {
           "xaxis": {
            "backgroundcolor": "#E5ECF6",
            "gridcolor": "white",
            "gridwidth": 2,
            "linecolor": "white",
            "showbackground": true,
            "ticks": "",
            "zerolinecolor": "white"
           },
           "yaxis": {
            "backgroundcolor": "#E5ECF6",
            "gridcolor": "white",
            "gridwidth": 2,
            "linecolor": "white",
            "showbackground": true,
            "ticks": "",
            "zerolinecolor": "white"
           },
           "zaxis": {
            "backgroundcolor": "#E5ECF6",
            "gridcolor": "white",
            "gridwidth": 2,
            "linecolor": "white",
            "showbackground": true,
            "ticks": "",
            "zerolinecolor": "white"
           }
          },
          "shapedefaults": {
           "line": {
            "color": "#2a3f5f"
           }
          },
          "ternary": {
           "aaxis": {
            "gridcolor": "white",
            "linecolor": "white",
            "ticks": ""
           },
           "baxis": {
            "gridcolor": "white",
            "linecolor": "white",
            "ticks": ""
           },
           "bgcolor": "#E5ECF6",
           "caxis": {
            "gridcolor": "white",
            "linecolor": "white",
            "ticks": ""
           }
          },
          "title": {
           "x": 0.05
          },
          "xaxis": {
           "automargin": true,
           "gridcolor": "white",
           "linecolor": "white",
           "ticks": "",
           "title": {
            "standoff": 15
           },
           "zerolinecolor": "white",
           "zerolinewidth": 2
          },
          "yaxis": {
           "automargin": true,
           "gridcolor": "white",
           "linecolor": "white",
           "ticks": "",
           "title": {
            "standoff": 15
           },
           "zerolinecolor": "white",
           "zerolinewidth": 2
          }
         }
        },
        "title": {
         "text": "Heatmap"
        },
        "xaxis": {
         "anchor": "y",
         "autorange": true,
         "constrain": "domain",
         "domain": [
          0.4095022624434389,
          0.5904977375565611
         ],
         "range": [
          -0.5,
          4.5
         ],
         "scaleanchor": "y",
         "side": "top",
         "title": {
          "text": "Business lines"
         },
         "type": "category"
        },
        "yaxis": {
         "anchor": "x",
         "autorange": true,
         "constrain": "domain",
         "domain": [
          0,
          1
         ],
         "range": [
          3.5,
          -0.5
         ],
         "title": {
          "text": "Products"
         },
         "type": "category"
        }
       }
      },
      "image/png": "[encoded data removed]",
      "text/html": [
       "<div>                            <div id=\"e46d5060-40d2-4ebb-995b-9e5812bdff50\" class=\"plotly-graph-div\" style=\"height:525px; width:100%;\"></div>            <script type=\"text/javascript\">                require([\"plotly\"], function(Plotly) {                    window.PLOTLYENV=window.PLOTLYENV || {};                                    if (document.getElementById(\"e46d5060-40d2-4ebb-995b-9e5812bdff50\")) {                    Plotly.newPlot(                        \"e46d5060-40d2-4ebb-995b-9e5812bdff50\",                        [{\"name\":\"0\",\"x\":[\"Global\",\"Americas\",\"EMEA\",\"Asia\",\"Oceania\"],\"y\":[\"Product 1\",\"Product 2\",\"Product 3\",\"Product 4\"],\"z\":[[54.25,65.0,52.0,51.0,49.0],[20.0,16.0,60.0,80.0,30.0],[30.0,60.0,51.0,59.0,20.0],[40.0,30.0,12.0,25.0,20.0]],\"type\":\"heatmap\",\"xaxis\":\"x\",\"yaxis\":\"y\",\"hovertemplate\":\"Business lines: %{x}<br>Products: %{y}<br>Sales: %{z}<extra></extra>\",\"xgap\":5,\"ygap\":5,\"colorscale\":[[0,\"#d94228\"],[0.5,\"#d94228\"],[0.5,\"#5ee290\"],[1.0,\"#5ee290\"]],\"showscale\":false}],                        {\"template\":{\"data\":{\"histogram2dcontour\":[{\"type\":\"histogram2dcontour\",\"colorbar\":{\"outlinewidth\":0,\"ticks\":\"\"},\"colorscale\":[[0.0,\"#0d0887\"],[0.1111111111111111,\"#46039f\"],[0.2222222222222222,\"#7201a8\"],[0.3333333333333333,\"#9c179e\"],[0.4444444444444444,\"#bd3786\"],[0.5555555555555556,\"#d8576b\"],[0.6666666666666666,\"#ed7953\"],[0.7777777777777778,\"#fb9f3a\"],[0.8888888888888888,\"#fdca26\"],[1.0,\"#f0f921\"]]}],\"choropleth\":[{\"type\":\"choropleth\",\"colorbar\":{\"outlinewidth\":0,\"ticks\":\"\"}}],\"histogram2d\":[{\"type\":\"histogram2d\",\"colorbar\":{\"outlinewidth\":0,\"ticks\":\"\"},\"colorscale\":[[0.0,\"#0d0887\"],[0.1111111111111111,\"#46039f\"],[0.2222222222222222,\"#7201a8\"],[0.3333333333333333,\"#9c179e\"],[0.4444444444444444,\"#bd3786\"],[0.5555555555555556,\"#d8576b\"],[0.6666666666666666,\"#ed7953\"],[0.7777777777777778,\"#fb9f3a\"],[0.8888888888888888,\"#fdca26\"],[1.0,\"#f0f921\"]]}],\"heatmap\":[{\"type\":\"heatmap\",\"colorbar\":{\"outlinewidth\":0,\"ticks\":\"\"},\"colorscale\":[[0.0,\"#0d0887\"],[0.1111111111111111,\"#46039f\"],[0.2222222222222222,\"#7201a8\"],[0.3333333333333333,\"#9c179e\"],[0.4444444444444444,\"#bd3786\"],[0.5555555555555556,\"#d8576b\"],[0.6666666666666666,\"#ed7953\"],[0.7777777777777778,\"#fb9f3a\"],[0.8888888888888888,\"#fdca26\"],[1.0,\"#f0f921\"]]}],\"heatmapgl\":[{\"type\":\"heatmapgl\",\"colorbar\":{\"outlinewidth\":0,\"ticks\":\"\"},\"colorscale\":[[0.0,\"#0d0887\"],[0.1111111111111111,\"#46039f\"],[0.2222222222222222,\"#7201a8\"],[0.3333333333333333,\"#9c179e\"],[0.4444444444444444,\"#bd3786\"],[0.5555555555555556,\"#d8576b\"],[0.6666666666666666,\"#ed7953\"],[0.7777777777777778,\"#fb9f3a\"],[0.8888888888888888,\"#fdca26\"],[1.0,\"#f0f921\"]]}],\"contourcarpet\":[{\"type\":\"contourcarpet\",\"colorbar\":{\"outlinewidth\":0,\"ticks\":\"\"}}],\"contour\":[{\"type\":\"contour\",\"colorbar\":{\"outlinewidth\":0,\"ticks\":\"\"},\"colorscale\":[[0.0,\"#0d0887\"],[0.1111111111111111,\"#46039f\"],[0.2222222222222222,\"#7201a8\"],[0.3333333333333333,\"#9c179e\"],[0.4444444444444444,\"#bd3786\"],[0.5555555555555556,\"#d8576b\"],[0.6666666666666666,\"#ed7953\"],[0.7777777777777778,\"#fb9f3a\"],[0.8888888888888888,\"#fdca26\"],[1.0,\"#f0f921\"]]}],\"surface\":[{\"type\":\"surface\",\"colorbar\":{\"outlinewidth\":0,\"ticks\":\"\"},\"colorscale\":[[0.0,\"#0d0887\"],[0.1111111111111111,\"#46039f\"],[0.2222222222222222,\"#7201a8\"],[0.3333333333333333,\"#9c179e\"],[0.4444444444444444,\"#bd3786\"],[0.5555555555555556,\"#d8576b\"],[0.6666666666666666,\"#ed7953\"],[0.7777777777777778,\"#fb9f3a\"],[0.8888888888888888,\"#fdca26\"],[1.0,\"#f0f921\"]]}],\"mesh3d\":[{\"type\":\"mesh3d\",\"colorbar\":{\"outlinewidth\":0,\"ticks\":\"\"}}],\"scatter\":[{\"fillpattern\":{\"fillmode\":\"overlay\",\"size\":10,\"solidity\":0.2},\"type\":\"scatter\"}],\"parcoords\":[{\"type\":\"parcoords\",\"line\":{\"colorbar\":{\"outlinewidth\":0,\"ticks\":\"\"}}}],\"scatterpolargl\":[{\"type\":\"scatterpolargl\",\"marker\":{\"colorbar\":{\"outlinewidth\":0,\"ticks\":\"\"}}}],\"bar\":[{\"error_x\":{\"color\":\"#2a3f5f\"},\"error_y\":{\"color\":\"#2a3f5f\"},\"marker\":{\"line\":{\"color\":\"#E5ECF6\",\"width\":0.5},\"pattern\":{\"fillmode\":\"overlay\",\"size\":10,\"solidity\":0.2}},\"type\":\"bar\"}],\"scattergeo\":[{\"type\":\"scattergeo\",\"marker\":{\"colorbar\":{\"outlinewidth\":0,\"ticks\":\"\"}}}],\"scatterpolar\":[{\"type\":\"scatterpolar\",\"marker\":{\"colorbar\":{\"outlinewidth\":0,\"ticks\":\"\"}}}],\"histogram\":[{\"marker\":{\"pattern\":{\"fillmode\":\"overlay\",\"size\":10,\"solidity\":0.2}},\"type\":\"histogram\"}],\"scattergl\":[{\"type\":\"scattergl\",\"marker\":{\"colorbar\":{\"outlinewidth\":0,\"ticks\":\"\"}}}],\"scatter3d\":[{\"type\":\"scatter3d\",\"line\":{\"colorbar\":{\"outlinewidth\":0,\"ticks\":\"\"}},\"marker\":{\"colorbar\":{\"outlinewidth\":0,\"ticks\":\"\"}}}],\"scattermapbox\":[{\"type\":\"scattermapbox\",\"marker\":{\"colorbar\":{\"outlinewidth\":0,\"ticks\":\"\"}}}],\"scatterternary\":[{\"type\":\"scatterternary\",\"marker\":{\"colorbar\":{\"outlinewidth\":0,\"ticks\":\"\"}}}],\"scattercarpet\":[{\"type\":\"scattercarpet\",\"marker\":{\"colorbar\":{\"outlinewidth\":0,\"ticks\":\"\"}}}],\"carpet\":[{\"aaxis\":{\"endlinecolor\":\"#2a3f5f\",\"gridcolor\":\"white\",\"linecolor\":\"white\",\"minorgridcolor\":\"white\",\"startlinecolor\":\"#2a3f5f\"},\"baxis\":{\"endlinecolor\":\"#2a3f5f\",\"gridcolor\":\"white\",\"linecolor\":\"white\",\"minorgridcolor\":\"white\",\"startlinecolor\":\"#2a3f5f\"},\"type\":\"carpet\"}],\"table\":[{\"cells\":{\"fill\":{\"color\":\"#EBF0F8\"},\"line\":{\"color\":\"white\"}},\"header\":{\"fill\":{\"color\":\"#C8D4E3\"},\"line\":{\"color\":\"white\"}},\"type\":\"table\"}],\"barpolar\":[{\"marker\":{\"line\":{\"color\":\"#E5ECF6\",\"width\":0.5},\"pattern\":{\"fillmode\":\"overlay\",\"size\":10,\"solidity\":0.2}},\"type\":\"barpolar\"}],\"pie\":[{\"automargin\":true,\"type\":\"pie\"}]},\"layout\":{\"autotypenumbers\":\"strict\",\"colorway\":[\"#636efa\",\"#EF553B\",\"#00cc96\",\"#ab63fa\",\"#FFA15A\",\"#19d3f3\",\"#FF6692\",\"#B6E880\",\"#FF97FF\",\"#FECB52\"],\"font\":{\"color\":\"#2a3f5f\"},\"hovermode\":\"closest\",\"hoverlabel\":{\"align\":\"left\"},\"paper_bgcolor\":\"white\",\"plot_bgcolor\":\"#E5ECF6\",\"polar\":{\"bgcolor\":\"#E5ECF6\",\"angularaxis\":{\"gridcolor\":\"white\",\"linecolor\":\"white\",\"ticks\":\"\"},\"radialaxis\":{\"gridcolor\":\"white\",\"linecolor\":\"white\",\"ticks\":\"\"}},\"ternary\":{\"bgcolor\":\"#E5ECF6\",\"aaxis\":{\"gridcolor\":\"white\",\"linecolor\":\"white\",\"ticks\":\"\"},\"baxis\":{\"gridcolor\":\"white\",\"linecolor\":\"white\",\"ticks\":\"\"},\"caxis\":{\"gridcolor\":\"white\",\"linecolor\":\"white\",\"ticks\":\"\"}},\"coloraxis\":{\"colorbar\":{\"outlinewidth\":0,\"ticks\":\"\"}},\"colorscale\":{\"sequential\":[[0.0,\"#0d0887\"],[0.1111111111111111,\"#46039f\"],[0.2222222222222222,\"#7201a8\"],[0.3333333333333333,\"#9c179e\"],[0.4444444444444444,\"#bd3786\"],[0.5555555555555556,\"#d8576b\"],[0.6666666666666666,\"#ed7953\"],[0.7777777777777778,\"#fb9f3a\"],[0.8888888888888888,\"#fdca26\"],[1.0,\"#f0f921\"]],\"sequentialminus\":[[0.0,\"#0d0887\"],[0.1111111111111111,\"#46039f\"],[0.2222222222222222,\"#7201a8\"],[0.3333333333333333,\"#9c179e\"],[0.4444444444444444,\"#bd3786\"],[0.5555555555555556,\"#d8576b\"],[0.6666666666666666,\"#ed7953\"],[0.7777777777777778,\"#fb9f3a\"],[0.8888888888888888,\"#fdca26\"],[1.0,\"#f0f921\"]],\"diverging\":[[0,\"#8e0152\"],[0.1,\"#c51b7d\"],[0.2,\"#de77ae\"],[0.3,\"#f1b6da\"],[0.4,\"#fde0ef\"],[0.5,\"#f7f7f7\"],[0.6,\"#e6f5d0\"],[0.7,\"#b8e186\"],[0.8,\"#7fbc41\"],[0.9,\"#4d9221\"],[1,\"#276419\"]]},\"xaxis\":{\"gridcolor\":\"white\",\"linecolor\":\"white\",\"ticks\":\"\",\"title\":{\"standoff\":15},\"zerolinecolor\":\"white\",\"automargin\":true,\"zerolinewidth\":2},\"yaxis\":{\"gridcolor\":\"white\",\"linecolor\":\"white\",\"ticks\":\"\",\"title\":{\"standoff\":15},\"zerolinecolor\":\"white\",\"automargin\":true,\"zerolinewidth\":2},\"scene\":{\"xaxis\":{\"backgroundcolor\":\"#E5ECF6\",\"gridcolor\":\"white\",\"linecolor\":\"white\",\"showbackground\":true,\"ticks\":\"\",\"zerolinecolor\":\"white\",\"gridwidth\":2},\"yaxis\":{\"backgroundcolor\":\"#E5ECF6\",\"gridcolor\":\"white\",\"linecolor\":\"white\",\"showbackground\":true,\"ticks\":\"\",\"zerolinecolor\":\"white\",\"gridwidth\":2},\"zaxis\":{\"backgroundcolor\":\"#E5ECF6\",\"gridcolor\":\"white\",\"linecolor\":\"white\",\"showbackground\":true,\"ticks\":\"\",\"zerolinecolor\":\"white\",\"gridwidth\":2}},\"shapedefaults\":{\"line\":{\"color\":\"#2a3f5f\"}},\"annotationdefaults\":{\"arrowcolor\":\"#2a3f5f\",\"arrowhead\":0,\"arrowwidth\":1},\"geo\":{\"bgcolor\":\"white\",\"landcolor\":\"#E5ECF6\",\"subunitcolor\":\"white\",\"showland\":true,\"showlakes\":true,\"lakecolor\":\"white\"},\"title\":{\"x\":0.05},\"mapbox\":{\"style\":\"light\"}}},\"xaxis\":{\"anchor\":\"y\",\"domain\":[0.0,1.0],\"scaleanchor\":\"y\",\"constrain\":\"domain\",\"title\":{\"text\":\"Business lines\"},\"side\":\"top\"},\"yaxis\":{\"anchor\":\"x\",\"domain\":[0.0,1.0],\"autorange\":\"reversed\",\"constrain\":\"domain\",\"title\":{\"text\":\"Products\"}},\"coloraxis\":{\"colorbar\":{\"title\":{\"text\":\"Sales\"}},\"colorscale\":[[0.0,\"#0d0887\"],[0.1111111111111111,\"#46039f\"],[0.2222222222222222,\"#7201a8\"],[0.3333333333333333,\"#9c179e\"],[0.4444444444444444,\"#bd3786\"],[0.5555555555555556,\"#d8576b\"],[0.6666666666666666,\"#ed7953\"],[0.7777777777777778,\"#fb9f3a\"],[0.8888888888888888,\"#fdca26\"],[1.0,\"#f0f921\"]]},\"margin\":{\"t\":150,\"l\":0,\"r\":0,\"b\":50},\"title\":{\"text\":\"Heatmap\"}},                        {\"displayModeBar\": false, \"responsive\": true}                    ).then(function(){\n",
       "                            \n",
       "var gd = document.getElementById('e46d5060-40d2-4ebb-995b-9e5812bdff50');\n",
       "var x = new MutationObserver(function (mutations, observer) {{\n",
       "        var display = window.getComputedStyle(gd).display;\n",
       "        if (!display || display === 'none') {{\n",
       "            console.log([gd, 'removed!']);\n",
       "            Plotly.purge(gd);\n",
       "            observer.disconnect();\n",
       "        }}\n",
       "}});\n",
       "\n",
       "// Listen for the removal of the full notebook cells\n",
       "var notebookContainer = gd.closest('#notebook-container');\n",
       "if (notebookContainer) {{\n",
       "    x.observe(notebookContainer, {childList: true});\n",
       "}}\n",
       "\n",
       "// Listen for the clearing of the current output cell\n",
       "var outputEl = gd.closest('.output');\n",
       "if (outputEl) {{\n",
       "    x.observe(outputEl, {childList: true});\n",
       "}}\n",
       "\n",
       "                        })                };                });            </script>        </div>"
      ]
     },
     "metadata": {},
     "output_type": "display_data"
    }
   ],
   "source": [
    "data = [[54.25, 65, 52, 51, 49],\n",
    "        [20, 16, 60, 80, 30],\n",
    "        [30, 60, 51, 59, 20],\n",
    "        [40, 30, 12, 25, 20]]\n",
    "df = pd.DataFrame(data)\n",
    "df\n",
    "\n",
    "title = \"Heatmap\"\n",
    "config = {'displayModeBar': False}\n",
    "\n",
    "def update_layout(fig, title=None, plot_bgcolor=None, showlegend=None, margin=None):\n",
    "    fig.update_layout(\n",
    "        title=title,\n",
    "        plot_bgcolor=plot_bgcolor,\n",
    "        #width=1200,\n",
    "        margin=margin,\n",
    "       #height=800,\n",
    "        showlegend=showlegend)\n",
    "    return fig\n",
    "\n",
    "def heatmap(df,\n",
    "            x,\n",
    "            y,\n",
    "            x_label,\n",
    "            y_label,\n",
    "            color,\n",
    "            colorscale=[[0, \"#d94228\"],[0.5, \"#d94228\"],[0.5, \"#5ee290\"],[1.0, \"#5ee290\"]],\n",
    "            title=None,\n",
    "            margin=None):\n",
    "    fig = go.Figure()\n",
    "    fig = px.imshow(df,\n",
    "                    labels=dict(x=x_label, y=y_label, color=color),\n",
    "                    x=x,\n",
    "                    y=y)\n",
    "    fig.update_xaxes(side=\"top\")\n",
    "    fig.update_traces(xgap=5, selector=dict(type='heatmap'))\n",
    "    fig.update_traces(ygap=5, selector=dict(type='heatmap'))\n",
    "    fig.update_traces(dict(showscale=False, \n",
    "                           coloraxis=None, \n",
    "                           colorscale=colorscale),\n",
    "                           selector={'type':'heatmap'})\n",
    "    fig = update_layout(fig, title=title, margin=margin)\n",
    "    fig.show(config=config)\n",
    "    return fig\n",
    "\n",
    "heatmap = heatmap(df,\n",
    "              x=['Global', 'Americas', 'EMEA', 'Asia', 'Oceania'],\n",
    "              y=['Product 1', 'Product 2', 'Product 3', 'Product 4'],\n",
    "              x_label=\"Business lines\",\n",
    "              y_label=\"Products\",\n",
    "              color=\"Sales\",\n",
    "              title=title,\n",
    "              margin=dict(l=0, r=0, t=150, b=50))   "
   ]
  },
  {
   "cell_type": "markdown",
   "id": "3ee93f31-81d4-4ad3-8b58-f5b038802ed4",
   "metadata": {
    "execution": {
     "iopub.execute_input": "2022-08-07T12:36:43.651149Z",
     "iopub.status.busy": "2022-08-07T12:36:43.650909Z",
     "iopub.status.idle": "2022-08-07T12:36:43.655756Z",
     "shell.execute_reply": "2022-08-07T12:36:43.655122Z",
     "shell.execute_reply.started": "2022-08-07T12:36:43.651126Z"
    }
   },
   "source": [
    "### Design"
   ]
  },
  {
   "cell_type": "markdown",
   "id": "3cb8edf6-bf0e-46ad-bbea-f0206b531987",
   "metadata": {
    "papermill": {},
    "tags": []
   },
   "source": [
    "#### Initialize Dash app"
   ]
  },
  {
   "cell_type": "code",
   "execution_count": 172,
   "id": "crude-louisville",
   "metadata": {
    "execution": {
     "iopub.execute_input": "2022-08-08T21:36:08.480438Z",
     "iopub.status.busy": "2022-08-08T21:36:08.480210Z",
     "iopub.status.idle": "2022-08-08T21:36:08.488775Z",
     "shell.execute_reply": "2022-08-08T21:36:08.488087Z",
     "shell.execute_reply.started": "2022-08-08T21:36:08.480415Z"
    },
    "papermill": {},
    "tags": []
   },
   "outputs": [],
   "source": [
    "app = dash.Dash(requests_pathname_prefix=f'/user/{os.environ.get(\"JUPYTERHUB_USER\")}/proxy/{DASH_PORT}/', \n",
    "                external_stylesheets=[dbc.themes.BOOTSTRAP])   \n",
    "#app = dash.Dash() if you are not in Naas"
   ]
  },
  {
   "cell_type": "markdown",
   "id": "e69f08a2-abc5-4c69-af08-02fffa15bea8",
   "metadata": {},
   "source": [
    "#### Search Bar"
   ]
  },
  {
   "cell_type": "code",
   "execution_count": 83,
   "id": "2e4f9b53-6315-4159-aeb0-f265c509199e",
   "metadata": {
    "execution": {
     "iopub.execute_input": "2022-08-08T20:23:01.897622Z",
     "iopub.status.busy": "2022-08-08T20:23:01.897386Z",
     "iopub.status.idle": "2022-08-08T20:23:01.901230Z",
     "shell.execute_reply": "2022-08-08T20:23:01.900570Z",
     "shell.execute_reply.started": "2022-08-08T20:23:01.897599Z"
    },
    "tags": []
   },
   "outputs": [],
   "source": [
    "search_bar = dbc.Row(\n",
    "    [\n",
    "        dbc.Col(dbc.Input(type=\"search\", placeholder=\"Explore\")),\n",
    "        dbc.Col(\n",
    "            dbc.Button(\n",
    "                \"Search\", color=\"primary\", className=\"ms-2\", n_clicks=0\n",
    "            ),\n",
    "            width=\"auto\",\n",
    "        ),\n",
    "    ],\n",
    "    className=\"g-0 ms-auto flex-nowrap mt-3 mt-md-0\",\n",
    "    align=\"center\",\n",
    ")"
   ]
  },
  {
   "cell_type": "markdown",
   "id": "836c5c02-a838-488f-bcdd-fca93cf47ae7",
   "metadata": {},
   "source": [
    "#### Card body"
   ]
  },
  {
   "cell_type": "code",
   "execution_count": 119,
   "id": "21a9718b-8956-4854-8634-09f1b7aaebc0",
   "metadata": {
    "execution": {
     "iopub.execute_input": "2022-08-08T20:37:33.692389Z",
     "iopub.status.busy": "2022-08-08T20:37:33.692096Z",
     "iopub.status.idle": "2022-08-08T20:37:33.696319Z",
     "shell.execute_reply": "2022-08-08T20:37:33.695652Z",
     "shell.execute_reply.started": "2022-08-08T20:37:33.692362Z"
    }
   },
   "outputs": [],
   "source": [
    "card_content = [\n",
    "    dbc.CardHeader(\"Card header\"),\n",
    "    dbc.CardBody(\n",
    "        [\n",
    "            html.H5(\"Card title\", className=\"card-title\"),\n",
    "            html.P(\n",
    "                \"This is some card content that we'll reuse\",\n",
    "                className=\"card-text\",\n",
    "            ),\n",
    "        ]\n",
    "    ),\n",
    "]"
   ]
  },
  {
   "cell_type": "markdown",
   "id": "5ecbe294-3ca4-4667-8d03-76c464ee013e",
   "metadata": {},
   "source": [
    "#### Dropdown Menu"
   ]
  },
  {
   "cell_type": "code",
   "execution_count": 173,
   "id": "6f03315b-7344-4e22-be61-62a1686c9f8b",
   "metadata": {
    "execution": {
     "iopub.execute_input": "2022-08-08T21:36:12.250293Z",
     "iopub.status.busy": "2022-08-08T21:36:12.250065Z",
     "iopub.status.idle": "2022-08-08T21:36:12.254264Z",
     "shell.execute_reply": "2022-08-08T21:36:12.253602Z",
     "shell.execute_reply.started": "2022-08-08T21:36:12.250270Z"
    },
    "tags": []
   },
   "outputs": [],
   "source": [
    "nav_dropdown = dbc.DropdownMenu(\n",
    "                    children=[\n",
    "                        dbc.DropdownMenuItem(\"By Country\", header=True),\n",
    "                        dbc.DropdownMenuItem(\"France\", href=\"#\"),\n",
    "                        dbc.DropdownMenuItem(\"USA\", href=\"#\"),\n",
    "                        dbc.DropdownMenuItem(\"By Topic\", header=True),\n",
    "                        dbc.DropdownMenuItem(\"Temperature anomaly\", href=\"#\"),\n",
    "                        dbc.DropdownMenuItem(\"COVID 19\", href=\"#\"),\n",
    "                    ],\n",
    "                    label=\"Explore more\",\n",
    "                ),"
   ]
  },
  {
   "cell_type": "code",
   "execution_count": 177,
   "id": "be0a5c6a-5500-49d4-b1a1-94f1465d0338",
   "metadata": {
    "execution": {
     "iopub.execute_input": "2022-08-08T21:39:50.005602Z",
     "iopub.status.busy": "2022-08-08T21:39:50.005370Z",
     "iopub.status.idle": "2022-08-08T21:39:50.018728Z",
     "shell.execute_reply": "2022-08-08T21:39:50.018052Z",
     "shell.execute_reply.started": "2022-08-08T21:39:50.005580Z"
    },
    "tags": []
   },
   "outputs": [],
   "source": [
    "app.title = 'World Situation Room'\n",
    "app.layout = html.Div(\n",
    "    [\n",
    "        #Navbar\n",
    "        dbc.Navbar(\n",
    "            dbc.Container(\n",
    "                [\n",
    "                    html.A(\n",
    "                        # Use row and col to control vertical alignment of logo / brand\n",
    "                        dbc.Row(\n",
    "                            [\n",
    "                                dbc.Col(html.Img(src=\"https://pbs.twimg.com/profile_images/1243203211114274817/WqWaa9Bm_400x400.jpg\", height=\"30px\")),\n",
    "                                dbc.Col(dbc.NavbarBrand(\"World Situation Room\", className=\"ms-2\")),\n",
    "                            ],\n",
    "                            align=\"center\",\n",
    "                            className=\"g-0\",\n",
    "                        ),\n",
    "                        href=\"https://mobile.twitter.com/ws_room/photo\",\n",
    "                        style={\"textDecoration\": \"none\"},\n",
    "                    ),\n",
    "                    dbc.NavbarToggler(id=\"navbar-toggler\", n_clicks=0),   \n",
    "                    dbc.NavItem(dbc.NavLink(\"Twitter\", href=\"https://mobile.twitter.com/ws_room\",target=\"_blank\"),style={\"text-align\": \"left\"}),\n",
    "                    dbc.DropdownMenu(\n",
    "                        children=[\n",
    "                            dbc.DropdownMenuItem(\"By Country\", header=True),\n",
    "                            dbc.DropdownMenuItem(\"France\", href=\"#\"),\n",
    "                            dbc.DropdownMenuItem(\"USA\", href=\"#\"),\n",
    "                            dbc.DropdownMenuItem(\"By Topic\", header=True),\n",
    "                            dbc.DropdownMenuItem(\"Temperature anomaly\", href=\"#\"),\n",
    "                            dbc.DropdownMenuItem(\"COVID 19\", href=\"#\"),\n",
    "                        ],\n",
    "                        nav=True,\n",
    "                        in_navbar=True,\n",
    "                        label=\"Explore more\",)\n",
    "                ]\n",
    "            ),\n",
    "            color=\"dark\",\n",
    "            dark=True,\n",
    "        ), \n",
    "        \n",
    "        #HKPIS\n",
    "        dbc.Row(\n",
    "            [\n",
    "                dbc.Col(dbc.Card(\n",
    "                    dbc.CardBody(\n",
    "                        [\n",
    "                            html.H5(\"🧬 Carbon Dioxyde\", className=\"card-title\"),\n",
    "                            html.P(\n",
    "                                \"419 ppm\",\n",
    "                                className=\"card-text\",\n",
    "                            ),\n",
    "                        ]\n",
    "                    ),color=\"light\", inverse=False)),\n",
    "                dbc.Col(dbc.Card(\n",
    "                    dbc.CardBody(\n",
    "                        [\n",
    "                            html.H5(\"🌡 Global Temperature\", className=\"card-title\"),\n",
    "                            html.P(\n",
    "                                \"+0.85°C\",\n",
    "                                className=\"card-text\",\n",
    "                            ),\n",
    "                        ]\n",
    "                    ),color=\"light\", inverse=False)),\n",
    "                dbc.Col(dbc.Card(\n",
    "                    dbc.CardBody(\n",
    "                        [\n",
    "                            html.H5(\"❄️ Artic Sea Ice\", className=\"card-title\"),\n",
    "                            html.P(\n",
    "                                \"-13% per decade\",\n",
    "                                className=\"card-text\",\n",
    "                            ),\n",
    "                        ]\n",
    "                    ),color=\"light\", inverse=False)),\n",
    "                dbc.Col(dbc.Card(\n",
    "                    dbc.CardBody(\n",
    "                        [\n",
    "                            html.H5(\"🧊 Ice Sheet\", className=\"card-title\"),\n",
    "                            html.P(\n",
    "                                \"-152 bilions metric\",\n",
    "                                className=\"card-text\",\n",
    "                            ),\n",
    "                        ]\n",
    "                    ),color=\"light\", inverse=False)),\n",
    "                dbc.Col(dbc.Card(\n",
    "                    dbc.CardBody(\n",
    "                        [\n",
    "                            html.H5(\"🌊 Sea Level\", className=\"card-title\"),\n",
    "                            html.P(\n",
    "                                \"+1O1 mm\",\n",
    "                                className=\"card-text\",\n",
    "                            ),\n",
    "                        ]\n",
    "                    ),color=\"light\", inverse=False)),\n",
    "                dbc.Col(dbc.Card(\n",
    "                    dbc.CardBody(\n",
    "                        [\n",
    "                            html.H5(\"🔥 Ocean Heat\", className=\"card-title\"),\n",
    "                            html.P(\n",
    "                                \"+337 zettajoules\",\n",
    "                                className=\"card-text\",\n",
    "                            ),\n",
    "                        ]\n",
    "                    ),color=\"light\", inverse=False)),\n",
    "            ],\n",
    "            className=\"mb-4\",\n",
    "        ),\n",
    "        \n",
    "        \n",
    "        #Charts     \n",
    "        dbc.Row(\n",
    "            [\n",
    "                dbc.Col([\n",
    "                    dcc.Graph(id=\"test2\",figure=fig)]),\n",
    "                dbc.Col([\n",
    "                    dcc.Graph(id=\"test3\",figure=heatmap)]),\n",
    "            ]\n",
    "        ),\n",
    "        dbc.Row(\n",
    "            [\n",
    "                dbc.Col([\n",
    "                    dcc.Graph(id=\"test4\",figure=fig)]),\n",
    "                dbc.Col([\n",
    "                    dcc.Graph(id=\"test5\",figure=fig)]),\n",
    "            ]\n",
    "        ),\n",
    "    ],\n",
    "\n",
    ")\n",
    "\n",
    "# add callback for toggling the collapse on small screens\n",
    "@app.callback(\n",
    "    Output(\"navbar-collapse\", \"is_open\"),\n",
    "    [Input(\"navbar-toggler\", \"n_clicks\")],\n",
    "    [State(\"navbar-collapse\", \"is_open\")],\n",
    ")\n",
    "def toggle_navbar_collapse(n, is_open):\n",
    "    if n:\n",
    "        return not is_open\n",
    "    return is_open"
   ]
  },
  {
   "cell_type": "markdown",
   "id": "lonely-pacific",
   "metadata": {
    "execution": {
     "iopub.execute_input": "2021-07-02T23:32:10.789097Z",
     "iopub.status.busy": "2021-07-02T23:32:10.788829Z",
     "iopub.status.idle": "2021-07-02T23:32:10.796900Z",
     "shell.execute_reply": "2021-07-02T23:32:10.796358Z",
     "shell.execute_reply.started": "2021-07-02T23:32:10.789033Z"
    },
    "papermill": {},
    "tags": []
   },
   "source": [
    "## Output"
   ]
  },
  {
   "cell_type": "markdown",
   "id": "890f7c86-b7bb-4f5d-9a1b-e492dd9580fd",
   "metadata": {
    "papermill": {},
    "tags": []
   },
   "source": [
    "### Generate URL and show logs"
   ]
  },
  {
   "cell_type": "code",
   "execution_count": null,
   "id": "9c4e3b7b-6440-4844-8054-265f1aec65eb",
   "metadata": {
    "execution": {
     "iopub.execute_input": "2022-08-08T21:39:50.771448Z",
     "iopub.status.busy": "2022-08-08T21:39:50.771217Z"
    },
    "papermill": {},
    "tags": []
   },
   "outputs": [
    {
     "name": "stdout",
     "output_type": "stream",
     "text": [
      "Dash is running on https://app.naas.ai/user/jeremy@naas.ai/proxy/8050/\n",
      "\n",
      "Dash is running on https://app.naas.ai/user/jeremy@naas.ai/proxy/8050/\n",
      "\n",
      "Dash is running on https://app.naas.ai/user/jeremy@naas.ai/proxy/8050/\n",
      "\n",
      "Dash is running on https://app.naas.ai/user/jeremy@naas.ai/proxy/8050/\n",
      "\n",
      " * Serving Flask app '__main__' (lazy loading)\n",
      " * Environment: production\n",
      "\u001b[31m   WARNING: This is a development server. Do not use it in a production deployment.\u001b[0m\n",
      "\u001b[2m   Use a production WSGI server instead.\u001b[0m\n",
      " * Debug mode: off\n"
     ]
    },
    {
     "name": "stderr",
     "output_type": "stream",
     "text": [
      " * Running on http://127.0.0.1:8050 (Press CTRL+C to quit)\n",
      "127.0.0.1 - - [08/Aug/2022 23:39:52] \"GET / HTTP/1.1\" 200 -\n",
      "127.0.0.1 - - [08/Aug/2022 23:39:53] \"GET /_dash-dependencies HTTP/1.1\" 200 -\n",
      "127.0.0.1 - - [08/Aug/2022 23:39:53] \"GET /_dash-layout HTTP/1.1\" 200 -\n",
      "127.0.0.1 - - [08/Aug/2022 23:39:53] \"GET /_dash-component-suites/dash/dcc/async-graph.js HTTP/1.1\" 200 -\n",
      "127.0.0.1 - - [08/Aug/2022 23:39:53] \"GET /_dash-component-suites/dash/dcc/async-plotlyjs.js HTTP/1.1\" 200 -\n",
      "127.0.0.1 - - [09/Aug/2022 12:24:43] \"GET / HTTP/1.1\" 200 -\n",
      "127.0.0.1 - - [09/Aug/2022 12:24:43] \"GET /_dash-layout HTTP/1.1\" 200 -\n",
      "127.0.0.1 - - [09/Aug/2022 12:24:43] \"GET /_dash-dependencies HTTP/1.1\" 200 -\n",
      "127.0.0.1 - - [09/Aug/2022 12:24:43] \"GET /_dash-component-suites/dash/dcc/async-graph.js HTTP/1.1\" 200 -\n",
      "127.0.0.1 - - [09/Aug/2022 12:24:43] \"GET /_dash-component-suites/dash/dcc/async-plotlyjs.js HTTP/1.1\" 200 -\n",
      "127.0.0.1 - - [09/Aug/2022 12:24:44] \"GET /_favicon.ico?v=2.6.0 HTTP/1.1\" 200 -\n",
      "127.0.0.1 - - [09/Aug/2022 13:09:23] \"GET / HTTP/1.1\" 200 -\n",
      "127.0.0.1 - - [09/Aug/2022 13:09:23] \"GET /_dash-layout HTTP/1.1\" 200 -\n",
      "127.0.0.1 - - [09/Aug/2022 13:09:23] \"GET /_dash-dependencies HTTP/1.1\" 200 -\n",
      "127.0.0.1 - - [09/Aug/2022 13:09:24] \"GET /_dash-component-suites/dash/dcc/async-plotlyjs.js HTTP/1.1\" 200 -\n",
      "127.0.0.1 - - [09/Aug/2022 13:09:24] \"GET /_dash-component-suites/dash/dcc/async-graph.js HTTP/1.1\" 200 -\n",
      "127.0.0.1 - - [09/Aug/2022 13:09:24] \"GET /_favicon.ico?v=2.6.0 HTTP/1.1\" 200 -\n",
      "127.0.0.1 - - [09/Aug/2022 13:15:22] \"GET / HTTP/1.1\" 200 -\n",
      "127.0.0.1 - - [09/Aug/2022 13:15:23] \"GET /_dash-layout HTTP/1.1\" 200 -\n",
      "127.0.0.1 - - [09/Aug/2022 13:15:23] \"GET /_dash-dependencies HTTP/1.1\" 200 -\n",
      "127.0.0.1 - - [09/Aug/2022 13:15:24] \"GET /_dash-component-suites/dash/dcc/async-graph.js HTTP/1.1\" 200 -\n",
      "127.0.0.1 - - [09/Aug/2022 13:15:24] \"GET /_favicon.ico?v=2.6.0 HTTP/1.1\" 200 -\n",
      "127.0.0.1 - - [09/Aug/2022 13:15:24] \"GET /_dash-component-suites/dash/dcc/async-plotlyjs.js HTTP/1.1\" 200 -\n"
     ]
    }
   ],
   "source": [
    "if __name__ == '__main__':\n",
    "    app.run_server(proxy=f\"http://127.0.0.1:{DASH_PORT}::https://app.naas.ai\")"
   ]
  },
  {
   "cell_type": "code",
   "execution_count": null,
   "id": "ece94a70-a073-44d8-8859-4dcf26d21fe0",
   "metadata": {},
   "outputs": [],
   "source": []
  }
 ],
 "metadata": {
  "kernelspec": {
   "display_name": "Python 3",
   "language": "python",
   "name": "python3"
  },
  "language_info": {
   "codemirror_mode": {
    "name": "ipython",
    "version": 3
   },
   "file_extension": ".py",
   "mimetype": "text/x-python",
   "name": "python",
   "nbconvert_exporter": "python",
   "pygments_lexer": "ipython3",
   "version": "3.9.6"
  },
  "papermill": {
   "default_parameters": {},
   "environment_variables": {},
   "parameters": {},
   "version": "2.3.3"
  },
  "widgets": {
   "application/vnd.jupyter.widget-state+json": {
    "state": {},
    "version_major": 2,
    "version_minor": 0
   }
  }
 },
 "nbformat": 4,
 "nbformat_minor": 5
}
