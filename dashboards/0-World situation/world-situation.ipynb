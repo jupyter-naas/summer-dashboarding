{
 "cells": [
  {
   "cell_type": "markdown",
   "id": "latin-packing",
   "metadata": {
    "execution": {
     "iopub.execute_input": "2021-02-23T14:22:16.610471Z",
     "iopub.status.busy": "2021-02-23T14:22:16.610129Z",
     "iopub.status.idle": "2021-02-23T14:22:16.627784Z",
     "shell.execute_reply": "2021-02-23T14:22:16.626866Z",
     "shell.execute_reply.started": "2021-02-23T14:22:16.610384Z"
    },
    "papermill": {},
    "tags": []
   },
   "source": [
    "<img width=\"10%\" alt=\"Naas\" src=\"https://landen.imgix.net/jtci2pxwjczr/assets/5ice39g4.png?w=160\"/>"
   ]
  },
  {
   "cell_type": "markdown",
   "id": "compressed-wilson",
   "metadata": {
    "papermill": {},
    "tags": []
   },
   "source": [
    "# World Situation Dashboard "
   ]
  },
  {
   "cell_type": "markdown",
   "id": "religious-programmer",
   "metadata": {
    "papermill": {},
    "tags": []
   },
   "source": [
    "**Tags:** #dashboard #plotly #dash #naas #asset #automation #ai #analytics"
   ]
  },
  {
   "cell_type": "markdown",
   "id": "1fe9f56e-561c-4f52-aef8-b861c9462107",
   "metadata": {
    "papermill": {},
    "tags": []
   },
   "source": [
    "**Author:** [Jeremy Ravenel](https://www.linkedin.com/in/jeremyravenel/)"
   ]
  },
  {
   "cell_type": "markdown",
   "id": "31ea7cdb-e10d-43fc-b026-f69249a59736",
   "metadata": {
    "papermill": {},
    "tags": []
   },
   "source": [
    "This notebook enables you to generate a dashboard to follow the world situation."
   ]
  },
  {
   "cell_type": "markdown",
   "id": "distinguished-truth",
   "metadata": {
    "papermill": {},
    "tags": []
   },
   "source": [
    "## Input"
   ]
  },
  {
   "cell_type": "markdown",
   "id": "numeric-mediterranean",
   "metadata": {
    "papermill": {},
    "tags": []
   },
   "source": [
    "### Import libraries"
   ]
  },
  {
   "cell_type": "code",
   "execution_count": null,
   "id": "potential-surfing",
   "metadata": {
    "papermill": {},
    "tags": []
   },
   "outputs": [],
   "source": [
    "import os\n",
    "from naas_drivers import gsheet\n",
    "import naas\n",
    "import dash\n",
    "from dash import html, dcc, Input, Output, State\n",
    "import dash_bootstrap_components as dbc\n",
    "import plotly.graph_objects as go\n",
    "import plotly.express as px\n",
    "from dash_bootstrap_components._components.Container import Container\n",
    "import pandas as pd\n",
    "from plotly.subplots import make_subplots\n",
    "from dash.exceptions import PreventUpdate"
   ]
  },
  {
   "cell_type": "markdown",
   "id": "aggressive-trustee",
   "metadata": {
    "papermill": {},
    "tags": []
   },
   "source": [
    "### Defining the port of the dashboard"
   ]
  },
  {
   "cell_type": "code",
   "execution_count": null,
   "id": "continuous-melbourne",
   "metadata": {
    "papermill": {},
    "tags": []
   },
   "outputs": [],
   "source": [
    "DASH_PORT = 8050"
   ]
  },
  {
   "cell_type": "markdown",
   "id": "616706cc-2d4e-4e32-b7f2-ac3e991313d6",
   "metadata": {},
   "source": [
    "### Setup APP"
   ]
  },
  {
   "cell_type": "code",
   "execution_count": null,
   "id": "f4c043e1-cd66-410f-9037-ba8cb11e111b",
   "metadata": {
    "tags": []
   },
   "outputs": [],
   "source": [
    "APP_TITLE = 'World Situation Room'\n",
    "APP_LOGO = \"https://pbs.twimg.com/profile_images/1243203211114274817/WqWaa9Bm_400x400.jpg\""
   ]
  },
  {
   "cell_type": "markdown",
   "id": "d32dd999-e7f9-4332-b145-933fbc678caf",
   "metadata": {},
   "source": [
    "### Setup Google Sheets\n",
    "- Share your Google Sheets spreadsheet with our service account : 🔗 naas-share@naas-gsheets.iam.gserviceaccount.com"
   ]
  },
  {
   "cell_type": "code",
   "execution_count": null,
   "id": "d86a116f-97b6-4fc8-9a26-10415562a635",
   "metadata": {
    "tags": []
   },
   "outputs": [],
   "source": [
    "SPREADSHEET_URL = \"https://docs.google.com/spreadsheets/d/1yi0qzuUEnE9wMWWQFIVq5Uou8ChxFqF0MMqFM5FtVIM\"\n",
    "SHEET_NAME = \"KPIS\""
   ]
  },
  {
   "cell_type": "markdown",
   "id": "registered-showcase",
   "metadata": {
    "papermill": {},
    "tags": []
   },
   "source": [
    "## Model"
   ]
  },
  {
   "cell_type": "markdown",
   "id": "f6558026-6566-4b4d-ab74-a5eec170f57b",
   "metadata": {},
   "source": [
    "### Data"
   ]
  },
  {
   "cell_type": "markdown",
   "id": "aac432b4-bbe6-402b-85d0-3461b3ec0ee3",
   "metadata": {},
   "source": [
    "#### Highlighted KPIs"
   ]
  },
  {
   "cell_type": "code",
   "execution_count": null,
   "id": "2537c49b-e1f7-4115-97ba-3ef1cba717c0",
   "metadata": {
    "tags": []
   },
   "outputs": [],
   "source": [
    "df_hkpis = gsheet.connect(SPREADSHEET_URL).get(sheet_name=SHEET_NAME)\n",
    "df_hkpis[\"VALUE_D\"] = df_hkpis[\"VALUE\"].astype(str) + \" \" + df_hkpis[\"UNITS\"]\n",
    "df_hkpis"
   ]
  },
  {
   "cell_type": "markdown",
   "id": "07490f8f-58dc-49e2-a532-dba238982af3",
   "metadata": {},
   "source": [
    "#### Barline "
   ]
  },
  {
   "cell_type": "code",
   "execution_count": null,
   "id": "14129999-cd1f-4ebf-80ef-fa7eb0922b45",
   "metadata": {
    "tags": []
   },
   "outputs": [],
   "source": [
    "data = [\n",
    "    {\"ENTITY\": \"Worldwide\", \"SCENARIO\": \"2022\", \"DATE\": \"202201\", \"VALUE\": 130, \"VARV\": 130},\n",
    "    {\"ENTITY\": \"Worldwide\", \"SCENARIO\": \"2022\", \"DATE\": \"202202\", \"VALUE\": 180, \"VARV\": 50},\n",
    "    {\"ENTITY\": \"Worldwide\", \"SCENARIO\": \"2022\", \"DATE\": \"202203\", \"VALUE\": 190, \"VARV\": 10},\n",
    "    {\"ENTITY\": \"Worldwide\", \"SCENARIO\": \"2022\", \"DATE\": \"202204\", \"VALUE\": 200, \"VARV\": 10},\n",
    "    {\"ENTITY\": \"Worldwide\", \"SCENARIO\": \"2022\", \"DATE\": \"202205\", \"VALUE\": 280, \"VARV\": 80},\n",
    "    {\"ENTITY\": \"Worldwide\", \"SCENARIO\": \"2021\", \"DATE\": \"202101\", \"VALUE\": 80, \"VARV\": 80},\n",
    "    {\"ENTITY\": \"Worldwide\", \"SCENARIO\": \"2021\", \"DATE\": \"202102\", \"VALUE\": 180, \"VARV\": 100},\n",
    "    {\"ENTITY\": \"Worldwide\", \"SCENARIO\": \"2021\", \"DATE\": \"202103\", \"VALUE\": 230, \"VARV\": 50},\n",
    "    {\"ENTITY\": \"Worldwide\", \"SCENARIO\": \"2021\", \"DATE\": \"202104\", \"VALUE\": 240, \"VARV\": 10},\n",
    "    {\"ENTITY\": \"Worldwide\", \"SCENARIO\": \"2021\", \"DATE\": \"202105\", \"VALUE\": 320, \"VARV\": 80},\n",
    "]\n",
    "df_barline = pd.DataFrame(data)\n",
    "df_barline"
   ]
  },
  {
   "cell_type": "markdown",
   "id": "3ee93f31-81d4-4ad3-8b58-f5b038802ed4",
   "metadata": {
    "execution": {
     "iopub.execute_input": "2022-08-07T12:36:43.651149Z",
     "iopub.status.busy": "2022-08-07T12:36:43.650909Z",
     "iopub.status.idle": "2022-08-07T12:36:43.655756Z",
     "shell.execute_reply": "2022-08-07T12:36:43.655122Z",
     "shell.execute_reply.started": "2022-08-07T12:36:43.651126Z"
    }
   },
   "source": [
    "### Design"
   ]
  },
  {
   "cell_type": "markdown",
   "id": "145b9578-9eb6-4754-b067-5af5f3a0021e",
   "metadata": {},
   "source": [
    "#### Create dropdown \"Entity\""
   ]
  },
  {
   "cell_type": "code",
   "execution_count": null,
   "id": "604e3369-e87b-45be-bec8-0a891510f333",
   "metadata": {
    "tags": []
   },
   "outputs": [],
   "source": [
    "entities = [\n",
    "    \"Worldwide\",\n",
    "    \"France\",\n",
    "    \"UK\",\n",
    "    \"Spain\",\n",
    "    \"Belgium\",\n",
    "    \"Italy\"\n",
    "]\n",
    "\n",
    "dropdown_entity = dcc.Dropdown(\n",
    "    id='entity',\n",
    "    options=[{'label': i, 'value': i} for i in entities],\n",
    "    placeholder='Entity',\n",
    "    value=entities[0],\n",
    ")"
   ]
  },
  {
   "cell_type": "markdown",
   "id": "5ca44d4b-de5c-49bc-b0b2-7d3da3670e0c",
   "metadata": {},
   "source": [
    "#### Create dropdown \"Scenario\""
   ]
  },
  {
   "cell_type": "code",
   "execution_count": null,
   "id": "34063f1b-5a36-4440-94c5-9919596f0492",
   "metadata": {
    "tags": []
   },
   "outputs": [],
   "source": [
    "scenarios = [\n",
    "    \"2022\",\n",
    "    \"2021\",\n",
    "    \"2020\",\n",
    "    \"2019\"\n",
    "]\n",
    "\n",
    "dropdown_scenario = dcc.Dropdown(\n",
    "    id='scenario',\n",
    "    options=[{'label': i, 'value': i} for i in scenarios],\n",
    "    placeholder='Scenario',\n",
    "    value=scenarios[0],\n",
    ")"
   ]
  },
  {
   "cell_type": "markdown",
   "id": "0a450c71-ebc4-4261-b9e2-16dbc549316b",
   "metadata": {},
   "source": [
    "#### Create Navbar"
   ]
  },
  {
   "cell_type": "code",
   "execution_count": null,
   "id": "afab0065-49aa-4945-a8ec-0b81fc58fe28",
   "metadata": {
    "tags": []
   },
   "outputs": [],
   "source": [
    "navbar = dbc.Navbar(\n",
    "    dbc.Container(\n",
    "        [\n",
    "            html.A(\n",
    "                # Use row and col to control vertical alignment of logo / brand\n",
    "                dbc.Row(\n",
    "                    [\n",
    "                        dbc.Col(html.Img(src=APP_LOGO, height=\"30px\")),\n",
    "                        dbc.Col(dbc.NavbarBrand(APP_TITLE, className=\"ms-2\")),\n",
    "                    ],\n",
    "                    align=\"center\",\n",
    "                    className=\"g-0\",\n",
    "                ),\n",
    "                href=\"https://mobile.twitter.com/ws_room/photo\",\n",
    "                style={\"textDecoration\": \"none\"},\n",
    "            ),\n",
    "            dbc.NavbarToggler(id=\"navbar-toggler\", n_clicks=0),\n",
    "            dbc.Collapse(\n",
    "                dbc.Nav(\n",
    "                    [\n",
    "                        html.Div(\n",
    "                            [\n",
    "                                html.Div(className=\"w-100\"),\n",
    "                                html.Div(className=\"w-100\"),\n",
    "                                html.Div(dropdown_entity, className=\"w-100\"),\n",
    "                                html.Div(dropdown_scenario, className=\"w-100\")\n",
    "                            ],\n",
    "                            className=\"pt-1 pb-1 d-grid gap-2 d-md-flex w-100\")\n",
    "\n",
    "                    ],\n",
    "                    className=\"ms-auto w-100\",\n",
    "                    navbar=True,\n",
    "                ),\n",
    "                id=\"navbar-collapse\",\n",
    "                navbar=True,\n",
    "                is_open=False,\n",
    "            ),\n",
    "        ],\n",
    "    ),\n",
    "    color=\"dark\",\n",
    "    dark=True,\n",
    ")"
   ]
  },
  {
   "cell_type": "markdown",
   "id": "3b3c067d-ca98-4fe1-be01-58c220524d79",
   "metadata": {},
   "source": [
    "#### Create Cards"
   ]
  },
  {
   "cell_type": "code",
   "execution_count": null,
   "id": "8abe0788-45c6-45db-a390-157d90b5fc79",
   "metadata": {
    "tags": []
   },
   "outputs": [],
   "source": [
    "#Style used for card\n",
    "CARD_COL_STYLE = {\n",
    "    \"className\": \"gx-5 g-2\",\n",
    "    \"xs\": 12,\n",
    "    \"sm\": 12,\n",
    "    \"md\": 12,\n",
    "    \"lg\": 2,\n",
    "    \"xl\": 2\n",
    "}\n",
    "\n",
    "#Function to create card\n",
    "def create_card_col(uid, card_title, card_paragraph):\n",
    "    card = dbc.Col(\n",
    "        dbc.Card(\n",
    "            dbc.CardBody(\n",
    "                [\n",
    "#                     html.H5(card_title, className=\"card-title\"),\n",
    "                    html.P(card_title, className=\"card-title\", style={\"font-size\": \"18px\", \"padding-bottom\": \"5px\"}),\n",
    "                    html.P(card_paragraph, className=\"card-text\", id=uid)\n",
    "                ]\n",
    "            ),\n",
    "            color=\"light\",\n",
    "            inverse=False\n",
    "        ),\n",
    "        **CARD_COL_STYLE\n",
    "    )\n",
    "    return card"
   ]
  },
  {
   "cell_type": "markdown",
   "id": "ecdff953-c07b-41eb-b238-3f1a45317e5e",
   "metadata": {},
   "source": [
    "#### Create Chart"
   ]
  },
  {
   "cell_type": "code",
   "execution_count": null,
   "id": "f8923d5f-f576-4959-a6b4-cdb2952fcea5",
   "metadata": {
    "tags": []
   },
   "outputs": [],
   "source": [
    "#Style used for chart\n",
    "CHART_COL_STYLE = {\n",
    "    \"xs\": 12,\n",
    "    \"sm\": 12,\n",
    "    \"md\": 12,\n",
    "    \"lg\": 6,\n",
    "    \"xl\": 6\n",
    "}"
   ]
  },
  {
   "cell_type": "markdown",
   "id": "b43d90c6-2ffe-4e04-9599-9a5afebe8ea9",
   "metadata": {},
   "source": [
    "##### Barline chart"
   ]
  },
  {
   "cell_type": "code",
   "execution_count": null,
   "id": "709fa16a-9431-4ff8-a5a4-7fb2e38d519b",
   "metadata": {
    "tags": []
   },
   "outputs": [],
   "source": [
    "def create_barlinechart(df,\n",
    "                        label=\"DATE\",\n",
    "                        value=\"VALUE\",\n",
    "                        varv=\"VARV\",\n",
    "                        xaxis_title=\"Months\",\n",
    "                        yaxis_title_r=None,\n",
    "                        yaxis_title_l=None):\n",
    "    \n",
    "    # Create figure with secondary y-axis\n",
    "    fig = make_subplots(specs=[[{\"secondary_y\": True}]])\n",
    "\n",
    "    # Add traces\n",
    "    fig.add_trace(\n",
    "        go.Bar(\n",
    "            x=df[label],\n",
    "            y=df[varv],\n",
    "            marker=dict(color=\"#ADD8E6\"),\n",
    "        ),\n",
    "        secondary_y=False,\n",
    "    )\n",
    "    fig.add_trace(\n",
    "        go.Scatter(\n",
    "            x=df[label],\n",
    "            y=df[value],\n",
    "            mode=\"lines\",\n",
    "            line=dict(color=\"#0A66C2\", width=2.5),\n",
    "        ),\n",
    "        secondary_y=True,\n",
    "    )\n",
    "\n",
    "    # Add figure title\n",
    "    fig.update_layout(\n",
    "        title=\"Plotly - Barline chart\",\n",
    "        title_font=dict(family=\"Arial\", size=18, color=\"black\"),\n",
    "        legend=None,\n",
    "        plot_bgcolor=\"#ffffff\",\n",
    "        paper_bgcolor=\"white\",\n",
    "        xaxis_title=xaxis_title,\n",
    "        xaxis_title_font=dict(family=\"Arial\", size=10, color=\"black\"),\n",
    "    )\n",
    "\n",
    "    # Set y-axes titles\n",
    "    fig.update_yaxes(\n",
    "        title_text=yaxis_title_r,\n",
    "        title_font=dict(family=\"Arial\", size=10, color=\"black\"),\n",
    "        secondary_y=False\n",
    "    )\n",
    "    fig.update_yaxes(\n",
    "        title_text=yaxis_title_l,\n",
    "        title_font=dict(family=\"Arial\", size=10, color=\"black\"),\n",
    "        secondary_y=True\n",
    "    )\n",
    "    fig.update_traces(showlegend=False)\n",
    "    fig.show()\n",
    "    return fig\n",
    "\n",
    "\n",
    "# Create dataframe to test function\n",
    "df_barline_test = df_barline.copy()\n",
    "df_barline_test = df_barline_test[(df_barline_test.ENTITY == entities[0]) & \n",
    "                                  (df_barline_test.SCENARIO == scenarios[0])]\n",
    "\n",
    "# Display result\n",
    "fig = create_barlinechart(df_barline_test,\n",
    "                          yaxis_title_r=\"Variation\",\n",
    "                          yaxis_title_l=\"Value\")"
   ]
  },
  {
   "cell_type": "markdown",
   "id": "fd1d09b0-20eb-4d8e-a6a1-8e4ca908bdf4",
   "metadata": {},
   "source": [
    "### Dash App"
   ]
  },
  {
   "cell_type": "code",
   "execution_count": null,
   "id": "d8d7988b-0d84-481e-9a8b-9ce487573eba",
   "metadata": {
    "tags": []
   },
   "outputs": [],
   "source": [
    "# Init App\n",
    "app = dash.Dash(\n",
    "    requests_pathname_prefix=f'/user/{os.environ.get(\"JUPYTERHUB_USER\")}/proxy/{DASH_PORT}/', \n",
    "    external_stylesheets=[dbc.themes.BOOTSTRAP],\n",
    "    meta_tags=[{'name': 'viewport','content': 'width=device-width, initial-scale=1.0'}]\n",
    "                \n",
    ")\n",
    "\n",
    "# App title\n",
    "app.title = APP_TITLE\n",
    "\n",
    "# App layout\n",
    "app.layout = html.Div(\n",
    "    [\n",
    "        #Navbar\n",
    "        navbar,\n",
    "        \n",
    "        #HKPIS\n",
    "        html.Div(\n",
    "            [\n",
    "                dbc.Row(\n",
    "                    [\n",
    "                        create_card_col(\"card1\", \"🧬 Carbon Dioxyde\", \"419 ppm\"),\n",
    "                        create_card_col(\"card2\", \"🌡 Temperature\", \"+0.85°C\"),\n",
    "                        create_card_col(\"card3\", \"❄️ Artic Sea Ice\", \"-13% per decade\"),\n",
    "                        create_card_col(\"card4\", \"🧊 Ice Sheet\", \"-152 bilions metric\"),\n",
    "                        create_card_col(\"card5\", \"🌊 Sea Level\", \"+1O1 mm\"),\n",
    "                        create_card_col(\"card6\", \"🔥 Ocean Heat\", \"+337 zettajoules\"),\n",
    "                    ],\n",
    "                    className=\"g-0 d-flex align-items-center\",\n",
    "                    style={}\n",
    "                )\n",
    "            ]\n",
    "        ),\n",
    "\n",
    "        #Charts    \n",
    "        html.Div(\n",
    "            [\n",
    "                dbc.Row(\n",
    "                    [\n",
    "                        dbc.Col(\n",
    "                            [\n",
    "                                dcc.Graph(id=\"fig1\", figure=fig)\n",
    "                            ],\n",
    "                            **CHART_COL_STYLE\n",
    "                        ),\n",
    "                        dbc.Col(\n",
    "                            [\n",
    "                                dcc.Graph(id=\"fig2\")\n",
    "                            ],\n",
    "                            **CHART_COL_STYLE\n",
    "                        )\n",
    "                    ]\n",
    "                ),\n",
    "                dbc.Row(\n",
    "                    [\n",
    "                        dbc.Col(\n",
    "                            [\n",
    "                                dcc.Graph(id=\"fig3\")\n",
    "                            ],\n",
    "                            **CHART_COL_STYLE\n",
    "                        ),\n",
    "                        dbc.Col(\n",
    "                            [\n",
    "                                dcc.Graph(id=\"fig4\")\n",
    "                            ],\n",
    "                            **CHART_COL_STYLE\n",
    "                        )\n",
    "                    ]\n",
    "                )\n",
    "            ]\n",
    "            ,style={}\n",
    "        ),\n",
    "    ],\n",
    "\n",
    ")\n",
    "\n",
    "# add callback for toggling the collapse on small screens\n",
    "@app.callback(\n",
    "    Output(\"navbar-collapse\", \"is_open\"),\n",
    "    [Input(\"navbar-toggler\", \"n_clicks\")],\n",
    "    [State(\"navbar-collapse\", \"is_open\")],\n",
    ")\n",
    "def toggle_navbar_collapse(n, is_open):\n",
    "    if n:\n",
    "        return not is_open\n",
    "    return is_open\n",
    "\n",
    "@app.callback(\n",
    "    [\n",
    "        Output('card1', 'children'),\n",
    "        Output('card2', 'children'),\n",
    "        Output('card3', 'children'),\n",
    "        Output('card4', 'children'), \n",
    "        Output('card5', 'children'),\n",
    "        Output('card6', 'children'),\n",
    "        Output('fig1', 'figure'),\n",
    "        Output('fig2', 'figure'), \n",
    "        Output('fig3', 'figure'),\n",
    "        Output('fig4', 'figure'), \n",
    "    ],\n",
    "    [\n",
    "        Input('entity', 'value'),\n",
    "        Input('scenario', 'value')\n",
    "    ]\n",
    "    \n",
    ")\n",
    "\n",
    "def multi_outputs(entity, scenario):\n",
    "    if entity is None and scenario is None:\n",
    "        raise PreventUpdate\n",
    "        \n",
    "    # Get HKPIs dataframe\n",
    "    df = df_hkpis.copy()\n",
    "    df = df[(df[\"ENTITY\"] == entity) & (df[\"SCENARIO\"].astype(str) == scenario)]\n",
    "    \n",
    "    # Return card data\n",
    "    card1 = df.loc[df[\"LABEL\"] == \"🧬 Carbon Dioxyde\", \"VALUE_D\"]\n",
    "    card2 = df.loc[df[\"LABEL\"] == \"🌡 Temperature\", \"VALUE_D\"]\n",
    "    card3 = df.loc[df[\"LABEL\"] == \"❄️ Artic Sea Ice\", \"VALUE_D\"]\n",
    "    card4 = df.loc[df[\"LABEL\"] == \"🧊 Ice Sheet\", \"VALUE_D\"]\n",
    "    card5 = df.loc[df[\"LABEL\"] == \"🌊 Sea Level\", \"VALUE_D\"]\n",
    "    card6 = df.loc[df[\"LABEL\"] == \"🔥 Ocean Heat\", \"VALUE_D\"]\n",
    "    \n",
    "    # Get graph dataframe\n",
    "    df1 = df_barline.copy()\n",
    "    df1 = df1[(df1[\"ENTITY\"] == entity) & (df1[\"SCENARIO\"].astype(str) == scenario)]\n",
    "    \n",
    "    # Create graph\n",
    "    fig1 = create_barlinechart(df1, yaxis_title_r=\"Variation\", yaxis_title_l=\"Value\")\n",
    "    fig2 = create_barlinechart(df1, yaxis_title_r=\"Variation\", yaxis_title_l=\"Value\")\n",
    "    fig3 = create_barlinechart(df1, yaxis_title_r=\"Variation\", yaxis_title_l=\"Value\")\n",
    "    fig4 = create_barlinechart(df1, yaxis_title_r=\"Variation\", yaxis_title_l=\"Value\")\n",
    "    return card1, card2, card3, card4, card5, card6, fig1, fig2, fig3, fig4"
   ]
  },
  {
   "cell_type": "markdown",
   "id": "lonely-pacific",
   "metadata": {
    "execution": {
     "iopub.execute_input": "2021-07-02T23:32:10.789097Z",
     "iopub.status.busy": "2021-07-02T23:32:10.788829Z",
     "iopub.status.idle": "2021-07-02T23:32:10.796900Z",
     "shell.execute_reply": "2021-07-02T23:32:10.796358Z",
     "shell.execute_reply.started": "2021-07-02T23:32:10.789033Z"
    },
    "papermill": {},
    "tags": []
   },
   "source": [
    "## Output"
   ]
  },
  {
   "cell_type": "markdown",
   "id": "890f7c86-b7bb-4f5d-9a1b-e492dd9580fd",
   "metadata": {
    "papermill": {},
    "tags": []
   },
   "source": [
    "### Generate URL and show logs"
   ]
  },
  {
   "cell_type": "code",
   "execution_count": null,
   "id": "9c4e3b7b-6440-4844-8054-265f1aec65eb",
   "metadata": {
    "papermill": {},
    "tags": []
   },
   "outputs": [],
   "source": [
    "if __name__ == '__main__':\n",
    "    app.run_server(proxy=f\"http://127.0.0.1:{DASH_PORT}::https://app.naas.ai\")"
   ]
  },
  {
   "cell_type": "code",
   "execution_count": null,
   "id": "5fe75888-024a-4f53-971d-91c12e4c21fb",
   "metadata": {},
   "outputs": [],
   "source": []
  }
 ],
 "metadata": {
  "kernelspec": {
   "display_name": "Python 3",
   "language": "python",
   "name": "python3"
  },
  "language_info": {
   "codemirror_mode": {
    "name": "ipython",
    "version": 3
   },
   "file_extension": ".py",
   "mimetype": "text/x-python",
   "name": "python",
   "nbconvert_exporter": "python",
   "pygments_lexer": "ipython3",
   "version": "3.9.6"
  },
  "papermill": {
   "default_parameters": {},
   "environment_variables": {},
   "parameters": {},
   "version": "2.3.3"
  },
  "widgets": {
   "application/vnd.jupyter.widget-state+json": {
    "state": {},
    "version_major": 2,
    "version_minor": 0
   }
  }
 },
 "nbformat": 4,
 "nbformat_minor": 5
}
