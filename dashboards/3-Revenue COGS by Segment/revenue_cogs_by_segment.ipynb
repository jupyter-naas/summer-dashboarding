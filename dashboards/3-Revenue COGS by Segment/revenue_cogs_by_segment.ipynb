{
 "cells": [
  {
   "cell_type": "markdown",
   "id": "latin-packing",
   "metadata": {
    "execution": {
     "iopub.execute_input": "2021-02-23T14:22:16.610471Z",
     "iopub.status.busy": "2021-02-23T14:22:16.610129Z",
     "iopub.status.idle": "2021-02-23T14:22:16.627784Z",
     "shell.execute_reply": "2021-02-23T14:22:16.626866Z",
     "shell.execute_reply.started": "2021-02-23T14:22:16.610384Z"
    },
    "papermill": {},
    "tags": []
   },
   "source": [
    "<img width=\"10%\" alt=\"Naas\" src=\"https://landen.imgix.net/jtci2pxwjczr/assets/5ice39g4.png?w=160\"/>"
   ]
  },
  {
   "cell_type": "markdown",
   "id": "compressed-wilson",
   "metadata": {
    "papermill": {},
    "tags": []
   },
   "source": [
    "# Revenue & COGS by Segment Dashboard "
   ]
  },
  {
   "cell_type": "markdown",
   "id": "religious-programmer",
   "metadata": {
    "papermill": {},
    "tags": []
   },
   "source": [
    "**Tags:** #dashboard #plotly #dash #naas #asset #automation #ai #analytics"
   ]
  },
  {
   "cell_type": "markdown",
   "id": "1fe9f56e-561c-4f52-aef8-b861c9462107",
   "metadata": {
    "papermill": {},
    "tags": []
   },
   "source": [
    "**Author:** [Jeremy Ravenel](https://www.linkedin.com/in/jeremyravenel/) & [Fernando Chavez Osuna](https://www.linkedin.com/in/fernando-chavez-osuna-1a420a181)"
   ]
  },
  {
   "cell_type": "markdown",
   "id": "31ea7cdb-e10d-43fc-b026-f69249a59736",
   "metadata": {
    "papermill": {},
    "tags": []
   },
   "source": [
    "This notebook enables you to generate a dashboard about Revenue & COGS by segment."
   ]
  },
  {
   "cell_type": "markdown",
   "id": "distinguished-truth",
   "metadata": {
    "papermill": {},
    "tags": []
   },
   "source": [
    "## Input"
   ]
  },
  {
   "cell_type": "markdown",
   "id": "f5d505b9-238e-4704-ba8f-16dea3af15e5",
   "metadata": {
    "papermill": {},
    "tags": []
   },
   "source": [
    "### Install packages"
   ]
  },
  {
   "cell_type": "code",
   "execution_count": 2,
   "id": "7b6cda7a-77c6-464c-bdef-cfcaebe83255",
   "metadata": {
    "execution": {
     "iopub.execute_input": "2022-08-12T08:15:20.841722Z",
     "iopub.status.busy": "2022-08-12T08:15:20.841452Z",
     "iopub.status.idle": "2022-08-12T08:15:29.080564Z",
     "shell.execute_reply": "2022-08-12T08:15:29.079874Z",
     "shell.execute_reply.started": "2022-08-12T08:15:20.841697Z"
    },
    "papermill": {},
    "tags": []
   },
   "outputs": [
    {
     "name": "stdout",
     "output_type": "stream",
     "text": [
      "Collecting dash_bootstrap_components\n",
      "  Using cached dash_bootstrap_components-1.2.1-py3-none-any.whl (216 kB)\n",
      "Requirement already satisfied: dash>=2.0.0 in /home/ftp/.local/lib/python3.9/site-packages (from dash_bootstrap_components) (2.6.1)\n",
      "Requirement already satisfied: Flask>=1.0.4 in /home/ftp/.local/lib/python3.9/site-packages (from dash>=2.0.0->dash_bootstrap_components) (2.2.0)\n",
      "Requirement already satisfied: dash-core-components==2.0.0 in /home/ftp/.local/lib/python3.9/site-packages (from dash>=2.0.0->dash_bootstrap_components) (2.0.0)\n",
      "Requirement already satisfied: dash-html-components==2.0.0 in /home/ftp/.local/lib/python3.9/site-packages (from dash>=2.0.0->dash_bootstrap_components) (2.0.0)\n",
      "Requirement already satisfied: plotly>=5.0.0 in /home/ftp/.local/lib/python3.9/site-packages (from dash>=2.0.0->dash_bootstrap_components) (5.9.0)\n",
      "Requirement already satisfied: flask-compress in /home/ftp/.local/lib/python3.9/site-packages (from dash>=2.0.0->dash_bootstrap_components) (1.12)\n",
      "Requirement already satisfied: dash-table==5.0.0 in /home/ftp/.local/lib/python3.9/site-packages (from dash>=2.0.0->dash_bootstrap_components) (5.0.0)\n",
      "Requirement already satisfied: importlib-metadata>=3.6.0 in /opt/conda/lib/python3.9/site-packages (from Flask>=1.0.4->dash>=2.0.0->dash_bootstrap_components) (4.6.3)\n",
      "Requirement already satisfied: click>=8.0 in /opt/conda/lib/python3.9/site-packages (from Flask>=1.0.4->dash>=2.0.0->dash_bootstrap_components) (8.1.3)\n",
      "Requirement already satisfied: Jinja2>=3.0 in /opt/conda/lib/python3.9/site-packages (from Flask>=1.0.4->dash>=2.0.0->dash_bootstrap_components) (3.0.3)\n",
      "Requirement already satisfied: Werkzeug>=2.2.0 in /opt/conda/lib/python3.9/site-packages (from Flask>=1.0.4->dash>=2.0.0->dash_bootstrap_components) (2.2.1)\n",
      "Requirement already satisfied: itsdangerous>=2.0 in /home/ftp/.local/lib/python3.9/site-packages (from Flask>=1.0.4->dash>=2.0.0->dash_bootstrap_components) (2.1.2)\n",
      "Requirement already satisfied: tenacity>=6.2.0 in /opt/conda/lib/python3.9/site-packages (from plotly>=5.0.0->dash>=2.0.0->dash_bootstrap_components) (8.0.1)\n",
      "Requirement already satisfied: brotli in /opt/conda/lib/python3.9/site-packages (from flask-compress->dash>=2.0.0->dash_bootstrap_components) (1.0.9)\n",
      "Requirement already satisfied: zipp>=0.5 in /opt/conda/lib/python3.9/site-packages (from importlib-metadata>=3.6.0->Flask>=1.0.4->dash>=2.0.0->dash_bootstrap_components) (3.5.0)\n",
      "Requirement already satisfied: MarkupSafe>=2.0 in /home/ftp/.local/lib/python3.9/site-packages (from Jinja2>=3.0->Flask>=1.0.4->dash>=2.0.0->dash_bootstrap_components) (2.1.1)\n",
      "Installing collected packages: dash_bootstrap_components\n",
      "Successfully installed dash_bootstrap_components-1.2.1\n",
      "\n",
      "\u001b[1m[\u001b[0m\u001b[34;49mnotice\u001b[0m\u001b[1;39;49m]\u001b[0m\u001b[39;49m A new release of pip available: \u001b[0m\u001b[31;49m22.2.1\u001b[0m\u001b[39;49m -> \u001b[0m\u001b[32;49m22.2.2\u001b[0m\n",
      "\u001b[1m[\u001b[0m\u001b[34;49mnotice\u001b[0m\u001b[1;39;49m]\u001b[0m\u001b[39;49m To update, run: \u001b[0m\u001b[32;49mpip install --upgrade pip\u001b[0m\n"
     ]
    }
   ],
   "source": [
    "#!pip install dash --user   \n",
    "#!pip install dash-html-components                                         \n",
    "#!pip install dash-core-components                                     \n",
    "#!pip install plotly\n",
    "!pip install dash_bootstrap_components --user"
   ]
  },
  {
   "cell_type": "markdown",
   "id": "numeric-mediterranean",
   "metadata": {
    "papermill": {},
    "tags": []
   },
   "source": [
    "### Import library"
   ]
  },
  {
   "cell_type": "code",
   "execution_count": 1,
   "id": "potential-surfing",
   "metadata": {
    "execution": {
     "iopub.execute_input": "2022-08-12T09:07:18.625647Z",
     "iopub.status.busy": "2022-08-12T09:07:18.625453Z",
     "iopub.status.idle": "2022-08-12T09:07:21.696371Z",
     "shell.execute_reply": "2022-08-12T09:07:21.695775Z",
     "shell.execute_reply.started": "2022-08-12T09:07:18.625595Z"
    },
    "papermill": {},
    "tags": []
   },
   "outputs": [],
   "source": [
    "import dash\n",
    "from dash import html, dcc, Input, Output, State\n",
    "import dash_bootstrap_components as dbc\n",
    "import plotly.graph_objects as go\n",
    "import plotly.express as px\n",
    "import os\n",
    "import naas_drivers\n",
    "from dash_bootstrap_components._components.Container import Container\n",
    "import pandas as pd"
   ]
  },
  {
   "cell_type": "markdown",
   "id": "aggressive-trustee",
   "metadata": {
    "papermill": {},
    "tags": []
   },
   "source": [
    "### Defining the port of the dashboard"
   ]
  },
  {
   "cell_type": "code",
   "execution_count": 2,
   "id": "continuous-melbourne",
   "metadata": {
    "execution": {
     "iopub.execute_input": "2022-08-12T09:07:21.697693Z",
     "iopub.status.busy": "2022-08-12T09:07:21.697467Z",
     "iopub.status.idle": "2022-08-12T09:07:21.702284Z",
     "shell.execute_reply": "2022-08-12T09:07:21.701757Z",
     "shell.execute_reply.started": "2022-08-12T09:07:21.697664Z"
    },
    "papermill": {},
    "tags": []
   },
   "outputs": [],
   "source": [
    "DASH_PORT = 8050"
   ]
  },
  {
   "cell_type": "markdown",
   "id": "registered-showcase",
   "metadata": {
    "papermill": {},
    "tags": []
   },
   "source": [
    "## Model"
   ]
  },
  {
   "cell_type": "markdown",
   "id": "f6558026-6566-4b4d-ab74-a5eec170f57b",
   "metadata": {},
   "source": [
    "### Data"
   ]
  },
  {
   "cell_type": "markdown",
   "id": "d32dd999-e7f9-4332-b145-933fbc678caf",
   "metadata": {},
   "source": [
    "#### Input data from Gsheets"
   ]
  },
  {
   "cell_type": "code",
   "execution_count": 9,
   "id": "d86a116f-97b6-4fc8-9a26-10415562a635",
   "metadata": {
    "execution": {
     "iopub.execute_input": "2022-08-07T12:05:47.750403Z",
     "iopub.status.busy": "2022-08-07T12:05:47.750041Z",
     "iopub.status.idle": "2022-08-07T12:05:47.758753Z",
     "shell.execute_reply": "2022-08-07T12:05:47.757382Z",
     "shell.execute_reply.started": "2022-08-07T12:05:47.750363Z"
    },
    "tags": []
   },
   "outputs": [],
   "source": [
    "spreadsheet_id = \"1yi0qzuUEnE9wMWWQFIVq5Uou8ChxFqF0MMqFM5FtVIM\""
   ]
  },
  {
   "cell_type": "markdown",
   "id": "aac432b4-bbe6-402b-85d0-3461b3ec0ee3",
   "metadata": {},
   "source": [
    "#### Highlighted KPIs"
   ]
  },
  {
   "cell_type": "code",
   "execution_count": 11,
   "id": "2537c49b-e1f7-4115-97ba-3ef1cba717c0",
   "metadata": {
    "execution": {
     "iopub.execute_input": "2022-08-07T12:05:56.905698Z",
     "iopub.status.busy": "2022-08-07T12:05:56.905464Z",
     "iopub.status.idle": "2022-08-07T12:05:57.766086Z",
     "shell.execute_reply": "2022-08-07T12:05:57.765369Z",
     "shell.execute_reply.started": "2022-08-07T12:05:56.905677Z"
    },
    "tags": []
   },
   "outputs": [],
   "source": [
    "# Dataframe is returned\n",
    "df_hkpis = naas_drivers.gsheet.connect(spreadsheet_id).get(\n",
    "    sheet_name=\"KPIS\"\n",
    ")"
   ]
  },
  {
   "cell_type": "markdown",
   "id": "ffcb9e3e-7bfa-47f8-bc04-590691eefc58",
   "metadata": {},
   "source": [
    "#### Mock data for bar chart"
   ]
  },
  {
   "cell_type": "code",
   "execution_count": 3,
   "id": "617bf433-1a9a-4259-b148-5e581444a7d8",
   "metadata": {
    "execution": {
     "iopub.execute_input": "2022-08-12T09:07:23.461467Z",
     "iopub.status.busy": "2022-08-12T09:07:23.461212Z",
     "iopub.status.idle": "2022-08-12T09:07:23.466640Z",
     "shell.execute_reply": "2022-08-12T09:07:23.466019Z",
     "shell.execute_reply.started": "2022-08-12T09:07:23.461437Z"
    },
    "tags": []
   },
   "outputs": [],
   "source": [
    "df = pd.DataFrame({\n",
    "    \"Segment\": [\"Channel Part\", \"Channel Part\", \n",
    "                \"Enterprise\", \"Enterprise\", \n",
    "                \"Goverment\", \"Goverment\", \n",
    "                \"Midmarket\", \"Midmarket\", \n",
    "                \"Small Business\", \"Small Business\"],\n",
    "    \"Gross_Sales_COGS\": [2000000, 1000000, \n",
    "                         20000000, 18000000, \n",
    "                         58000000, 40000000, \n",
    "                         3000000, 3000000, \n",
    "                         50000000, 38000000],\n",
    "    \"Measures\": [\"Gross Sales\", \"COGS\", \n",
    "                 \"Gross Sales\",\"COGS\", \n",
    "                 \"Gross Sales\", \"COGS\", \n",
    "                 \"Gross Sales\", \"COGS\", \n",
    "                 \"Gross Sales\", \"COGS\"]\n",
    "})"
   ]
  },
  {
   "cell_type": "markdown",
   "id": "aa05d0ea-987a-4589-9727-ec09d526a37b",
   "metadata": {
    "execution": {
     "iopub.execute_input": "2022-08-08T12:37:38.591314Z",
     "iopub.status.busy": "2022-08-08T12:37:38.591029Z",
     "iopub.status.idle": "2022-08-08T12:37:38.594413Z",
     "shell.execute_reply": "2022-08-08T12:37:38.593776Z",
     "shell.execute_reply.started": "2022-08-08T12:37:38.591250Z"
    },
    "tags": []
   },
   "source": [
    "### Create Graphs"
   ]
  },
  {
   "cell_type": "markdown",
   "id": "9baacf1d-7dbd-4398-8f63-9de552af0043",
   "metadata": {
    "papermill": {},
    "tags": []
   },
   "source": [
    "#### Gross Sales & COGS by Segment"
   ]
  },
  {
   "cell_type": "code",
   "execution_count": 4,
   "id": "c7bb0592-3522-49e7-be1f-e4706dd18b8a",
   "metadata": {
    "execution": {
     "iopub.execute_input": "2022-08-12T09:07:26.224069Z",
     "iopub.status.busy": "2022-08-12T09:07:26.223839Z",
     "iopub.status.idle": "2022-08-12T09:07:26.228162Z",
     "shell.execute_reply": "2022-08-12T09:07:26.227497Z",
     "shell.execute_reply.started": "2022-08-12T09:07:26.224046Z"
    },
    "papermill": {},
    "tags": []
   },
   "outputs": [],
   "source": [
    "def sales_cogs_segment(df, segment, gross_sales, measures):\n",
    "    \n",
    "    bar_fig = px.bar(df, \n",
    "                     x=segment, \n",
    "                     y=gross_sales, \n",
    "                     color=measures, \n",
    "                     barmode=\"group\", \n",
    "                     title='<b>Gross Sales and COGS by Segment', \n",
    "                     color_discrete_sequence=px.colors.qualitative.T10\n",
    "                    )\n",
    "    \n",
    "    bar_fig.update_xaxes(ticks='outside', title='Segment')\n",
    "    bar_fig.update_yaxes(ticks='outside', title='Gross Sales & COGS')\n",
    "    \n",
    "    bar_fig.update_layout(plot_bgcolor='rgba(0,0,0,0)', width=600, height=700)\n",
    "    \n",
    "    return bar_fig  "
   ]
  },
  {
   "cell_type": "markdown",
   "id": "dbab68a6-4016-4ded-b06b-98a7db5be0cf",
   "metadata": {
    "papermill": {},
    "tags": []
   },
   "source": [
    "#### Sales by Segment"
   ]
  },
  {
   "cell_type": "code",
   "execution_count": 5,
   "id": "8618936c-99f6-4512-a406-22ebba6313c3",
   "metadata": {
    "execution": {
     "iopub.execute_input": "2022-08-12T09:07:29.451246Z",
     "iopub.status.busy": "2022-08-12T09:07:29.451017Z",
     "iopub.status.idle": "2022-08-12T09:07:29.454799Z",
     "shell.execute_reply": "2022-08-12T09:07:29.454076Z",
     "shell.execute_reply.started": "2022-08-12T09:07:29.451223Z"
    },
    "papermill": {},
    "tags": []
   },
   "outputs": [],
   "source": [
    "def sales_segment(df, segment, sales):\n",
    "    pie_fig = px.pie(df, values=sales, names=segment, title='<b>Sales by Segment', hole=0.5, width=400, height=400)\n",
    "    \n",
    "    pie_fig.update_traces(textinfo='none')\n",
    "    \n",
    "    return pie_fig  "
   ]
  },
  {
   "cell_type": "markdown",
   "id": "2cd237ee-e609-4858-ade6-be26c5f6718e",
   "metadata": {
    "papermill": {},
    "tags": []
   },
   "source": [
    "#### Gross Sales by Country and Product"
   ]
  },
  {
   "cell_type": "code",
   "execution_count": 6,
   "id": "122d8c69-d7a3-424b-9891-1f7daf076686",
   "metadata": {
    "execution": {
     "iopub.execute_input": "2022-08-12T09:07:32.335630Z",
     "iopub.status.busy": "2022-08-12T09:07:32.335407Z",
     "iopub.status.idle": "2022-08-12T09:07:32.358485Z",
     "shell.execute_reply": "2022-08-12T09:07:32.357833Z",
     "shell.execute_reply.started": "2022-08-12T09:07:32.335609Z"
    },
    "papermill": {},
    "tags": []
   },
   "outputs": [],
   "source": [
    "new_df = pd.DataFrame({\n",
    "            \"country\": [\"Mexico\",\"Mexico\",\"Mexico\",\"Mexico\",\"Mexico\",\"Mexico\", \n",
    "                        \"Japan\",\"Japan\",\"Japan\",\"Japan\",\"Japan\",\"Japan\", \n",
    "                        \"Germany\",\"Germany\",\"Germany\",\"Germany\",\"Germany\",\"Germany\", \n",
    "                        \"Austria\", \"Austria\",\"Austria\",\"Austria\",\"Austria\",\"Austria\",\n",
    "                        \"S.Korea\",\"S.Korea\",\"S.Korea\",\"S.Korea\",\"S.Korea\",\"S.Korea\"],\n",
    "            \"sales\": [4000000, 1000000, 2000000, 2000000, 4000000, 5000000,\n",
    "                      3000000, 1500000, 1000000, 2500000, 3400000, 4500000,\n",
    "                      2300000, 1200000, 900000, 1500000, 2500000, 3200000,\n",
    "                      2000000, 1000000, 700000, 1100000, 2000000, 2500000,\n",
    "                      1500000, 900000, 900000, 1600000, 1700000, 2000000,],\n",
    "            \"product\": [\"Velo\", \"VTT\", \"Paseo\", \"Montana\", \"Carretera\", \"Amarilla\",\n",
    "                        \"Velo\", \"VTT\", \"Paseo\", \"Montana\", \"Carretera\", \"Amarilla\",\n",
    "                        \"Velo\", \"VTT\", \"Paseo\", \"Montana\", \"Carretera\", \"Amarilla\",\n",
    "                        \"Velo\", \"VTT\", \"Paseo\", \"Montana\", \"Carretera\", \"Amarilla\",\n",
    "                        \"Velo\", \"VTT\", \"Paseo\", \"Montana\", \"Carretera\", \"Amarilla\",]\n",
    "})\n",
    "new_df = new_df.groupby(['country','product'])['sales'].sum().reset_index()\n",
    "new_df = new_df.pivot(index='country', columns='product')['sales'].fillna(0)\n",
    "\n",
    "def sales_country_product(df):\n",
    "    heat_fig = px.imshow(df,\n",
    "                         labels=dict(x=\"<b>Product\", y=\"<b>Country\", color=\"<b>Gross Sales\"),\n",
    "                         x=df.columns, \n",
    "                         y=df.index, \n",
    "                         title='<b>Gross Sales by Country and Product', \n",
    "                         width=500, height=600,\n",
    "                         aspect=\"auto\")\n",
    "    \n",
    "    return heat_fig  "
   ]
  },
  {
   "cell_type": "markdown",
   "id": "3ee93f31-81d4-4ad3-8b58-f5b038802ed4",
   "metadata": {
    "execution": {
     "iopub.execute_input": "2022-08-07T12:36:43.651149Z",
     "iopub.status.busy": "2022-08-07T12:36:43.650909Z",
     "iopub.status.idle": "2022-08-07T12:36:43.655756Z",
     "shell.execute_reply": "2022-08-07T12:36:43.655122Z",
     "shell.execute_reply.started": "2022-08-07T12:36:43.651126Z"
    }
   },
   "source": [
    "### Design"
   ]
  },
  {
   "cell_type": "markdown",
   "id": "3cb8edf6-bf0e-46ad-bbea-f0206b531987",
   "metadata": {
    "papermill": {},
    "tags": []
   },
   "source": [
    "#### Initialize Dash app"
   ]
  },
  {
   "cell_type": "code",
   "execution_count": 7,
   "id": "crude-louisville",
   "metadata": {
    "execution": {
     "iopub.execute_input": "2022-08-12T09:07:37.827032Z",
     "iopub.status.busy": "2022-08-12T09:07:37.826804Z",
     "iopub.status.idle": "2022-08-12T09:07:37.839691Z",
     "shell.execute_reply": "2022-08-12T09:07:37.839156Z",
     "shell.execute_reply.started": "2022-08-12T09:07:37.827010Z"
    },
    "papermill": {},
    "tags": []
   },
   "outputs": [],
   "source": [
    "app = dash.Dash(requests_pathname_prefix=f'/user/{os.environ.get(\"JUPYTERHUB_USER\")}/proxy/{DASH_PORT}/', \n",
    "                external_stylesheets=[dbc.themes.BOOTSTRAP])   \n",
    "#app = dash.Dash() if you are not in Naas"
   ]
  },
  {
   "cell_type": "markdown",
   "id": "e69f08a2-abc5-4c69-af08-02fffa15bea8",
   "metadata": {},
   "source": [
    "#### Search Bar"
   ]
  },
  {
   "cell_type": "code",
   "execution_count": null,
   "id": "2e4f9b53-6315-4159-aeb0-f265c509199e",
   "metadata": {
    "tags": []
   },
   "outputs": [],
   "source": [
    "search_bar = dbc.Row(\n",
    "    [\n",
    "        dbc.Col(dbc.Input(type=\"search\", placeholder=\"Explore\")),\n",
    "        dbc.Col(\n",
    "            dbc.Button(\n",
    "                \"Search\", color=\"primary\", className=\"ms-2\", n_clicks=0\n",
    "            ),\n",
    "            width=\"auto\",\n",
    "        ),\n",
    "    ],\n",
    "    className=\"g-0 ms-auto flex-nowrap mt-3 mt-md-0\",\n",
    "    align=\"center\",\n",
    ")"
   ]
  },
  {
   "cell_type": "markdown",
   "id": "5ecbe294-3ca4-4667-8d03-76c464ee013e",
   "metadata": {},
   "source": [
    "#### Dropdown Menu"
   ]
  },
  {
   "cell_type": "code",
   "execution_count": null,
   "id": "6f03315b-7344-4e22-be61-62a1686c9f8b",
   "metadata": {
    "tags": []
   },
   "outputs": [],
   "source": [
    "nav_dropdown = dbc.DropdownMenu(\n",
    "                    children=[\n",
    "                        dbc.DropdownMenuItem(\"By Country\", header=True),\n",
    "                        dbc.DropdownMenuItem(\"France\", href=\"#\"),\n",
    "                        dbc.DropdownMenuItem(\"USA\", href=\"#\"),\n",
    "                        dbc.DropdownMenuItem(\"By Topic\", header=True),\n",
    "                        dbc.DropdownMenuItem(\"Temperature anomaly\", href=\"#\"),\n",
    "                        dbc.DropdownMenuItem(\"COVID 19\", href=\"#\"),\n",
    "                    ],\n",
    "                    label=\"Explore more\",\n",
    "                ),"
   ]
  },
  {
   "cell_type": "markdown",
   "id": "d7bcce05-c843-464f-9ffb-b2bdaad0cb61",
   "metadata": {
    "papermill": {},
    "tags": []
   },
   "source": [
    "#### Create app layout (Working)"
   ]
  },
  {
   "cell_type": "code",
   "execution_count": 10,
   "id": "be0a5c6a-5500-49d4-b1a1-94f1465d0338",
   "metadata": {
    "execution": {
     "iopub.execute_input": "2022-08-12T09:09:59.707941Z",
     "iopub.status.busy": "2022-08-12T09:09:59.707750Z",
     "iopub.status.idle": "2022-08-12T09:10:01.246102Z",
     "shell.execute_reply": "2022-08-12T09:10:01.245462Z",
     "shell.execute_reply.started": "2022-08-12T09:09:59.707920Z"
    },
    "tags": []
   },
   "outputs": [],
   "source": [
    "app.layout = html.Div(\n",
    "    [\n",
    "        dbc.Navbar(\n",
    "            dbc.Container(\n",
    "                [\n",
    "                    html.A(\n",
    "                        # Use row and col to control vertical alignment of logo / brand\n",
    "                        dbc.Row(\n",
    "                            [\n",
    "                                dbc.Col(html.Img(src=\"https://pbs.twimg.com/profile_images/1243203211114274817/WqWaa9Bm_400x400.jpg\", height=\"30px\")),\n",
    "                                dbc.Col(dbc.NavbarBrand(\"Revenue & COGS by Segment\", className=\"ms-2\")),\n",
    "                            ],\n",
    "                            align=\"center\",\n",
    "                            className=\"g-0\",\n",
    "                        ),\n",
    "                        href=\"https://mobile.twitter.com/ws_room/photo\",\n",
    "                        style={\"textDecoration\": \"none\"},\n",
    "                    ),\n",
    "                    #dbc.NavbarToggler(id=\"navbar-toggler\", n_clicks=0),\n",
    "                    dbc.NavItem(dbc.NavLink(\"Twitter\", href=\"https://mobile.twitter.com/ws_room\",target=\"_blank\")),\n",
    "                    dbc.DropdownMenu(\n",
    "                        children=[\n",
    "                            dbc.DropdownMenuItem(\"By Country\", header=True),\n",
    "                            dbc.DropdownMenuItem(\"France\", href=\"#\"),\n",
    "                            dbc.DropdownMenuItem(\"USA\", href=\"#\"),\n",
    "                            dbc.DropdownMenuItem(\"By Topic\", header=True),\n",
    "                            dbc.DropdownMenuItem(\"Temperature anomaly\", href=\"#\"),\n",
    "                            dbc.DropdownMenuItem(\"COVID 19\", href=\"#\"),\n",
    "                        ],\n",
    "                        nav=True,\n",
    "                        in_navbar=True,\n",
    "                        label=\"Explore more\",)\n",
    "                ]\n",
    "            ),\n",
    "            color=\"dark\",\n",
    "            dark=True,\n",
    "        ),        \n",
    "        \n",
    "        #Charts\n",
    "        dbc.Container([ \n",
    "            dbc.Row([\n",
    "               dbc.Col([\n",
    "                    dbc.Row([\n",
    "                        dbc.Col(\n",
    "                            dcc.Graph(\n",
    "                                id='sales-cogs-by-segment',\n",
    "                                figure=sales_cogs_segment(df, df.Segment, df.Gross_Sales_COGS, df.Measures))\n",
    "                        ),\n",
    "                    ]),\n",
    "\n",
    "               ]),\n",
    "               dbc.Col([\n",
    "                    dbc.Row([\n",
    "                        dbc.Col([\n",
    "                            dcc.Graph(\n",
    "                                id='sales-by-segment',\n",
    "                                figure=sales_segment(df, df.Segment, df.Gross_Sales_COGS))\n",
    "                        ]),\n",
    "                    ]),\n",
    "                    dbc.Row([\n",
    "                        dbc.Col([\n",
    "                           dcc.Graph(\n",
    "                                id='heatmap',\n",
    "                                figure=sales_country_product(new_df)) \n",
    "                        ]),\n",
    "                    ]),\n",
    "               ]), \n",
    "            ])\n",
    "        ])           \n",
    "\n",
    "    ]\n",
    ")\n",
    "\n",
    "# add callback for toggling the collapse on small screens\n",
    "@app.callback(\n",
    "    Output(\"navbar-collapse\", \"is_open\"),\n",
    "    [Input(\"navbar-toggler\", \"n_clicks\")],\n",
    "    [State(\"navbar-collapse\", \"is_open\")],\n",
    ")\n",
    "def toggle_navbar_collapse(n, is_open):\n",
    "    if n:\n",
    "        return not is_open\n",
    "    return is_open"
   ]
  },
  {
   "cell_type": "markdown",
   "id": "lonely-pacific",
   "metadata": {
    "execution": {
     "iopub.execute_input": "2021-07-02T23:32:10.789097Z",
     "iopub.status.busy": "2021-07-02T23:32:10.788829Z",
     "iopub.status.idle": "2021-07-02T23:32:10.796900Z",
     "shell.execute_reply": "2021-07-02T23:32:10.796358Z",
     "shell.execute_reply.started": "2021-07-02T23:32:10.789033Z"
    },
    "papermill": {},
    "tags": []
   },
   "source": [
    "## Output"
   ]
  },
  {
   "cell_type": "markdown",
   "id": "890f7c86-b7bb-4f5d-9a1b-e492dd9580fd",
   "metadata": {
    "papermill": {},
    "tags": []
   },
   "source": [
    "### Generate URL and show logs"
   ]
  },
  {
   "cell_type": "code",
   "execution_count": null,
   "id": "9c4e3b7b-6440-4844-8054-265f1aec65eb",
   "metadata": {
    "execution": {
     "iopub.execute_input": "2022-08-12T09:10:04.940392Z",
     "iopub.status.busy": "2022-08-12T09:10:04.940156Z"
    },
    "papermill": {},
    "tags": []
   },
   "outputs": [
    {
     "name": "stdout",
     "output_type": "stream",
     "text": [
      "Dash is running on https://app.naas.ai/user/fcha56@gmail.com/proxy/8050/\n",
      "\n",
      "\u001b[31m\u001b[1mWARNING: This is a development server. Do not use it in a production deployment. Use a production WSGI server instead.\u001b[0m\n",
      " * Serving Flask app '__main__'\n",
      " * Debug mode: off\n"
     ]
    },
    {
     "name": "stderr",
     "output_type": "stream",
     "text": [
      " * Running on http://127.0.0.1:8050 (Press CTRL+C to quit)\n",
      "127.0.0.1 - - [12/Aug/2022 11:10:07] \"GET / HTTP/1.1\" 200 -\n",
      "127.0.0.1 - - [12/Aug/2022 11:10:07] \"GET /_dash-component-suites/dash_bootstrap_components/_components/dash_bootstrap_components.v1_2_1m1660292126.min.js HTTP/1.1\" 200 -\n",
      "127.0.0.1 - - [12/Aug/2022 11:10:07] \"GET /_dash-dependencies HTTP/1.1\" 200 -\n",
      "127.0.0.1 - - [12/Aug/2022 11:10:07] \"GET /_dash-layout HTTP/1.1\" 200 -\n",
      "127.0.0.1 - - [12/Aug/2022 11:10:08] \"GET /_dash-component-suites/dash/dcc/async-graph.js HTTP/1.1\" 200 -\n",
      "127.0.0.1 - - [12/Aug/2022 11:10:08] \"GET /_dash-component-suites/dash/dcc/async-plotlyjs.js HTTP/1.1\" 200 -\n",
      "127.0.0.1 - - [12/Aug/2022 11:10:08] \"GET /_favicon.ico?v=2.6.1 HTTP/1.1\" 200 -\n",
      "127.0.0.1 - - [12/Aug/2022 11:17:02] \"GET /_dash-component-suites/dash/dcc/dash_core_components-shared.js.map HTTP/1.1\" 200 -\n",
      "127.0.0.1 - - [12/Aug/2022 11:17:02] \"GET /_dash-component-suites/dash/dcc/async-graph.js.map HTTP/1.1\" 200 -\n",
      "127.0.0.1 - - [12/Aug/2022 11:17:02] \"GET /_dash-component-suites/dash/dash_table/bundle.js.map HTTP/1.1\" 200 -\n",
      "127.0.0.1 - - [12/Aug/2022 11:17:02] \"GET /_dash-component-suites/dash/html/dash_html_components.min.js.map HTTP/1.1\" 200 -\n",
      "127.0.0.1 - - [12/Aug/2022 11:17:02] \"GET /_dash-component-suites/dash/dcc/dash_core_components.js.map HTTP/1.1\" 200 -\n"
     ]
    }
   ],
   "source": [
    "if __name__ == '__main__':\n",
    "    app.run_server(proxy=f\"http://127.0.0.1:{DASH_PORT}::https://app.naas.ai\")"
   ]
  },
  {
   "cell_type": "code",
   "execution_count": null,
   "id": "ece94a70-a073-44d8-8859-4dcf26d21fe0",
   "metadata": {},
   "outputs": [],
   "source": []
  }
 ],
 "metadata": {
  "kernelspec": {
   "display_name": "Python 3",
   "language": "python",
   "name": "python3"
  },
  "language_info": {
   "codemirror_mode": {
    "name": "ipython",
    "version": 3
   },
   "file_extension": ".py",
   "mimetype": "text/x-python",
   "name": "python",
   "nbconvert_exporter": "python",
   "pygments_lexer": "ipython3",
   "version": "3.9.6"
  },
  "papermill": {
   "default_parameters": {},
   "environment_variables": {},
   "parameters": {},
   "version": "2.3.3"
  },
  "widgets": {
   "application/vnd.jupyter.widget-state+json": {
    "state": {},
    "version_major": 2,
    "version_minor": 0
   }
  }
 },
 "nbformat": 4,
 "nbformat_minor": 5
}
