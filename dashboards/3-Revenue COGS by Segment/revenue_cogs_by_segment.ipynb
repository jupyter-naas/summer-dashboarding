{
 "cells": [
  {
   "cell_type": "markdown",
   "id": "latin-packing",
   "metadata": {
    "execution": {
     "iopub.execute_input": "2021-02-23T14:22:16.610471Z",
     "iopub.status.busy": "2021-02-23T14:22:16.610129Z",
     "iopub.status.idle": "2021-02-23T14:22:16.627784Z",
     "shell.execute_reply": "2021-02-23T14:22:16.626866Z",
     "shell.execute_reply.started": "2021-02-23T14:22:16.610384Z"
    },
    "papermill": {},
    "tags": []
   },
   "source": [
    "<img width=\"10%\" alt=\"Naas\" src=\"https://landen.imgix.net/jtci2pxwjczr/assets/5ice39g4.png?w=160\"/>"
   ]
  },
  {
   "cell_type": "markdown",
   "id": "compressed-wilson",
   "metadata": {
    "papermill": {},
    "tags": []
   },
   "source": [
    "# Revenue & COGS by Segment Dashboard "
   ]
  },
  {
   "cell_type": "markdown",
   "id": "religious-programmer",
   "metadata": {
    "papermill": {},
    "tags": []
   },
   "source": [
    "**Tags:** #dashboard #plotly #dash #naas #asset #automation #ai #analytics"
   ]
  },
  {
   "cell_type": "markdown",
   "id": "1fe9f56e-561c-4f52-aef8-b861c9462107",
   "metadata": {
    "papermill": {},
    "tags": []
   },
   "source": [
    "**Author:** [Jeremy Ravenel](https://www.linkedin.com/in/jeremyravenel/) & [Fernando Chavez Osuna](https://www.linkedin.com/in/fernando-chavez-osuna-1a420a181)"
   ]
  },
  {
   "cell_type": "markdown",
   "id": "31ea7cdb-e10d-43fc-b026-f69249a59736",
   "metadata": {
    "papermill": {},
    "tags": []
   },
   "source": [
    "This notebook enables you to generate a dashboard about Revenue & COGS by segment."
   ]
  },
  {
   "cell_type": "markdown",
   "id": "distinguished-truth",
   "metadata": {
    "papermill": {},
    "tags": []
   },
   "source": [
    "## Input"
   ]
  },
  {
   "cell_type": "markdown",
   "id": "f5d505b9-238e-4704-ba8f-16dea3af15e5",
   "metadata": {
    "papermill": {},
    "tags": []
   },
   "source": [
    "### Install packages"
   ]
  },
  {
   "cell_type": "code",
   "execution_count": 101,
   "id": "7b6cda7a-77c6-464c-bdef-cfcaebe83255",
   "metadata": {
    "execution": {
     "iopub.execute_input": "2022-08-15T22:24:05.989206Z",
     "iopub.status.busy": "2022-08-15T22:24:05.988914Z",
     "iopub.status.idle": "2022-08-15T22:24:10.463133Z",
     "shell.execute_reply": "2022-08-15T22:24:10.462434Z",
     "shell.execute_reply.started": "2022-08-15T22:24:05.989176Z"
    },
    "papermill": {},
    "tags": []
   },
   "outputs": [
    {
     "name": "stdout",
     "output_type": "stream",
     "text": [
      "Requirement already satisfied: dash_bootstrap_components in /home/ftp/.local/lib/python3.9/site-packages (1.2.1)\n",
      "Requirement already satisfied: dash>=2.0.0 in /home/ftp/.local/lib/python3.9/site-packages (from dash_bootstrap_components) (2.6.1)\n",
      "Requirement already satisfied: plotly>=5.0.0 in /home/ftp/.local/lib/python3.9/site-packages (from dash>=2.0.0->dash_bootstrap_components) (5.9.0)\n",
      "Requirement already satisfied: dash-table==5.0.0 in /home/ftp/.local/lib/python3.9/site-packages (from dash>=2.0.0->dash_bootstrap_components) (5.0.0)\n",
      "Requirement already satisfied: Flask>=1.0.4 in /home/ftp/.local/lib/python3.9/site-packages (from dash>=2.0.0->dash_bootstrap_components) (2.2.0)\n",
      "Requirement already satisfied: dash-html-components==2.0.0 in /home/ftp/.local/lib/python3.9/site-packages (from dash>=2.0.0->dash_bootstrap_components) (2.0.0)\n",
      "Requirement already satisfied: dash-core-components==2.0.0 in /home/ftp/.local/lib/python3.9/site-packages (from dash>=2.0.0->dash_bootstrap_components) (2.0.0)\n",
      "Requirement already satisfied: flask-compress in /home/ftp/.local/lib/python3.9/site-packages (from dash>=2.0.0->dash_bootstrap_components) (1.12)\n",
      "Requirement already satisfied: itsdangerous>=2.0 in /home/ftp/.local/lib/python3.9/site-packages (from Flask>=1.0.4->dash>=2.0.0->dash_bootstrap_components) (2.1.2)\n",
      "Requirement already satisfied: Werkzeug>=2.2.0 in /opt/conda/lib/python3.9/site-packages (from Flask>=1.0.4->dash>=2.0.0->dash_bootstrap_components) (2.2.1)\n",
      "Requirement already satisfied: Jinja2>=3.0 in /opt/conda/lib/python3.9/site-packages (from Flask>=1.0.4->dash>=2.0.0->dash_bootstrap_components) (3.0.3)\n",
      "Requirement already satisfied: click>=8.0 in /opt/conda/lib/python3.9/site-packages (from Flask>=1.0.4->dash>=2.0.0->dash_bootstrap_components) (8.1.3)\n",
      "Requirement already satisfied: importlib-metadata>=3.6.0 in /opt/conda/lib/python3.9/site-packages (from Flask>=1.0.4->dash>=2.0.0->dash_bootstrap_components) (4.6.3)\n",
      "Requirement already satisfied: tenacity>=6.2.0 in /opt/conda/lib/python3.9/site-packages (from plotly>=5.0.0->dash>=2.0.0->dash_bootstrap_components) (8.0.1)\n",
      "Requirement already satisfied: brotli in /opt/conda/lib/python3.9/site-packages (from flask-compress->dash>=2.0.0->dash_bootstrap_components) (1.0.9)\n",
      "Requirement already satisfied: zipp>=0.5 in /opt/conda/lib/python3.9/site-packages (from importlib-metadata>=3.6.0->Flask>=1.0.4->dash>=2.0.0->dash_bootstrap_components) (3.5.0)\n",
      "Requirement already satisfied: MarkupSafe>=2.0 in /home/ftp/.local/lib/python3.9/site-packages (from Jinja2>=3.0->Flask>=1.0.4->dash>=2.0.0->dash_bootstrap_components) (2.1.1)\n",
      "\n",
      "\u001b[1m[\u001b[0m\u001b[34;49mnotice\u001b[0m\u001b[1;39;49m]\u001b[0m\u001b[39;49m A new release of pip available: \u001b[0m\u001b[31;49m22.2.1\u001b[0m\u001b[39;49m -> \u001b[0m\u001b[32;49m22.2.2\u001b[0m\n",
      "\u001b[1m[\u001b[0m\u001b[34;49mnotice\u001b[0m\u001b[1;39;49m]\u001b[0m\u001b[39;49m To update, run: \u001b[0m\u001b[32;49mpip install --upgrade pip\u001b[0m\n"
     ]
    }
   ],
   "source": [
    "#!pip install dash --user   \n",
    "#!pip install dash-html-components                                         \n",
    "#!pip install dash-core-components                                     \n",
    "#!pip install plotly\n",
    "!pip install dash_bootstrap_components --user"
   ]
  },
  {
   "cell_type": "markdown",
   "id": "numeric-mediterranean",
   "metadata": {
    "papermill": {},
    "tags": []
   },
   "source": [
    "### Import library"
   ]
  },
  {
   "cell_type": "code",
   "execution_count": 102,
   "id": "potential-surfing",
   "metadata": {
    "execution": {
     "iopub.execute_input": "2022-08-15T22:24:10.464660Z",
     "iopub.status.busy": "2022-08-15T22:24:10.464448Z",
     "iopub.status.idle": "2022-08-15T22:24:10.472919Z",
     "shell.execute_reply": "2022-08-15T22:24:10.472280Z",
     "shell.execute_reply.started": "2022-08-15T22:24:10.464638Z"
    },
    "papermill": {},
    "tags": []
   },
   "outputs": [],
   "source": [
    "import dash\n",
    "from dash import html, dcc, Input, Output, State\n",
    "import dash_bootstrap_components as dbc\n",
    "import plotly.graph_objects as go\n",
    "import plotly.express as px\n",
    "import os\n",
    "import naas_drivers\n",
    "from dash_bootstrap_components._components.Container import Container\n",
    "import pandas as pd"
   ]
  },
  {
   "cell_type": "markdown",
   "id": "aggressive-trustee",
   "metadata": {
    "papermill": {},
    "tags": []
   },
   "source": [
    "### Defining the port of the dashboard"
   ]
  },
  {
   "cell_type": "code",
   "execution_count": 103,
   "id": "continuous-melbourne",
   "metadata": {
    "execution": {
     "iopub.execute_input": "2022-08-15T22:24:13.058690Z",
     "iopub.status.busy": "2022-08-15T22:24:13.058464Z",
     "iopub.status.idle": "2022-08-15T22:24:13.061786Z",
     "shell.execute_reply": "2022-08-15T22:24:13.061069Z",
     "shell.execute_reply.started": "2022-08-15T22:24:13.058667Z"
    },
    "papermill": {},
    "tags": []
   },
   "outputs": [],
   "source": [
    "DASH_PORT = 8050"
   ]
  },
  {
   "cell_type": "markdown",
   "id": "registered-showcase",
   "metadata": {
    "papermill": {},
    "tags": []
   },
   "source": [
    "## Model"
   ]
  },
  {
   "cell_type": "markdown",
   "id": "f6558026-6566-4b4d-ab74-a5eec170f57b",
   "metadata": {},
   "source": [
    "### Data"
   ]
  },
  {
   "cell_type": "markdown",
   "id": "d32dd999-e7f9-4332-b145-933fbc678caf",
   "metadata": {},
   "source": [
    "#### Input data from Gsheets"
   ]
  },
  {
   "cell_type": "code",
   "execution_count": 9,
   "id": "d86a116f-97b6-4fc8-9a26-10415562a635",
   "metadata": {
    "execution": {
     "iopub.execute_input": "2022-08-07T12:05:47.750403Z",
     "iopub.status.busy": "2022-08-07T12:05:47.750041Z",
     "iopub.status.idle": "2022-08-07T12:05:47.758753Z",
     "shell.execute_reply": "2022-08-07T12:05:47.757382Z",
     "shell.execute_reply.started": "2022-08-07T12:05:47.750363Z"
    },
    "tags": []
   },
   "outputs": [],
   "source": [
    "spreadsheet_id = \"1yi0qzuUEnE9wMWWQFIVq5Uou8ChxFqF0MMqFM5FtVIM\""
   ]
  },
  {
   "cell_type": "markdown",
   "id": "aac432b4-bbe6-402b-85d0-3461b3ec0ee3",
   "metadata": {},
   "source": [
    "#### Highlighted KPIs"
   ]
  },
  {
   "cell_type": "code",
   "execution_count": 11,
   "id": "2537c49b-e1f7-4115-97ba-3ef1cba717c0",
   "metadata": {
    "execution": {
     "iopub.execute_input": "2022-08-07T12:05:56.905698Z",
     "iopub.status.busy": "2022-08-07T12:05:56.905464Z",
     "iopub.status.idle": "2022-08-07T12:05:57.766086Z",
     "shell.execute_reply": "2022-08-07T12:05:57.765369Z",
     "shell.execute_reply.started": "2022-08-07T12:05:56.905677Z"
    },
    "tags": []
   },
   "outputs": [],
   "source": [
    "# Dataframe is returned\n",
    "df_hkpis = naas_drivers.gsheet.connect(spreadsheet_id).get(\n",
    "    sheet_name=\"KPIS\"\n",
    ")"
   ]
  },
  {
   "cell_type": "markdown",
   "id": "ffcb9e3e-7bfa-47f8-bc04-590691eefc58",
   "metadata": {},
   "source": [
    "#### Mock data for bar chart"
   ]
  },
  {
   "cell_type": "code",
   "execution_count": 104,
   "id": "617bf433-1a9a-4259-b148-5e581444a7d8",
   "metadata": {
    "execution": {
     "iopub.execute_input": "2022-08-15T22:24:16.319864Z",
     "iopub.status.busy": "2022-08-15T22:24:16.319604Z",
     "iopub.status.idle": "2022-08-15T22:24:16.325115Z",
     "shell.execute_reply": "2022-08-15T22:24:16.324498Z",
     "shell.execute_reply.started": "2022-08-15T22:24:16.319835Z"
    },
    "tags": []
   },
   "outputs": [],
   "source": [
    "df = pd.DataFrame({\n",
    "    \"Segment\": [\"Channel Part\", \"Channel Part\", \n",
    "                \"Enterprise\", \"Enterprise\", \n",
    "                \"Goverment\", \"Goverment\", \n",
    "                \"Midmarket\", \"Midmarket\", \n",
    "                \"Small Business\", \"Small Business\"],\n",
    "    \"Gross_Sales_COGS\": [2000000, 1000000, \n",
    "                         20000000, 18000000, \n",
    "                         58000000, 40000000, \n",
    "                         3000000, 3000000, \n",
    "                         50000000, 38000000],\n",
    "    \"Measures\": [\"Gross Sales\", \"COGS\", \n",
    "                 \"Gross Sales\",\"COGS\", \n",
    "                 \"Gross Sales\", \"COGS\", \n",
    "                 \"Gross Sales\", \"COGS\", \n",
    "                 \"Gross Sales\", \"COGS\"]\n",
    "})"
   ]
  },
  {
   "cell_type": "markdown",
   "id": "aa05d0ea-987a-4589-9727-ec09d526a37b",
   "metadata": {
    "execution": {
     "iopub.execute_input": "2022-08-08T12:37:38.591314Z",
     "iopub.status.busy": "2022-08-08T12:37:38.591029Z",
     "iopub.status.idle": "2022-08-08T12:37:38.594413Z",
     "shell.execute_reply": "2022-08-08T12:37:38.593776Z",
     "shell.execute_reply.started": "2022-08-08T12:37:38.591250Z"
    },
    "tags": []
   },
   "source": [
    "### Create Graphs"
   ]
  },
  {
   "cell_type": "markdown",
   "id": "9baacf1d-7dbd-4398-8f63-9de552af0043",
   "metadata": {
    "papermill": {},
    "tags": []
   },
   "source": [
    "#### Gross Sales & COGS by Segment"
   ]
  },
  {
   "cell_type": "code",
   "execution_count": 130,
   "id": "c7bb0592-3522-49e7-be1f-e4706dd18b8a",
   "metadata": {
    "execution": {
     "iopub.execute_input": "2022-08-15T22:51:19.600427Z",
     "iopub.status.busy": "2022-08-15T22:51:19.600132Z",
     "iopub.status.idle": "2022-08-15T22:51:19.605842Z",
     "shell.execute_reply": "2022-08-15T22:51:19.605197Z",
     "shell.execute_reply.started": "2022-08-15T22:51:19.600392Z"
    },
    "papermill": {},
    "tags": []
   },
   "outputs": [],
   "source": [
    "def sales_cogs_segment(df, segment, gross_sales, measures):\n",
    "    \n",
    "    bar_fig = px.bar(df, \n",
    "                     x=segment, \n",
    "                     y=gross_sales, \n",
    "                     color=measures, \n",
    "                     barmode=\"group\", \n",
    "                     title='<b>Gross Sales and COGS by Segment', \n",
    "                     color_discrete_sequence=['rgb(58,100,152)', 'rgb(240,163,83)'],\n",
    "                    )\n",
    "    \n",
    "    bar_fig.update_xaxes(showline=True, linewidth=1, linecolor='black', ticks='outside', title='<b>Segment',)\n",
    "    bar_fig.update_yaxes(showline=True, linewidth=1, linecolor='black', ticks='outside', title='<b>Gross Sales & COGS')\n",
    "    \n",
    "    bar_fig.update_layout(plot_bgcolor='rgba(0,0,0,0)', width=500, height=700)\n",
    "    \n",
    "    return bar_fig  "
   ]
  },
  {
   "cell_type": "markdown",
   "id": "dbab68a6-4016-4ded-b06b-98a7db5be0cf",
   "metadata": {
    "papermill": {},
    "tags": []
   },
   "source": [
    "#### Sales by Segment"
   ]
  },
  {
   "cell_type": "code",
   "execution_count": 106,
   "id": "8618936c-99f6-4512-a406-22ebba6313c3",
   "metadata": {
    "execution": {
     "iopub.execute_input": "2022-08-15T22:24:21.151861Z",
     "iopub.status.busy": "2022-08-15T22:24:21.151567Z",
     "iopub.status.idle": "2022-08-15T22:24:21.160906Z",
     "shell.execute_reply": "2022-08-15T22:24:21.160273Z",
     "shell.execute_reply.started": "2022-08-15T22:24:21.151829Z"
    },
    "papermill": {},
    "tags": []
   },
   "outputs": [],
   "source": [
    "def sales_segment(df, segment, sales):\n",
    "    pie_fig = px.pie(df, \n",
    "                     values=sales, \n",
    "                     names=segment, title='<b>Sales by Segment', \n",
    "                     hole=0.5, \n",
    "                     width=400, \n",
    "                     height=400, \n",
    "                     color_discrete_sequence=px.colors.qualitative.Vivid)\n",
    "    \n",
    "    pie_fig.update_traces(textinfo='none', )\n",
    "    \n",
    "    return pie_fig  "
   ]
  },
  {
   "cell_type": "markdown",
   "id": "2cd237ee-e609-4858-ade6-be26c5f6718e",
   "metadata": {
    "papermill": {},
    "tags": []
   },
   "source": [
    "#### Gross Sales by Country and Product"
   ]
  },
  {
   "cell_type": "code",
   "execution_count": 201,
   "id": "122d8c69-d7a3-424b-9891-1f7daf076686",
   "metadata": {
    "execution": {
     "iopub.execute_input": "2022-08-15T23:30:13.324669Z",
     "iopub.status.busy": "2022-08-15T23:30:13.324364Z",
     "iopub.status.idle": "2022-08-15T23:30:13.344619Z",
     "shell.execute_reply": "2022-08-15T23:30:13.343145Z",
     "shell.execute_reply.started": "2022-08-15T23:30:13.324640Z"
    },
    "papermill": {},
    "tags": []
   },
   "outputs": [],
   "source": [
    "new_df = pd.DataFrame({\n",
    "            \"country\": [\"Mexico\",\"Mexico\",\"Mexico\",\"Mexico\",\"Mexico\",\"Mexico\", \n",
    "                        \"Japan\",\"Japan\",\"Japan\",\"Japan\",\"Japan\",\"Japan\", \n",
    "                        \"Germany\",\"Germany\",\"Germany\",\"Germany\",\"Germany\",\"Germany\", \n",
    "                        \"Austria\", \"Austria\",\"Austria\",\"Austria\",\"Austria\",\"Austria\",\n",
    "                        \"S.Korea\",\"S.Korea\",\"S.Korea\",\"S.Korea\",\"S.Korea\",\"S.Korea\"],\n",
    "            \"sales\": [4000000, 1000000, 2000000, 2000000, 4000000, 5000000,\n",
    "                      3000000, 1500000, 1000000, 2500000, 3400000, 4500000,\n",
    "                      2300000, 1200000, 900000, 1500000, 2500000, 3200000,\n",
    "                      2000000, 1000000, 700000, 1100000, 2000000, 2500000,\n",
    "                      1500000, 900000, 900000, 1600000, 1700000, 2000000,],\n",
    "            \"product\": [\"Velo\", \"VTT\", \"Paseo\", \"Montana\", \"Carretera\", \"Amarilla\",\n",
    "                        \"Velo\", \"VTT\", \"Paseo\", \"Montana\", \"Carretera\", \"Amarilla\",\n",
    "                        \"Velo\", \"VTT\", \"Paseo\", \"Montana\", \"Carretera\", \"Amarilla\",\n",
    "                        \"Velo\", \"VTT\", \"Paseo\", \"Montana\", \"Carretera\", \"Amarilla\",\n",
    "                        \"Velo\", \"VTT\", \"Paseo\", \"Montana\", \"Carretera\", \"Amarilla\",]\n",
    "})\n",
    "new_df = new_df.groupby(['country','product'])['sales'].sum().reset_index()\n",
    "new_df = new_df.pivot(index='product', columns='country')['sales'].fillna(0)\n",
    "#new_df = new_df.reset_index()\n",
    "\n",
    "def sales_country_product(df):\n",
    "    heat_fig = px.imshow(df,\n",
    "                         labels=dict(x=\"<b>Country\", y=\"<b>Product\", color=\"<b>Gross Sales\"),\n",
    "                         x=df.columns, \n",
    "                         y=df.index, \n",
    "                         title='<b>Gross Sales by Country and Product', \n",
    "                         width=600, height=400,\n",
    "                         aspect=\"auto\", \n",
    "                         color_continuous_scale='Greens')\n",
    "    \n",
    "    return heat_fig"
   ]
  },
  {
   "cell_type": "markdown",
   "id": "3ee93f31-81d4-4ad3-8b58-f5b038802ed4",
   "metadata": {
    "execution": {
     "iopub.execute_input": "2022-08-07T12:36:43.651149Z",
     "iopub.status.busy": "2022-08-07T12:36:43.650909Z",
     "iopub.status.idle": "2022-08-07T12:36:43.655756Z",
     "shell.execute_reply": "2022-08-07T12:36:43.655122Z",
     "shell.execute_reply.started": "2022-08-07T12:36:43.651126Z"
    }
   },
   "source": [
    "### Design"
   ]
  },
  {
   "cell_type": "markdown",
   "id": "3cb8edf6-bf0e-46ad-bbea-f0206b531987",
   "metadata": {
    "papermill": {},
    "tags": []
   },
   "source": [
    "#### Initialize Dash app"
   ]
  },
  {
   "cell_type": "code",
   "execution_count": 108,
   "id": "crude-louisville",
   "metadata": {
    "execution": {
     "iopub.execute_input": "2022-08-15T22:24:27.182405Z",
     "iopub.status.busy": "2022-08-15T22:24:27.182096Z",
     "iopub.status.idle": "2022-08-15T22:24:27.191948Z",
     "shell.execute_reply": "2022-08-15T22:24:27.191309Z",
     "shell.execute_reply.started": "2022-08-15T22:24:27.182370Z"
    },
    "papermill": {},
    "tags": []
   },
   "outputs": [],
   "source": [
    "app = dash.Dash(requests_pathname_prefix=f'/user/{os.environ.get(\"JUPYTERHUB_USER\")}/proxy/{DASH_PORT}/', \n",
    "                external_stylesheets=[dbc.themes.BOOTSTRAP])   \n",
    "#app = dash.Dash() if you are not in Naas"
   ]
  },
  {
   "cell_type": "markdown",
   "id": "e69f08a2-abc5-4c69-af08-02fffa15bea8",
   "metadata": {},
   "source": [
    "#### Search Bar"
   ]
  },
  {
   "cell_type": "code",
   "execution_count": null,
   "id": "2e4f9b53-6315-4159-aeb0-f265c509199e",
   "metadata": {
    "tags": []
   },
   "outputs": [],
   "source": [
    "search_bar = dbc.Row(\n",
    "    [\n",
    "        dbc.Col(dbc.Input(type=\"search\", placeholder=\"Explore\")),\n",
    "        dbc.Col(\n",
    "            dbc.Button(\n",
    "                \"Search\", color=\"primary\", className=\"ms-2\", n_clicks=0\n",
    "            ),\n",
    "            width=\"auto\",\n",
    "        ),\n",
    "    ],\n",
    "    className=\"g-0 ms-auto flex-nowrap mt-3 mt-md-0\",\n",
    "    align=\"center\",\n",
    ")"
   ]
  },
  {
   "cell_type": "markdown",
   "id": "5ecbe294-3ca4-4667-8d03-76c464ee013e",
   "metadata": {},
   "source": [
    "#### Dropdown Menu"
   ]
  },
  {
   "cell_type": "code",
   "execution_count": null,
   "id": "6f03315b-7344-4e22-be61-62a1686c9f8b",
   "metadata": {
    "tags": []
   },
   "outputs": [],
   "source": [
    "nav_dropdown = dbc.DropdownMenu(\n",
    "                    children=[\n",
    "                        dbc.DropdownMenuItem(\"By Country\", header=True),\n",
    "                        dbc.DropdownMenuItem(\"France\", href=\"#\"),\n",
    "                        dbc.DropdownMenuItem(\"USA\", href=\"#\"),\n",
    "                        dbc.DropdownMenuItem(\"By Topic\", header=True),\n",
    "                        dbc.DropdownMenuItem(\"Temperature anomaly\", href=\"#\"),\n",
    "                        dbc.DropdownMenuItem(\"COVID 19\", href=\"#\"),\n",
    "                    ],\n",
    "                    label=\"Explore more\",\n",
    "                ),"
   ]
  },
  {
   "cell_type": "code",
   "execution_count": 253,
   "id": "2b7677d9-8178-4740-8d76-38c60231d16d",
   "metadata": {
    "execution": {
     "iopub.execute_input": "2022-08-16T00:01:21.530436Z",
     "iopub.status.busy": "2022-08-16T00:01:21.530200Z",
     "iopub.status.idle": "2022-08-16T00:01:21.557833Z",
     "shell.execute_reply": "2022-08-16T00:01:21.557215Z",
     "shell.execute_reply.started": "2022-08-16T00:01:21.530409Z"
    },
    "tags": []
   },
   "outputs": [
    {
     "data": {
      "application/vnd.plotly.v1+json": {
       "config": {
        "plotlyServerURL": "https://plot.ly"
       },
       "data": [
        {
         "marker": {
          "color": "rgb(58,100,152)"
         },
         "name": "Gross Sales",
         "type": "bar",
         "x": [
          "Channel Part",
          "Channel Part",
          "Enterprise",
          "Enterprise",
          "Goverment",
          "Goverment",
          "Midmarket",
          "Midmarket",
          "Small Business",
          "Small Business"
         ],
         "y": [
          2000000,
          1000000,
          20000000,
          18000000,
          58000000,
          40000000,
          3000000,
          3000000,
          50000000,
          38000000
         ]
        },
        {
         "marker": {
          "color": "rgb(240,163,83)"
         },
         "name": "COGS",
         "type": "bar",
         "x": [
          "Channel Part",
          "Channel Part",
          "Enterprise",
          "Enterprise",
          "Goverment",
          "Goverment",
          "Midmarket",
          "Midmarket",
          "Small Business",
          "Small Business"
         ],
         "y": [
          2000000,
          1000000,
          20000000,
          18000000,
          58000000,
          40000000,
          3000000,
          3000000,
          50000000,
          38000000
         ]
        }
       ],
       "layout": {
        "autosize": false,
        "barmode": "group",
        "height": 700,
        "legend": {
         "bgcolor": "rgba(255, 255, 255, 0)",
         "bordercolor": "rgba(255, 255, 255, 0)",
         "title": {
          "text": "<b>All Measures"
         },
         "x": 1.1,
         "y": 1
        },
        "margin": {
         "b": 50,
         "l": 50,
         "pad": 4,
         "r": 50,
         "t": 150
        },
        "plot_bgcolor": "rgba(0, 0, 0, 0)",
        "template": {
         "data": {
          "bar": [
           {
            "error_x": {
             "color": "#2a3f5f"
            },
            "error_y": {
             "color": "#2a3f5f"
            },
            "marker": {
             "line": {
              "color": "#E5ECF6",
              "width": 0.5
             },
             "pattern": {
              "fillmode": "overlay",
              "size": 10,
              "solidity": 0.2
             }
            },
            "type": "bar"
           }
          ],
          "barpolar": [
           {
            "marker": {
             "line": {
              "color": "#E5ECF6",
              "width": 0.5
             },
             "pattern": {
              "fillmode": "overlay",
              "size": 10,
              "solidity": 0.2
             }
            },
            "type": "barpolar"
           }
          ],
          "carpet": [
           {
            "aaxis": {
             "endlinecolor": "#2a3f5f",
             "gridcolor": "white",
             "linecolor": "white",
             "minorgridcolor": "white",
             "startlinecolor": "#2a3f5f"
            },
            "baxis": {
             "endlinecolor": "#2a3f5f",
             "gridcolor": "white",
             "linecolor": "white",
             "minorgridcolor": "white",
             "startlinecolor": "#2a3f5f"
            },
            "type": "carpet"
           }
          ],
          "choropleth": [
           {
            "colorbar": {
             "outlinewidth": 0,
             "ticks": ""
            },
            "type": "choropleth"
           }
          ],
          "contour": [
           {
            "colorbar": {
             "outlinewidth": 0,
             "ticks": ""
            },
            "colorscale": [
             [
              0,
              "#0d0887"
             ],
             [
              0.1111111111111111,
              "#46039f"
             ],
             [
              0.2222222222222222,
              "#7201a8"
             ],
             [
              0.3333333333333333,
              "#9c179e"
             ],
             [
              0.4444444444444444,
              "#bd3786"
             ],
             [
              0.5555555555555556,
              "#d8576b"
             ],
             [
              0.6666666666666666,
              "#ed7953"
             ],
             [
              0.7777777777777778,
              "#fb9f3a"
             ],
             [
              0.8888888888888888,
              "#fdca26"
             ],
             [
              1,
              "#f0f921"
             ]
            ],
            "type": "contour"
           }
          ],
          "contourcarpet": [
           {
            "colorbar": {
             "outlinewidth": 0,
             "ticks": ""
            },
            "type": "contourcarpet"
           }
          ],
          "heatmap": [
           {
            "colorbar": {
             "outlinewidth": 0,
             "ticks": ""
            },
            "colorscale": [
             [
              0,
              "#0d0887"
             ],
             [
              0.1111111111111111,
              "#46039f"
             ],
             [
              0.2222222222222222,
              "#7201a8"
             ],
             [
              0.3333333333333333,
              "#9c179e"
             ],
             [
              0.4444444444444444,
              "#bd3786"
             ],
             [
              0.5555555555555556,
              "#d8576b"
             ],
             [
              0.6666666666666666,
              "#ed7953"
             ],
             [
              0.7777777777777778,
              "#fb9f3a"
             ],
             [
              0.8888888888888888,
              "#fdca26"
             ],
             [
              1,
              "#f0f921"
             ]
            ],
            "type": "heatmap"
           }
          ],
          "heatmapgl": [
           {
            "colorbar": {
             "outlinewidth": 0,
             "ticks": ""
            },
            "colorscale": [
             [
              0,
              "#0d0887"
             ],
             [
              0.1111111111111111,
              "#46039f"
             ],
             [
              0.2222222222222222,
              "#7201a8"
             ],
             [
              0.3333333333333333,
              "#9c179e"
             ],
             [
              0.4444444444444444,
              "#bd3786"
             ],
             [
              0.5555555555555556,
              "#d8576b"
             ],
             [
              0.6666666666666666,
              "#ed7953"
             ],
             [
              0.7777777777777778,
              "#fb9f3a"
             ],
             [
              0.8888888888888888,
              "#fdca26"
             ],
             [
              1,
              "#f0f921"
             ]
            ],
            "type": "heatmapgl"
           }
          ],
          "histogram": [
           {
            "marker": {
             "pattern": {
              "fillmode": "overlay",
              "size": 10,
              "solidity": 0.2
             }
            },
            "type": "histogram"
           }
          ],
          "histogram2d": [
           {
            "colorbar": {
             "outlinewidth": 0,
             "ticks": ""
            },
            "colorscale": [
             [
              0,
              "#0d0887"
             ],
             [
              0.1111111111111111,
              "#46039f"
             ],
             [
              0.2222222222222222,
              "#7201a8"
             ],
             [
              0.3333333333333333,
              "#9c179e"
             ],
             [
              0.4444444444444444,
              "#bd3786"
             ],
             [
              0.5555555555555556,
              "#d8576b"
             ],
             [
              0.6666666666666666,
              "#ed7953"
             ],
             [
              0.7777777777777778,
              "#fb9f3a"
             ],
             [
              0.8888888888888888,
              "#fdca26"
             ],
             [
              1,
              "#f0f921"
             ]
            ],
            "type": "histogram2d"
           }
          ],
          "histogram2dcontour": [
           {
            "colorbar": {
             "outlinewidth": 0,
             "ticks": ""
            },
            "colorscale": [
             [
              0,
              "#0d0887"
             ],
             [
              0.1111111111111111,
              "#46039f"
             ],
             [
              0.2222222222222222,
              "#7201a8"
             ],
             [
              0.3333333333333333,
              "#9c179e"
             ],
             [
              0.4444444444444444,
              "#bd3786"
             ],
             [
              0.5555555555555556,
              "#d8576b"
             ],
             [
              0.6666666666666666,
              "#ed7953"
             ],
             [
              0.7777777777777778,
              "#fb9f3a"
             ],
             [
              0.8888888888888888,
              "#fdca26"
             ],
             [
              1,
              "#f0f921"
             ]
            ],
            "type": "histogram2dcontour"
           }
          ],
          "mesh3d": [
           {
            "colorbar": {
             "outlinewidth": 0,
             "ticks": ""
            },
            "type": "mesh3d"
           }
          ],
          "parcoords": [
           {
            "line": {
             "colorbar": {
              "outlinewidth": 0,
              "ticks": ""
             }
            },
            "type": "parcoords"
           }
          ],
          "pie": [
           {
            "automargin": true,
            "type": "pie"
           }
          ],
          "scatter": [
           {
            "fillpattern": {
             "fillmode": "overlay",
             "size": 10,
             "solidity": 0.2
            },
            "type": "scatter"
           }
          ],
          "scatter3d": [
           {
            "line": {
             "colorbar": {
              "outlinewidth": 0,
              "ticks": ""
             }
            },
            "marker": {
             "colorbar": {
              "outlinewidth": 0,
              "ticks": ""
             }
            },
            "type": "scatter3d"
           }
          ],
          "scattercarpet": [
           {
            "marker": {
             "colorbar": {
              "outlinewidth": 0,
              "ticks": ""
             }
            },
            "type": "scattercarpet"
           }
          ],
          "scattergeo": [
           {
            "marker": {
             "colorbar": {
              "outlinewidth": 0,
              "ticks": ""
             }
            },
            "type": "scattergeo"
           }
          ],
          "scattergl": [
           {
            "marker": {
             "colorbar": {
              "outlinewidth": 0,
              "ticks": ""
             }
            },
            "type": "scattergl"
           }
          ],
          "scattermapbox": [
           {
            "marker": {
             "colorbar": {
              "outlinewidth": 0,
              "ticks": ""
             }
            },
            "type": "scattermapbox"
           }
          ],
          "scatterpolar": [
           {
            "marker": {
             "colorbar": {
              "outlinewidth": 0,
              "ticks": ""
             }
            },
            "type": "scatterpolar"
           }
          ],
          "scatterpolargl": [
           {
            "marker": {
             "colorbar": {
              "outlinewidth": 0,
              "ticks": ""
             }
            },
            "type": "scatterpolargl"
           }
          ],
          "scatterternary": [
           {
            "marker": {
             "colorbar": {
              "outlinewidth": 0,
              "ticks": ""
             }
            },
            "type": "scatterternary"
           }
          ],
          "surface": [
           {
            "colorbar": {
             "outlinewidth": 0,
             "ticks": ""
            },
            "colorscale": [
             [
              0,
              "#0d0887"
             ],
             [
              0.1111111111111111,
              "#46039f"
             ],
             [
              0.2222222222222222,
              "#7201a8"
             ],
             [
              0.3333333333333333,
              "#9c179e"
             ],
             [
              0.4444444444444444,
              "#bd3786"
             ],
             [
              0.5555555555555556,
              "#d8576b"
             ],
             [
              0.6666666666666666,
              "#ed7953"
             ],
             [
              0.7777777777777778,
              "#fb9f3a"
             ],
             [
              0.8888888888888888,
              "#fdca26"
             ],
             [
              1,
              "#f0f921"
             ]
            ],
            "type": "surface"
           }
          ],
          "table": [
           {
            "cells": {
             "fill": {
              "color": "#EBF0F8"
             },
             "line": {
              "color": "white"
             }
            },
            "header": {
             "fill": {
              "color": "#C8D4E3"
             },
             "line": {
              "color": "white"
             }
            },
            "type": "table"
           }
          ]
         },
         "layout": {
          "annotationdefaults": {
           "arrowcolor": "#2a3f5f",
           "arrowhead": 0,
           "arrowwidth": 1
          },
          "autotypenumbers": "strict",
          "coloraxis": {
           "colorbar": {
            "outlinewidth": 0,
            "ticks": ""
           }
          },
          "colorscale": {
           "diverging": [
            [
             0,
             "#8e0152"
            ],
            [
             0.1,
             "#c51b7d"
            ],
            [
             0.2,
             "#de77ae"
            ],
            [
             0.3,
             "#f1b6da"
            ],
            [
             0.4,
             "#fde0ef"
            ],
            [
             0.5,
             "#f7f7f7"
            ],
            [
             0.6,
             "#e6f5d0"
            ],
            [
             0.7,
             "#b8e186"
            ],
            [
             0.8,
             "#7fbc41"
            ],
            [
             0.9,
             "#4d9221"
            ],
            [
             1,
             "#276419"
            ]
           ],
           "sequential": [
            [
             0,
             "#0d0887"
            ],
            [
             0.1111111111111111,
             "#46039f"
            ],
            [
             0.2222222222222222,
             "#7201a8"
            ],
            [
             0.3333333333333333,
             "#9c179e"
            ],
            [
             0.4444444444444444,
             "#bd3786"
            ],
            [
             0.5555555555555556,
             "#d8576b"
            ],
            [
             0.6666666666666666,
             "#ed7953"
            ],
            [
             0.7777777777777778,
             "#fb9f3a"
            ],
            [
             0.8888888888888888,
             "#fdca26"
            ],
            [
             1,
             "#f0f921"
            ]
           ],
           "sequentialminus": [
            [
             0,
             "#0d0887"
            ],
            [
             0.1111111111111111,
             "#46039f"
            ],
            [
             0.2222222222222222,
             "#7201a8"
            ],
            [
             0.3333333333333333,
             "#9c179e"
            ],
            [
             0.4444444444444444,
             "#bd3786"
            ],
            [
             0.5555555555555556,
             "#d8576b"
            ],
            [
             0.6666666666666666,
             "#ed7953"
            ],
            [
             0.7777777777777778,
             "#fb9f3a"
            ],
            [
             0.8888888888888888,
             "#fdca26"
            ],
            [
             1,
             "#f0f921"
            ]
           ]
          },
          "colorway": [
           "#636efa",
           "#EF553B",
           "#00cc96",
           "#ab63fa",
           "#FFA15A",
           "#19d3f3",
           "#FF6692",
           "#B6E880",
           "#FF97FF",
           "#FECB52"
          ],
          "font": {
           "color": "#2a3f5f"
          },
          "geo": {
           "bgcolor": "white",
           "lakecolor": "white",
           "landcolor": "#E5ECF6",
           "showlakes": true,
           "showland": true,
           "subunitcolor": "white"
          },
          "hoverlabel": {
           "align": "left"
          },
          "hovermode": "closest",
          "mapbox": {
           "style": "light"
          },
          "paper_bgcolor": "white",
          "plot_bgcolor": "#E5ECF6",
          "polar": {
           "angularaxis": {
            "gridcolor": "white",
            "linecolor": "white",
            "ticks": ""
           },
           "bgcolor": "#E5ECF6",
           "radialaxis": {
            "gridcolor": "white",
            "linecolor": "white",
            "ticks": ""
           }
          },
          "scene": {
           "xaxis": {
            "backgroundcolor": "#E5ECF6",
            "gridcolor": "white",
            "gridwidth": 2,
            "linecolor": "white",
            "showbackground": true,
            "ticks": "",
            "zerolinecolor": "white"
           },
           "yaxis": {
            "backgroundcolor": "#E5ECF6",
            "gridcolor": "white",
            "gridwidth": 2,
            "linecolor": "white",
            "showbackground": true,
            "ticks": "",
            "zerolinecolor": "white"
           },
           "zaxis": {
            "backgroundcolor": "#E5ECF6",
            "gridcolor": "white",
            "gridwidth": 2,
            "linecolor": "white",
            "showbackground": true,
            "ticks": "",
            "zerolinecolor": "white"
           }
          },
          "shapedefaults": {
           "line": {
            "color": "#2a3f5f"
           }
          },
          "ternary": {
           "aaxis": {
            "gridcolor": "white",
            "linecolor": "white",
            "ticks": ""
           },
           "baxis": {
            "gridcolor": "white",
            "linecolor": "white",
            "ticks": ""
           },
           "bgcolor": "#E5ECF6",
           "caxis": {
            "gridcolor": "white",
            "linecolor": "white",
            "ticks": ""
           }
          },
          "title": {
           "x": 0.05
          },
          "xaxis": {
           "automargin": true,
           "gridcolor": "white",
           "linecolor": "white",
           "ticks": "",
           "title": {
            "standoff": 15
           },
           "zerolinecolor": "white",
           "zerolinewidth": 2
          },
          "yaxis": {
           "automargin": true,
           "gridcolor": "white",
           "linecolor": "white",
           "ticks": "",
           "title": {
            "standoff": 15
           },
           "zerolinecolor": "white",
           "zerolinewidth": 2
          }
         }
        },
        "title": {
         "text": "<b>Gross Sales and COGS by Segment"
        },
        "width": 600,
        "xaxis": {
         "autorange": true,
         "linecolor": "black",
         "linewidth": 1,
         "range": [
          -0.5,
          4.5
         ],
         "showline": true,
         "tickfont": {
          "size": 14
         },
         "ticks": "outside",
         "title": {
          "font": {
           "size": 14
          },
          "text": "<b>Segment"
         },
         "type": "category"
        },
        "yaxis": {
         "autorange": true,
         "linecolor": "black",
         "linewidth": 1,
         "range": [
          0,
          103157894.73684211
         ],
         "showline": true,
         "tickfont": {
          "size": 14
         },
         "ticks": "outside",
         "title": {
          "font": {
           "size": 14
          },
          "text": "<b>Gross Sales & COGS"
         },
         "type": "linear"
        }
       }
      },
      "image/png": "[encoded data removed]",
      "text/html": [
       "<div>                            <div id=\"99ef4f86-1857-4a05-af7e-acdbd5718ecf\" class=\"plotly-graph-div\" style=\"height:700px; width:600px;\"></div>            <script type=\"text/javascript\">                require([\"plotly\"], function(Plotly) {                    window.PLOTLYENV=window.PLOTLYENV || {};                                    if (document.getElementById(\"99ef4f86-1857-4a05-af7e-acdbd5718ecf\")) {                    Plotly.newPlot(                        \"99ef4f86-1857-4a05-af7e-acdbd5718ecf\",                        [{\"marker\":{\"color\":\"rgb(58,100,152)\"},\"name\":\"Gross Sales\",\"x\":[\"Channel Part\",\"Channel Part\",\"Enterprise\",\"Enterprise\",\"Goverment\",\"Goverment\",\"Midmarket\",\"Midmarket\",\"Small Business\",\"Small Business\"],\"y\":[2000000,1000000,20000000,18000000,58000000,40000000,3000000,3000000,50000000,38000000],\"type\":\"bar\"},{\"marker\":{\"color\":\"rgb(240,163,83)\"},\"name\":\"COGS\",\"x\":[\"Channel Part\",\"Channel Part\",\"Enterprise\",\"Enterprise\",\"Goverment\",\"Goverment\",\"Midmarket\",\"Midmarket\",\"Small Business\",\"Small Business\"],\"y\":[2000000,1000000,20000000,18000000,58000000,40000000,3000000,3000000,50000000,38000000],\"type\":\"bar\"}],                        {\"template\":{\"data\":{\"histogram2dcontour\":[{\"type\":\"histogram2dcontour\",\"colorbar\":{\"outlinewidth\":0,\"ticks\":\"\"},\"colorscale\":[[0.0,\"#0d0887\"],[0.1111111111111111,\"#46039f\"],[0.2222222222222222,\"#7201a8\"],[0.3333333333333333,\"#9c179e\"],[0.4444444444444444,\"#bd3786\"],[0.5555555555555556,\"#d8576b\"],[0.6666666666666666,\"#ed7953\"],[0.7777777777777778,\"#fb9f3a\"],[0.8888888888888888,\"#fdca26\"],[1.0,\"#f0f921\"]]}],\"choropleth\":[{\"type\":\"choropleth\",\"colorbar\":{\"outlinewidth\":0,\"ticks\":\"\"}}],\"histogram2d\":[{\"type\":\"histogram2d\",\"colorbar\":{\"outlinewidth\":0,\"ticks\":\"\"},\"colorscale\":[[0.0,\"#0d0887\"],[0.1111111111111111,\"#46039f\"],[0.2222222222222222,\"#7201a8\"],[0.3333333333333333,\"#9c179e\"],[0.4444444444444444,\"#bd3786\"],[0.5555555555555556,\"#d8576b\"],[0.6666666666666666,\"#ed7953\"],[0.7777777777777778,\"#fb9f3a\"],[0.8888888888888888,\"#fdca26\"],[1.0,\"#f0f921\"]]}],\"heatmap\":[{\"type\":\"heatmap\",\"colorbar\":{\"outlinewidth\":0,\"ticks\":\"\"},\"colorscale\":[[0.0,\"#0d0887\"],[0.1111111111111111,\"#46039f\"],[0.2222222222222222,\"#7201a8\"],[0.3333333333333333,\"#9c179e\"],[0.4444444444444444,\"#bd3786\"],[0.5555555555555556,\"#d8576b\"],[0.6666666666666666,\"#ed7953\"],[0.7777777777777778,\"#fb9f3a\"],[0.8888888888888888,\"#fdca26\"],[1.0,\"#f0f921\"]]}],\"heatmapgl\":[{\"type\":\"heatmapgl\",\"colorbar\":{\"outlinewidth\":0,\"ticks\":\"\"},\"colorscale\":[[0.0,\"#0d0887\"],[0.1111111111111111,\"#46039f\"],[0.2222222222222222,\"#7201a8\"],[0.3333333333333333,\"#9c179e\"],[0.4444444444444444,\"#bd3786\"],[0.5555555555555556,\"#d8576b\"],[0.6666666666666666,\"#ed7953\"],[0.7777777777777778,\"#fb9f3a\"],[0.8888888888888888,\"#fdca26\"],[1.0,\"#f0f921\"]]}],\"contourcarpet\":[{\"type\":\"contourcarpet\",\"colorbar\":{\"outlinewidth\":0,\"ticks\":\"\"}}],\"contour\":[{\"type\":\"contour\",\"colorbar\":{\"outlinewidth\":0,\"ticks\":\"\"},\"colorscale\":[[0.0,\"#0d0887\"],[0.1111111111111111,\"#46039f\"],[0.2222222222222222,\"#7201a8\"],[0.3333333333333333,\"#9c179e\"],[0.4444444444444444,\"#bd3786\"],[0.5555555555555556,\"#d8576b\"],[0.6666666666666666,\"#ed7953\"],[0.7777777777777778,\"#fb9f3a\"],[0.8888888888888888,\"#fdca26\"],[1.0,\"#f0f921\"]]}],\"surface\":[{\"type\":\"surface\",\"colorbar\":{\"outlinewidth\":0,\"ticks\":\"\"},\"colorscale\":[[0.0,\"#0d0887\"],[0.1111111111111111,\"#46039f\"],[0.2222222222222222,\"#7201a8\"],[0.3333333333333333,\"#9c179e\"],[0.4444444444444444,\"#bd3786\"],[0.5555555555555556,\"#d8576b\"],[0.6666666666666666,\"#ed7953\"],[0.7777777777777778,\"#fb9f3a\"],[0.8888888888888888,\"#fdca26\"],[1.0,\"#f0f921\"]]}],\"mesh3d\":[{\"type\":\"mesh3d\",\"colorbar\":{\"outlinewidth\":0,\"ticks\":\"\"}}],\"scatter\":[{\"fillpattern\":{\"fillmode\":\"overlay\",\"size\":10,\"solidity\":0.2},\"type\":\"scatter\"}],\"parcoords\":[{\"type\":\"parcoords\",\"line\":{\"colorbar\":{\"outlinewidth\":0,\"ticks\":\"\"}}}],\"scatterpolargl\":[{\"type\":\"scatterpolargl\",\"marker\":{\"colorbar\":{\"outlinewidth\":0,\"ticks\":\"\"}}}],\"bar\":[{\"error_x\":{\"color\":\"#2a3f5f\"},\"error_y\":{\"color\":\"#2a3f5f\"},\"marker\":{\"line\":{\"color\":\"#E5ECF6\",\"width\":0.5},\"pattern\":{\"fillmode\":\"overlay\",\"size\":10,\"solidity\":0.2}},\"type\":\"bar\"}],\"scattergeo\":[{\"type\":\"scattergeo\",\"marker\":{\"colorbar\":{\"outlinewidth\":0,\"ticks\":\"\"}}}],\"scatterpolar\":[{\"type\":\"scatterpolar\",\"marker\":{\"colorbar\":{\"outlinewidth\":0,\"ticks\":\"\"}}}],\"histogram\":[{\"marker\":{\"pattern\":{\"fillmode\":\"overlay\",\"size\":10,\"solidity\":0.2}},\"type\":\"histogram\"}],\"scattergl\":[{\"type\":\"scattergl\",\"marker\":{\"colorbar\":{\"outlinewidth\":0,\"ticks\":\"\"}}}],\"scatter3d\":[{\"type\":\"scatter3d\",\"line\":{\"colorbar\":{\"outlinewidth\":0,\"ticks\":\"\"}},\"marker\":{\"colorbar\":{\"outlinewidth\":0,\"ticks\":\"\"}}}],\"scattermapbox\":[{\"type\":\"scattermapbox\",\"marker\":{\"colorbar\":{\"outlinewidth\":0,\"ticks\":\"\"}}}],\"scatterternary\":[{\"type\":\"scatterternary\",\"marker\":{\"colorbar\":{\"outlinewidth\":0,\"ticks\":\"\"}}}],\"scattercarpet\":[{\"type\":\"scattercarpet\",\"marker\":{\"colorbar\":{\"outlinewidth\":0,\"ticks\":\"\"}}}],\"carpet\":[{\"aaxis\":{\"endlinecolor\":\"#2a3f5f\",\"gridcolor\":\"white\",\"linecolor\":\"white\",\"minorgridcolor\":\"white\",\"startlinecolor\":\"#2a3f5f\"},\"baxis\":{\"endlinecolor\":\"#2a3f5f\",\"gridcolor\":\"white\",\"linecolor\":\"white\",\"minorgridcolor\":\"white\",\"startlinecolor\":\"#2a3f5f\"},\"type\":\"carpet\"}],\"table\":[{\"cells\":{\"fill\":{\"color\":\"#EBF0F8\"},\"line\":{\"color\":\"white\"}},\"header\":{\"fill\":{\"color\":\"#C8D4E3\"},\"line\":{\"color\":\"white\"}},\"type\":\"table\"}],\"barpolar\":[{\"marker\":{\"line\":{\"color\":\"#E5ECF6\",\"width\":0.5},\"pattern\":{\"fillmode\":\"overlay\",\"size\":10,\"solidity\":0.2}},\"type\":\"barpolar\"}],\"pie\":[{\"automargin\":true,\"type\":\"pie\"}]},\"layout\":{\"autotypenumbers\":\"strict\",\"colorway\":[\"#636efa\",\"#EF553B\",\"#00cc96\",\"#ab63fa\",\"#FFA15A\",\"#19d3f3\",\"#FF6692\",\"#B6E880\",\"#FF97FF\",\"#FECB52\"],\"font\":{\"color\":\"#2a3f5f\"},\"hovermode\":\"closest\",\"hoverlabel\":{\"align\":\"left\"},\"paper_bgcolor\":\"white\",\"plot_bgcolor\":\"#E5ECF6\",\"polar\":{\"bgcolor\":\"#E5ECF6\",\"angularaxis\":{\"gridcolor\":\"white\",\"linecolor\":\"white\",\"ticks\":\"\"},\"radialaxis\":{\"gridcolor\":\"white\",\"linecolor\":\"white\",\"ticks\":\"\"}},\"ternary\":{\"bgcolor\":\"#E5ECF6\",\"aaxis\":{\"gridcolor\":\"white\",\"linecolor\":\"white\",\"ticks\":\"\"},\"baxis\":{\"gridcolor\":\"white\",\"linecolor\":\"white\",\"ticks\":\"\"},\"caxis\":{\"gridcolor\":\"white\",\"linecolor\":\"white\",\"ticks\":\"\"}},\"coloraxis\":{\"colorbar\":{\"outlinewidth\":0,\"ticks\":\"\"}},\"colorscale\":{\"sequential\":[[0.0,\"#0d0887\"],[0.1111111111111111,\"#46039f\"],[0.2222222222222222,\"#7201a8\"],[0.3333333333333333,\"#9c179e\"],[0.4444444444444444,\"#bd3786\"],[0.5555555555555556,\"#d8576b\"],[0.6666666666666666,\"#ed7953\"],[0.7777777777777778,\"#fb9f3a\"],[0.8888888888888888,\"#fdca26\"],[1.0,\"#f0f921\"]],\"sequentialminus\":[[0.0,\"#0d0887\"],[0.1111111111111111,\"#46039f\"],[0.2222222222222222,\"#7201a8\"],[0.3333333333333333,\"#9c179e\"],[0.4444444444444444,\"#bd3786\"],[0.5555555555555556,\"#d8576b\"],[0.6666666666666666,\"#ed7953\"],[0.7777777777777778,\"#fb9f3a\"],[0.8888888888888888,\"#fdca26\"],[1.0,\"#f0f921\"]],\"diverging\":[[0,\"#8e0152\"],[0.1,\"#c51b7d\"],[0.2,\"#de77ae\"],[0.3,\"#f1b6da\"],[0.4,\"#fde0ef\"],[0.5,\"#f7f7f7\"],[0.6,\"#e6f5d0\"],[0.7,\"#b8e186\"],[0.8,\"#7fbc41\"],[0.9,\"#4d9221\"],[1,\"#276419\"]]},\"xaxis\":{\"gridcolor\":\"white\",\"linecolor\":\"white\",\"ticks\":\"\",\"title\":{\"standoff\":15},\"zerolinecolor\":\"white\",\"automargin\":true,\"zerolinewidth\":2},\"yaxis\":{\"gridcolor\":\"white\",\"linecolor\":\"white\",\"ticks\":\"\",\"title\":{\"standoff\":15},\"zerolinecolor\":\"white\",\"automargin\":true,\"zerolinewidth\":2},\"scene\":{\"xaxis\":{\"backgroundcolor\":\"#E5ECF6\",\"gridcolor\":\"white\",\"linecolor\":\"white\",\"showbackground\":true,\"ticks\":\"\",\"zerolinecolor\":\"white\",\"gridwidth\":2},\"yaxis\":{\"backgroundcolor\":\"#E5ECF6\",\"gridcolor\":\"white\",\"linecolor\":\"white\",\"showbackground\":true,\"ticks\":\"\",\"zerolinecolor\":\"white\",\"gridwidth\":2},\"zaxis\":{\"backgroundcolor\":\"#E5ECF6\",\"gridcolor\":\"white\",\"linecolor\":\"white\",\"showbackground\":true,\"ticks\":\"\",\"zerolinecolor\":\"white\",\"gridwidth\":2}},\"shapedefaults\":{\"line\":{\"color\":\"#2a3f5f\"}},\"annotationdefaults\":{\"arrowcolor\":\"#2a3f5f\",\"arrowhead\":0,\"arrowwidth\":1},\"geo\":{\"bgcolor\":\"white\",\"landcolor\":\"#E5ECF6\",\"subunitcolor\":\"white\",\"showland\":true,\"showlakes\":true,\"lakecolor\":\"white\"},\"title\":{\"x\":0.05},\"mapbox\":{\"style\":\"light\"}}},\"title\":{\"text\":\"<b>Gross Sales and COGS by Segment\"},\"xaxis\":{\"title\":{\"text\":\"<b>Segment\",\"font\":{\"size\":14}},\"tickfont\":{\"size\":14},\"ticks\":\"outside\",\"showline\":true,\"linewidth\":1,\"linecolor\":\"black\"},\"yaxis\":{\"title\":{\"text\":\"<b>Gross Sales & COGS\",\"font\":{\"size\":14}},\"tickfont\":{\"size\":14},\"ticks\":\"outside\",\"showline\":true,\"linewidth\":1,\"linecolor\":\"black\"},\"legend\":{\"title\":{\"text\":\"<b>All Measures\"},\"x\":1.1,\"y\":1,\"bgcolor\":\"rgba(255, 255, 255, 0)\",\"bordercolor\":\"rgba(255, 255, 255, 0)\"},\"margin\":{\"l\":50,\"r\":50,\"b\":50,\"t\":150,\"pad\":4},\"plot_bgcolor\":\"rgba(0,0,0,0)\",\"barmode\":\"group\",\"autosize\":false,\"width\":600,\"height\":700},                        {\"responsive\": true}                    ).then(function(){\n",
       "                            \n",
       "var gd = document.getElementById('99ef4f86-1857-4a05-af7e-acdbd5718ecf');\n",
       "var x = new MutationObserver(function (mutations, observer) {{\n",
       "        var display = window.getComputedStyle(gd).display;\n",
       "        if (!display || display === 'none') {{\n",
       "            console.log([gd, 'removed!']);\n",
       "            Plotly.purge(gd);\n",
       "            observer.disconnect();\n",
       "        }}\n",
       "}});\n",
       "\n",
       "// Listen for the removal of the full notebook cells\n",
       "var notebookContainer = gd.closest('#notebook-container');\n",
       "if (notebookContainer) {{\n",
       "    x.observe(notebookContainer, {childList: true});\n",
       "}}\n",
       "\n",
       "// Listen for the clearing of the current output cell\n",
       "var outputEl = gd.closest('.output');\n",
       "if (outputEl) {{\n",
       "    x.observe(outputEl, {childList: true});\n",
       "}}\n",
       "\n",
       "                        })                };                });            </script>        </div>"
      ]
     },
     "metadata": {},
     "output_type": "display_data"
    }
   ],
   "source": [
    "animals=['giraffes', 'orangutans', 'monkeys']\n",
    "\n",
    "fig = go.Figure(data=[\n",
    "    go.Bar(name='Gross Sales', x=df['Segment'], y=df['Gross_Sales_COGS'], marker_color='rgb(58,100,152)'),\n",
    "    go.Bar(name='COGS', x=df['Segment'], y=df['Gross_Sales_COGS'],  marker_color='rgb(240,163,83)')\n",
    "])\n",
    "# Change the bar mode\n",
    "fig.update_layout(\n",
    "    title_text='<b>Gross Sales and COGS by Segment', \n",
    "    xaxis=dict(\n",
    "        title='<b>Segment',\n",
    "        titlefont_size=14,\n",
    "        tickfont_size=14,\n",
    "        ticks='outside',\n",
    "        showline=True,\n",
    "        linewidth=1,\n",
    "        linecolor='black'\n",
    "    ),\n",
    "    yaxis=dict(\n",
    "        title='<b>Gross Sales & COGS',\n",
    "        titlefont_size=14,\n",
    "        tickfont_size=14,\n",
    "        ticks='outside',\n",
    "        showline=True,\n",
    "        linewidth=1,\n",
    "        linecolor='black'\n",
    "    ),\n",
    "    legend=dict(\n",
    "        title=\"<b>All Measures\",\n",
    "        x=1.1,\n",
    "        y=1,\n",
    "        bgcolor='rgba(255, 255, 255, 0)',\n",
    "        bordercolor='rgba(255, 255, 255, 0)'\n",
    "    ),\n",
    "    plot_bgcolor='rgba(0,0,0,0)',\n",
    "    barmode = 'group',\n",
    "    autosize=False,\n",
    "    width=600,\n",
    "    height=700,\n",
    "    margin=dict(\n",
    "        l=50,\n",
    "        r=50,\n",
    "        b=50,\n",
    "        t=150,\n",
    "        pad=4\n",
    "    ),\n",
    ")"
   ]
  },
  {
   "cell_type": "markdown",
   "id": "d7bcce05-c843-464f-9ffb-b2bdaad0cb61",
   "metadata": {
    "papermill": {},
    "tags": []
   },
   "source": [
    "#### Create app layout (Working)"
   ]
  },
  {
   "cell_type": "code",
   "execution_count": 254,
   "id": "be0a5c6a-5500-49d4-b1a1-94f1465d0338",
   "metadata": {
    "execution": {
     "iopub.execute_input": "2022-08-16T00:01:29.529880Z",
     "iopub.status.busy": "2022-08-16T00:01:29.529586Z",
     "iopub.status.idle": "2022-08-16T00:01:29.614604Z",
     "shell.execute_reply": "2022-08-16T00:01:29.613882Z",
     "shell.execute_reply.started": "2022-08-16T00:01:29.529850Z"
    },
    "tags": []
   },
   "outputs": [],
   "source": [
    "app.layout = html.Div(\n",
    "    [\n",
    "        dbc.Navbar(\n",
    "            dbc.Container(\n",
    "                [\n",
    "                    html.A(\n",
    "                        # Use row and col to control vertical alignment of logo / brand\n",
    "                        dbc.Row(\n",
    "                            [\n",
    "                                dbc.Col(html.Img(src=\"https://pic.onlinewebfonts.com/svg/img_542879.png\", height=\"30px\")),\n",
    "                                dbc.Col(dbc.NavbarBrand(\"Revenue & COGS by Segment\", className=\"ms-2\")),\n",
    "                            ],\n",
    "                            align=\"center\",\n",
    "                            className=\"g-0\",\n",
    "                        ),\n",
    "                        href=\"https://mobile.twitter.com/ws_room/photo\",\n",
    "                        style={\"textDecoration\": \"none\"},\n",
    "                    ),\n",
    "                    #dbc.NavbarToggler(id=\"navbar-toggler\", n_clicks=0),\n",
    "                    dbc.NavItem(dbc.NavLink(\"Twitter\", href=\"https://mobile.twitter.com/ws_room\",target=\"_blank\")),\n",
    "                    dbc.DropdownMenu(\n",
    "                        children=[\n",
    "                            dbc.DropdownMenuItem(\"By Country\", header=True),\n",
    "                            dbc.DropdownMenuItem(\"France\", href=\"#\"),\n",
    "                            dbc.DropdownMenuItem(\"USA\", href=\"#\"),\n",
    "                            dbc.DropdownMenuItem(\"By Topic\", header=True),\n",
    "                            dbc.DropdownMenuItem(\"Temperature anomaly\", href=\"#\"),\n",
    "                            dbc.DropdownMenuItem(\"COVID 19\", href=\"#\"),\n",
    "                        ],\n",
    "                        nav=True,\n",
    "                        in_navbar=True,\n",
    "                        label=\"Explore more\",)\n",
    "                ]\n",
    "            ),\n",
    "            color=\"dark\",\n",
    "            dark=True,\n",
    "        ),        \n",
    "        \n",
    "        #Charts\n",
    "        dbc.Container([ \n",
    "            dbc.Row([\n",
    "               dbc.Col([\n",
    "                    dcc.Graph(\n",
    "                        id='sales-cogs-by-segment',\n",
    "                        figure=fig),\n",
    "               ]),\n",
    "               dbc.Col([\n",
    "                    dbc.Row([\n",
    "                        dbc.Col([\n",
    "                            dcc.Graph(\n",
    "                                id='sales-by-segment',\n",
    "                                figure=sales_segment(df, df.Segment, df.Gross_Sales_COGS))\n",
    "                        ]),\n",
    "                    ]),\n",
    "                    dbc.Row([\n",
    "                        dbc.Col([\n",
    "                           dcc.Graph(\n",
    "                                id='heatmap',\n",
    "                                figure=sales_country_product(new_df)) \n",
    "                        ]),\n",
    "                    ]),\n",
    "               ]), \n",
    "            ])\n",
    "        ])           \n",
    "\n",
    "    ]\n",
    ")\n",
    "\n",
    "# add callback for toggling the collapse on small screens\n",
    "@app.callback(\n",
    "    Output(\"navbar-collapse\", \"is_open\"),\n",
    "    [Input(\"navbar-toggler\", \"n_clicks\")],\n",
    "    [State(\"navbar-collapse\", \"is_open\")],\n",
    ")\n",
    "def toggle_navbar_collapse(n, is_open):\n",
    "    if n:\n",
    "        return not is_open\n",
    "    return is_open"
   ]
  },
  {
   "cell_type": "markdown",
   "id": "lonely-pacific",
   "metadata": {
    "execution": {
     "iopub.execute_input": "2021-07-02T23:32:10.789097Z",
     "iopub.status.busy": "2021-07-02T23:32:10.788829Z",
     "iopub.status.idle": "2021-07-02T23:32:10.796900Z",
     "shell.execute_reply": "2021-07-02T23:32:10.796358Z",
     "shell.execute_reply.started": "2021-07-02T23:32:10.789033Z"
    },
    "papermill": {},
    "tags": []
   },
   "source": [
    "## Output"
   ]
  },
  {
   "cell_type": "markdown",
   "id": "890f7c86-b7bb-4f5d-9a1b-e492dd9580fd",
   "metadata": {
    "papermill": {},
    "tags": []
   },
   "source": [
    "### Generate URL and show logs"
   ]
  },
  {
   "cell_type": "code",
   "execution_count": 255,
   "id": "9c4e3b7b-6440-4844-8054-265f1aec65eb",
   "metadata": {
    "execution": {
     "iopub.execute_input": "2022-08-16T00:01:31.794664Z",
     "iopub.status.busy": "2022-08-16T00:01:31.794348Z",
     "iopub.status.idle": "2022-08-16T00:02:35.673468Z",
     "shell.execute_reply": "2022-08-16T00:02:35.672691Z",
     "shell.execute_reply.started": "2022-08-16T00:01:31.794626Z"
    },
    "papermill": {},
    "tags": []
   },
   "outputs": [
    {
     "name": "stdout",
     "output_type": "stream",
     "text": [
      "Dash is running on https://app.naas.ai/user/fcha56@gmail.com/proxy/8050/\n",
      "\n",
      "Dash is running on https://app.naas.ai/user/fcha56@gmail.com/proxy/8050/\n",
      "\n",
      "\u001b[31m\u001b[1mWARNING: This is a development server. Do not use it in a production deployment. Use a production WSGI server instead.\u001b[0m\n",
      " * Serving Flask app '__main__'\n",
      " * Debug mode: off\n"
     ]
    },
    {
     "name": "stderr",
     "output_type": "stream",
     "text": [
      " * Running on http://127.0.0.1:8050 (Press CTRL+C to quit)\n",
      "127.0.0.1 - - [16/Aug/2022 02:01:34] \"GET / HTTP/1.1\" 200 -\n",
      "127.0.0.1 - - [16/Aug/2022 02:01:34] \"GET /_dash-layout HTTP/1.1\" 200 -\n",
      "127.0.0.1 - - [16/Aug/2022 02:01:34] \"GET /_dash-dependencies HTTP/1.1\" 200 -\n",
      "127.0.0.1 - - [16/Aug/2022 02:01:34] \"GET /_favicon.ico?v=2.6.1 HTTP/1.1\" 200 -\n",
      "127.0.0.1 - - [16/Aug/2022 02:01:34] \"GET /_dash-component-suites/dash/dcc/async-graph.js HTTP/1.1\" 200 -\n",
      "127.0.0.1 - - [16/Aug/2022 02:01:34] \"GET /_dash-component-suites/dash/dcc/async-plotlyjs.js HTTP/1.1\" 200 -\n"
     ]
    }
   ],
   "source": [
    "if __name__ == '__main__':\n",
    "    app.run_server(proxy=f\"http://127.0.0.1:{DASH_PORT}::https://app.naas.ai\")"
   ]
  },
  {
   "cell_type": "code",
   "execution_count": null,
   "id": "ece94a70-a073-44d8-8859-4dcf26d21fe0",
   "metadata": {},
   "outputs": [],
   "source": []
  }
 ],
 "metadata": {
  "kernelspec": {
   "display_name": "Python 3",
   "language": "python",
   "name": "python3"
  },
  "language_info": {
   "codemirror_mode": {
    "name": "ipython",
    "version": 3
   },
   "file_extension": ".py",
   "mimetype": "text/x-python",
   "name": "python",
   "nbconvert_exporter": "python",
   "pygments_lexer": "ipython3",
   "version": "3.9.6"
  },
  "papermill": {
   "default_parameters": {},
   "environment_variables": {},
   "parameters": {},
   "version": "2.3.3"
  },
  "widgets": {
   "application/vnd.jupyter.widget-state+json": {
    "state": {},
    "version_major": 2,
    "version_minor": 0
   }
  }
 },
 "nbformat": 4,
 "nbformat_minor": 5
}
