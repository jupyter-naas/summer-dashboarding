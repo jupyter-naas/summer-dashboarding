{
 "cells": [
  {
   "cell_type": "markdown",
   "id": "0b67be94-62bf-45f1-996a-fb016eaa4fa2",
   "metadata": {},
   "source": [
    "# **SOCIAL MEDIA KPIs** "
   ]
  },
  {
   "cell_type": "markdown",
   "id": "9195b352-f4c1-4753-ae61-986d7f3ae633",
   "metadata": {},
   "source": []
  },
  {
   "cell_type": "code",
   "execution_count": null,
   "id": "8ba06d95-f4d3-4d95-a8f3-1d54a28fc97c",
   "metadata": {
    "execution": {
     "iopub.execute_input": "2022-08-09T21:06:02.189957Z",
     "iopub.status.busy": "2022-08-09T21:06:02.189459Z"
    },
    "tags": []
   },
   "outputs": [
    {
     "name": "stdout",
     "output_type": "stream",
     "text": [
      "Requirement already satisfied: dash-bootstrap-components in /opt/conda/lib/python3.9/site-packages (1.2.1)\n",
      "Requirement already satisfied: dash>=2.0.0 in /home/ftp/.local/lib/python3.9/site-packages (from dash-bootstrap-components) (2.6.1)\n",
      "Requirement already satisfied: plotly>=5.0.0 in /home/ftp/.local/lib/python3.9/site-packages (from dash>=2.0.0->dash-bootstrap-components) (5.9.0)\n",
      "Requirement already satisfied: dash-core-components==2.0.0 in /opt/conda/lib/python3.9/site-packages (from dash>=2.0.0->dash-bootstrap-components) (2.0.0)\n",
      "Requirement already satisfied: dash-html-components==2.0.0 in /opt/conda/lib/python3.9/site-packages (from dash>=2.0.0->dash-bootstrap-components) (2.0.0)\n",
      "Requirement already satisfied: flask-compress in /home/ftp/.local/lib/python3.9/site-packages (from dash>=2.0.0->dash-bootstrap-components) (1.12)\n",
      "Requirement already satisfied: Flask>=1.0.4 in /home/ftp/.local/lib/python3.9/site-packages (from dash>=2.0.0->dash-bootstrap-components) (2.2.1)\n",
      "Requirement already satisfied: dash-table==5.0.0 in /opt/conda/lib/python3.9/site-packages (from dash>=2.0.0->dash-bootstrap-components) (5.0.0)\n",
      "Requirement already satisfied: importlib-metadata>=3.6.0 in /opt/conda/lib/python3.9/site-packages (from Flask>=1.0.4->dash>=2.0.0->dash-bootstrap-components) (4.6.3)\n",
      "Requirement already satisfied: click>=8.0 in /opt/conda/lib/python3.9/site-packages (from Flask>=1.0.4->dash>=2.0.0->dash-bootstrap-components) (8.1.3)\n",
      "Requirement already satisfied: Jinja2>=3.0 in /opt/conda/lib/python3.9/site-packages (from Flask>=1.0.4->dash>=2.0.0->dash-bootstrap-components) (3.0.3)\n",
      "Requirement already satisfied: itsdangerous>=2.0 in /home/ftp/.local/lib/python3.9/site-packages (from Flask>=1.0.4->dash>=2.0.0->dash-bootstrap-components) (2.1.2)\n",
      "Requirement already satisfied: Werkzeug>=2.2.0 in /opt/conda/lib/python3.9/site-packages (from Flask>=1.0.4->dash>=2.0.0->dash-bootstrap-components) (2.2.1)\n",
      "Requirement already satisfied: tenacity>=6.2.0 in /opt/conda/lib/python3.9/site-packages (from plotly>=5.0.0->dash>=2.0.0->dash-bootstrap-components) (8.0.1)\n",
      "Requirement already satisfied: brotli in /opt/conda/lib/python3.9/site-packages (from flask-compress->dash>=2.0.0->dash-bootstrap-components) (1.0.9)\n",
      "Requirement already satisfied: zipp>=0.5 in /opt/conda/lib/python3.9/site-packages (from importlib-metadata>=3.6.0->Flask>=1.0.4->dash>=2.0.0->dash-bootstrap-components) (3.5.0)\n",
      "Requirement already satisfied: MarkupSafe>=2.0 in /home/ftp/.local/lib/python3.9/site-packages (from Jinja2>=3.0->Flask>=1.0.4->dash>=2.0.0->dash-bootstrap-components) (2.1.1)\n"
     ]
    }
   ],
   "source": [
    "#pip install dash-bootstrap-components"
   ]
  },
  {
   "cell_type": "markdown",
   "id": "59e516cf-ce9f-4eac-b177-ebdbf2e90636",
   "metadata": {},
   "source": [
    "## Input"
   ]
  },
  {
   "cell_type": "markdown",
   "id": "383ac6fd-6bf7-42f5-901a-e1086e6720d0",
   "metadata": {},
   "source": [
    "### Import library"
   ]
  },
  {
   "cell_type": "code",
   "execution_count": 7,
   "id": "cd726a60-cf9a-45d4-afeb-9124a7f1cadb",
   "metadata": {
    "execution": {
     "iopub.execute_input": "2022-08-10T00:38:16.090671Z",
     "iopub.status.busy": "2022-08-10T00:38:16.090369Z",
     "iopub.status.idle": "2022-08-10T00:38:16.097853Z",
     "shell.execute_reply": "2022-08-10T00:38:16.097233Z",
     "shell.execute_reply.started": "2022-08-10T00:38:16.090637Z"
    },
    "tags": []
   },
   "outputs": [],
   "source": [
    "import naas\n",
    "\n",
    "import dash\n",
    "from dash import html\n",
    "from dash import dcc\n",
    "import dash_bootstrap_components as dbc\n",
    "import plotly.graph_objects as go\n",
    "import plotly.express as px\n",
    "\n",
    "import pandas as pd\n",
    "\n",
    "import os"
   ]
  },
  {
   "cell_type": "markdown",
   "id": "47187f6b-150f-4072-8e59-910734be1d59",
   "metadata": {},
   "source": [
    "### Variables"
   ]
  },
  {
   "cell_type": "code",
   "execution_count": 8,
   "id": "9af29914-37af-494f-9b1c-8360886b65e5",
   "metadata": {
    "execution": {
     "iopub.execute_input": "2022-08-10T00:38:19.847794Z",
     "iopub.status.busy": "2022-08-10T00:38:19.847565Z",
     "iopub.status.idle": "2022-08-10T00:38:19.850616Z",
     "shell.execute_reply": "2022-08-10T00:38:19.849964Z",
     "shell.execute_reply.started": "2022-08-10T00:38:19.847772Z"
    },
    "tags": []
   },
   "outputs": [],
   "source": [
    "DASH_PORT = 8050"
   ]
  },
  {
   "cell_type": "markdown",
   "id": "5e2982c8-d74b-47d6-9d0e-7a3c599ea281",
   "metadata": {},
   "source": [
    "## Model"
   ]
  },
  {
   "cell_type": "markdown",
   "id": "11095603-aa40-400b-b176-34f32ee21d00",
   "metadata": {},
   "source": [
    "### Initialize Dash app"
   ]
  },
  {
   "cell_type": "markdown",
   "id": "59a261f6-3ff1-4643-9db1-0c71af9bec43",
   "metadata": {},
   "source": [
    "### Create app layout"
   ]
  },
  {
   "cell_type": "code",
   "execution_count": 9,
   "id": "c1034d37-5b53-49fc-8910-3fcb48a4ec5d",
   "metadata": {
    "execution": {
     "iopub.execute_input": "2022-08-10T00:38:22.787632Z",
     "iopub.status.busy": "2022-08-10T00:38:22.787402Z",
     "iopub.status.idle": "2022-08-10T00:38:22.798298Z",
     "shell.execute_reply": "2022-08-10T00:38:22.797710Z",
     "shell.execute_reply.started": "2022-08-10T00:38:22.787608Z"
    },
    "tags": []
   },
   "outputs": [],
   "source": [
    "app = dash.Dash(requests_pathname_prefix=f'/user/{os.environ.get(\"JUPYTERHUB_USER\")}/proxy/{DASH_PORT}/')  \n",
    "#app = dash.Dash() if you are not in Naas"
   ]
  },
  {
   "cell_type": "markdown",
   "id": "71162fd6-fdbc-470c-a94d-e22b0803c789",
   "metadata": {},
   "source": [
    "### 1. Data Imports:"
   ]
  },
  {
   "cell_type": "code",
   "execution_count": null,
   "id": "a9e82ba3-9e31-4972-a6e8-bd348af33846",
   "metadata": {},
   "outputs": [],
   "source": []
  },
  {
   "cell_type": "markdown",
   "id": "0ec5a1f8-39aa-4035-8b31-9c3704709a44",
   "metadata": {
    "execution": {
     "iopub.execute_input": "2022-08-09T20:02:28.992841Z",
     "iopub.status.busy": "2022-08-09T20:02:28.992622Z",
     "iopub.status.idle": "2022-08-09T20:02:28.995727Z",
     "shell.execute_reply": "2022-08-09T20:02:28.995079Z",
     "shell.execute_reply.started": "2022-08-09T20:02:28.992818Z"
    },
    "tags": []
   },
   "source": [
    "### 2. Data Manipulation:"
   ]
  },
  {
   "cell_type": "code",
   "execution_count": null,
   "id": "7eb4eb26-6de2-40f0-8b78-4e8cac986b53",
   "metadata": {
    "tags": []
   },
   "outputs": [],
   "source": []
  },
  {
   "cell_type": "markdown",
   "id": "2d885141-aeeb-4d92-b1a9-c94b19635902",
   "metadata": {
    "execution": {
     "iopub.execute_input": "2022-08-09T20:11:31.313904Z",
     "iopub.status.busy": "2022-08-09T20:11:31.313673Z",
     "iopub.status.idle": "2022-08-09T20:11:31.324068Z",
     "shell.execute_reply": "2022-08-09T20:11:31.323217Z",
     "shell.execute_reply.started": "2022-08-09T20:11:31.313879Z"
    },
    "tags": []
   },
   "source": [
    "### 3. Dashboard:"
   ]
  },
  {
   "cell_type": "code",
   "execution_count": 14,
   "id": "3c541ee0-4791-47bf-93ab-b8597a964a0e",
   "metadata": {
    "execution": {
     "iopub.execute_input": "2022-08-10T00:52:20.971348Z",
     "iopub.status.busy": "2022-08-10T00:52:20.971122Z",
     "iopub.status.idle": "2022-08-10T00:52:21.303676Z",
     "shell.execute_reply": "2022-08-10T00:52:21.302177Z",
     "shell.execute_reply.started": "2022-08-10T00:52:20.971326Z"
    },
    "tags": []
   },
   "outputs": [
    {
     "ename": "TypeError",
     "evalue": "The `dash_bootstrap_components.Row` component (version 1.2.1) received an unexpected keyword argument: `width`\nAllowed arguments: align, children, className, class_name, id, justify, key, loading_state, style",
     "output_type": "error",
     "traceback": [
      "\u001b[0;31m---------------------------------------------------------------------------\u001b[0m",
      "\u001b[0;31mTypeError\u001b[0m                                 Traceback (most recent call last)",
      "\u001b[0;32m<ipython-input-14-376be2d50894>\u001b[0m in \u001b[0;36m<module>\u001b[0;34m\u001b[0m\n\u001b[1;32m     28\u001b[0m         html.Div([\n\u001b[1;32m     29\u001b[0m             \u001b[0mhtml\u001b[0m\u001b[0;34m.\u001b[0m\u001b[0mH2\u001b[0m\u001b[0;34m(\u001b[0m\u001b[0;34m\"Social Media KPIs Scorecard\"\u001b[0m\u001b[0;34m)\u001b[0m\u001b[0;34m,\u001b[0m\u001b[0;34m\u001b[0m\u001b[0;34m\u001b[0m\u001b[0m\n\u001b[0;32m---> 30\u001b[0;31m             dbc.Row([\n\u001b[0m\u001b[1;32m     31\u001b[0m                             dbc.Col([\n\u001b[1;32m     32\u001b[0m                                 \u001b[0mhtml\u001b[0m\u001b[0;34m.\u001b[0m\u001b[0mH3\u001b[0m\u001b[0;34m(\u001b[0m\u001b[0;34m\"Facebook\"\u001b[0m\u001b[0;34m)\u001b[0m\u001b[0;34m,\u001b[0m\u001b[0;34m\u001b[0m\u001b[0;34m\u001b[0m\u001b[0m\n",
      "\u001b[0;32m~/.local/lib/python3.9/site-packages/dash/development/base_component.py\u001b[0m in \u001b[0;36mwrapper\u001b[0;34m(*args, **kwargs)\u001b[0m\n\u001b[1;32m    418\u001b[0m         \u001b[0;32mif\u001b[0m \u001b[0;34m\"self\"\u001b[0m \u001b[0;32min\u001b[0m \u001b[0mkwargs\u001b[0m\u001b[0;34m[\u001b[0m\u001b[0;34m\"_explicit_args\"\u001b[0m\u001b[0;34m]\u001b[0m\u001b[0;34m:\u001b[0m\u001b[0;34m\u001b[0m\u001b[0;34m\u001b[0m\u001b[0m\n\u001b[1;32m    419\u001b[0m             \u001b[0mkwargs\u001b[0m\u001b[0;34m[\u001b[0m\u001b[0;34m\"_explicit_args\"\u001b[0m\u001b[0;34m]\u001b[0m\u001b[0;34m.\u001b[0m\u001b[0mremove\u001b[0m\u001b[0;34m(\u001b[0m\u001b[0;34m\"self\"\u001b[0m\u001b[0;34m)\u001b[0m\u001b[0;34m\u001b[0m\u001b[0;34m\u001b[0m\u001b[0m\n\u001b[0;32m--> 420\u001b[0;31m         \u001b[0;32mreturn\u001b[0m \u001b[0mfunc\u001b[0m\u001b[0;34m(\u001b[0m\u001b[0;34m*\u001b[0m\u001b[0margs\u001b[0m\u001b[0;34m,\u001b[0m \u001b[0;34m**\u001b[0m\u001b[0mkwargs\u001b[0m\u001b[0;34m)\u001b[0m\u001b[0;34m\u001b[0m\u001b[0;34m\u001b[0m\u001b[0m\n\u001b[0m\u001b[1;32m    421\u001b[0m \u001b[0;34m\u001b[0m\u001b[0m\n\u001b[1;32m    422\u001b[0m     \u001b[0;31m# If Python 3, we can set the function signature to be correct\u001b[0m\u001b[0;34m\u001b[0m\u001b[0;34m\u001b[0m\u001b[0;34m\u001b[0m\u001b[0m\n",
      "\u001b[0;32m/opt/conda/lib/python3.9/site-packages/dash_bootstrap_components/_components/Row.py\u001b[0m in \u001b[0;36m__init__\u001b[0;34m(self, children, id, style, class_name, className, key, align, justify, loading_state, **kwargs)\u001b[0m\n\u001b[1;32m     76\u001b[0m                 raise TypeError(\n\u001b[1;32m     77\u001b[0m                     'Required argument `' + k + '` was not specified.')\n\u001b[0;32m---> 78\u001b[0;31m         \u001b[0msuper\u001b[0m\u001b[0;34m(\u001b[0m\u001b[0mRow\u001b[0m\u001b[0;34m,\u001b[0m \u001b[0mself\u001b[0m\u001b[0;34m)\u001b[0m\u001b[0;34m.\u001b[0m\u001b[0m__init__\u001b[0m\u001b[0;34m(\u001b[0m\u001b[0mchildren\u001b[0m\u001b[0;34m=\u001b[0m\u001b[0mchildren\u001b[0m\u001b[0;34m,\u001b[0m \u001b[0;34m**\u001b[0m\u001b[0margs\u001b[0m\u001b[0;34m)\u001b[0m\u001b[0;34m\u001b[0m\u001b[0;34m\u001b[0m\u001b[0m\n\u001b[0m",
      "\u001b[0;32m~/.local/lib/python3.9/site-packages/dash/development/base_component.py\u001b[0m in \u001b[0;36m__init__\u001b[0;34m(self, **kwargs)\u001b[0m\n\u001b[1;32m    136\u001b[0m                     \u001b[0msorted\u001b[0m\u001b[0;34m(\u001b[0m\u001b[0mself\u001b[0m\u001b[0;34m.\u001b[0m\u001b[0m_prop_names\u001b[0m\u001b[0;34m)\u001b[0m\u001b[0;34m\u001b[0m\u001b[0;34m\u001b[0m\u001b[0m\n\u001b[1;32m    137\u001b[0m                 )  # pylint: disable=no-member\n\u001b[0;32m--> 138\u001b[0;31m                 raise TypeError(\n\u001b[0m\u001b[1;32m    139\u001b[0m                     \u001b[0;34mf\"{error_string_prefix} received an unexpected keyword argument: `{k}`\"\u001b[0m\u001b[0;34m\u001b[0m\u001b[0;34m\u001b[0m\u001b[0m\n\u001b[1;32m    140\u001b[0m                     \u001b[0;34mf\"\\nAllowed arguments: {allowed_args}\"\u001b[0m\u001b[0;34m\u001b[0m\u001b[0;34m\u001b[0m\u001b[0m\n",
      "\u001b[0;31mTypeError\u001b[0m: The `dash_bootstrap_components.Row` component (version 1.2.1) received an unexpected keyword argument: `width`\nAllowed arguments: align, children, className, class_name, id, justify, key, loading_state, style"
     ]
    }
   ],
   "source": [
    "\n",
    "general_navbar = dbc.Navbar(\n",
    "    dbc.Container([\n",
    "                    dbc.Row([\n",
    "                             dbc.NavItem(dbc.NavLink(\"General KPI\", href=\"#\")),\n",
    "                             dbc.NavItem(dbc.NavLink(\"Youtube KPI\", href=\"#\")),\n",
    "                             dbc.NavItem(dbc.NavLink(\"Facebook KPI\", href=\"#\")),\n",
    "                             dbc.NavItem(dbc.NavLink(\"Instagram KPI\", href=\"#\")),\n",
    "                             dbc.NavItem(dbc.NavLink(\"Twitter KPI\", href=\"#\")),\n",
    "                    ]),\n",
    "    ])\n",
    ")\n",
    "\n",
    "facebook_navbar = \n",
    "def inner_navbar(platform_name, logo):\n",
    "    inner_navbar = dbc.Navbar(\n",
    "        dbc.Container([\n",
    "                        dbc.Row([\n",
    "                                 html.Label(\"Facebook\"),\n",
    "                        ]),\n",
    "        ])\n",
    "    )\n",
    "    return inner_navbar\n",
    "\n",
    "\n",
    "\n",
    "app.layout = html.Div([\n",
    "        #Navbar\n",
    "        general_navbar,\n",
    "        html.Div([\n",
    "            html.H2(\"Social Media KPIs Scorecard\"),\n",
    "            dbc.Col([\n",
    "                            dbc.Row([\n",
    "                                html.H3(\"Facebook\"),\n",
    "                                inner_navbar(\"Facebook\", logo)\n",
    "                                \n",
    "                            \n",
    "                                \n",
    "                            ]),\n",
    "                            dbc.Row([\n",
    "                                html.H3(\"Instagram\").\n",
    "                                inner_navbar(\"Instagram\", logo)\n",
    "                            \n",
    "                            \n",
    "                                \n",
    "                            ])\n",
    "                    ],\n",
    "                    width=6),\n",
    "            dbc.Col([\n",
    "                            dbc.Row([\n",
    "                                html.H3(\"Twitter\"),\n",
    "                                inner_navbar(\"Twitter\", logo)\n",
    "                            \n",
    "                            \n",
    "                            \n",
    "                            ]),\n",
    "                            dbc.Row([\n",
    "                                html.H3(\"Youtube\"),\n",
    "                                inner_navbar(\"Youtube\", logo)\n",
    "                            \n",
    "                            \n",
    "                            \n",
    "                            \n",
    "                            ])\n",
    "                    ],\n",
    "                     width=6)\n",
    "        ])\n",
    "    ])\n"
   ]
  },
  {
   "cell_type": "markdown",
   "id": "5dedefef-3902-4103-8e1e-7f7a5cd4eced",
   "metadata": {},
   "source": [
    "### 4. CallBacks:"
   ]
  },
  {
   "cell_type": "code",
   "execution_count": null,
   "id": "8cae4f72-c294-4f57-a7fe-ffad5b1c060b",
   "metadata": {},
   "outputs": [],
   "source": []
  },
  {
   "cell_type": "markdown",
   "id": "f3e0f900-5b58-4012-8e70-695594dcd372",
   "metadata": {
    "execution": {
     "iopub.execute_input": "2021-07-02T23:32:10.789097Z",
     "iopub.status.busy": "2021-07-02T23:32:10.788829Z",
     "iopub.status.idle": "2021-07-02T23:32:10.796900Z",
     "shell.execute_reply": "2021-07-02T23:32:10.796358Z",
     "shell.execute_reply.started": "2021-07-02T23:32:10.789033Z"
    },
    "papermill": {},
    "tags": []
   },
   "source": [
    "## Output"
   ]
  },
  {
   "cell_type": "markdown",
   "id": "74eb5829-9e0e-4a3c-9ba7-b33efdbf3b83",
   "metadata": {},
   "source": [
    "### Generate URL and show logs"
   ]
  },
  {
   "cell_type": "code",
   "execution_count": 13,
   "id": "35e8c988-8d11-477a-8ac5-5095465825f1",
   "metadata": {
    "execution": {
     "iopub.execute_input": "2022-08-10T00:40:45.416119Z",
     "iopub.status.busy": "2022-08-10T00:40:45.415812Z",
     "iopub.status.idle": "2022-08-10T00:51:31.351980Z",
     "shell.execute_reply": "2022-08-10T00:51:31.351346Z",
     "shell.execute_reply.started": "2022-08-10T00:40:45.416087Z"
    },
    "papermill": {},
    "tags": []
   },
   "outputs": [
    {
     "name": "stdout",
     "output_type": "stream",
     "text": [
      "Dash is running on https://app.naas.ai/user/ismailchihab71@gmail.com/proxy/8050/\n",
      "\n",
      "Dash is running on https://app.naas.ai/user/ismailchihab71@gmail.com/proxy/8050/\n",
      "\n",
      "\u001b[31m\u001b[1mWARNING: This is a development server. Do not use it in a production deployment. Use a production WSGI server instead.\u001b[0m\n",
      " * Serving Flask app '__main__'\n",
      " * Debug mode: off\n"
     ]
    },
    {
     "name": "stderr",
     "output_type": "stream",
     "text": [
      " * Running on http://127.0.0.1:8050 (Press CTRL+C to quit)\n",
      "127.0.0.1 - - [10/Aug/2022 02:40:47] \"GET / HTTP/1.1\" 200 -\n",
      "127.0.0.1 - - [10/Aug/2022 02:40:48] \"GET /_dash-layout HTTP/1.1\" 200 -\n",
      "127.0.0.1 - - [10/Aug/2022 02:40:48] \"GET /_dash-dependencies HTTP/1.1\" 200 -\n",
      "127.0.0.1 - - [10/Aug/2022 02:40:59] \"GET / HTTP/1.1\" 200 -\n",
      "127.0.0.1 - - [10/Aug/2022 02:40:59] \"GET /_dash-layout HTTP/1.1\" 200 -\n",
      "127.0.0.1 - - [10/Aug/2022 02:40:59] \"GET /_dash-dependencies HTTP/1.1\" 200 -\n"
     ]
    }
   ],
   "source": [
    "if __name__ == '__main__':\n",
    "    app.run_server(proxy=f\"http://127.0.0.1:{DASH_PORT}::https://app.naas.ai\")"
   ]
  },
  {
   "cell_type": "code",
   "execution_count": null,
   "id": "c42e4957-c0f1-4fba-8ec6-87f65c17df97",
   "metadata": {},
   "outputs": [],
   "source": []
  }
 ],
 "metadata": {
  "kernelspec": {
   "display_name": "Python 3",
   "language": "python",
   "name": "python3"
  },
  "language_info": {
   "codemirror_mode": {
    "name": "ipython",
    "version": 3
   },
   "file_extension": ".py",
   "mimetype": "text/x-python",
   "name": "python",
   "nbconvert_exporter": "python",
   "pygments_lexer": "ipython3",
   "version": "3.9.6"
  }
 },
 "nbformat": 4,
 "nbformat_minor": 5
}
