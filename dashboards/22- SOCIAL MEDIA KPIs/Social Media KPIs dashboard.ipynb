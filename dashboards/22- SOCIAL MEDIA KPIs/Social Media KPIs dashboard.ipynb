{
 "cells": [
  {
   "cell_type": "markdown",
   "id": "0b67be94-62bf-45f1-996a-fb016eaa4fa2",
   "metadata": {},
   "source": [
    "# **SOCIAL MEDIA KPIs** "
   ]
  },
  {
   "cell_type": "markdown",
   "id": "9195b352-f4c1-4753-ae61-986d7f3ae633",
   "metadata": {},
   "source": []
  },
  {
   "cell_type": "code",
   "execution_count": 2,
   "id": "8ba06d95-f4d3-4d95-a8f3-1d54a28fc97c",
   "metadata": {
    "execution": {
     "iopub.execute_input": "2022-08-11T11:07:00.864132Z",
     "iopub.status.busy": "2022-08-11T11:07:00.863906Z",
     "iopub.status.idle": "2022-08-11T11:07:05.680086Z",
     "shell.execute_reply": "2022-08-11T11:07:05.678360Z",
     "shell.execute_reply.started": "2022-08-11T11:07:00.864110Z"
    },
    "tags": []
   },
   "outputs": [
    {
     "name": "stdout",
     "output_type": "stream",
     "text": [
      "Collecting dash-bootstrap-components\n",
      "  Using cached dash_bootstrap_components-1.2.1-py3-none-any.whl (216 kB)\n",
      "Requirement already satisfied: dash>=2.0.0 in /home/ftp/.local/lib/python3.9/site-packages (from dash-bootstrap-components) (2.6.1)\n",
      "Collecting dash-table==5.0.0\n",
      "  Using cached dash_table-5.0.0-py3-none-any.whl (3.9 kB)\n",
      "Requirement already satisfied: Flask>=1.0.4 in /home/ftp/.local/lib/python3.9/site-packages (from dash>=2.0.0->dash-bootstrap-components) (2.2.1)\n",
      "Collecting dash-core-components==2.0.0\n",
      "  Using cached dash_core_components-2.0.0-py3-none-any.whl (3.8 kB)\n",
      "Requirement already satisfied: plotly>=5.0.0 in /home/ftp/.local/lib/python3.9/site-packages (from dash>=2.0.0->dash-bootstrap-components) (5.9.0)\n",
      "Collecting dash-html-components==2.0.0\n",
      "  Using cached dash_html_components-2.0.0-py3-none-any.whl (4.1 kB)\n",
      "Requirement already satisfied: flask-compress in /home/ftp/.local/lib/python3.9/site-packages (from dash>=2.0.0->dash-bootstrap-components) (1.12)\n",
      "Requirement already satisfied: itsdangerous>=2.0 in /home/ftp/.local/lib/python3.9/site-packages (from Flask>=1.0.4->dash>=2.0.0->dash-bootstrap-components) (2.1.2)\n",
      "Requirement already satisfied: Werkzeug>=2.2.0 in /opt/conda/lib/python3.9/site-packages (from Flask>=1.0.4->dash>=2.0.0->dash-bootstrap-components) (2.2.1)\n",
      "Requirement already satisfied: Jinja2>=3.0 in /opt/conda/lib/python3.9/site-packages (from Flask>=1.0.4->dash>=2.0.0->dash-bootstrap-components) (3.0.3)\n",
      "Requirement already satisfied: click>=8.0 in /opt/conda/lib/python3.9/site-packages (from Flask>=1.0.4->dash>=2.0.0->dash-bootstrap-components) (8.1.3)\n",
      "Requirement already satisfied: importlib-metadata>=3.6.0 in /opt/conda/lib/python3.9/site-packages (from Flask>=1.0.4->dash>=2.0.0->dash-bootstrap-components) (4.6.3)\n",
      "Requirement already satisfied: tenacity>=6.2.0 in /opt/conda/lib/python3.9/site-packages (from plotly>=5.0.0->dash>=2.0.0->dash-bootstrap-components) (8.0.1)\n",
      "Requirement already satisfied: brotli in /opt/conda/lib/python3.9/site-packages (from flask-compress->dash>=2.0.0->dash-bootstrap-components) (1.0.9)\n",
      "Requirement already satisfied: zipp>=0.5 in /opt/conda/lib/python3.9/site-packages (from importlib-metadata>=3.6.0->Flask>=1.0.4->dash>=2.0.0->dash-bootstrap-components) (3.5.0)\n",
      "Requirement already satisfied: MarkupSafe>=2.0 in /home/ftp/.local/lib/python3.9/site-packages (from Jinja2>=3.0->Flask>=1.0.4->dash>=2.0.0->dash-bootstrap-components) (2.1.1)\n",
      "Installing collected packages: dash-table, dash-html-components, dash-core-components, dash-bootstrap-components\n",
      "Successfully installed dash-bootstrap-components-1.2.1 dash-core-components-2.0.0 dash-html-components-2.0.0 dash-table-5.0.0\n",
      "\n",
      "\u001b[1m[\u001b[0m\u001b[34;49mnotice\u001b[0m\u001b[1;39;49m]\u001b[0m\u001b[39;49m A new release of pip available: \u001b[0m\u001b[31;49m22.2.1\u001b[0m\u001b[39;49m -> \u001b[0m\u001b[32;49m22.2.2\u001b[0m\n",
      "\u001b[1m[\u001b[0m\u001b[34;49mnotice\u001b[0m\u001b[1;39;49m]\u001b[0m\u001b[39;49m To update, run: \u001b[0m\u001b[32;49mpip install --upgrade pip\u001b[0m\n",
      "Note: you may need to restart the kernel to use updated packages.\n"
     ]
    }
   ],
   "source": [
    "pip install dash-bootstrap-components"
   ]
  },
  {
   "cell_type": "markdown",
   "id": "59e516cf-ce9f-4eac-b177-ebdbf2e90636",
   "metadata": {},
   "source": [
    "## Input"
   ]
  },
  {
   "cell_type": "markdown",
   "id": "383ac6fd-6bf7-42f5-901a-e1086e6720d0",
   "metadata": {},
   "source": [
    "### Import library"
   ]
  },
  {
   "cell_type": "code",
   "execution_count": 1,
   "id": "cd726a60-cf9a-45d4-afeb-9124a7f1cadb",
   "metadata": {
    "execution": {
     "iopub.execute_input": "2022-08-15T21:44:34.473917Z",
     "iopub.status.busy": "2022-08-15T21:44:34.473659Z",
     "iopub.status.idle": "2022-08-15T21:44:37.496492Z",
     "shell.execute_reply": "2022-08-15T21:44:37.495647Z",
     "shell.execute_reply.started": "2022-08-15T21:44:34.473854Z"
    },
    "tags": []
   },
   "outputs": [],
   "source": [
    "import naas\n",
    "import dash\n",
    "from dash import html\n",
    "from dash import dcc\n",
    "import dash_bootstrap_components as dbc\n",
    "import plotly.graph_objects as go\n",
    "import plotly.express as px\n",
    "import pandas as pd\n",
    "import os"
   ]
  },
  {
   "cell_type": "markdown",
   "id": "47187f6b-150f-4072-8e59-910734be1d59",
   "metadata": {},
   "source": [
    "### Variables"
   ]
  },
  {
   "cell_type": "code",
   "execution_count": 2,
   "id": "9af29914-37af-494f-9b1c-8360886b65e5",
   "metadata": {
    "execution": {
     "iopub.execute_input": "2022-08-15T21:44:39.381092Z",
     "iopub.status.busy": "2022-08-15T21:44:39.380857Z",
     "iopub.status.idle": "2022-08-15T21:44:39.387450Z",
     "shell.execute_reply": "2022-08-15T21:44:39.386668Z",
     "shell.execute_reply.started": "2022-08-15T21:44:39.381069Z"
    },
    "tags": []
   },
   "outputs": [],
   "source": [
    "DASH_PORT = 8050"
   ]
  },
  {
   "cell_type": "markdown",
   "id": "5e2982c8-d74b-47d6-9d0e-7a3c599ea281",
   "metadata": {},
   "source": [
    "## Model"
   ]
  },
  {
   "cell_type": "markdown",
   "id": "11095603-aa40-400b-b176-34f32ee21d00",
   "metadata": {},
   "source": [
    "### Initialize Dash app"
   ]
  },
  {
   "cell_type": "markdown",
   "id": "59a261f6-3ff1-4643-9db1-0c71af9bec43",
   "metadata": {},
   "source": [
    "### Create app layout"
   ]
  },
  {
   "cell_type": "code",
   "execution_count": 3,
   "id": "c1034d37-5b53-49fc-8910-3fcb48a4ec5d",
   "metadata": {
    "execution": {
     "iopub.execute_input": "2022-08-15T21:44:44.697919Z",
     "iopub.status.busy": "2022-08-15T21:44:44.697683Z",
     "iopub.status.idle": "2022-08-15T21:44:44.709157Z",
     "shell.execute_reply": "2022-08-15T21:44:44.708483Z",
     "shell.execute_reply.started": "2022-08-15T21:44:44.697896Z"
    },
    "tags": []
   },
   "outputs": [],
   "source": [
    "app = dash.Dash(requests_pathname_prefix=f'/user/{os.environ.get(\"JUPYTERHUB_USER\")}/proxy/{DASH_PORT}/', \n",
    "                external_stylesheets=[dbc.themes.BOOTSTRAP], meta_tags=[{'name':'viewport',\n",
    "                                                                         'content':'width=device-width, initial-scale=1.0'}])  \n",
    "#app = dash.Dash() if you are not in Naas"
   ]
  },
  {
   "cell_type": "markdown",
   "id": "71162fd6-fdbc-470c-a94d-e22b0803c789",
   "metadata": {},
   "source": [
    "### 1. Data Imports:"
   ]
  },
  {
   "cell_type": "code",
   "execution_count": null,
   "id": "a9e82ba3-9e31-4972-a6e8-bd348af33846",
   "metadata": {},
   "outputs": [],
   "source": []
  },
  {
   "cell_type": "markdown",
   "id": "0ec5a1f8-39aa-4035-8b31-9c3704709a44",
   "metadata": {
    "execution": {
     "iopub.execute_input": "2022-08-09T20:02:28.992841Z",
     "iopub.status.busy": "2022-08-09T20:02:28.992622Z",
     "iopub.status.idle": "2022-08-09T20:02:28.995727Z",
     "shell.execute_reply": "2022-08-09T20:02:28.995079Z",
     "shell.execute_reply.started": "2022-08-09T20:02:28.992818Z"
    },
    "tags": []
   },
   "source": [
    "### 2. Data Manipulation:"
   ]
  },
  {
   "cell_type": "code",
   "execution_count": 4,
   "id": "7eb4eb26-6de2-40f0-8b78-4e8cac986b53",
   "metadata": {
    "execution": {
     "iopub.execute_input": "2022-08-15T21:44:48.924364Z",
     "iopub.status.busy": "2022-08-15T21:44:48.924135Z",
     "iopub.status.idle": "2022-08-15T21:44:49.244197Z",
     "shell.execute_reply": "2022-08-15T21:44:49.243101Z",
     "shell.execute_reply.started": "2022-08-15T21:44:48.924341Z"
    },
    "tags": []
   },
   "outputs": [
    {
     "ename": "FileNotFoundError",
     "evalue": "file doesn't exist /home/ftp/summer-dashboarding/dashboards/22- SOCIAL MEDIA KPIs/logo-modified.png",
     "output_type": "error",
     "traceback": [
      "\u001b[0;31m---------------------------------------------------------------------------\u001b[0m",
      "\u001b[0;31mFileNotFoundError\u001b[0m                         Traceback (most recent call last)",
      "\u001b[0;32m<ipython-input-4-9efc0f9e336e>\u001b[0m in \u001b[0;36m<module>\u001b[0;34m\u001b[0m\n\u001b[0;32m----> 1\u001b[0;31m \u001b[0mnaas\u001b[0m\u001b[0;34m.\u001b[0m\u001b[0masset\u001b[0m\u001b[0;34m.\u001b[0m\u001b[0madd\u001b[0m\u001b[0;34m(\u001b[0m\u001b[0;34m\"logo-modified.png\"\u001b[0m\u001b[0;34m)\u001b[0m\u001b[0;34m\u001b[0m\u001b[0;34m\u001b[0m\u001b[0m\n\u001b[0m",
      "\u001b[0;32m/opt/conda/lib/python3.9/site-packages/naas/assets.py\u001b[0m in \u001b[0;36madd\u001b[0;34m(self, path, params, debug, force_image)\u001b[0m\n\u001b[1;32m     98\u001b[0m             \u001b[0;32mreturn\u001b[0m \u001b[0murl\u001b[0m\u001b[0;34m\u001b[0m\u001b[0;34m\u001b[0m\u001b[0m\n\u001b[1;32m     99\u001b[0m         \u001b[0;31m# \"path\", \"type\", \"params\", \"value\", \"status\"\u001b[0m\u001b[0;34m\u001b[0m\u001b[0;34m\u001b[0m\u001b[0;34m\u001b[0m\u001b[0m\n\u001b[0;32m--> 100\u001b[0;31m         self.manager.add_prod(\n\u001b[0m\u001b[1;32m    101\u001b[0m             {\n\u001b[1;32m    102\u001b[0m                 \u001b[0;34m\"type\"\u001b[0m\u001b[0;34m:\u001b[0m \u001b[0mself\u001b[0m\u001b[0;34m.\u001b[0m\u001b[0mrole\u001b[0m\u001b[0;34m,\u001b[0m\u001b[0;34m\u001b[0m\u001b[0;34m\u001b[0m\u001b[0m\n",
      "\u001b[0;32m/opt/conda/lib/python3.9/site-packages/naas/manager.py\u001b[0m in \u001b[0;36madd_prod\u001b[0;34m(self, obj, debug)\u001b[0m\n\u001b[1;32m    370\u001b[0m             \u001b[0mdev_path\u001b[0m \u001b[0;34m=\u001b[0m \u001b[0mobj\u001b[0m\u001b[0;34m.\u001b[0m\u001b[0mget\u001b[0m\u001b[0;34m(\u001b[0m\u001b[0;34m\"path\"\u001b[0m\u001b[0;34m)\u001b[0m\u001b[0;34m\u001b[0m\u001b[0;34m\u001b[0m\u001b[0m\n\u001b[1;32m    371\u001b[0m             \u001b[0mnew_obj\u001b[0m\u001b[0;34m[\u001b[0m\u001b[0;34m\"path\"\u001b[0m\u001b[0;34m]\u001b[0m \u001b[0;34m=\u001b[0m \u001b[0mself\u001b[0m\u001b[0;34m.\u001b[0m\u001b[0mget_path\u001b[0m\u001b[0;34m(\u001b[0m\u001b[0mdev_path\u001b[0m\u001b[0;34m)\u001b[0m\u001b[0;34m\u001b[0m\u001b[0;34m\u001b[0m\u001b[0m\n\u001b[0;32m--> 372\u001b[0;31m             \u001b[0mnew_obj\u001b[0m\u001b[0;34m[\u001b[0m\u001b[0;34m\"file\"\u001b[0m\u001b[0;34m]\u001b[0m \u001b[0;34m=\u001b[0m \u001b[0mself\u001b[0m\u001b[0;34m.\u001b[0m\u001b[0m__open_file\u001b[0m\u001b[0;34m(\u001b[0m\u001b[0mdev_path\u001b[0m\u001b[0;34m)\u001b[0m\u001b[0;34m\u001b[0m\u001b[0;34m\u001b[0m\u001b[0m\n\u001b[0m\u001b[1;32m    373\u001b[0m             \u001b[0;31m# new_obj[\"status\"] = t_add\u001b[0m\u001b[0;34m\u001b[0m\u001b[0;34m\u001b[0m\u001b[0;34m\u001b[0m\u001b[0m\n\u001b[1;32m    374\u001b[0m             \u001b[0;32mtry\u001b[0m\u001b[0;34m:\u001b[0m\u001b[0;34m\u001b[0m\u001b[0;34m\u001b[0m\u001b[0m\n",
      "\u001b[0;32m/opt/conda/lib/python3.9/site-packages/naas/manager.py\u001b[0m in \u001b[0;36m__open_file\u001b[0;34m(self, path)\u001b[0m\n\u001b[1;32m    218\u001b[0m         \u001b[0mfilename\u001b[0m \u001b[0;34m=\u001b[0m \u001b[0mos\u001b[0m\u001b[0;34m.\u001b[0m\u001b[0mpath\u001b[0m\u001b[0;34m.\u001b[0m\u001b[0mbasename\u001b[0m\u001b[0;34m(\u001b[0m\u001b[0mpath\u001b[0m\u001b[0;34m)\u001b[0m\u001b[0;34m\u001b[0m\u001b[0;34m\u001b[0m\u001b[0m\n\u001b[1;32m    219\u001b[0m         \u001b[0;32mif\u001b[0m \u001b[0;32mnot\u001b[0m \u001b[0mos\u001b[0m\u001b[0;34m.\u001b[0m\u001b[0mpath\u001b[0m\u001b[0;34m.\u001b[0m\u001b[0mexists\u001b[0m\u001b[0;34m(\u001b[0m\u001b[0mpath\u001b[0m\u001b[0;34m)\u001b[0m\u001b[0;34m:\u001b[0m\u001b[0;34m\u001b[0m\u001b[0;34m\u001b[0m\u001b[0m\n\u001b[0;32m--> 220\u001b[0;31m             \u001b[0;32mraise\u001b[0m \u001b[0mFileNotFoundError\u001b[0m\u001b[0;34m(\u001b[0m\u001b[0;34mf\"file doesn't exist {path}\"\u001b[0m\u001b[0;34m)\u001b[0m\u001b[0;34m\u001b[0m\u001b[0;34m\u001b[0m\u001b[0m\n\u001b[0m\u001b[1;32m    221\u001b[0m         \u001b[0mdata\u001b[0m \u001b[0;34m=\u001b[0m \u001b[0mopen\u001b[0m\u001b[0;34m(\u001b[0m\u001b[0mpath\u001b[0m\u001b[0;34m,\u001b[0m \u001b[0;34m\"rb\"\u001b[0m\u001b[0;34m)\u001b[0m\u001b[0;34m.\u001b[0m\u001b[0mread\u001b[0m\u001b[0;34m(\u001b[0m\u001b[0;34m)\u001b[0m\u001b[0;34m\u001b[0m\u001b[0;34m\u001b[0m\u001b[0m\n\u001b[1;32m    222\u001b[0m         \u001b[0mencoded\u001b[0m \u001b[0;34m=\u001b[0m \u001b[0mbase64\u001b[0m\u001b[0;34m.\u001b[0m\u001b[0mb64encode\u001b[0m\u001b[0;34m(\u001b[0m\u001b[0mdata\u001b[0m\u001b[0;34m)\u001b[0m\u001b[0;34m\u001b[0m\u001b[0;34m\u001b[0m\u001b[0m\n",
      "\u001b[0;31mFileNotFoundError\u001b[0m: file doesn't exist /home/ftp/summer-dashboarding/dashboards/22- SOCIAL MEDIA KPIs/logo-modified.png"
     ]
    }
   ],
   "source": [
    "naas.asset.add(\"logo-modified.png\")"
   ]
  },
  {
   "cell_type": "markdown",
   "id": "2d885141-aeeb-4d92-b1a9-c94b19635902",
   "metadata": {
    "execution": {
     "iopub.execute_input": "2022-08-09T20:11:31.313904Z",
     "iopub.status.busy": "2022-08-09T20:11:31.313673Z",
     "iopub.status.idle": "2022-08-09T20:11:31.324068Z",
     "shell.execute_reply": "2022-08-09T20:11:31.323217Z",
     "shell.execute_reply.started": "2022-08-09T20:11:31.313879Z"
    },
    "tags": []
   },
   "source": [
    "### 3. Dashboard:"
   ]
  },
  {
   "cell_type": "markdown",
   "id": "629b576b-ddf4-4e70-8c6e-0555203e2615",
   "metadata": {},
   "source": [
    "#### a.NavBar:"
   ]
  },
  {
   "cell_type": "code",
   "execution_count": 67,
   "id": "68f590de-2c01-4760-a092-4d26fd8a305d",
   "metadata": {
    "execution": {
     "iopub.execute_input": "2022-08-15T18:15:31.102538Z",
     "iopub.status.busy": "2022-08-15T18:15:31.102310Z",
     "iopub.status.idle": "2022-08-15T18:15:31.110903Z",
     "shell.execute_reply": "2022-08-15T18:15:31.110248Z",
     "shell.execute_reply.started": "2022-08-15T18:15:31.102515Z"
    },
    "tags": []
   },
   "outputs": [],
   "source": [
    "#NavBar:\n",
    "facebook_logo = \"https://public.naas.ai/aXNtYWlsY2hpaGFiNzEtNDBnbWFpbC0yRWNvbQ==/asset/0606284b644f3027729e6458673533626294714b23c87a4dc586f3788267.png\"\n",
    "instagram_logo = \"https://public.naas.ai/aXNtYWlsY2hpaGFiNzEtNDBnbWFpbC0yRWNvbQ==/asset/063fd6d5f4bcf0333e24bc9df3e27ff0ac94d87cb3f49deb618e136a2820.png\"\n",
    "twitter_logo = \"https://public.naas.ai/aXNtYWlsY2hpaGFiNzEtNDBnbWFpbC0yRWNvbQ==/asset/6971c34213c7a79bcb5a9583ca77762bf09c84edc942e1d792db2baab22d.png\"\n",
    "youtube_logo = \"https://public.naas.ai/aXNtYWlsY2hpaGFiNzEtNDBnbWFpbC0yRWNvbQ==/asset/1c8d463751a136a2cdead2a0e8c663b1fa19bb623e1d2b8874c17cf6bb96.png\"\n",
    "def inner_navbar(platform_name, logo, brand_hex_color): \n",
    "    \n",
    "    inner_navbar = dbc.Navbar(\n",
    "            dbc.Container(\n",
    "                [\n",
    "                    html.A(\n",
    "                        # Use row and col to control vertical alignment of logo / brand\n",
    "                        dbc.Row(\n",
    "                            [\n",
    "                                dbc.Col(html.Img(src=logo, height=\"30px\")),\n",
    "                                dbc.Col(dbc.NavbarBrand(platform_name, className=\"ms-2\")),\n",
    "                            ],\n",
    "                            align=\"center\",\n",
    "                            className=\"g-0\",\n",
    "                        ),\n",
    "                        style={\"textDecoration\": \"none\"},\n",
    "                    )\n",
    "                ]\n",
    "            ),\n",
    "            color=str(brand_hex_color),\n",
    "            dark=True,\n",
    "        )\n",
    "    return inner_navbar\n",
    "\n",
    "Facebook_navbar =  inner_navbar(\"Facebook\", facebook_logo, \"#4267B2\")\n",
    "Instagram_navbar =  inner_navbar(\"Instagram\", instagram_logo, \"#E1306C\")\n",
    "Twitter_navbar =  inner_navbar(\"Twitter\", twitter_logo, \"#1DA1F2\")\n",
    "Youtube_navbar =  inner_navbar(\"Youtube\", youtube_logo, \"#FF0000\")\n",
    "\n",
    "\n",
    "general_navbar = dbc.Navbar(\n",
    "       dbc.Container([\n",
    "           html.A(dbc.NavItem(dbc.NavLink(\"General KPI\")), className=\"eight columns\"),\n",
    "           dbc.NavbarToggler(id=\"navbar-toggler\", n_clicks=0),\n",
    "           dbc.Collapse(\n",
    "                page_dropdown,\n",
    "                id=\"navbar-collapse\",\n",
    "                is_open=False,\n",
    "                navbar=True,\n",
    "           )\n",
    "       ], className='row') \n",
    ")\n",
    "general_navbar = dbc.NavbarSimple(\n",
    "    children=[\n",
    "        dbc.NavItem(dbc.NavLink(\"General ScoreCard\", href=\"#\")),\n",
    "        dbc.DropdownMenu(\n",
    "            label=\"Menu\",\n",
    "            children=[\n",
    "                dbc.DropdownMenuItem(\"More\", header=True),\n",
    "                dbc.DropdownMenuItem(\"Facebook\"),\n",
    "                dbc.DropdownMenuItem(\"Instagram\"),\n",
    "                dbc.DropdownMenuItem(\"Twitter\"),\n",
    "                dbc.DropdownMenuItem(\"Youtube\"),\n",
    "            ],\n",
    "            nav=True,\n",
    "            in_navbar=True,\n",
    "        )\n",
    "    ],\n",
    "    brand=\"Social Media KPIs Scorecard\",\n",
    "    brand_href=\"#\",\n",
    "    color=\"dark\",\n",
    "    dark=True,\n",
    ")"
   ]
  },
  {
   "cell_type": "markdown",
   "id": "152c6159-1e85-45fd-8148-a2f18767bdff",
   "metadata": {},
   "source": [
    "#### b. Card:"
   ]
  },
  {
   "cell_type": "code",
   "execution_count": 68,
   "id": "0e80513c-714b-40a8-b712-b20048272ca3",
   "metadata": {
    "execution": {
     "iopub.execute_input": "2022-08-15T18:15:34.771609Z",
     "iopub.status.busy": "2022-08-15T18:15:34.771290Z",
     "iopub.status.idle": "2022-08-15T18:15:34.787398Z",
     "shell.execute_reply": "2022-08-15T18:15:34.786478Z",
     "shell.execute_reply.started": "2022-08-15T18:15:34.771572Z"
    },
    "tags": []
   },
   "outputs": [],
   "source": [
    "#card:\n",
    "\n",
    "table_header = [\n",
    "    html.Thead(html.Tr([html.Th(\"\"), html.Th(\"Actual\"), html.Th(\"Target\"),html.Th(\"To Target\"), html.Th(\"Prev Period\"), html.Th(\"To Previous\")]))\n",
    "]\n",
    "\n",
    "row1 = html.Tr([html.Td(\"Followers\"), html.Td(\"\"), html.Td(\"\"), html.Td(\"\"), html.Td(\"\"), html.Td(\"\")])\n",
    "row2 = html.Tr([html.Td(\"Impressions\"), html.Td(\"\"), html.Td(\"\"), html.Td(\"\"), html.Td(\"\"), html.Td(\"\")])\n",
    "row3 = html.Tr([html.Td(\"Link Clicks\"), html.Td(\"\"), html.Td(\"\"), html.Td(\"\"), html.Td(\"\"), html.Td(\"\")])\n",
    "row4 = html.Tr([html.Td(\"Engagements\"), html.Td(\"\"), html.Td(\"\"), html.Td(\"\"), html.Td(\"\"), html.Td(\"\")])\n",
    "row5 = html.Tr([html.Td(\"Engagement Rate\"), html.Td(\"\"), html.Td(\"\"), html.Td(\"\"), html.Td(\"\"), html.Td(\"\")])\n",
    "row6 = html.Tr([html.Td(\"AVG Order Value\"), html.Td(\"\"), html.Td(\"\"), html.Td(\"\"), html.Td(\"\"), html.Td(\"\")])\n",
    "row7 = html.Tr([html.Td(\"AVG Time To Conversion\"), html.Td(\"\"), html.Td(\"\"), html.Td(\"\"), html.Td(\"\"), html.Td(\"\")])\n",
    "\n",
    "table_body = [html.Tbody([row1, row2, row3, row4, row5, row6, row7])]\n",
    "\n",
    "table = dbc.Table(table_header + table_body, className=\"table table-sm\")\n",
    "def inner_card(navbar, table):\n",
    "    card = dbc.Card(\n",
    "        dbc.CardBody(\n",
    "            [\n",
    "                navbar,\n",
    "                table,\n",
    "\n",
    "            ]\n",
    "        ),\n",
    "    )\n",
    "    return card\n",
    "\n",
    "Facebook_card=inner_card(Facebook_navbar, table)\n",
    "Instagram_card=inner_card(Instagram_navbar, table)\n",
    "Twitter_card=inner_card(Twitter_navbar, table)\n",
    "Youtube_card=inner_card(Youtube_navbar, table)\n"
   ]
  },
  {
   "cell_type": "markdown",
   "id": "98d51619-3639-48e5-aca7-f601973cbd5f",
   "metadata": {},
   "source": [
    "#### c. Layout:"
   ]
  },
  {
   "cell_type": "code",
   "execution_count": 69,
   "id": "3c541ee0-4791-47bf-93ab-b8597a964a0e",
   "metadata": {
    "execution": {
     "iopub.execute_input": "2022-08-15T18:15:38.667426Z",
     "iopub.status.busy": "2022-08-15T18:15:38.667200Z",
     "iopub.status.idle": "2022-08-15T18:15:38.671766Z",
     "shell.execute_reply": "2022-08-15T18:15:38.671140Z",
     "shell.execute_reply.started": "2022-08-15T18:15:38.667403Z"
    },
    "tags": []
   },
   "outputs": [],
   "source": [
    "app.layout = html.Div([\n",
    "        #Navbar:\n",
    "        general_navbar,\n",
    "        #The page content:\n",
    "        dbc.Container([\n",
    "            html.Br(),\n",
    "            dbc.Row([\n",
    "                            dbc.Col([\n",
    "                                Facebook_card,\n",
    "                            ], \n",
    "                                xs=12, sm=12, md=12, lg=6, xl=6),\n",
    "                            dbc.Col([\n",
    "                                Instagram_card\n",
    "                            ], xs=12, sm=12, md=12, lg=6, xl=6)\n",
    "                    ]),\n",
    "            dbc.Row([\n",
    "                            dbc.Col([\n",
    "                                Twitter_card\n",
    "                            ], xs=12, sm=12, md=12, lg=6, xl=6),\n",
    "                            dbc.Col([\n",
    "                                Youtube_card\n",
    "                            ], xs=12, sm=12, md=12, lg=6, xl=6)\n",
    "                    ])\n",
    "        ])\n",
    "    ])\n"
   ]
  },
  {
   "cell_type": "markdown",
   "id": "5dedefef-3902-4103-8e1e-7f7a5cd4eced",
   "metadata": {},
   "source": [
    "### 4. CallBacks:"
   ]
  },
  {
   "cell_type": "code",
   "execution_count": null,
   "id": "8cae4f72-c294-4f57-a7fe-ffad5b1c060b",
   "metadata": {},
   "outputs": [],
   "source": []
  },
  {
   "cell_type": "markdown",
   "id": "f3e0f900-5b58-4012-8e70-695594dcd372",
   "metadata": {
    "execution": {
     "iopub.execute_input": "2021-07-02T23:32:10.789097Z",
     "iopub.status.busy": "2021-07-02T23:32:10.788829Z",
     "iopub.status.idle": "2021-07-02T23:32:10.796900Z",
     "shell.execute_reply": "2021-07-02T23:32:10.796358Z",
     "shell.execute_reply.started": "2021-07-02T23:32:10.789033Z"
    },
    "papermill": {},
    "tags": []
   },
   "source": [
    "## Output"
   ]
  },
  {
   "cell_type": "markdown",
   "id": "74eb5829-9e0e-4a3c-9ba7-b33efdbf3b83",
   "metadata": {},
   "source": [
    "### Generate URL and show logs"
   ]
  },
  {
   "cell_type": "code",
   "execution_count": 70,
   "id": "35e8c988-8d11-477a-8ac5-5095465825f1",
   "metadata": {
    "execution": {
     "iopub.execute_input": "2022-08-15T18:15:42.165706Z",
     "iopub.status.busy": "2022-08-15T18:15:42.165484Z",
     "iopub.status.idle": "2022-08-15T18:17:15.461421Z",
     "shell.execute_reply": "2022-08-15T18:17:15.460752Z",
     "shell.execute_reply.started": "2022-08-15T18:15:42.165683Z"
    },
    "papermill": {},
    "tags": []
   },
   "outputs": [
    {
     "name": "stdout",
     "output_type": "stream",
     "text": [
      "Dash is running on https://app.naas.ai/user/ismailchihab71@gmail.com/proxy/8050/\n",
      "\n",
      "Dash is running on https://app.naas.ai/user/ismailchihab71@gmail.com/proxy/8050/\n",
      "\n",
      "Dash is running on https://app.naas.ai/user/ismailchihab71@gmail.com/proxy/8050/\n",
      "\n",
      "\u001b[31m\u001b[1mWARNING: This is a development server. Do not use it in a production deployment. Use a production WSGI server instead.\u001b[0m\n",
      " * Serving Flask app '__main__'\n",
      " * Debug mode: off\n"
     ]
    },
    {
     "name": "stderr",
     "output_type": "stream",
     "text": [
      " * Running on http://127.0.0.1:8050 (Press CTRL+C to quit)\n",
      "127.0.0.1 - - [15/Aug/2022 20:15:45] \"GET / HTTP/1.1\" 200 -\n",
      "127.0.0.1 - - [15/Aug/2022 20:15:45] \"GET /_dash-layout HTTP/1.1\" 200 -\n",
      "127.0.0.1 - - [15/Aug/2022 20:15:45] \"GET /_dash-dependencies HTTP/1.1\" 200 -\n",
      "127.0.0.1 - - [15/Aug/2022 20:15:45] \"GET /_favicon.ico?v=2.6.1 HTTP/1.1\" 200 -\n"
     ]
    }
   ],
   "source": [
    "if __name__ == '__main__':\n",
    "    app.run_server(proxy=f\"http://127.0.0.1:{DASH_PORT}::https://app.naas.ai\")"
   ]
  },
  {
   "cell_type": "code",
   "execution_count": null,
   "id": "c42e4957-c0f1-4fba-8ec6-87f65c17df97",
   "metadata": {},
   "outputs": [],
   "source": []
  }
 ],
 "metadata": {
  "kernelspec": {
   "display_name": "Python 3",
   "language": "python",
   "name": "python3"
  },
  "language_info": {
   "codemirror_mode": {
    "name": "ipython",
    "version": 3
   },
   "file_extension": ".py",
   "mimetype": "text/x-python",
   "name": "python",
   "nbconvert_exporter": "python",
   "pygments_lexer": "ipython3",
   "version": "3.9.6"
  }
 },
 "nbformat": 4,
 "nbformat_minor": 5
}
