{
 "cells": [
  {
   "cell_type": "markdown",
   "id": "0b67be94-62bf-45f1-996a-fb016eaa4fa2",
   "metadata": {},
   "source": [
    "# **SOCIAL MEDIA KPIs** "
   ]
  },
  {
   "cell_type": "markdown",
   "id": "9195b352-f4c1-4753-ae61-986d7f3ae633",
   "metadata": {},
   "source": []
  },
  {
   "cell_type": "code",
   "execution_count": 2,
   "id": "8ba06d95-f4d3-4d95-a8f3-1d54a28fc97c",
   "metadata": {
    "execution": {
     "iopub.execute_input": "2022-08-10T21:57:32.298038Z",
     "iopub.status.busy": "2022-08-10T21:57:32.297811Z",
     "iopub.status.idle": "2022-08-10T21:57:36.629407Z",
     "shell.execute_reply": "2022-08-10T21:57:36.628556Z",
     "shell.execute_reply.started": "2022-08-10T21:57:32.298014Z"
    },
    "tags": []
   },
   "outputs": [
    {
     "name": "stdout",
     "output_type": "stream",
     "text": [
      "Collecting dash-bootstrap-components\n",
      "  Using cached dash_bootstrap_components-1.2.1-py3-none-any.whl (216 kB)\n",
      "Requirement already satisfied: dash>=2.0.0 in /home/ftp/.local/lib/python3.9/site-packages (from dash-bootstrap-components) (2.6.1)\n",
      "Requirement already satisfied: flask-compress in /home/ftp/.local/lib/python3.9/site-packages (from dash>=2.0.0->dash-bootstrap-components) (1.12)\n",
      "Collecting dash-table==5.0.0\n",
      "  Using cached dash_table-5.0.0-py3-none-any.whl (3.9 kB)\n",
      "Requirement already satisfied: Flask>=1.0.4 in /home/ftp/.local/lib/python3.9/site-packages (from dash>=2.0.0->dash-bootstrap-components) (2.2.1)\n",
      "Collecting dash-html-components==2.0.0\n",
      "  Using cached dash_html_components-2.0.0-py3-none-any.whl (4.1 kB)\n",
      "Requirement already satisfied: plotly>=5.0.0 in /home/ftp/.local/lib/python3.9/site-packages (from dash>=2.0.0->dash-bootstrap-components) (5.9.0)\n",
      "Collecting dash-core-components==2.0.0\n",
      "  Using cached dash_core_components-2.0.0-py3-none-any.whl (3.8 kB)\n",
      "Requirement already satisfied: Jinja2>=3.0 in /opt/conda/lib/python3.9/site-packages (from Flask>=1.0.4->dash>=2.0.0->dash-bootstrap-components) (3.0.3)\n",
      "Requirement already satisfied: importlib-metadata>=3.6.0 in /opt/conda/lib/python3.9/site-packages (from Flask>=1.0.4->dash>=2.0.0->dash-bootstrap-components) (4.6.3)\n",
      "Requirement already satisfied: click>=8.0 in /opt/conda/lib/python3.9/site-packages (from Flask>=1.0.4->dash>=2.0.0->dash-bootstrap-components) (8.1.3)\n",
      "Requirement already satisfied: itsdangerous>=2.0 in /home/ftp/.local/lib/python3.9/site-packages (from Flask>=1.0.4->dash>=2.0.0->dash-bootstrap-components) (2.1.2)\n",
      "Requirement already satisfied: Werkzeug>=2.2.0 in /opt/conda/lib/python3.9/site-packages (from Flask>=1.0.4->dash>=2.0.0->dash-bootstrap-components) (2.2.1)\n",
      "Requirement already satisfied: tenacity>=6.2.0 in /opt/conda/lib/python3.9/site-packages (from plotly>=5.0.0->dash>=2.0.0->dash-bootstrap-components) (8.0.1)\n",
      "Requirement already satisfied: brotli in /opt/conda/lib/python3.9/site-packages (from flask-compress->dash>=2.0.0->dash-bootstrap-components) (1.0.9)\n",
      "Requirement already satisfied: zipp>=0.5 in /opt/conda/lib/python3.9/site-packages (from importlib-metadata>=3.6.0->Flask>=1.0.4->dash>=2.0.0->dash-bootstrap-components) (3.5.0)\n",
      "Requirement already satisfied: MarkupSafe>=2.0 in /home/ftp/.local/lib/python3.9/site-packages (from Jinja2>=3.0->Flask>=1.0.4->dash>=2.0.0->dash-bootstrap-components) (2.1.1)\n",
      "Installing collected packages: dash-table, dash-html-components, dash-core-components, dash-bootstrap-components\n",
      "Successfully installed dash-bootstrap-components-1.2.1 dash-core-components-2.0.0 dash-html-components-2.0.0 dash-table-5.0.0\n",
      "\n",
      "\u001b[1m[\u001b[0m\u001b[34;49mnotice\u001b[0m\u001b[1;39;49m]\u001b[0m\u001b[39;49m A new release of pip available: \u001b[0m\u001b[31;49m22.2.1\u001b[0m\u001b[39;49m -> \u001b[0m\u001b[32;49m22.2.2\u001b[0m\n",
      "\u001b[1m[\u001b[0m\u001b[34;49mnotice\u001b[0m\u001b[1;39;49m]\u001b[0m\u001b[39;49m To update, run: \u001b[0m\u001b[32;49mpip install --upgrade pip\u001b[0m\n",
      "Note: you may need to restart the kernel to use updated packages.\n"
     ]
    }
   ],
   "source": [
    "pip install dash-bootstrap-components"
   ]
  },
  {
   "cell_type": "markdown",
   "id": "59e516cf-ce9f-4eac-b177-ebdbf2e90636",
   "metadata": {},
   "source": [
    "## Input"
   ]
  },
  {
   "cell_type": "markdown",
   "id": "383ac6fd-6bf7-42f5-901a-e1086e6720d0",
   "metadata": {},
   "source": [
    "### Import library"
   ]
  },
  {
   "cell_type": "code",
   "execution_count": 3,
   "id": "cd726a60-cf9a-45d4-afeb-9124a7f1cadb",
   "metadata": {
    "execution": {
     "iopub.execute_input": "2022-08-10T21:57:40.861491Z",
     "iopub.status.busy": "2022-08-10T21:57:40.861258Z",
     "iopub.status.idle": "2022-08-10T21:57:41.272900Z",
     "shell.execute_reply": "2022-08-10T21:57:41.272355Z",
     "shell.execute_reply.started": "2022-08-10T21:57:40.861466Z"
    },
    "tags": []
   },
   "outputs": [],
   "source": [
    "import naas\n",
    "import dash\n",
    "from dash import html\n",
    "from dash import dcc\n",
    "import dash_bootstrap_components as dbc\n",
    "import plotly.graph_objects as go\n",
    "import plotly.express as px\n",
    "import pandas as pd\n",
    "import os"
   ]
  },
  {
   "cell_type": "markdown",
   "id": "47187f6b-150f-4072-8e59-910734be1d59",
   "metadata": {},
   "source": [
    "### Variables"
   ]
  },
  {
   "cell_type": "code",
   "execution_count": 4,
   "id": "9af29914-37af-494f-9b1c-8360886b65e5",
   "metadata": {
    "execution": {
     "iopub.execute_input": "2022-08-10T21:57:44.509836Z",
     "iopub.status.busy": "2022-08-10T21:57:44.509573Z",
     "iopub.status.idle": "2022-08-10T21:57:44.512661Z",
     "shell.execute_reply": "2022-08-10T21:57:44.512029Z",
     "shell.execute_reply.started": "2022-08-10T21:57:44.509809Z"
    },
    "tags": []
   },
   "outputs": [],
   "source": [
    "DASH_PORT = 8050"
   ]
  },
  {
   "cell_type": "markdown",
   "id": "5e2982c8-d74b-47d6-9d0e-7a3c599ea281",
   "metadata": {},
   "source": [
    "## Model"
   ]
  },
  {
   "cell_type": "markdown",
   "id": "11095603-aa40-400b-b176-34f32ee21d00",
   "metadata": {},
   "source": [
    "### Initialize Dash app"
   ]
  },
  {
   "cell_type": "markdown",
   "id": "59a261f6-3ff1-4643-9db1-0c71af9bec43",
   "metadata": {},
   "source": [
    "### Create app layout"
   ]
  },
  {
   "cell_type": "code",
   "execution_count": 5,
   "id": "c1034d37-5b53-49fc-8910-3fcb48a4ec5d",
   "metadata": {
    "execution": {
     "iopub.execute_input": "2022-08-10T21:57:46.724341Z",
     "iopub.status.busy": "2022-08-10T21:57:46.724119Z",
     "iopub.status.idle": "2022-08-10T21:57:46.738470Z",
     "shell.execute_reply": "2022-08-10T21:57:46.737782Z",
     "shell.execute_reply.started": "2022-08-10T21:57:46.724318Z"
    },
    "tags": []
   },
   "outputs": [],
   "source": [
    "app = dash.Dash(requests_pathname_prefix=f'/user/{os.environ.get(\"JUPYTERHUB_USER\")}/proxy/{DASH_PORT}/', external_stylesheets=[dbc.themes.BOOTSTRAP])  \n",
    "#app = dash.Dash() if you are not in Naas"
   ]
  },
  {
   "cell_type": "markdown",
   "id": "71162fd6-fdbc-470c-a94d-e22b0803c789",
   "metadata": {},
   "source": [
    "### 1. Data Imports:"
   ]
  },
  {
   "cell_type": "code",
   "execution_count": null,
   "id": "a9e82ba3-9e31-4972-a6e8-bd348af33846",
   "metadata": {},
   "outputs": [],
   "source": []
  },
  {
   "cell_type": "markdown",
   "id": "0ec5a1f8-39aa-4035-8b31-9c3704709a44",
   "metadata": {
    "execution": {
     "iopub.execute_input": "2022-08-09T20:02:28.992841Z",
     "iopub.status.busy": "2022-08-09T20:02:28.992622Z",
     "iopub.status.idle": "2022-08-09T20:02:28.995727Z",
     "shell.execute_reply": "2022-08-09T20:02:28.995079Z",
     "shell.execute_reply.started": "2022-08-09T20:02:28.992818Z"
    },
    "tags": []
   },
   "source": [
    "### 2. Data Manipulation:"
   ]
  },
  {
   "cell_type": "code",
   "execution_count": 17,
   "id": "7eb4eb26-6de2-40f0-8b78-4e8cac986b53",
   "metadata": {
    "execution": {
     "iopub.execute_input": "2022-08-10T22:03:36.841496Z",
     "iopub.status.busy": "2022-08-10T22:03:36.839540Z",
     "iopub.status.idle": "2022-08-10T22:03:37.233598Z",
     "shell.execute_reply": "2022-08-10T22:03:37.232930Z",
     "shell.execute_reply.started": "2022-08-10T22:03:36.841453Z"
    },
    "tags": []
   },
   "outputs": [
    {
     "name": "stdout",
     "output_type": "stream",
     "text": [
      "👌 Well done! Your Assets has been sent to production.\n",
      "\n"
     ]
    },
    {
     "data": {
      "application/javascript": [
       "\n",
       "    if (!window.copyToClipboard) {\n",
       "        window.copyToClipboard = (text) => {\n",
       "            const dummy = document.createElement(\"textarea\");\n",
       "            document.body.appendChild(dummy);\n",
       "            dummy.value = text;\n",
       "            dummy.select();\n",
       "            document.execCommand(\"copy\");\n",
       "            document.body.removeChild(dummy);\n",
       "        }\n",
       "    }\n",
       "    "
      ],
      "text/plain": [
       "<IPython.core.display.Javascript object>"
      ]
     },
     "metadata": {},
     "output_type": "display_data"
    },
    {
     "data": {
      "application/vnd.jupyter.widget-view+json": {
       "model_id": "703ab75fce1e4d8fa6e082e5c5d45454",
       "version_major": 2,
       "version_minor": 0
      },
      "text/plain": [
       "Button(button_style='primary', description='Copy URL', style=ButtonStyle())"
      ]
     },
     "metadata": {},
     "output_type": "display_data"
    },
    {
     "data": {
      "application/vnd.jupyter.widget-view+json": {
       "model_id": "c4d705c1ef3d41ec9e9f3b2275fc4458",
       "version_major": 2,
       "version_minor": 0
      },
      "text/plain": [
       "Output()"
      ]
     },
     "metadata": {},
     "output_type": "display_data"
    },
    {
     "name": "stdout",
     "output_type": "stream",
     "text": [
      "PS: to remove the \"Assets\" feature, just replace .add by .delete\n"
     ]
    },
    {
     "data": {
      "text/plain": [
       "'https://public.naas.ai/aXNtYWlsY2hpaGFiNzEtNDBnbWFpbC0yRWNvbQ==/asset/1c8d463751a136a2cdead2a0e8c663b1fa19bb623e1d2b8874c17cf6bb96.png'"
      ]
     },
     "execution_count": 17,
     "metadata": {},
     "output_type": "execute_result"
    }
   ],
   "source": [
    "naas.asset.add(\"youtube-icon.png\")"
   ]
  },
  {
   "cell_type": "markdown",
   "id": "2d885141-aeeb-4d92-b1a9-c94b19635902",
   "metadata": {
    "execution": {
     "iopub.execute_input": "2022-08-09T20:11:31.313904Z",
     "iopub.status.busy": "2022-08-09T20:11:31.313673Z",
     "iopub.status.idle": "2022-08-09T20:11:31.324068Z",
     "shell.execute_reply": "2022-08-09T20:11:31.323217Z",
     "shell.execute_reply.started": "2022-08-09T20:11:31.313879Z"
    },
    "tags": []
   },
   "source": [
    "### 3. Dashboard:"
   ]
  },
  {
   "cell_type": "markdown",
   "id": "629b576b-ddf4-4e70-8c6e-0555203e2615",
   "metadata": {},
   "source": [
    "#### a.NavBar:"
   ]
  },
  {
   "cell_type": "code",
   "execution_count": 23,
   "id": "68f590de-2c01-4760-a092-4d26fd8a305d",
   "metadata": {
    "execution": {
     "iopub.execute_input": "2022-08-10T22:09:02.495196Z",
     "iopub.status.busy": "2022-08-10T22:09:02.494898Z",
     "iopub.status.idle": "2022-08-10T22:09:02.509107Z",
     "shell.execute_reply": "2022-08-10T22:09:02.504600Z",
     "shell.execute_reply.started": "2022-08-10T22:09:02.495164Z"
    },
    "tags": []
   },
   "outputs": [],
   "source": [
    "#NavBar:\n",
    "facebook_logo = \"https://public.naas.ai/aXNtYWlsY2hpaGFiNzEtNDBnbWFpbC0yRWNvbQ==/asset/0606284b644f3027729e6458673533626294714b23c87a4dc586f3788267.png\"\n",
    "instagram_logo = \"https://public.naas.ai/aXNtYWlsY2hpaGFiNzEtNDBnbWFpbC0yRWNvbQ==/asset/063fd6d5f4bcf0333e24bc9df3e27ff0ac94d87cb3f49deb618e136a2820.png\"\n",
    "twitter_logo = \"https://public.naas.ai/aXNtYWlsY2hpaGFiNzEtNDBnbWFpbC0yRWNvbQ==/asset/6971c34213c7a79bcb5a9583ca77762bf09c84edc942e1d792db2baab22d.png\"\n",
    "youtube_logo = \"https://public.naas.ai/aXNtYWlsY2hpaGFiNzEtNDBnbWFpbC0yRWNvbQ==/asset/1c8d463751a136a2cdead2a0e8c663b1fa19bb623e1d2b8874c17cf6bb96.png\"\n",
    "def inner_navbar(platform_name, logo, brand_hex_color): \n",
    "    \n",
    "    inner_navbar = dbc.Navbar(\n",
    "            dbc.Container(\n",
    "                [\n",
    "                    html.A(\n",
    "                        # Use row and col to control vertical alignment of logo / brand\n",
    "                        dbc.Row(\n",
    "                            [\n",
    "                                dbc.Col(html.Img(src=logo, height=\"30px\")),\n",
    "                                dbc.Col(dbc.NavbarBrand(platform_name, className=\"ms-2\")),\n",
    "                            ],\n",
    "                            align=\"center\",\n",
    "                            className=\"g-0\",\n",
    "                        ),\n",
    "                        style={\"textDecoration\": \"none\"},\n",
    "                    )\n",
    "                ]\n",
    "            ),\n",
    "            color=str(brand_hex_color),\n",
    "            dark=True,\n",
    "        )\n",
    "    return inner_navbar\n",
    "\n",
    "Facebook_navbar =  inner_navbar(\"Facebook\", facebook_logo, \"#4267B2\")\n",
    "Instagram_navbar =  inner_navbar(\"Instagram\", instagram_logo, \"#E1306C\")\n",
    "Twitter_navbar =  inner_navbar(\"Twitter\", twitter_logo, \"#1DA1F2\")\n",
    "Youtube_navbar =  inner_navbar(\"Youtube\", youtube_logo, \"#FF0000\")\n"
   ]
  },
  {
   "cell_type": "markdown",
   "id": "152c6159-1e85-45fd-8148-a2f18767bdff",
   "metadata": {},
   "source": [
    "#### b. Card:"
   ]
  },
  {
   "cell_type": "code",
   "execution_count": 31,
   "id": "0e80513c-714b-40a8-b712-b20048272ca3",
   "metadata": {
    "execution": {
     "iopub.execute_input": "2022-08-10T22:10:11.922614Z",
     "iopub.status.busy": "2022-08-10T22:10:11.922398Z",
     "iopub.status.idle": "2022-08-10T22:10:11.942940Z",
     "shell.execute_reply": "2022-08-10T22:10:11.941996Z",
     "shell.execute_reply.started": "2022-08-10T22:10:11.922587Z"
    },
    "tags": []
   },
   "outputs": [],
   "source": [
    "#card:\n",
    "\n",
    "table_header = [\n",
    "    html.Thead(html.Tr([html.Th(\"\"), html.Th(\"Actual\"), html.Th(\"Target\"),html.Th(\"To Target\"), html.Th(\"Prev Period\"), html.Th(\"To Previous\")]))\n",
    "]\n",
    "\n",
    "row1 = html.Tr([html.Td(\"Followers\"), html.Td(\"\"), html.Td(\"\"), html.Td(\"\"), html.Td(\"\"), html.Td(\"\")])\n",
    "row2 = html.Tr([html.Td(\"Impressions\"), html.Td(\"\"), html.Td(\"\"), html.Td(\"\"), html.Td(\"\"), html.Td(\"\")])\n",
    "row3 = html.Tr([html.Td(\"Link Clicks\"), html.Td(\"\"), html.Td(\"\"), html.Td(\"\"), html.Td(\"\"), html.Td(\"\")])\n",
    "row4 = html.Tr([html.Td(\"Engagements\"), html.Td(\"\"), html.Td(\"\"), html.Td(\"\"), html.Td(\"\"), html.Td(\"\")])\n",
    "row5 = html.Tr([html.Td(\"Engagement Rate\"), html.Td(\"\"), html.Td(\"\"), html.Td(\"\"), html.Td(\"\"), html.Td(\"\")])\n",
    "row6 = html.Tr([html.Td(\"AVG Order Value\"), html.Td(\"\"), html.Td(\"\"), html.Td(\"\"), html.Td(\"\"), html.Td(\"\")])\n",
    "row7 = html.Tr([html.Td(\"AVG Time To Conversion\"), html.Td(\"\"), html.Td(\"\"), html.Td(\"\"), html.Td(\"\"), html.Td(\"\")])\n",
    "\n",
    "table_body = [html.Tbody([row1, row2, row3, row4, row5, row6, row7])]\n",
    "\n",
    "table = dbc.Table(table_header + table_body, className=\"table table-sm\")\n",
    "def inner_card(navbar, table):\n",
    "    card = dbc.Card(\n",
    "        dbc.CardBody(\n",
    "            [\n",
    "                navbar,\n",
    "                table,\n",
    "\n",
    "            ]\n",
    "        ),\n",
    "    )\n",
    "    return card\n",
    "\n",
    "Facebook_card=inner_card(Facebook_navbar, table)\n",
    "Instagram_card=inner_card(Instagram_navbar, table)\n",
    "Twitter_card=inner_card(Twitter_navbar, table)\n",
    "Youtube_card=inner_card(Youtube_navbar, table)\n"
   ]
  },
  {
   "cell_type": "code",
   "execution_count": 32,
   "id": "3c541ee0-4791-47bf-93ab-b8597a964a0e",
   "metadata": {
    "execution": {
     "iopub.execute_input": "2022-08-10T22:10:11.946014Z",
     "iopub.status.busy": "2022-08-10T22:10:11.945782Z",
     "iopub.status.idle": "2022-08-10T22:10:12.054182Z",
     "shell.execute_reply": "2022-08-10T22:10:12.053609Z",
     "shell.execute_reply.started": "2022-08-10T22:10:11.945992Z"
    },
    "tags": []
   },
   "outputs": [],
   "source": [
    "page_dropdown = dbc.DropdownMenu(\n",
    "    label=\"Menu\",\n",
    "    children=[\n",
    "        dbc.DropdownMenuItem(\"General Scorecard\"),\n",
    "        dbc.DropdownMenuItem(\"Facebook\"),\n",
    "        dbc.DropdownMenuItem(\"Instagram\"),\n",
    "        dbc.DropdownMenuItem(\"Twitter\"),\n",
    "        dbc.DropdownMenuItem(\"Youtube\"),\n",
    "    ],\n",
    ")\n",
    "general_navbar = dbc.Navbar(\n",
    "    dbc.Container([\n",
    "                    dbc.Row([\n",
    "                             dbc.Col(dbc.NavItem(dbc.NavLink(\"General KPI\")), width=\"auto\"),\n",
    "                             dbc.Col(html.Div(page_dropdown), className=\"d-flex flex-row-reverse\", width=\"4\"),\n",
    "                    ], justify=\"between\"),\n",
    "    ])\n",
    ")\n",
    "\n",
    "app.layout = html.Div([\n",
    "        #Navbar\n",
    "        general_navbar,\n",
    "        dbc.Container([\n",
    "            html.H2(\"Social Media KPIs Scorecard\"),\n",
    "            dbc.Row([\n",
    "                            dbc.Col([\n",
    "                                Facebook_card,\n",
    "                            \n",
    "                                \n",
    "                            ], width=6),\n",
    "                            dbc.Col([\n",
    "                                Instagram_card\n",
    "                            \n",
    "                                \n",
    "                            ], width=6)\n",
    "                    ]),\n",
    "            dbc.Row([\n",
    "                            dbc.Col([\n",
    "                                Twitter_card\n",
    "                            \n",
    "                            \n",
    "                            \n",
    "                            ], width=6),\n",
    "                            dbc.Col([\n",
    "                                Youtube_card\n",
    "                            \n",
    "                            \n",
    "                            \n",
    "                            \n",
    "                            ], width=6)\n",
    "                    ])\n",
    "        ])\n",
    "    ])\n"
   ]
  },
  {
   "cell_type": "markdown",
   "id": "5dedefef-3902-4103-8e1e-7f7a5cd4eced",
   "metadata": {},
   "source": [
    "### 4. CallBacks:"
   ]
  },
  {
   "cell_type": "code",
   "execution_count": null,
   "id": "8cae4f72-c294-4f57-a7fe-ffad5b1c060b",
   "metadata": {},
   "outputs": [],
   "source": []
  },
  {
   "cell_type": "markdown",
   "id": "f3e0f900-5b58-4012-8e70-695594dcd372",
   "metadata": {
    "execution": {
     "iopub.execute_input": "2021-07-02T23:32:10.789097Z",
     "iopub.status.busy": "2021-07-02T23:32:10.788829Z",
     "iopub.status.idle": "2021-07-02T23:32:10.796900Z",
     "shell.execute_reply": "2021-07-02T23:32:10.796358Z",
     "shell.execute_reply.started": "2021-07-02T23:32:10.789033Z"
    },
    "papermill": {},
    "tags": []
   },
   "source": [
    "## Output"
   ]
  },
  {
   "cell_type": "markdown",
   "id": "74eb5829-9e0e-4a3c-9ba7-b33efdbf3b83",
   "metadata": {},
   "source": [
    "### Generate URL and show logs"
   ]
  },
  {
   "cell_type": "code",
   "execution_count": 33,
   "id": "35e8c988-8d11-477a-8ac5-5095465825f1",
   "metadata": {
    "execution": {
     "iopub.execute_input": "2022-08-10T22:10:16.649005Z",
     "iopub.status.busy": "2022-08-10T22:10:16.648722Z",
     "iopub.status.idle": "2022-08-10T22:10:36.193744Z",
     "shell.execute_reply": "2022-08-10T22:10:36.192933Z",
     "shell.execute_reply.started": "2022-08-10T22:10:16.648979Z"
    },
    "papermill": {},
    "tags": []
   },
   "outputs": [
    {
     "name": "stdout",
     "output_type": "stream",
     "text": [
      "Dash is running on https://app.naas.ai/user/ismailchihab71@gmail.com/proxy/8050/\n",
      "\n",
      "\u001b[31m\u001b[1mWARNING: This is a development server. Do not use it in a production deployment. Use a production WSGI server instead.\u001b[0m\n",
      " * Serving Flask app '__main__'\n",
      " * Debug mode: off\n"
     ]
    },
    {
     "name": "stderr",
     "output_type": "stream",
     "text": [
      " * Running on http://127.0.0.1:8050 (Press CTRL+C to quit)\n",
      "127.0.0.1 - - [11/Aug/2022 00:10:19] \"GET / HTTP/1.1\" 200 -\n",
      "127.0.0.1 - - [11/Aug/2022 00:10:19] \"GET /_dash-dependencies HTTP/1.1\" 200 -\n",
      "127.0.0.1 - - [11/Aug/2022 00:10:19] \"GET /_dash-layout HTTP/1.1\" 200 -\n",
      "127.0.0.1 - - [11/Aug/2022 00:10:19] \"GET /_favicon.ico?v=2.6.1 HTTP/1.1\" 200 -\n"
     ]
    }
   ],
   "source": [
    "if __name__ == '__main__':\n",
    "    app.run_server(proxy=f\"http://127.0.0.1:{DASH_PORT}::https://app.naas.ai\")"
   ]
  },
  {
   "cell_type": "code",
   "execution_count": null,
   "id": "c42e4957-c0f1-4fba-8ec6-87f65c17df97",
   "metadata": {},
   "outputs": [],
   "source": []
  }
 ],
 "metadata": {
  "kernelspec": {
   "display_name": "Python 3",
   "language": "python",
   "name": "python3"
  },
  "language_info": {
   "codemirror_mode": {
    "name": "ipython",
    "version": 3
   },
   "file_extension": ".py",
   "mimetype": "text/x-python",
   "name": "python",
   "nbconvert_exporter": "python",
   "pygments_lexer": "ipython3",
   "version": "3.9.6"
  }
 },
 "nbformat": 4,
 "nbformat_minor": 5
}
