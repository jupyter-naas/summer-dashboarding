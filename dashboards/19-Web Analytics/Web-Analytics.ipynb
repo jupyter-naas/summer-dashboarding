{
 "cells": [
  {
   "cell_type": "markdown",
   "id": "latin-packing",
   "metadata": {
    "execution": {
     "iopub.execute_input": "2021-02-23T14:22:16.610471Z",
     "iopub.status.busy": "2021-02-23T14:22:16.610129Z",
     "iopub.status.idle": "2021-02-23T14:22:16.627784Z",
     "shell.execute_reply": "2021-02-23T14:22:16.626866Z",
     "shell.execute_reply.started": "2021-02-23T14:22:16.610384Z"
    },
    "papermill": {},
    "tags": []
   },
   "source": [
    "<img width=\"10%\" alt=\"Naas\" src=\"https://landen.imgix.net/jtci2pxwjczr/assets/5ice39g4.png?w=160\"/>"
   ]
  },
  {
   "cell_type": "markdown",
   "id": "compressed-wilson",
   "metadata": {
    "papermill": {},
    "tags": []
   },
   "source": [
    "#  Web Analytics Dashboard\n",
    "<a href=\"https://app.naas.ai/user-redirect/naas/downloader?url=https://raw.githubusercontent.com/jupyter-naas/awesome-notebooks/master/Dash/Dash_Deploy_app_in_Naas.ipynb\" target=\"_parent\"><img src=\"https://naasai-public.s3.eu-west-3.amazonaws.com/open_in_naas.svg\"/></a>"
   ]
  },
  {
   "cell_type": "markdown",
   "id": "religious-programmer",
   "metadata": {
    "papermill": {},
    "tags": []
   },
   "source": [
    "**Tags:** #dashboard #plotly #dash #naas #asset #automation #ai #analytics"
   ]
  },
  {
   "cell_type": "markdown",
   "id": "1fe9f56e-561c-4f52-aef8-b861c9462107",
   "metadata": {
    "papermill": {},
    "tags": []
   },
   "source": [
    "**Author:** [Frances Oparaocha](https://www.linkedin.com/in/francesoparaocha/)"
   ]
  },
  {
   "cell_type": "markdown",
   "id": "31ea7cdb-e10d-43fc-b026-f69249a59736",
   "metadata": {
    "papermill": {},
    "tags": []
   },
   "source": [
    "This notebook enables you to deploy a web analytics dashboard."
   ]
  },
  {
   "cell_type": "markdown",
   "id": "distinguished-truth",
   "metadata": {
    "papermill": {},
    "tags": []
   },
   "source": [
    "## Input"
   ]
  },
  {
   "cell_type": "markdown",
   "id": "f5d505b9-238e-4704-ba8f-16dea3af15e5",
   "metadata": {
    "papermill": {},
    "tags": []
   },
   "source": [
    "### Install packages"
   ]
  },
  {
   "cell_type": "code",
   "execution_count": 1,
   "id": "7b6cda7a-77c6-464c-bdef-cfcaebe83255",
   "metadata": {
    "execution": {
     "iopub.execute_input": "2022-08-16T13:43:45.214160Z",
     "iopub.status.busy": "2022-08-16T13:43:45.213906Z",
     "iopub.status.idle": "2022-08-16T13:44:08.364219Z",
     "shell.execute_reply": "2022-08-16T13:44:08.363339Z",
     "shell.execute_reply.started": "2022-08-16T13:43:45.214085Z"
    },
    "papermill": {},
    "tags": []
   },
   "outputs": [
    {
     "name": "stdout",
     "output_type": "stream",
     "text": [
      "\u001b[33mWARNING: Ignoring invalid distribution -ip (/opt/conda/lib/python3.9/site-packages)\u001b[0m\u001b[33m\n",
      "\u001b[0m\u001b[33mWARNING: Ignoring invalid distribution -ip (/opt/conda/lib/python3.9/site-packages)\u001b[0m\u001b[33m\n",
      "\u001b[0mRequirement already satisfied: dash in ./.local/lib/python3.9/site-packages (2.6.1)\n",
      "Requirement already satisfied: Flask>=1.0.4 in ./.local/lib/python3.9/site-packages (from dash) (2.2.0)\n",
      "Requirement already satisfied: dash-core-components==2.0.0 in /opt/conda/lib/python3.9/site-packages (from dash) (2.0.0)\n",
      "Requirement already satisfied: plotly>=5.0.0 in ./.local/lib/python3.9/site-packages (from dash) (5.9.0)\n",
      "Requirement already satisfied: flask-compress in ./.local/lib/python3.9/site-packages (from dash) (1.12)\n",
      "Requirement already satisfied: dash-table==5.0.0 in /opt/conda/lib/python3.9/site-packages (from dash) (5.0.0)\n",
      "Requirement already satisfied: dash-html-components==2.0.0 in /opt/conda/lib/python3.9/site-packages (from dash) (2.0.0)\n",
      "Requirement already satisfied: Jinja2>=3.0 in /opt/conda/lib/python3.9/site-packages (from Flask>=1.0.4->dash) (3.0.3)\n",
      "Requirement already satisfied: click>=8.0 in /opt/conda/lib/python3.9/site-packages (from Flask>=1.0.4->dash) (8.1.3)\n",
      "Requirement already satisfied: Werkzeug>=2.2.0 in /opt/conda/lib/python3.9/site-packages (from Flask>=1.0.4->dash) (2.2.1)\n",
      "Requirement already satisfied: importlib-metadata>=3.6.0 in /opt/conda/lib/python3.9/site-packages (from Flask>=1.0.4->dash) (4.6.3)\n",
      "Requirement already satisfied: itsdangerous>=2.0 in ./.local/lib/python3.9/site-packages (from Flask>=1.0.4->dash) (2.1.2)\n",
      "Requirement already satisfied: tenacity>=6.2.0 in /opt/conda/lib/python3.9/site-packages (from plotly>=5.0.0->dash) (8.0.1)\n",
      "Requirement already satisfied: brotli in /opt/conda/lib/python3.9/site-packages (from flask-compress->dash) (1.0.9)\n",
      "Requirement already satisfied: zipp>=0.5 in /opt/conda/lib/python3.9/site-packages (from importlib-metadata>=3.6.0->Flask>=1.0.4->dash) (3.5.0)\n",
      "Requirement already satisfied: MarkupSafe>=2.0 in ./.local/lib/python3.9/site-packages (from Jinja2>=3.0->Flask>=1.0.4->dash) (2.1.1)\n",
      "\u001b[33mWARNING: Ignoring invalid distribution -ip (/opt/conda/lib/python3.9/site-packages)\u001b[0m\u001b[33m\n",
      "\u001b[0m\u001b[33mWARNING: Ignoring invalid distribution -ip (/opt/conda/lib/python3.9/site-packages)\u001b[0m\u001b[33m\n",
      "\u001b[0m\u001b[33mWARNING: Ignoring invalid distribution -ip (/opt/conda/lib/python3.9/site-packages)\u001b[0m\u001b[33m\n",
      "\u001b[0m\u001b[33mWARNING: Ignoring invalid distribution -ip (/opt/conda/lib/python3.9/site-packages)\u001b[0m\u001b[33m\n",
      "\u001b[0mRequirement already satisfied: dash-html-components in /opt/conda/lib/python3.9/site-packages (2.0.0)\n",
      "\u001b[33mWARNING: Ignoring invalid distribution -ip (/opt/conda/lib/python3.9/site-packages)\u001b[0m\u001b[33m\n",
      "\u001b[0m\u001b[33mWARNING: Ignoring invalid distribution -ip (/opt/conda/lib/python3.9/site-packages)\u001b[0m\u001b[33m\n",
      "\u001b[0m\u001b[33mWARNING: Ignoring invalid distribution -ip (/opt/conda/lib/python3.9/site-packages)\u001b[0m\u001b[33m\n",
      "\u001b[0m\u001b[33mWARNING: Ignoring invalid distribution -ip (/opt/conda/lib/python3.9/site-packages)\u001b[0m\u001b[33m\n",
      "\u001b[0mRequirement already satisfied: dash-core-components in /opt/conda/lib/python3.9/site-packages (2.0.0)\n",
      "\u001b[33mWARNING: Ignoring invalid distribution -ip (/opt/conda/lib/python3.9/site-packages)\u001b[0m\u001b[33m\n",
      "\u001b[0m\u001b[33mWARNING: Ignoring invalid distribution -ip (/opt/conda/lib/python3.9/site-packages)\u001b[0m\u001b[33m\n",
      "\u001b[0m\u001b[33mWARNING: Ignoring invalid distribution -ip (/opt/conda/lib/python3.9/site-packages)\u001b[0m\u001b[33m\n",
      "\u001b[0m\u001b[33mWARNING: Ignoring invalid distribution -ip (/opt/conda/lib/python3.9/site-packages)\u001b[0m\u001b[33m\n",
      "\u001b[0mRequirement already satisfied: plotly in ./.local/lib/python3.9/site-packages (5.9.0)\n",
      "Requirement already satisfied: tenacity>=6.2.0 in /opt/conda/lib/python3.9/site-packages (from plotly) (8.0.1)\n",
      "\u001b[33mWARNING: Ignoring invalid distribution -ip (/opt/conda/lib/python3.9/site-packages)\u001b[0m\u001b[33m\n",
      "\u001b[0m\u001b[33mWARNING: Ignoring invalid distribution -ip (/opt/conda/lib/python3.9/site-packages)\u001b[0m\u001b[33m\n",
      "\u001b[0m\u001b[33mWARNING: Ignoring invalid distribution -ip (/opt/conda/lib/python3.9/site-packages)\u001b[0m\u001b[33m\n",
      "\u001b[0m\u001b[33mWARNING: Ignoring invalid distribution -ip (/opt/conda/lib/python3.9/site-packages)\u001b[0m\u001b[33m\n",
      "\u001b[0mRequirement already satisfied: dash-bootstrap-components in /opt/conda/lib/python3.9/site-packages (1.2.1)\n",
      "Requirement already satisfied: dash>=2.0.0 in ./.local/lib/python3.9/site-packages (from dash-bootstrap-components) (2.6.1)\n",
      "Requirement already satisfied: dash-html-components==2.0.0 in /opt/conda/lib/python3.9/site-packages (from dash>=2.0.0->dash-bootstrap-components) (2.0.0)\n",
      "Requirement already satisfied: Flask>=1.0.4 in ./.local/lib/python3.9/site-packages (from dash>=2.0.0->dash-bootstrap-components) (2.2.0)\n",
      "Requirement already satisfied: flask-compress in ./.local/lib/python3.9/site-packages (from dash>=2.0.0->dash-bootstrap-components) (1.12)\n",
      "Requirement already satisfied: dash-table==5.0.0 in /opt/conda/lib/python3.9/site-packages (from dash>=2.0.0->dash-bootstrap-components) (5.0.0)\n",
      "Requirement already satisfied: dash-core-components==2.0.0 in /opt/conda/lib/python3.9/site-packages (from dash>=2.0.0->dash-bootstrap-components) (2.0.0)\n",
      "Requirement already satisfied: plotly>=5.0.0 in ./.local/lib/python3.9/site-packages (from dash>=2.0.0->dash-bootstrap-components) (5.9.0)\n",
      "Requirement already satisfied: click>=8.0 in /opt/conda/lib/python3.9/site-packages (from Flask>=1.0.4->dash>=2.0.0->dash-bootstrap-components) (8.1.3)\n",
      "Requirement already satisfied: itsdangerous>=2.0 in ./.local/lib/python3.9/site-packages (from Flask>=1.0.4->dash>=2.0.0->dash-bootstrap-components) (2.1.2)\n",
      "Requirement already satisfied: Werkzeug>=2.2.0 in /opt/conda/lib/python3.9/site-packages (from Flask>=1.0.4->dash>=2.0.0->dash-bootstrap-components) (2.2.1)\n",
      "Requirement already satisfied: Jinja2>=3.0 in /opt/conda/lib/python3.9/site-packages (from Flask>=1.0.4->dash>=2.0.0->dash-bootstrap-components) (3.0.3)\n",
      "Requirement already satisfied: importlib-metadata>=3.6.0 in /opt/conda/lib/python3.9/site-packages (from Flask>=1.0.4->dash>=2.0.0->dash-bootstrap-components) (4.6.3)\n",
      "Requirement already satisfied: tenacity>=6.2.0 in /opt/conda/lib/python3.9/site-packages (from plotly>=5.0.0->dash>=2.0.0->dash-bootstrap-components) (8.0.1)\n",
      "Requirement already satisfied: brotli in /opt/conda/lib/python3.9/site-packages (from flask-compress->dash>=2.0.0->dash-bootstrap-components) (1.0.9)\n",
      "Requirement already satisfied: zipp>=0.5 in /opt/conda/lib/python3.9/site-packages (from importlib-metadata>=3.6.0->Flask>=1.0.4->dash>=2.0.0->dash-bootstrap-components) (3.5.0)\n",
      "Requirement already satisfied: MarkupSafe>=2.0 in ./.local/lib/python3.9/site-packages (from Jinja2>=3.0->Flask>=1.0.4->dash>=2.0.0->dash-bootstrap-components) (2.1.1)\n",
      "\u001b[33mWARNING: Ignoring invalid distribution -ip (/opt/conda/lib/python3.9/site-packages)\u001b[0m\u001b[33m\n",
      "\u001b[0m\u001b[33mWARNING: Ignoring invalid distribution -ip (/opt/conda/lib/python3.9/site-packages)\u001b[0m\u001b[33m\n",
      "\u001b[0m"
     ]
    }
   ],
   "source": [
    "!pip install dash   \n",
    "!pip install dash-html-components                                         \n",
    "!pip install dash-core-components                                     \n",
    "!pip install plotly\n",
    "!pip install dash-bootstrap-components"
   ]
  },
  {
   "cell_type": "markdown",
   "id": "numeric-mediterranean",
   "metadata": {
    "papermill": {},
    "tags": []
   },
   "source": [
    "### Import library"
   ]
  },
  {
   "cell_type": "code",
   "execution_count": 2,
   "id": "potential-surfing",
   "metadata": {
    "execution": {
     "iopub.execute_input": "2022-08-16T13:44:08.376114Z",
     "iopub.status.busy": "2022-08-16T13:44:08.375838Z",
     "iopub.status.idle": "2022-08-16T13:44:10.437724Z",
     "shell.execute_reply": "2022-08-16T13:44:10.436946Z",
     "shell.execute_reply.started": "2022-08-16T13:44:08.376079Z"
    },
    "papermill": {},
    "tags": []
   },
   "outputs": [],
   "source": [
    "from dash import Dash\n",
    "from dash import html\n",
    "from dash import dcc\n",
    "import plotly.graph_objects as go\n",
    "import plotly.express as px\n",
    "import os\n",
    "import dash_bootstrap_components as dbc"
   ]
  },
  {
   "cell_type": "markdown",
   "id": "aggressive-trustee",
   "metadata": {
    "papermill": {},
    "tags": []
   },
   "source": [
    "### Variables"
   ]
  },
  {
   "cell_type": "code",
   "execution_count": 3,
   "id": "continuous-melbourne",
   "metadata": {
    "execution": {
     "iopub.execute_input": "2022-08-16T13:44:10.439608Z",
     "iopub.status.busy": "2022-08-16T13:44:10.439203Z",
     "iopub.status.idle": "2022-08-16T13:44:10.446282Z",
     "shell.execute_reply": "2022-08-16T13:44:10.445660Z",
     "shell.execute_reply.started": "2022-08-16T13:44:10.439567Z"
    },
    "papermill": {},
    "tags": []
   },
   "outputs": [],
   "source": [
    "DASH_PORT = 8050 "
   ]
  },
  {
   "cell_type": "markdown",
   "id": "registered-showcase",
   "metadata": {
    "papermill": {},
    "tags": []
   },
   "source": [
    "## Model"
   ]
  },
  {
   "cell_type": "markdown",
   "id": "tested-astrology",
   "metadata": {
    "papermill": {},
    "tags": []
   },
   "source": [
    "### Create app layout"
   ]
  },
  {
   "cell_type": "markdown",
   "id": "3cb8edf6-bf0e-46ad-bbea-f0206b531987",
   "metadata": {
    "papermill": {},
    "tags": []
   },
   "source": [
    "### Initialize Dash app"
   ]
  },
  {
   "cell_type": "code",
   "execution_count": 4,
   "id": "crude-louisville",
   "metadata": {
    "execution": {
     "iopub.execute_input": "2022-08-16T13:44:10.447654Z",
     "iopub.status.busy": "2022-08-16T13:44:10.447305Z",
     "iopub.status.idle": "2022-08-16T13:44:10.558273Z",
     "shell.execute_reply": "2022-08-16T13:44:10.557558Z",
     "shell.execute_reply.started": "2022-08-16T13:44:10.447622Z"
    },
    "papermill": {},
    "tags": []
   },
   "outputs": [],
   "source": [
    "app = Dash(external_stylesheets=[dbc.icons.BOOTSTRAP,dbc.themes.GRID,dbc.themes.BOOTSTRAP],requests_pathname_prefix=f'/user/{os.environ.get(\"JUPYTERHUB_USER\")}/proxy/{DASH_PORT}/', )  \n",
    "#app = Dash() #if you are not in Naas"
   ]
  },
  {
   "cell_type": "markdown",
   "id": "bba46cd1-c2ed-47f9-a9da-c9c362200af9",
   "metadata": {},
   "source": [
    "### Navigation Bar"
   ]
  },
  {
   "cell_type": "markdown",
   "id": "9baacf1d-7dbd-4398-8f63-9de552af0043",
   "metadata": {
    "papermill": {},
    "tags": []
   },
   "source": [
    "### Get stock prices and create chart"
   ]
  },
  {
   "cell_type": "code",
   "execution_count": 5,
   "id": "c7bb0592-3522-49e7-be1f-e4706dd18b8a",
   "metadata": {
    "execution": {
     "iopub.execute_input": "2022-08-16T13:44:10.559632Z",
     "iopub.status.busy": "2022-08-16T13:44:10.559392Z",
     "iopub.status.idle": "2022-08-16T13:44:10.682539Z",
     "shell.execute_reply": "2022-08-16T13:44:10.681833Z",
     "shell.execute_reply.started": "2022-08-16T13:44:10.559600Z"
    },
    "papermill": {},
    "tags": []
   },
   "outputs": [],
   "source": [
    "df = px.data.stocks() #reading stock price dataset \n",
    "def stock_prices():\n",
    "    # Function for creating line chart showing Google stock prices over time \n",
    "    fig = go.Figure([go.Scatter(x = df['date'], y = df['GOOG'],\\\n",
    "                     line = dict(color = 'firebrick', width = 4), name = 'Google')\n",
    "                     ])\n",
    "    fig.update_layout(title = 'Prices over time',\n",
    "                      xaxis_title = 'Dates',\n",
    "                      yaxis_title = 'Prices'\n",
    "                      )\n",
    "    return fig  \n"
   ]
  },
  {
   "cell_type": "markdown",
   "id": "d7bcce05-c843-464f-9ffb-b2bdaad0cb61",
   "metadata": {
    "papermill": {},
    "tags": []
   },
   "source": [
    "### Create app layout"
   ]
  },
  {
   "cell_type": "code",
   "execution_count": 6,
   "id": "9f2ce398-e516-496c-9ba0-24a129280909",
   "metadata": {
    "execution": {
     "iopub.execute_input": "2022-08-16T13:44:10.683832Z",
     "iopub.status.busy": "2022-08-16T13:44:10.683507Z",
     "iopub.status.idle": "2022-08-16T13:44:10.773376Z",
     "shell.execute_reply": "2022-08-16T13:44:10.772755Z",
     "shell.execute_reply.started": "2022-08-16T13:44:10.683804Z"
    },
    "tags": []
   },
   "outputs": [],
   "source": [
    "navbar=dbc.NavbarSimple(\n",
    "    brand = 'Web Analytics',\n",
    "    children = [\n",
    "        html.Img(src='https://uptime.com/media/website_profiles/sofifa.com.png',\n",
    "                 height=20),\n",
    "        html.A('Data source',\n",
    "               href='https://sofifa.com',\n",
    "               target ='_blank',\n",
    "               style={'color':'black'})\n",
    "    ],\n",
    "    color = 'white',\n",
    "    fluid= True\n",
    ")\n"
   ]
  },
  {
   "cell_type": "code",
   "execution_count": 7,
   "id": "4f764777-b5d0-4ff6-99c9-fca82f3ef7dd",
   "metadata": {
    "execution": {
     "iopub.execute_input": "2022-08-16T13:44:10.778166Z",
     "iopub.status.busy": "2022-08-16T13:44:10.777982Z",
     "iopub.status.idle": "2022-08-16T13:44:10.878314Z",
     "shell.execute_reply": "2022-08-16T13:44:10.877737Z",
     "shell.execute_reply.started": "2022-08-16T13:44:10.778145Z"
    },
    "tags": []
   },
   "outputs": [],
   "source": [
    "avg_age = 234\n",
    "avg_height = 424\n",
    "avg_weight =325\n"
   ]
  },
  {
   "cell_type": "code",
   "execution_count": 8,
   "id": "4021e230-ef64-4fa7-ae6b-8e7e3a0887d1",
   "metadata": {
    "execution": {
     "iopub.execute_input": "2022-08-16T13:44:10.879474Z",
     "iopub.status.busy": "2022-08-16T13:44:10.879296Z",
     "iopub.status.idle": "2022-08-16T13:44:10.981032Z",
     "shell.execute_reply": "2022-08-16T13:44:10.980450Z",
     "shell.execute_reply.started": "2022-08-16T13:44:10.879455Z"
    },
    "tags": []
   },
   "outputs": [],
   "source": [
    "cards =dbc.Row([\n",
    "    dbc.Col(\n",
    "        dbc.Card([\n",
    "            html.H4('Avg. Age'),\n",
    "            html.H5(f'{round(avg_age, 1)}years')\n",
    "        ],\n",
    "        body= True,\n",
    "        style= {'TextAlign':'center','color': 'white'},\n",
    "        color= 'lightblue')\n",
    "    ),\n",
    "\n",
    "    dbc.Col(\n",
    "        dbc.Card([\n",
    "            html.H4('Avg.height'),\n",
    "            html.H5(f'{round(avg_height, 1)}cm')\n",
    "        ],\n",
    "            body=True,\n",
    "            style={'TextAlign': 'center', 'color': 'white'},\n",
    "            color='blue')\n",
    "    ),\n",
    "    dbc.Col(\n",
    "        dbc.Card([\n",
    "            html.H4('Avg.Weight'),\n",
    "            html.H5(f'{round(avg_weight, 1)}kg')\n",
    "        ],\n",
    "            body=True,\n",
    "            style={'TextAlign': 'center', 'color': 'white'},\n",
    "            color='darkblue')\n",
    "    ),\n",
    "    dbc.Col(\n",
    "        dbc.Card([\n",
    "            html.H4('Avg.Weight'),\n",
    "            html.H5(f'{round(avg_weight, 1)} kg')\n",
    "        ],\n",
    "            body=True,\n",
    "            style={'TextAlign': 'center', 'color': 'white'},\n",
    "            color='darkblue')\n",
    "    ),\n",
    "    dbc.Col(\n",
    "        dbc.Card([\n",
    "            html.H4('Avg.Weight'),\n",
    "            html.H5(f'{round(avg_weight, 1)} kg')\n",
    "        ],\n",
    "            body=True,\n",
    "            style={'TextAlign': 'center', 'color': 'white'},\n",
    "            color='darkblue')\n",
    "    ),\n",
    "    dbc.Col(\n",
    "        dbc.Card([\n",
    "            html.H4('Avg.Weight'),\n",
    "            html.H5(f'{round(avg_weight, 1)} kg')\n",
    "        ],\n",
    "            body=True,\n",
    "            style={'TextAlign': 'center', 'color': 'white'},\n",
    "            color='darkblue')\n",
    "    )\n",
    "    \n",
    "], \n",
    ")\n"
   ]
  },
  {
   "cell_type": "code",
   "execution_count": null,
   "id": "fdba845d-b0d3-449f-ae18-c238e8c25acf",
   "metadata": {
    "tags": []
   },
   "outputs": [],
   "source": []
  },
  {
   "cell_type": "code",
   "execution_count": 10,
   "id": "522d0fe1-d19a-4f97-bc63-085e31b7b2e5",
   "metadata": {
    "execution": {
     "iopub.execute_input": "2022-08-16T13:44:29.545941Z",
     "iopub.status.busy": "2022-08-16T13:44:29.545715Z",
     "iopub.status.idle": "2022-08-16T13:44:29.550743Z",
     "shell.execute_reply": "2022-08-16T13:44:29.550150Z",
     "shell.execute_reply.started": "2022-08-16T13:44:29.545918Z"
    },
    "papermill": {},
    "tags": []
   },
   "outputs": [],
   "source": [
    "app.layout = html.Div([navbar, html.Br(),cards, html.Br()] \n",
    ")"
   ]
  },
  {
   "cell_type": "code",
   "execution_count": null,
   "id": "c9d91acf-13b4-4eb0-a010-49b7eeecbd4f",
   "metadata": {
    "tags": []
   },
   "outputs": [],
   "source": []
  },
  {
   "cell_type": "markdown",
   "id": "lonely-pacific",
   "metadata": {
    "execution": {
     "iopub.execute_input": "2021-07-02T23:32:10.789097Z",
     "iopub.status.busy": "2021-07-02T23:32:10.788829Z",
     "iopub.status.idle": "2021-07-02T23:32:10.796900Z",
     "shell.execute_reply": "2021-07-02T23:32:10.796358Z",
     "shell.execute_reply.started": "2021-07-02T23:32:10.789033Z"
    },
    "papermill": {},
    "tags": []
   },
   "source": [
    "## Output"
   ]
  },
  {
   "cell_type": "markdown",
   "id": "890f7c86-b7bb-4f5d-9a1b-e492dd9580fd",
   "metadata": {
    "papermill": {},
    "tags": []
   },
   "source": [
    "### Generate URL and show logs"
   ]
  },
  {
   "cell_type": "code",
   "execution_count": 11,
   "id": "9c4e3b7b-6440-4844-8054-265f1aec65eb",
   "metadata": {
    "execution": {
     "iopub.execute_input": "2022-08-16T13:44:31.851396Z",
     "iopub.status.busy": "2022-08-16T13:44:31.851165Z",
     "iopub.status.idle": "2022-08-16T13:44:51.092357Z",
     "shell.execute_reply": "2022-08-16T13:44:51.091637Z",
     "shell.execute_reply.started": "2022-08-16T13:44:31.851373Z"
    },
    "papermill": {},
    "tags": []
   },
   "outputs": [
    {
     "name": "stdout",
     "output_type": "stream",
     "text": [
      "Dash is running on https://app.naas.ai/user/francesoparaochae@gmail.com/proxy/8050/\n",
      "\n",
      "\u001b[31m\u001b[1mWARNING: This is a development server. Do not use it in a production deployment. Use a production WSGI server instead.\u001b[0m\n",
      " * Serving Flask app '__main__'\n",
      " * Debug mode: off\n"
     ]
    },
    {
     "name": "stderr",
     "output_type": "stream",
     "text": [
      " * Running on http://127.0.0.1:8050 (Press CTRL+C to quit)\n",
      "127.0.0.1 - - [16/Aug/2022 15:44:37] \"GET / HTTP/1.1\" 200 -\n",
      "127.0.0.1 - - [16/Aug/2022 15:44:38] \"GET /_dash-layout HTTP/1.1\" 200 -\n",
      "127.0.0.1 - - [16/Aug/2022 15:44:38] \"GET /_dash-dependencies HTTP/1.1\" 200 -\n"
     ]
    }
   ],
   "source": [
    "if __name__ == '__main__':\n",
    "    app.run_server(proxy=f\"http://127.0.0.1:{DASH_PORT}::https://app.naas.ai\")"
   ]
  },
  {
   "cell_type": "code",
   "execution_count": null,
   "id": "25e7cfef-5562-4677-9487-aa821dda9747",
   "metadata": {},
   "outputs": [],
   "source": []
  },
  {
   "cell_type": "code",
   "execution_count": null,
   "id": "b161e87f-48db-4b78-88a1-3c2b9e0de93d",
   "metadata": {
    "papermill": {},
    "tags": []
   },
   "outputs": [],
   "source": []
  }
 ],
 "metadata": {
  "kernelspec": {
   "display_name": "Python 3",
   "language": "python",
   "name": "python3"
  },
  "language_info": {
   "codemirror_mode": {
    "name": "ipython",
    "version": 3
   },
   "file_extension": ".py",
   "mimetype": "text/x-python",
   "name": "python",
   "nbconvert_exporter": "python",
   "pygments_lexer": "ipython3",
   "version": "3.9.6"
  },
  "papermill": {
   "default_parameters": {},
   "environment_variables": {},
   "parameters": {},
   "version": "2.3.3"
  },
  "widgets": {
   "application/vnd.jupyter.widget-state+json": {
    "state": {},
    "version_major": 2,
    "version_minor": 0
   }
  }
 },
 "nbformat": 4,
 "nbformat_minor": 5
}
