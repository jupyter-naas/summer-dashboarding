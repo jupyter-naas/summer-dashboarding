{
 "cells": [
  {
   "cell_type": "markdown",
   "id": "a481eba6-3b09-4b9f-8df2-509c5c25530e",
   "metadata": {
    "execution": {
     "iopub.execute_input": "2021-02-23T14:22:16.610471Z",
     "iopub.status.busy": "2021-02-23T14:22:16.610129Z",
     "iopub.status.idle": "2021-02-23T14:22:16.627784Z",
     "shell.execute_reply": "2021-02-23T14:22:16.626866Z",
     "shell.execute_reply.started": "2021-02-23T14:22:16.610384Z"
    },
    "papermill": {},
    "tags": []
   },
   "source": [
    "<img width=\"10%\" alt=\"Naas\" src=\"https://landen.imgix.net/jtci2pxwjczr/assets/5ice39g4.png?w=160\"/>"
   ]
  },
  {
   "cell_type": "markdown",
   "id": "0a8ee32d-e46f-474d-b83a-a52196d00a59",
   "metadata": {
    "papermill": {},
    "tags": []
   },
   "source": [
    "# Financial Consolidation Dashboard "
   ]
  },
  {
   "cell_type": "markdown",
   "id": "cf10c740-2a3d-453c-9d34-e704ceb61eeb",
   "metadata": {
    "papermill": {},
    "tags": []
   },
   "source": [
    "**Tags:** #dashboard #plotly #dash #naas #asset #automation #ai #analytics"
   ]
  },
  {
   "cell_type": "markdown",
   "id": "c41b7bf9-6a2d-4b14-947f-8cc81f7220a0",
   "metadata": {
    "papermill": {},
    "tags": []
   },
   "source": [
    "**Author:** [Meriem Si]"
   ]
  },
  {
   "cell_type": "markdown",
   "id": "961d8daf-0ca7-4a3e-8a3e-d0aadc9f1201",
   "metadata": {
    "papermill": {},
    "tags": []
   },
   "source": [
    "This notebook enables you to generate a dashboard to follow the financial consolidation."
   ]
  },
  {
   "cell_type": "markdown",
   "id": "69743f46-0dc5-45f3-bdc6-c570819d572a",
   "metadata": {
    "papermill": {},
    "tags": []
   },
   "source": [
    "## Input"
   ]
  },
  {
   "cell_type": "markdown",
   "id": "03fd0969-72e9-42e0-8ae5-464dc8d21aec",
   "metadata": {
    "papermill": {},
    "tags": []
   },
   "source": [
    "### Install packages"
   ]
  },
  {
   "cell_type": "code",
   "execution_count": 33,
   "id": "8d37e4b7-0359-496a-b48e-95d8f678f493",
   "metadata": {
    "execution": {
     "iopub.execute_input": "2022-08-09T06:39:36.613541Z",
     "iopub.status.busy": "2022-08-09T06:39:36.613272Z",
     "iopub.status.idle": "2022-08-09T06:39:50.314357Z",
     "shell.execute_reply": "2022-08-09T06:39:50.313635Z",
     "shell.execute_reply.started": "2022-08-09T06:39:36.613512Z"
    },
    "papermill": {},
    "tags": []
   },
   "outputs": [
    {
     "name": "stdout",
     "output_type": "stream",
     "text": [
      "Requirement already satisfied: dash in /home/ftp/.local/lib/python3.9/site-packages (2.6.1)\n",
      "Requirement already satisfied: Flask>=1.0.4 in /home/ftp/.local/lib/python3.9/site-packages (from dash) (2.2.0)\n",
      "Requirement already satisfied: flask-compress in /home/ftp/.local/lib/python3.9/site-packages (from dash) (1.12)\n",
      "Requirement already satisfied: plotly>=5.0.0 in /home/ftp/.local/lib/python3.9/site-packages (from dash) (5.9.0)\n",
      "Requirement already satisfied: dash-core-components==2.0.0 in /home/ftp/.local/lib/python3.9/site-packages (from dash) (2.0.0)\n",
      "Requirement already satisfied: dash-table==5.0.0 in /home/ftp/.local/lib/python3.9/site-packages (from dash) (5.0.0)\n",
      "Requirement already satisfied: dash-html-components==2.0.0 in /home/ftp/.local/lib/python3.9/site-packages (from dash) (2.0.0)\n",
      "Requirement already satisfied: itsdangerous>=2.0 in /home/ftp/.local/lib/python3.9/site-packages (from Flask>=1.0.4->dash) (2.1.2)\n",
      "Requirement already satisfied: Jinja2>=3.0 in /opt/conda/lib/python3.9/site-packages (from Flask>=1.0.4->dash) (3.0.3)\n",
      "Requirement already satisfied: importlib-metadata>=3.6.0 in /opt/conda/lib/python3.9/site-packages (from Flask>=1.0.4->dash) (4.6.3)\n",
      "Requirement already satisfied: click>=8.0 in /opt/conda/lib/python3.9/site-packages (from Flask>=1.0.4->dash) (8.1.3)\n",
      "Requirement already satisfied: Werkzeug>=2.2.0 in /opt/conda/lib/python3.9/site-packages (from Flask>=1.0.4->dash) (2.2.1)\n",
      "Requirement already satisfied: tenacity>=6.2.0 in /opt/conda/lib/python3.9/site-packages (from plotly>=5.0.0->dash) (8.0.1)\n",
      "Requirement already satisfied: brotli in /opt/conda/lib/python3.9/site-packages (from flask-compress->dash) (1.0.9)\n",
      "Requirement already satisfied: zipp>=0.5 in /opt/conda/lib/python3.9/site-packages (from importlib-metadata>=3.6.0->Flask>=1.0.4->dash) (3.5.0)\n",
      "Requirement already satisfied: MarkupSafe>=2.0 in /home/ftp/.local/lib/python3.9/site-packages (from Jinja2>=3.0->Flask>=1.0.4->dash) (2.1.1)\n",
      "Requirement already satisfied: dash-html-components in /home/ftp/.local/lib/python3.9/site-packages (2.0.0)\n",
      "Requirement already satisfied: dash-core-components in /home/ftp/.local/lib/python3.9/site-packages (2.0.0)\n",
      "Requirement already satisfied: plotly in /home/ftp/.local/lib/python3.9/site-packages (5.9.0)\n",
      "Requirement already satisfied: tenacity>=6.2.0 in /opt/conda/lib/python3.9/site-packages (from plotly) (8.0.1)\n"
     ]
    }
   ],
   "source": [
    "!pip install dash   \n",
    "!pip install dash-html-components                                         \n",
    "!pip install dash-core-components                                     \n",
    "!pip install plotly"
   ]
  },
  {
   "cell_type": "markdown",
   "id": "08af25b3-ac3c-49c9-ae37-2a72481d7acf",
   "metadata": {
    "papermill": {},
    "tags": []
   },
   "source": [
    "### Import library"
   ]
  },
  {
   "cell_type": "code",
   "execution_count": 34,
   "id": "3c02e335-eecb-476d-8df9-0c329f14c14a",
   "metadata": {
    "execution": {
     "iopub.execute_input": "2022-08-09T06:39:52.431706Z",
     "iopub.status.busy": "2022-08-09T06:39:52.431390Z",
     "iopub.status.idle": "2022-08-09T06:39:52.436434Z",
     "shell.execute_reply": "2022-08-09T06:39:52.435845Z",
     "shell.execute_reply.started": "2022-08-09T06:39:52.431658Z"
    },
    "papermill": {},
    "tags": []
   },
   "outputs": [],
   "source": [
    "import dash\n",
    "from dash import html, dcc, Input, Output, State\n",
    "import dash_bootstrap_components as dbc\n",
    "import plotly.graph_objects as go\n",
    "import plotly.express as px\n",
    "import os\n",
    "import naas_drivers\n",
    "from dash_bootstrap_components._components.Container import Container"
   ]
  },
  {
   "cell_type": "markdown",
   "id": "adc77f77-a2b0-46e1-80d4-75f06999848a",
   "metadata": {
    "papermill": {},
    "tags": []
   },
   "source": [
    "### Defining the port of the dashboard"
   ]
  },
  {
   "cell_type": "code",
   "execution_count": 35,
   "id": "39611a16-215c-4190-882e-cffec8bb47ce",
   "metadata": {
    "execution": {
     "iopub.execute_input": "2022-08-09T06:39:52.818594Z",
     "iopub.status.busy": "2022-08-09T06:39:52.818350Z",
     "iopub.status.idle": "2022-08-09T06:39:52.821574Z",
     "shell.execute_reply": "2022-08-09T06:39:52.820881Z",
     "shell.execute_reply.started": "2022-08-09T06:39:52.818570Z"
    },
    "papermill": {},
    "tags": []
   },
   "outputs": [],
   "source": [
    "DASH_PORT = 8050"
   ]
  },
  {
   "cell_type": "markdown",
   "id": "40a98d82-6f97-4b91-9914-21b49c5a5baf",
   "metadata": {},
   "source": [
    "### Input data from Gsheets"
   ]
  },
  {
   "cell_type": "code",
   "execution_count": 36,
   "id": "133e30cc-4f50-47a1-b35a-828c70ea3ac5",
   "metadata": {
    "execution": {
     "iopub.execute_input": "2022-08-09T06:39:53.319296Z",
     "iopub.status.busy": "2022-08-09T06:39:53.319070Z",
     "iopub.status.idle": "2022-08-09T06:39:53.322059Z",
     "shell.execute_reply": "2022-08-09T06:39:53.321392Z",
     "shell.execute_reply.started": "2022-08-09T06:39:53.319274Z"
    },
    "tags": []
   },
   "outputs": [],
   "source": [
    "spreadsheet_id = \"1yi0qzuUEnE9wMWWQFIVq5Uou8ChxFqF0MMqFM5FtVIM\""
   ]
  },
  {
   "cell_type": "markdown",
   "id": "18d44eb6-6cac-40d1-a72f-021592546ec2",
   "metadata": {
    "papermill": {},
    "tags": []
   },
   "source": [
    "## Model"
   ]
  },
  {
   "cell_type": "markdown",
   "id": "149b5a4c-00c4-4eb0-8d71-d4fc0d269863",
   "metadata": {},
   "source": [
    "### Data"
   ]
  },
  {
   "cell_type": "markdown",
   "id": "c5cfb870-27f9-4ff6-9c04-86d03e665219",
   "metadata": {},
   "source": [
    "#### Highlighted KPIs"
   ]
  },
  {
   "cell_type": "code",
   "execution_count": 37,
   "id": "13362b56-def2-4b58-8768-b0651467f1dc",
   "metadata": {
    "execution": {
     "iopub.execute_input": "2022-08-09T06:39:54.071293Z",
     "iopub.status.busy": "2022-08-09T06:39:54.071066Z",
     "iopub.status.idle": "2022-08-09T06:39:55.050336Z",
     "shell.execute_reply": "2022-08-09T06:39:55.049578Z",
     "shell.execute_reply.started": "2022-08-09T06:39:54.071270Z"
    },
    "tags": []
   },
   "outputs": [],
   "source": [
    "# Dataframe is returned\n",
    "df_hkpis = naas_drivers.gsheet.connect(spreadsheet_id).get(\n",
    "    sheet_name=\"KPIS\"\n",
    ")"
   ]
  },
  {
   "cell_type": "markdown",
   "id": "f987f5de-fb55-40e8-8c48-20fd33cccc6e",
   "metadata": {
    "papermill": {},
    "tags": []
   },
   "source": [
    "#### Gross Profit Margin"
   ]
  },
  {
   "cell_type": "code",
   "execution_count": 38,
   "id": "bac82491-4f6c-49f9-bb85-369a99b82938",
   "metadata": {
    "execution": {
     "iopub.execute_input": "2022-08-09T06:39:55.051921Z",
     "iopub.status.busy": "2022-08-09T06:39:55.051539Z",
     "iopub.status.idle": "2022-08-09T06:39:55.055179Z",
     "shell.execute_reply": "2022-08-09T06:39:55.054529Z",
     "shell.execute_reply.started": "2022-08-09T06:39:55.051887Z"
    },
    "papermill": {},
    "tags": []
   },
   "outputs": [],
   "source": [
    "def gross_profit_margin():\n",
    "\n",
    "    return fig  \n"
   ]
  },
  {
   "cell_type": "markdown",
   "id": "b5fbe2d9-aeae-4c23-88d2-b92ac55d5a95",
   "metadata": {
    "papermill": {},
    "tags": []
   },
   "source": [
    "#### Opex Ratio"
   ]
  },
  {
   "cell_type": "code",
   "execution_count": 39,
   "id": "f5f4eee6-bdeb-4579-a398-bf2be1b8bbef",
   "metadata": {
    "execution": {
     "iopub.execute_input": "2022-08-09T06:39:55.170226Z",
     "iopub.status.busy": "2022-08-09T06:39:55.169714Z",
     "iopub.status.idle": "2022-08-09T06:39:55.175722Z",
     "shell.execute_reply": "2022-08-09T06:39:55.175152Z",
     "shell.execute_reply.started": "2022-08-09T06:39:55.170187Z"
    },
    "papermill": {},
    "tags": []
   },
   "outputs": [],
   "source": [
    "def opex_ratio():\n",
    "\n",
    "    return fig  \n"
   ]
  },
  {
   "cell_type": "markdown",
   "id": "4a26197d-a62c-47d2-962b-261b9887ed35",
   "metadata": {
    "papermill": {},
    "tags": []
   },
   "source": [
    "#### Ebit Margin"
   ]
  },
  {
   "cell_type": "code",
   "execution_count": 40,
   "id": "194c8948-6a1f-4a3b-8c4e-7a1ce14431d3",
   "metadata": {
    "execution": {
     "iopub.execute_input": "2022-08-09T06:39:55.744652Z",
     "iopub.status.busy": "2022-08-09T06:39:55.744407Z",
     "iopub.status.idle": "2022-08-09T06:39:55.750819Z",
     "shell.execute_reply": "2022-08-09T06:39:55.746990Z",
     "shell.execute_reply.started": "2022-08-09T06:39:55.744629Z"
    },
    "papermill": {},
    "tags": []
   },
   "outputs": [],
   "source": [
    "def ebit_margin():\n",
    "\n",
    "    return fig  \n"
   ]
  },
  {
   "cell_type": "markdown",
   "id": "70678e86-88f6-4bc0-8332-91e8c1805a3c",
   "metadata": {
    "papermill": {},
    "tags": []
   },
   "source": [
    "#### Net Profit Margin"
   ]
  },
  {
   "cell_type": "code",
   "execution_count": 41,
   "id": "8da7e5d5-1b30-4aeb-8ae7-43ca14c842ad",
   "metadata": {
    "execution": {
     "iopub.execute_input": "2022-08-09T06:39:55.843431Z",
     "iopub.status.busy": "2022-08-09T06:39:55.843169Z",
     "iopub.status.idle": "2022-08-09T06:39:55.846463Z",
     "shell.execute_reply": "2022-08-09T06:39:55.845819Z",
     "shell.execute_reply.started": "2022-08-09T06:39:55.843408Z"
    },
    "papermill": {},
    "tags": []
   },
   "outputs": [],
   "source": [
    "def net_profit_margin():\n",
    "\n",
    "    return fig  \n"
   ]
  },
  {
   "cell_type": "markdown",
   "id": "3af07f70-7ab6-4b8d-8ed9-a38e571596fd",
   "metadata": {
    "papermill": {},
    "tags": []
   },
   "source": [
    "#### Income Statement"
   ]
  },
  {
   "cell_type": "code",
   "execution_count": 42,
   "id": "dbbb57db-5912-4804-9c6e-b892fe9af492",
   "metadata": {
    "execution": {
     "iopub.execute_input": "2022-08-09T06:39:56.272524Z",
     "iopub.status.busy": "2022-08-09T06:39:56.272228Z",
     "iopub.status.idle": "2022-08-09T06:39:56.275488Z",
     "shell.execute_reply": "2022-08-09T06:39:56.274736Z",
     "shell.execute_reply.started": "2022-08-09T06:39:56.272496Z"
    },
    "papermill": {},
    "tags": []
   },
   "outputs": [],
   "source": [
    "def income_statement():\n",
    "\n",
    "    return fig  \n"
   ]
  },
  {
   "cell_type": "markdown",
   "id": "9f7fa199-1e60-451e-ab1e-b8739eeec981",
   "metadata": {
    "papermill": {},
    "tags": []
   },
   "source": [
    "#### Revenue"
   ]
  },
  {
   "cell_type": "code",
   "execution_count": 43,
   "id": "e175b543-bc71-4a89-ba3b-d89f037c51b1",
   "metadata": {
    "execution": {
     "iopub.execute_input": "2022-08-09T06:39:56.555531Z",
     "iopub.status.busy": "2022-08-09T06:39:56.555296Z",
     "iopub.status.idle": "2022-08-09T06:39:56.558397Z",
     "shell.execute_reply": "2022-08-09T06:39:56.557778Z",
     "shell.execute_reply.started": "2022-08-09T06:39:56.555508Z"
    },
    "papermill": {},
    "tags": []
   },
   "outputs": [],
   "source": [
    "def revenue():\n",
    "\n",
    "    return fig  \n"
   ]
  },
  {
   "cell_type": "markdown",
   "id": "80fe7916-09eb-4f97-a287-07a4ccf1124e",
   "metadata": {},
   "source": [
    "### Operational Expenses"
   ]
  },
  {
   "cell_type": "code",
   "execution_count": 44,
   "id": "984c1d4d-00ac-4592-a588-31c0ad5ef1cf",
   "metadata": {
    "execution": {
     "iopub.execute_input": "2022-08-09T06:39:56.971511Z",
     "iopub.status.busy": "2022-08-09T06:39:56.971231Z",
     "iopub.status.idle": "2022-08-09T06:39:56.974548Z",
     "shell.execute_reply": "2022-08-09T06:39:56.973873Z",
     "shell.execute_reply.started": "2022-08-09T06:39:56.971486Z"
    },
    "tags": []
   },
   "outputs": [],
   "source": [
    "def operational_expenses():\n",
    "\n",
    "    return fig  "
   ]
  },
  {
   "cell_type": "markdown",
   "id": "4041f429-6705-4cec-9d1d-4c15c0fcec9e",
   "metadata": {},
   "source": [
    "### Earnings before Intrest and Taxes"
   ]
  },
  {
   "cell_type": "code",
   "execution_count": 45,
   "id": "fd9bb18a-c291-4cb4-b383-c0e55d1e8035",
   "metadata": {
    "execution": {
     "iopub.execute_input": "2022-08-09T06:39:57.341711Z",
     "iopub.status.busy": "2022-08-09T06:39:57.341427Z",
     "iopub.status.idle": "2022-08-09T06:39:57.346298Z",
     "shell.execute_reply": "2022-08-09T06:39:57.345773Z",
     "shell.execute_reply.started": "2022-08-09T06:39:57.341667Z"
    },
    "tags": []
   },
   "outputs": [],
   "source": [
    "def earnings_before_intrest_and_taxes():\n",
    "\n",
    "    return fig "
   ]
  },
  {
   "cell_type": "markdown",
   "id": "e88267e7-d9ea-406b-a90e-05fb19bace73",
   "metadata": {
    "execution": {
     "iopub.execute_input": "2022-08-07T12:36:43.651149Z",
     "iopub.status.busy": "2022-08-07T12:36:43.650909Z",
     "iopub.status.idle": "2022-08-07T12:36:43.655756Z",
     "shell.execute_reply": "2022-08-07T12:36:43.655122Z",
     "shell.execute_reply.started": "2022-08-07T12:36:43.651126Z"
    }
   },
   "source": [
    "### Design"
   ]
  },
  {
   "cell_type": "markdown",
   "id": "f85cbd85-0994-4420-a720-89b46b2d3d12",
   "metadata": {
    "papermill": {},
    "tags": []
   },
   "source": [
    "#### Initialize Dash app"
   ]
  },
  {
   "cell_type": "code",
   "execution_count": null,
   "id": "a0b39a48-5f62-4ef3-b15c-cb5bd0b11a12",
   "metadata": {
    "execution": {
     "iopub.execute_input": "2022-08-09T06:39:58.256758Z",
     "iopub.status.busy": "2022-08-09T06:39:58.256530Z",
     "iopub.status.idle": "2022-08-09T06:39:58.268007Z",
     "shell.execute_reply": "2022-08-09T06:39:58.267443Z",
     "shell.execute_reply.started": "2022-08-09T06:39:58.256736Z"
    },
    "papermill": {},
    "tags": []
   },
   "outputs": [],
   "source": [
    "app = dash.Dash(requests_pathname_prefix=f'/user/{os.environ.get(\"JUPYTERHUB_USER\")}/proxy/{DASH_PORT}/', \n",
    "                external_stylesheets=[dbc.themes.BOOTSTRAP])   \n",
    "#app = dash.Dash() if you are not in Naas"
   ]
  },
  {
   "cell_type": "raw",
   "id": "578fc782-22ac-4aa0-b83f-549da26c9b0f",
   "metadata": {},
   "source": [
    " html.Div(\n",
    "            [\n",
    "                html.Div(\n",
    "                    [\n",
    "                        html.Div(\n",
    "                            [\n",
    "                                html.H6(id=\"well_text\"), html.P(\"Gross Profit Margin\")],\n",
    "                            id=\"wells\",\n",
    "                            className=\"mini_container\",\n",
    "                        ),\n",
    "                        html.Div(\n",
    "                            [\n",
    "                                html.H6(id=\"gasText\"), html.P(\"Opex Ratio\")],\n",
    "                            id=\"gas\",\n",
    "                            className=\"mini_container\",\n",
    "                        ),\n",
    "                        html.Div(\n",
    "                            [\n",
    "                                html.H6(id=\"oilText\"), html.P(\"Oil\")],\n",
    "                            id=\"oil\",\n",
    "                            className=\"mini_container\",\n",
    "                        ),\n",
    "                        html.Div(\n",
    "                            [\n",
    "                                html.H6(id=\"waterText\"), html.P(\"Water\")],\n",
    "                            id=\"water\",\n",
    "                            className=\"mini_container\",\n",
    "                        ),\n",
    "                    ],\n",
    "                    id=\"info-container\",\n",
    "                    className=\"row container-display\",\n",
    "                ),\n",
    "                html.Div(\n",
    "                    [\n",
    "                        dcc.Graph(id=\"count_graph\")],\n",
    "                    id=\"countGraphContainer\",\n",
    "                    className=\"pretty_container\",\n",
    "                ),\n",
    "            ],\n",
    "                    id=\"right-column\",\n",
    "                    className=\"eight columns\",\n",
    "        ),\n",
    "    ],"
   ]
  },
  {
   "cell_type": "markdown",
   "id": "a3b9b54e-50d5-43b8-9335-ead33e62fc88",
   "metadata": {
    "papermill": {},
    "tags": []
   },
   "source": [
    "#### Create app layout"
   ]
  },
  {
   "cell_type": "code",
   "execution_count": 77,
   "id": "a80f57c0-041b-46d8-a567-7d1b7be53b1b",
   "metadata": {
    "execution": {
     "iopub.execute_input": "2022-08-09T07:36:54.766833Z",
     "iopub.status.busy": "2022-08-09T07:36:54.766574Z",
     "iopub.status.idle": "2022-08-09T07:36:54.786845Z",
     "shell.execute_reply": "2022-08-09T07:36:54.786255Z",
     "shell.execute_reply.started": "2022-08-09T07:36:54.766801Z"
    },
    "tags": []
   },
   "outputs": [],
   "source": [
    "app.layout = html.Div(\n",
    "    [\n",
    "        dbc.Navbar(\n",
    "            dbc.Container(\n",
    "                [\n",
    "                    html.A(\n",
    "                        # Use row and col to control vertical alignment of logo / brand\n",
    "                        dbc.Row(\n",
    "                            [\n",
    "                                dbc.Col(html.Img(src=\"https://images.plot.ly/logo/new-branding/plotly-logomark.png\", height=\"30px\")),\n",
    "                                dbc.Col(dbc.NavbarBrand(\"Financial consolidation\", className=\"ms-2\")),\n",
    "                            ],\n",
    "                            align=\"center\",\n",
    "                            className=\"g-0\",\n",
    "                        ),\n",
    "                    ),\n",
    "                    dbc.DropdownMenu(\n",
    "                        children=[\n",
    "                            dbc.DropdownMenuItem(\"By Entity\", header=True),\n",
    "                            dbc.DropdownMenuItem(\"Entity 1\", href=\"#\"),\n",
    "                            dbc.DropdownMenuItem(\"Entity 2\", href=\"#\"),\n",
    "                        ],\n",
    "                        nav=True,\n",
    "                        in_navbar=True,\n",
    "                        label=\"Entity\",),\n",
    "                    dbc.DropdownMenu(\n",
    "                        children=[\n",
    "                            dbc.DropdownMenuItem(\"2022\", href=\"#\"),\n",
    "                            dbc.DropdownMenuItem(\"2021\", href=\"#\"),\n",
    "                            dbc.DropdownMenuItem(\"2020\", href=\"#\"),\n",
    "                        ],\n",
    "                        nav=True,\n",
    "                        in_navbar=True,\n",
    "                        label=\"Scenario\",)\n",
    "                ]\n",
    "            ),\n",
    "            color=\"grey\",\n",
    "            dark=True\n",
    "        ),        \n",
    "        dbc.Row(\n",
    "            [\n",
    "                dbc.Col(html.Div(\"Gross Profit Margin\"), lg=2),\n",
    "                dbc.Col(html.Div(\"Opex Ratio\"), lg=2),\n",
    "                dbc.Col(html.Div(\"Ebit Margin\"), lg=2),\n",
    "                dbc.Col(html.Div(\"Net Profit Margin\"), lg=2),\n",
    "                dbc.Col(html.Div(\"Income Statement\")),\n",
    "            ]\n",
    "        ),\n",
    "        html.Div([\n",
    "            dcc.Graph(\n",
    "                id='crossfilter-indicator-scatter')\n",
    "        ], style={'width': '66%', 'padding': '0 20'}),\n",
    "        html.Div([\n",
    "            dcc.Graph(id='x-time-series'),\n",
    "            dcc.Graph(id='y-time-series'),\n",
    "        ],style={'display': 'inline-block', 'width': '33%'}),\n",
    "    ])\n",
    "\n",
    "\n",
    "\n",
    "\n",
    "# add callback for toggling the collapse on small screens\n",
    "@app.callback(\n",
    "    Output(\"navbar-collapse\", \"is_open\"),\n",
    "    [Input(\"navbar-toggler\", \"n_clicks\")],\n",
    "    [State(\"navbar-collapse\", \"is_open\")],\n",
    ")\n",
    "@app.callback(\n",
    "    dash.dependencies.Output('crossfilter-indicator-scatter', 'figure'),\n",
    "    [dash.dependencies.Input('crossfilter-xaxis-column', 'value'),\n",
    "     dash.dependencies.Input('crossfilter-yaxis-column', 'value'),\n",
    "     dash.dependencies.Input('crossfilter-xaxis-type', 'value'),\n",
    "     dash.dependencies.Input('crossfilter-yaxis-type', 'value')])\n",
    "def toggle_navbar_collapse(n, is_open):\n",
    "    if n:\n",
    "        return not is_open\n",
    "    return is_open"
   ]
  },
  {
   "cell_type": "markdown",
   "id": "59e4f1f8-38d1-4b3b-b93c-c010ef9011b0",
   "metadata": {
    "execution": {
     "iopub.execute_input": "2021-07-02T23:32:10.789097Z",
     "iopub.status.busy": "2021-07-02T23:32:10.788829Z",
     "iopub.status.idle": "2021-07-02T23:32:10.796900Z",
     "shell.execute_reply": "2021-07-02T23:32:10.796358Z",
     "shell.execute_reply.started": "2021-07-02T23:32:10.789033Z"
    },
    "papermill": {},
    "tags": []
   },
   "source": [
    "## Output"
   ]
  },
  {
   "cell_type": "markdown",
   "id": "a828ebca-0b33-4d16-829c-e45044f9659d",
   "metadata": {
    "papermill": {},
    "tags": []
   },
   "source": [
    "### Generate URL and show logs"
   ]
  },
  {
   "cell_type": "code",
   "execution_count": null,
   "id": "f054b1db-a3eb-4a2b-9ca2-881d7f1dc242",
   "metadata": {
    "execution": {
     "iopub.execute_input": "2022-08-09T07:36:54.790581Z",
     "iopub.status.busy": "2022-08-09T07:36:54.789374Z"
    },
    "papermill": {},
    "tags": []
   },
   "outputs": [
    {
     "name": "stdout",
     "output_type": "stream",
     "text": [
      "Dash is running on https://app.naas.ai/user/si.merieme@gmail.com/proxy/8050/\n",
      "\n",
      "Dash is running on https://app.naas.ai/user/si.merieme@gmail.com/proxy/8050/\n",
      "\n",
      "\u001b[31m\u001b[1mWARNING: This is a development server. Do not use it in a production deployment. Use a production WSGI server instead.\u001b[0m\n",
      " * Serving Flask app '__main__'\n",
      " * Debug mode: off\n"
     ]
    },
    {
     "name": "stderr",
     "output_type": "stream",
     "text": [
      " * Running on http://127.0.0.1:8050 (Press CTRL+C to quit)\n",
      "127.0.0.1 - - [09/Aug/2022 09:36:58] \"GET / HTTP/1.1\" 200 -\n",
      "127.0.0.1 - - [09/Aug/2022 09:36:58] \"GET /_dash-layout HTTP/1.1\" 200 -\n",
      "127.0.0.1 - - [09/Aug/2022 09:36:58] \"GET /_dash-dependencies HTTP/1.1\" 200 -\n",
      "127.0.0.1 - - [09/Aug/2022 09:36:58] \"GET /_dash-component-suites/dash/dcc/async-graph.js HTTP/1.1\" 200 -\n",
      "127.0.0.1 - - [09/Aug/2022 09:36:59] \"GET /_dash-component-suites/dash/dcc/async-plotlyjs.js HTTP/1.1\" 200 -\n"
     ]
    }
   ],
   "source": [
    "if __name__ == '__main__':\n",
    "    app.run_server(proxy=f\"http://127.0.0.1:{DASH_PORT}::https://app.naas.ai\")"
   ]
  },
  {
   "cell_type": "code",
   "execution_count": null,
   "id": "e7e1fd49-fdf8-49dc-af46-f4c3a4c00f7e",
   "metadata": {},
   "outputs": [],
   "source": []
  },
  {
   "cell_type": "code",
   "execution_count": null,
   "id": "5e116ea0-0041-474a-81f3-adbbbe72d9be",
   "metadata": {},
   "outputs": [],
   "source": []
  }
 ],
 "metadata": {
  "kernelspec": {
   "display_name": "Python 3",
   "language": "python",
   "name": "python3"
  },
  "language_info": {
   "codemirror_mode": {
    "name": "ipython",
    "version": 3
   },
   "file_extension": ".py",
   "mimetype": "text/x-python",
   "name": "python",
   "nbconvert_exporter": "python",
   "pygments_lexer": "ipython3",
   "version": "3.9.6"
  }
 },
 "nbformat": 4,
 "nbformat_minor": 5
}
