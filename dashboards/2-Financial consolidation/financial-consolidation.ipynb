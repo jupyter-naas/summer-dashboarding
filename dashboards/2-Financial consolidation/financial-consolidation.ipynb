{
 "cells": [
  {
   "cell_type": "markdown",
   "id": "a481eba6-3b09-4b9f-8df2-509c5c25530e",
   "metadata": {
    "execution": {
     "iopub.execute_input": "2021-02-23T14:22:16.610471Z",
     "iopub.status.busy": "2021-02-23T14:22:16.610129Z",
     "iopub.status.idle": "2021-02-23T14:22:16.627784Z",
     "shell.execute_reply": "2021-02-23T14:22:16.626866Z",
     "shell.execute_reply.started": "2021-02-23T14:22:16.610384Z"
    },
    "papermill": {},
    "tags": []
   },
   "source": [
    "<img width=\"10%\" alt=\"Naas\" src=\"https://landen.imgix.net/jtci2pxwjczr/assets/5ice39g4.png?w=160\"/>"
   ]
  },
  {
   "cell_type": "markdown",
   "id": "0a8ee32d-e46f-474d-b83a-a52196d00a59",
   "metadata": {
    "papermill": {},
    "tags": []
   },
   "source": [
    "# Financial Consolidation Dashboard "
   ]
  },
  {
   "cell_type": "markdown",
   "id": "cf10c740-2a3d-453c-9d34-e704ceb61eeb",
   "metadata": {
    "papermill": {},
    "tags": []
   },
   "source": [
    "**Tags:** #dashboard #plotly #dash #naas #asset #automation #ai #analytics"
   ]
  },
  {
   "cell_type": "markdown",
   "id": "c41b7bf9-6a2d-4b14-947f-8cc81f7220a0",
   "metadata": {
    "papermill": {},
    "tags": []
   },
   "source": [
    "**Author:** [Meriem Si](https://www.linkedin.com/in/meriem-si-104236181/)"
   ]
  },
  {
   "cell_type": "markdown",
   "id": "961d8daf-0ca7-4a3e-8a3e-d0aadc9f1201",
   "metadata": {
    "papermill": {},
    "tags": []
   },
   "source": [
    "This notebook enables you to generate a dashboard to follow the financial consolidation."
   ]
  },
  {
   "cell_type": "markdown",
   "id": "69743f46-0dc5-45f3-bdc6-c570819d572a",
   "metadata": {
    "papermill": {},
    "tags": []
   },
   "source": [
    "## Input"
   ]
  },
  {
   "cell_type": "markdown",
   "id": "08af25b3-ac3c-49c9-ae37-2a72481d7acf",
   "metadata": {
    "papermill": {},
    "tags": []
   },
   "source": [
    "### Import libraries"
   ]
  },
  {
   "cell_type": "code",
   "execution_count": 29,
   "id": "3c02e335-eecb-476d-8df9-0c329f14c14a",
   "metadata": {
    "execution": {
     "iopub.execute_input": "2022-08-24T11:55:15.503328Z",
     "iopub.status.busy": "2022-08-24T11:55:15.503086Z",
     "iopub.status.idle": "2022-08-24T11:55:15.506856Z",
     "shell.execute_reply": "2022-08-24T11:55:15.506217Z",
     "shell.execute_reply.started": "2022-08-24T11:55:15.503303Z"
    },
    "papermill": {},
    "tags": []
   },
   "outputs": [],
   "source": [
    "import dash\n",
    "from dash import html, dcc, Input, Output, State\n",
    "import dash_bootstrap_components as dbc\n",
    "import plotly.graph_objects as go\n",
    "import plotly.express as px\n",
    "import os\n",
    "import pandas as pd\n",
    "from naas_drivers import gsheet\n",
    "from dash_bootstrap_components._components.Container import Container\n",
    "from plotly.subplots import make_subplots"
   ]
  },
  {
   "cell_type": "markdown",
   "id": "adc77f77-a2b0-46e1-80d4-75f06999848a",
   "metadata": {
    "papermill": {},
    "tags": []
   },
   "source": [
    "### Defining the port of the dashboard"
   ]
  },
  {
   "cell_type": "code",
   "execution_count": null,
   "id": "39611a16-215c-4190-882e-cffec8bb47ce",
   "metadata": {
    "papermill": {},
    "tags": []
   },
   "outputs": [],
   "source": [
    "DASH_PORT = 8050"
   ]
  },
  {
   "cell_type": "markdown",
   "id": "40a98d82-6f97-4b91-9914-21b49c5a5baf",
   "metadata": {},
   "source": [
    "### Setup Google Sheets"
   ]
  },
  {
   "cell_type": "code",
   "execution_count": 31,
   "id": "133e30cc-4f50-47a1-b35a-828c70ea3ac5",
   "metadata": {
    "execution": {
     "iopub.execute_input": "2022-08-24T11:56:17.436266Z",
     "iopub.status.busy": "2022-08-24T11:56:17.436030Z",
     "iopub.status.idle": "2022-08-24T11:56:17.439267Z",
     "shell.execute_reply": "2022-08-24T11:56:17.438637Z",
     "shell.execute_reply.started": "2022-08-24T11:56:17.436244Z"
    },
    "tags": []
   },
   "outputs": [],
   "source": [
    "SPREADSHEET_URL = \"https://docs.google.com/spreadsheets/d/127PqDiuz5CXa8tTzhhgUl_ziMYThwZhfWOi86Bo-h-g/edit?usp=sharing\"\n",
    "SHEET_NAME = \"KPIS\"\n",
    "SHEET_NAME_2 = \"REVENUE\"\n",
    "SHEET_NAME_3 = \"OPERATIONAL_EXPENSES\"\n",
    "SHEET_NAME_4 = \"EARNING_BEFORE_INTREST_AND_TAXES\""
   ]
  },
  {
   "cell_type": "markdown",
   "id": "72b56af7-367f-4ead-bf4d-913c7c1b9dd2",
   "metadata": {},
   "source": [
    "### App design"
   ]
  },
  {
   "cell_type": "code",
   "execution_count": null,
   "id": "2de3424a-71fe-4cdb-8d46-c5e7cc0ac2e5",
   "metadata": {},
   "outputs": [],
   "source": [
    "APP_TITLE = 'Financial Consolidation'\n",
    "APP_LOGO = \"https://images.plot.ly/logo/new-branding/plotly-logomark.png\""
   ]
  },
  {
   "cell_type": "markdown",
   "id": "18d44eb6-6cac-40d1-a72f-021592546ec2",
   "metadata": {
    "papermill": {},
    "tags": []
   },
   "source": [
    "## Model"
   ]
  },
  {
   "cell_type": "markdown",
   "id": "149b5a4c-00c4-4eb0-8d71-d4fc0d269863",
   "metadata": {},
   "source": [
    "### Data dropdowns"
   ]
  },
  {
   "cell_type": "code",
   "execution_count": null,
   "id": "6cfe391c-fa23-4117-afd2-70bec74fdf27",
   "metadata": {},
   "outputs": [],
   "source": [
    "entities = [\n",
    "    \"Entity1\",\n",
    "    \"Entity2\"\n",
    "]\n",
    "\n",
    "scenarios = [\n",
    "    \"2022\",\n",
    "    \"2021\",\n",
    "    \"2020\"\n",
    "]"
   ]
  },
  {
   "cell_type": "markdown",
   "id": "947bec3f-73e3-41f3-a93f-fec282fafb46",
   "metadata": {
    "execution": {
     "iopub.execute_input": "2022-08-24T11:55:28.227266Z",
     "iopub.status.busy": "2022-08-24T11:55:28.227022Z",
     "iopub.status.idle": "2022-08-24T11:55:28.231038Z",
     "shell.execute_reply": "2022-08-24T11:55:28.230422Z",
     "shell.execute_reply.started": "2022-08-24T11:55:28.227230Z"
    },
    "tags": []
   },
   "source": [
    "### Get Kpis data"
   ]
  },
  {
   "cell_type": "code",
   "execution_count": 37,
   "id": "afad79c9-caa1-473b-9446-ac46d50dbee7",
   "metadata": {
    "execution": {
     "iopub.execute_input": "2022-08-24T11:58:26.092909Z",
     "iopub.status.busy": "2022-08-24T11:58:26.092645Z",
     "iopub.status.idle": "2022-08-24T11:58:26.464494Z",
     "shell.execute_reply": "2022-08-24T11:58:26.463952Z",
     "shell.execute_reply.started": "2022-08-24T11:58:26.092852Z"
    },
    "tags": []
   },
   "outputs": [
    {
     "name": "stdout",
     "output_type": "stream",
     "text": [
      "Nb row: 36\n"
     ]
    },
    {
     "data": {
      "text/html": [
       "<div>\n",
       "<style scoped>\n",
       "    .dataframe tbody tr th:only-of-type {\n",
       "        vertical-align: middle;\n",
       "    }\n",
       "\n",
       "    .dataframe tbody tr th {\n",
       "        vertical-align: top;\n",
       "    }\n",
       "\n",
       "    .dataframe thead th {\n",
       "        text-align: right;\n",
       "    }\n",
       "</style>\n",
       "<table border=\"1\" class=\"dataframe\">\n",
       "  <thead>\n",
       "    <tr style=\"text-align: right;\">\n",
       "      <th></th>\n",
       "      <th>ENTITY</th>\n",
       "      <th>SCENARIO</th>\n",
       "      <th>LABEL</th>\n",
       "      <th>VALUE</th>\n",
       "      <th>UNITS</th>\n",
       "      <th>VALUE_D</th>\n",
       "    </tr>\n",
       "  </thead>\n",
       "  <tbody>\n",
       "    <tr>\n",
       "      <th>0</th>\n",
       "      <td>Entity1</td>\n",
       "      <td>2022</td>\n",
       "      <td>Revenue target</td>\n",
       "      <td>80</td>\n",
       "      <td>%</td>\n",
       "      <td>80 %</td>\n",
       "    </tr>\n",
       "    <tr>\n",
       "      <th>1</th>\n",
       "      <td>Entity1</td>\n",
       "      <td>2022</td>\n",
       "      <td>COGS ratio</td>\n",
       "      <td>20</td>\n",
       "      <td>%</td>\n",
       "      <td>20 %</td>\n",
       "    </tr>\n",
       "    <tr>\n",
       "      <th>2</th>\n",
       "      <td>Entity1</td>\n",
       "      <td>2022</td>\n",
       "      <td>Gross Profit Margin</td>\n",
       "      <td>84</td>\n",
       "      <td>%</td>\n",
       "      <td>84 %</td>\n",
       "    </tr>\n",
       "    <tr>\n",
       "      <th>3</th>\n",
       "      <td>Entity1</td>\n",
       "      <td>2022</td>\n",
       "      <td>Opex Ratio</td>\n",
       "      <td>74</td>\n",
       "      <td>%</td>\n",
       "      <td>74 %</td>\n",
       "    </tr>\n",
       "    <tr>\n",
       "      <th>4</th>\n",
       "      <td>Entity1</td>\n",
       "      <td>2022</td>\n",
       "      <td>Ebit Margin</td>\n",
       "      <td>18</td>\n",
       "      <td>%</td>\n",
       "      <td>18 %</td>\n",
       "    </tr>\n",
       "    <tr>\n",
       "      <th>5</th>\n",
       "      <td>Entity1</td>\n",
       "      <td>2022</td>\n",
       "      <td>Net Profit Margin</td>\n",
       "      <td>14</td>\n",
       "      <td>%</td>\n",
       "      <td>14 %</td>\n",
       "    </tr>\n",
       "  </tbody>\n",
       "</table>\n",
       "</div>"
      ],
      "text/plain": [
       "    ENTITY  SCENARIO                LABEL  VALUE UNITS VALUE_D\n",
       "0  Entity1      2022       Revenue target     80     %    80 %\n",
       "1  Entity1      2022           COGS ratio     20     %    20 %\n",
       "2  Entity1      2022  Gross Profit Margin     84     %    84 %\n",
       "3  Entity1      2022           Opex Ratio     74     %    74 %\n",
       "4  Entity1      2022          Ebit Margin     18     %    18 %\n",
       "5  Entity1      2022    Net Profit Margin     14     %    14 %"
      ]
     },
     "execution_count": 37,
     "metadata": {},
     "output_type": "execute_result"
    }
   ],
   "source": [
    "df_hkpis = gsheet.connect(SPREADSHEET_URL).get(SHEET_NAME)\n",
    "df_hkpis[\"VALUE_D\"] = df_hkpis[\"VALUE\"].astype(str) + \" \" + df_hkpis[\"UNITS\"].astype(str)\n",
    "print(\"Nb row:\", len(df_hkpis))\n",
    "df_hkpis.head(6)"
   ]
  },
  {
   "cell_type": "markdown",
   "id": "42b2ac12-3faf-40bc-bd03-b7408b7839d1",
   "metadata": {
    "execution": {
     "iopub.execute_input": "2022-08-24T11:52:15.630675Z",
     "iopub.status.busy": "2022-08-24T11:52:15.630443Z",
     "iopub.status.idle": "2022-08-24T11:52:15.633440Z",
     "shell.execute_reply": "2022-08-24T11:52:15.632763Z",
     "shell.execute_reply.started": "2022-08-24T11:52:15.630650Z"
    },
    "tags": []
   },
   "source": [
    "### Data..."
   ]
  },
  {
   "cell_type": "code",
   "execution_count": null,
   "id": "51d3187f-0631-495d-8b1c-3375b83806a8",
   "metadata": {
    "tags": []
   },
   "outputs": [],
   "source": [
    "data = [\n",
    "    {\"DATE\": \"Jan 15\", \"VALUE\": 40, \"VARV\": 12},\n",
    "    {\"DATE\": \"Feb 15\", \"VALUE\": 40, \"VARV\": 25.2},\n",
    "    {\"DATE\": \"Mar 15\", \"VALUE\": 45, \"VARV\": 45.42},\n",
    "    {\"DATE\": \"Apr 15\", \"VALUE\": 43, \"VARV\": 54.9},\n",
    "    {\"DATE\": \"May 15\", \"VALUE\": 42, \"VARV\": 64},\n",
    "    {\"DATE\": \"Jun 15\", \"VALUE\": 46, \"VARV\": 16.2},\n",
    "    {\"DATE\": \"Jul 15\", \"VALUE\": 45, \"VARV\": 26.3},\n",
    "    {\"DATE\": \"Aug 15\", \"VALUE\": 41, \"VARV\": 26.6},\n",
    "    {\"DATE\": \"Sep 15\", \"VALUE\": 42, \"VARV\": 46.8},\n",
    "    {\"DATE\": \"Oct 15\", \"VALUE\": 43, \"VARV\": 37},\n",
    "    {\"DATE\": \"Nov 15\", \"VALUE\": 44, \"VARV\": 27.2},\n",
    "    {\"DATE\": \"Dec 15\", \"VALUE\": 45, \"VARV\": 57.5},\n",
    "]"
   ]
  },
  {
   "cell_type": "code",
   "execution_count": null,
   "id": "a7762d34-7525-4c0b-aaad-5fb1c99d2141",
   "metadata": {
    "tags": []
   },
   "outputs": [],
   "source": [
    "data2 = [\n",
    "    {\"DATE\": \"Jan 15\", \"VALUE\": 'General', \"COUNT\": 10},\n",
    "    {\"DATE\": \"Jan 15\", \"VALUE\": 'Marketing', \"COUNT\": 32},\n",
    "    {\"DATE\": \"Jan 15\", \"VALUE\": 'Sales', \"COUNT\": 20},\n",
    "    {\"DATE\": \"Jan 15\", \"VALUE\": 'IT', \"COUNT\": 55},\n",
    "    {\"DATE\": \"Feb 15\", \"VALUE\": 'General', \"COUNT\": 25},\n",
    "    {\"DATE\": \"Feb 15\", \"VALUE\": 'Marketing', \"COUNT\": 65},\n",
    "    {\"DATE\": \"Feb 15\", \"VALUE\": 'Sales', \"COUNT\": 15},\n",
    "    {\"DATE\": \"Feb 15\", \"VALUE\": 'IT', \"COUNT\": 5},\n",
    "    {\"DATE\": \"Mar 15\", \"VALUE\": 'General', \"COUNT\": 35},\n",
    "    {\"DATE\": \"Mar 15\", \"VALUE\": 'Marketing', \"COUNT\": 45},\n",
    "    {\"DATE\": \"Mar 15\", \"VALUE\": 'Sales', \"COUNT\": 25},\n",
    "    {\"DATE\": \"Mar 15\", \"VALUE\": 'IT', \"COUNT\": 5},\n",
    "    {\"DATE\": \"Apr 15\", \"VALUE\": 'General', \"COUNT\": 25},\n",
    "    {\"DATE\": \"Apr 15\", \"VALUE\": 'Marketing', \"COUNT\": 5},\n",
    "    {\"DATE\": \"Apr 15\", \"VALUE\": 'Sales', \"COUNT\": 15},\n",
    "    {\"DATE\": \"Apr 15\", \"VALUE\": 'IT', \"COUNT\": 10},\n",
    "    {\"DATE\": \"May 15\", \"VALUE\": 'General', \"COUNT\": 12},\n",
    "    {\"DATE\": \"May 15\", \"VALUE\": 'Marketing', \"COUNT\": 14},\n",
    "    {\"DATE\": \"May 15\", \"VALUE\": 'Sales', \"COUNT\": 20},\n",
    "    {\"DATE\": \"May 15\", \"VALUE\": 'IT', \"COUNT\": 19},\n",
    "    {\"DATE\": \"Jun 15\", \"VALUE\": 'General', \"COUNT\": 16},\n",
    "    {\"DATE\": \"Jun 15\", \"VALUE\": 'Marketing', \"COUNT\": 42},\n",
    "    {\"DATE\": \"Jun 15\", \"VALUE\": 'Sales', \"COUNT\": 10},\n",
    "    {\"DATE\": \"Jun 15\", \"VALUE\": 'IT', \"COUNT\": 5},\n",
    "    {\"DATE\": \"Jul 15\", \"VALUE\": 'General', \"COUNT\": 22},\n",
    "    {\"DATE\": \"Jul 15\", \"VALUE\": 'Marketing', \"COUNT\": 26},\n",
    "    {\"DATE\": \"Jul 15\", \"VALUE\": 'Sales', \"COUNT\": 15},\n",
    "    {\"DATE\": \"Jul 15\", \"VALUE\": 'IT', \"COUNT\": 5},\n",
    "    {\"DATE\": \"Aug 15\", \"VALUE\": 'General', \"COUNT\": 12},\n",
    "    {\"DATE\": \"Aug 15\", \"VALUE\": 'Marketing', \"COUNT\": 17},\n",
    "    {\"DATE\": \"Aug 15\", \"VALUE\": 'Sales', \"COUNT\": 20},\n",
    "    {\"DATE\": \"Aug 15\", \"VALUE\": 'IT', \"COUNT\": 25},\n",
    "    {\"DATE\": \"Sep 15\", \"VALUE\": 'General', \"COUNT\": 25},\n",
    "    {\"DATE\": \"Sep 15\", \"VALUE\": 'Marketing', \"COUNT\": 17},\n",
    "    {\"DATE\": \"Sep 15\", \"VALUE\": 'Sales', \"COUNT\": 18},\n",
    "    {\"DATE\": \"Sep 15\", \"VALUE\": 'IT', \"COUNT\": 19},\n",
    "    {\"DATE\": \"Oct 15\", \"VALUE\": 'General', \"COUNT\": 23},\n",
    "    {\"DATE\": \"Oct 15\", \"VALUE\": 'Marketing', \"COUNT\": 22},\n",
    "    {\"DATE\": \"Oct 15\", \"VALUE\": 'Sales', \"COUNT\": 26},\n",
    "    {\"DATE\": \"Oct 15\", \"VALUE\": 'IT', \"COUNT\": 8},\n",
    "    {\"DATE\": \"Nov 15\", \"VALUE\": 'General', \"COUNT\": 4},\n",
    "    {\"DATE\": \"Nov 15\", \"VALUE\": 'Marketing', \"COUNT\": 41},\n",
    "    {\"DATE\": \"Nov 15\", \"VALUE\": 'Sales', \"COUNT\": 3},\n",
    "    {\"DATE\": \"Nov 15\", \"VALUE\": 'IT', \"COUNT\": 6},\n",
    "    {\"DATE\": \"Dec 15\", \"VALUE\": 'General', \"COUNT\": 4},\n",
    "    {\"DATE\": \"Dec 15\", \"VALUE\": 'Marketing', \"COUNT\": 20},\n",
    "    {\"DATE\": \"Dec 15\", \"VALUE\": 'Sales', \"COUNT\": 31},\n",
    "    {\"DATE\": \"Dec 15\", \"VALUE\": 'IT', \"COUNT\": 16},\n",
    "]"
   ]
  },
  {
   "cell_type": "code",
   "execution_count": null,
   "id": "1ba8a58f-f9fc-4abe-a530-0bc4b5f49636",
   "metadata": {
    "tags": []
   },
   "outputs": [],
   "source": [
    "data3 = [\n",
    "    {\"DATE\": \"Jan 15\", \"VALUE1\": 40, \"VALUE2\": 50},\n",
    "    {\"DATE\": \"Feb 15\", \"VALUE1\": 60, \"VALUE2\": 52},\n",
    "    {\"DATE\": \"Mar 15\", \"VALUE1\": 45, \"VALUE2\": 54},\n",
    "    {\"DATE\": \"Apr 15\", \"VALUE1\": 49, \"VALUE2\": 56},\n",
    "    {\"DATE\": \"May 15\", \"VALUE1\": 55, \"VALUE2\": 58},\n",
    "    {\"DATE\": \"Jun 15\", \"VALUE1\": 66, \"VALUE2\": 60},\n",
    "    {\"DATE\": \"Jul 15\", \"VALUE1\": 45, \"VALUE2\": 62},\n",
    "    {\"DATE\": \"Aug 15\", \"VALUE1\": 61, \"VALUE2\": 64},\n",
    "    {\"DATE\": \"Sep 15\", \"VALUE1\": 72, \"VALUE2\": 66},\n",
    "    {\"DATE\": \"Oct 15\", \"VALUE1\": 83, \"VALUE2\": 68},\n",
    "    {\"DATE\": \"Nov 15\", \"VALUE1\": 64, \"VALUE2\": 70},\n",
    "    {\"DATE\": \"Dec 15\", \"VALUE1\": 85, \"VALUE2\": 72},\n",
    "]"
   ]
  },
  {
   "cell_type": "markdown",
   "id": "c5cfb870-27f9-4ff6-9c04-86d03e665219",
   "metadata": {},
   "source": [
    "#### Highlighted KPIs"
   ]
  },
  {
   "cell_type": "code",
   "execution_count": null,
   "id": "13362b56-def2-4b58-8768-b0651467f1dc",
   "metadata": {
    "tags": []
   },
   "outputs": [],
   "source": [
    "# Dataframe is returned\n",
    "df_hkpis = naas_drivers.gsheet.connect(spreadsheet_id).get(\n",
    "    sheet_name=\"KPIS\"\n",
    ")"
   ]
  },
  {
   "cell_type": "markdown",
   "id": "f987f5de-fb55-40e8-8c48-20fd33cccc6e",
   "metadata": {
    "papermill": {},
    "tags": []
   },
   "source": [
    "#### Gross Profit Margin"
   ]
  },
  {
   "cell_type": "code",
   "execution_count": null,
   "id": "bac82491-4f6c-49f9-bb85-369a99b82938",
   "metadata": {
    "papermill": {},
    "tags": []
   },
   "outputs": [],
   "source": [
    "def gross_profit_margin():\n",
    "\n",
    "    return fig  \n"
   ]
  },
  {
   "cell_type": "markdown",
   "id": "b5fbe2d9-aeae-4c23-88d2-b92ac55d5a95",
   "metadata": {
    "papermill": {},
    "tags": []
   },
   "source": [
    "#### Opex Ratio"
   ]
  },
  {
   "cell_type": "code",
   "execution_count": null,
   "id": "f5f4eee6-bdeb-4579-a398-bf2be1b8bbef",
   "metadata": {
    "papermill": {},
    "tags": []
   },
   "outputs": [],
   "source": [
    "def opex_ratio():\n",
    "\n",
    "    return fig  \n"
   ]
  },
  {
   "cell_type": "markdown",
   "id": "4a26197d-a62c-47d2-962b-261b9887ed35",
   "metadata": {
    "papermill": {},
    "tags": []
   },
   "source": [
    "#### Ebit Margin"
   ]
  },
  {
   "cell_type": "code",
   "execution_count": null,
   "id": "194c8948-6a1f-4a3b-8c4e-7a1ce14431d3",
   "metadata": {
    "papermill": {},
    "tags": []
   },
   "outputs": [],
   "source": [
    "def ebit_margin():\n",
    "\n",
    "    return fig  \n"
   ]
  },
  {
   "cell_type": "markdown",
   "id": "70678e86-88f6-4bc0-8332-91e8c1805a3c",
   "metadata": {
    "papermill": {},
    "tags": []
   },
   "source": [
    "#### Net Profit Margin"
   ]
  },
  {
   "cell_type": "code",
   "execution_count": null,
   "id": "8da7e5d5-1b30-4aeb-8ae7-43ca14c842ad",
   "metadata": {
    "papermill": {},
    "tags": []
   },
   "outputs": [],
   "source": [
    "def net_profit_margin():\n",
    "\n",
    "    return fig  \n"
   ]
  },
  {
   "cell_type": "markdown",
   "id": "3af07f70-7ab6-4b8d-8ed9-a38e571596fd",
   "metadata": {
    "papermill": {},
    "tags": []
   },
   "source": [
    "#### Income Statement"
   ]
  },
  {
   "cell_type": "code",
   "execution_count": null,
   "id": "dbbb57db-5912-4804-9c6e-b892fe9af492",
   "metadata": {
    "papermill": {},
    "tags": []
   },
   "outputs": [],
   "source": [
    "def income_statement():\n",
    "\n",
    "    return fig  \n"
   ]
  },
  {
   "cell_type": "markdown",
   "id": "9f7fa199-1e60-451e-ab1e-b8739eeec981",
   "metadata": {
    "papermill": {},
    "tags": []
   },
   "source": [
    "#### Revenue"
   ]
  },
  {
   "cell_type": "code",
   "execution_count": null,
   "id": "f7565f6e-de55-457c-8315-95fae742afcc",
   "metadata": {
    "tags": []
   },
   "outputs": [],
   "source": [
    "df = pd.DataFrame(data)\n",
    "df\n",
    "\n",
    "def create_barlinechart(df,\n",
    "                        label=\"DATE\",\n",
    "                        value=\"VARV\",\n",
    "                        varv=\"VALUE\",\n",
    "                        xaxis_title=None,\n",
    "                        yaxis_title_r=None,\n",
    "                        yaxis_title_l=None):    \n",
    "    # Create figure with secondary y-axis\n",
    "    fig = make_subplots(specs=[[{\"secondary_y\": True}]])\n",
    "\n",
    "    # Add traces\n",
    "    fig.add_trace(\n",
    "        go.Bar(\n",
    "            x=df[label],\n",
    "            y=df[value],\n",
    "            name=\"Growth\",\n",
    "            marker=dict(color=\"#ADD8E6\"),\n",
    "        ),\n",
    "        secondary_y=False,\n",
    "    )\n",
    "    fig.add_trace(\n",
    "        go.Scatter(\n",
    "            x=df[label],\n",
    "            y=[86,87,98,89,90,91,92,113,94,95,96,117],\n",
    "            mode=\"lines\",\n",
    "            name=\"Revenue\",\n",
    "            line=dict(color=\"royalblue\", width=2.5),\n",
    "        ),\n",
    "        secondary_y=False,\n",
    "    )\n",
    "    fig.add_trace(\n",
    "        go.Scatter(\n",
    "            x=df[label],\n",
    "            y=[78,69,80,81,82,93,84,85,96,87,88,119],\n",
    "            name=\"Target\",\n",
    "            line=dict(color='green', width=4, dash='dot'),\n",
    "        ),\n",
    "        secondary_y=False,\n",
    "    )\n",
    "\n",
    "    # Add figure title\n",
    "    fig.update_layout(\n",
    "        title= \"Revenue\",\n",
    "        #title_font=dict(family=\"Arial\", size=18, color=\"black\"),\n",
    "        #legend=None,\n",
    "        title_x=0.1,\n",
    "        plot_bgcolor=\"white\",\n",
    "        height=300,\n",
    "        paper_bgcolor=\"white\",\n",
    "        xaxis_title=xaxis_title,\n",
    "        xaxis_title_font=dict(family=\"Arial\", size=10, color=\"black\"),\n",
    "    )\n",
    "\n",
    "    # Set y-axes titles\n",
    "    fig.update_yaxes(\n",
    "        title_text=yaxis_title_r,\n",
    "        title_font=dict(family=\"Arial\", size=10, color=\"black\"),\n",
    "        secondary_y=False\n",
    "    )\n",
    "    fig.update_yaxes(\n",
    "        title_text=yaxis_title_l,\n",
    "        title_font=dict(family=\"Arial\", size=10, color=\"black\"),\n",
    "        secondary_y=True\n",
    "    )\n",
    "    fig.update_traces(showlegend=False)\n",
    "    fig.show()\n",
    "    return fig\n",
    "\n",
    "fig = create_barlinechart(df,\n",
    "                          yaxis_title_r=None,\n",
    "                          yaxis_title_l=None)"
   ]
  },
  {
   "cell_type": "markdown",
   "id": "80fe7916-09eb-4f97-a287-07a4ccf1124e",
   "metadata": {},
   "source": [
    "### Operational Expenses"
   ]
  },
  {
   "cell_type": "code",
   "execution_count": null,
   "id": "2e94a001-3e06-47ed-8776-874cc70169a5",
   "metadata": {
    "tags": []
   },
   "outputs": [],
   "source": [
    "df2 = pd.DataFrame(data2)\n",
    "df2"
   ]
  },
  {
   "cell_type": "code",
   "execution_count": null,
   "id": "e84b09e3-12d0-4905-a7cf-f5f6c96617fe",
   "metadata": {
    "tags": []
   },
   "outputs": [],
   "source": [
    "def stacked_bar(df2, labels, values):\n",
    "    fig3 = px.bar(df2, x=\"DATE\", y=\"COUNT\", color=\"VALUE\",\n",
    "                 width=500, height=400,\n",
    "                 color_discrete_map={\n",
    "                     'General': '#5ac73c',\n",
    "                     'Marketing': '#6dabc7',\n",
    "                     'Sales':'#307a37',\n",
    "                     'IT':'#30337a'\n",
    "                 })\n",
    "    fig3.update_traces(width=0.5)\n",
    "    fig3.update_layout(yaxis_tickformat = ',',\n",
    "                       title_text='Operational Expenses',\n",
    "                       title_x=0.1,\n",
    "                       plot_bgcolor=\"#ffffff\",)    \n",
    "    fig3.show()\n",
    "    return fig3\n",
    "stacked_bar = stacked_bar(df2, None, None)"
   ]
  },
  {
   "cell_type": "markdown",
   "id": "0f853c82-0e48-41ec-990e-58d51e15c226",
   "metadata": {},
   "source": [
    "### Earnings before Intrest and Taxes"
   ]
  },
  {
   "cell_type": "code",
   "execution_count": null,
   "id": "27da58ef-6d17-48c8-808b-c0aa5071f18b",
   "metadata": {
    "tags": []
   },
   "outputs": [],
   "source": [
    "df3 = pd.DataFrame(data3)\n",
    "df3"
   ]
  },
  {
   "cell_type": "code",
   "execution_count": null,
   "id": "a535feee-2ff3-4d0d-a169-6cf7a9c1ce73",
   "metadata": {
    "tags": []
   },
   "outputs": [],
   "source": [
    "def create_doublelinechart(df3,\n",
    "                        label=\"DATE\",\n",
    "                        value1=\"VALUE1\",\n",
    "                        value2=\"VALUE2\",\n",
    "                        xaxis_title=\"Months\"):    \n",
    "    fig2 = go.Figure()\n",
    "    # Add traces\n",
    "\n",
    "    fig2.add_trace(\n",
    "        go.Scatter(\n",
    "            x=df3[label],\n",
    "            y=df3[value1],\n",
    "            mode=\"lines\",\n",
    "            name=\"EBIT Actual\",\n",
    "            line=dict(color=\"#0A66C2\", width=2.5),\n",
    "        ),\n",
    "    )\n",
    "    \n",
    "    fig2.add_trace(\n",
    "        go.Scatter(\n",
    "            x=df3[label],\n",
    "            y=df3[value2],\n",
    "            mode=\"lines\",\n",
    "            name=\"EBIT Target\",\n",
    "            line=dict(color='green', width=4, dash='dot'),\n",
    "        ),\n",
    "    )  \n",
    "    # Add figure title\n",
    "    fig2.update_layout(\n",
    "        yaxis_tickformat = ',',\n",
    "        title_text=\"Earnings before Intrest and Taxes\",\n",
    "        title_x=0.1,\n",
    "        #title_font=dict(family=\"Arial\", size=18, color=\"black\"),\n",
    "        #legend=None,\n",
    "        plot_bgcolor=\"#ffffff\",\n",
    "        width=500,\n",
    "        height=400,\n",
    "        #paper_bgcolor=\"white\",\n",
    "        #xaxis_title=xaxis_title,\n",
    "        #xaxis_title_font=dict(family=\"Arial\", size=10, color=\"black\"),\n",
    "    )\n",
    "\n",
    "    fig2.show()\n",
    "    return fig2\n",
    "\n",
    "doubleline = create_doublelinechart(df3)"
   ]
  },
  {
   "cell_type": "markdown",
   "id": "e88267e7-d9ea-406b-a90e-05fb19bace73",
   "metadata": {
    "execution": {
     "iopub.execute_input": "2022-08-07T12:36:43.651149Z",
     "iopub.status.busy": "2022-08-07T12:36:43.650909Z",
     "iopub.status.idle": "2022-08-07T12:36:43.655756Z",
     "shell.execute_reply": "2022-08-07T12:36:43.655122Z",
     "shell.execute_reply.started": "2022-08-07T12:36:43.651126Z"
    }
   },
   "source": [
    "### Design"
   ]
  },
  {
   "cell_type": "markdown",
   "id": "b13b85a2-f1fb-40c7-a9ed-9e906573b27c",
   "metadata": {},
   "source": [
    "#### Create Dropdown"
   ]
  },
  {
   "cell_type": "code",
   "execution_count": null,
   "id": "afe16f46-9f4c-4cd5-9bf0-68fe1e01a4bf",
   "metadata": {
    "tags": []
   },
   "outputs": [],
   "source": [
    "# Entity's dropdown list\n",
    "dropdown_entity = dcc.Dropdown(\n",
    "    id='entity',\n",
    "    options=[{'label': i, 'value': i} for i in entities],\n",
    "    placeholder='Entity',\n",
    "    value=entities[0],\n",
    ")\n",
    "\n",
    "# Scenario's dropdown list\n",
    "dropdown_scenario = dcc.Dropdown(\n",
    "    id='scenario',\n",
    "    options=[{'label': i, 'value': i} for i in scenarios],\n",
    "    placeholder='Scenario',\n",
    "    value=scenarios[0],\n",
    ")"
   ]
  },
  {
   "cell_type": "markdown",
   "id": "0ac59088-5b71-434f-8240-759c8eff7f11",
   "metadata": {},
   "source": [
    "#### Create Navbar"
   ]
  },
  {
   "cell_type": "code",
   "execution_count": null,
   "id": "acd3f11b-19b6-4bdd-84fa-39f406c7234b",
   "metadata": {
    "tags": []
   },
   "outputs": [],
   "source": [
    "navbar = dbc.Navbar(\n",
    "    dbc.Container(\n",
    "        [\n",
    "            html.A(\n",
    "                # Use row and col to control vertical alignment of logo / brand\n",
    "                dbc.Row(\n",
    "                    [\n",
    "                        dbc.Col(html.Img(src=APP_LOGO, height=\"20\")),\n",
    "                        dbc.Col(dbc.NavbarBrand(APP_TITLE, className=\"ms-2\")),\n",
    "                    ],\n",
    "                    align=\"center\",\n",
    "                    className=\"g-0\",\n",
    "                ),\n",
    "            ),\n",
    "            dbc.NavbarToggler(id=\"navbar-toggler\", n_clicks=0),\n",
    "            dbc.Collapse(\n",
    "                dbc.Nav(\n",
    "                    [\n",
    "                        html.Div(\n",
    "                            [\n",
    "                                html.Div(className=\"w-100\"),\n",
    "                                html.Div(className=\"w-100\"),\n",
    "                                html.Div(dropdown_entity, className=\"w-100\"),\n",
    "                                html.Div(dropdown_scenario, className=\"w-100\")\n",
    "                            ],\n",
    "                            className=\"pt-1 pb-1 d-grid gap-2 d-md-flex w-100\")\n",
    "\n",
    "                    ],\n",
    "                    className=\"ms-auto w-100\",\n",
    "                    navbar=True,\n",
    "                ),\n",
    "                id=\"navbar-collapse\",\n",
    "                navbar=True,\n",
    "                is_open=False,\n",
    "            ),\n",
    "        ],\n",
    "    ),\n",
    "    color=\"#163b78\",\n",
    "    dark=True,\n",
    ")"
   ]
  },
  {
   "cell_type": "markdown",
   "id": "a3b9b54e-50d5-43b8-9335-ead33e62fc88",
   "metadata": {
    "papermill": {},
    "tags": []
   },
   "source": [
    "#### Create app layout"
   ]
  },
  {
   "cell_type": "code",
   "execution_count": null,
   "id": "187504dc-1f7f-4cf4-9242-37d199bf9de9",
   "metadata": {
    "tags": []
   },
   "outputs": [],
   "source": [
    "app = dash.Dash(requests_pathname_prefix=f'/user/{os.environ.get(\"JUPYTERHUB_USER\")}/proxy/{DASH_PORT}/', \n",
    "                external_stylesheets=[dbc.themes.BOOTSTRAP],\n",
    "                meta_tags=[{'name': 'viewport','content': 'width=device-width, initial-scale=1.0'}]\n",
    "                )   \n",
    "#app = dash.Dash() if you are not in Naas\n",
    "\n",
    "app.layout = html.Div(\n",
    "[\n",
    "    # Navbar\n",
    "    navbar,\n",
    "\n",
    "    #HKPIS\n",
    "    html.Div([\n",
    "        dbc.Row([\n",
    "\n",
    "            dbc.Col(\n",
    "                html.Div(\n",
    "                    dbc.Card(\n",
    "                        dbc.CardBody([\n",
    "                            html.H5(\"Revenue target\", className=\"card-title\",style={'text-align':'center'}),\n",
    "                            html.P(\n",
    "                                \"80%\",\n",
    "                                className=\"card-text\",\n",
    "                                style={'text-align':'center'},\n",
    "                            ),\n",
    "                        ],),color=\"#163b78\", inverse=True,\n",
    "                    ),\n",
    "                ),className=\"gx-5 g-2\",xs=12,sm=12,md=12,lg=2,xl=2,\n",
    "            ),\n",
    "            dbc.Col(\n",
    "                html.Div(\n",
    "                    dbc.Card(\n",
    "                        dbc.CardBody([\n",
    "                            html.H5(\"COGS ratio\", className=\"card-title\",style={'text-align':'center'}),\n",
    "                            html.P(\n",
    "                                \"20%\",\n",
    "                                className=\"card-text\",\n",
    "                                style={'text-align':'center'},\n",
    "                            ),\n",
    "                        ],),color=\"#4c718f\", inverse=True,\n",
    "                    ),\n",
    "                ),className=\"gx-5 g-2\",xs=12,sm=12,md=12,lg=2,xl=2,\n",
    "            ),\n",
    "\n",
    "            dbc.Col(\n",
    "                html.Div(\n",
    "                    dbc.Card(\n",
    "                        dbc.CardBody([\n",
    "                            html.H5(\"Gross Profit Margin\", className=\"card-title\",style={'text-align':'center'}),\n",
    "                            html.P(\n",
    "                                \"84%\",\n",
    "                                className=\"card-text\",\n",
    "                                style={'text-align':'center'},\n",
    "                            ),\n",
    "                        ],),color=\"#62a0a6\", inverse=True,\n",
    "                    ),\n",
    "                ),className=\"gx-5 g-2\",xs=12,sm=12,md=12,lg=2,xl=2,\n",
    "            ),\n",
    "\n",
    "            dbc.Col(\n",
    "                html.Div(\n",
    "                    dbc.Card(\n",
    "                        dbc.CardBody([\n",
    "                            html.H5(\"Opex Ratio\", className=\"card-title\",style={'text-align':'center'}),\n",
    "                            html.P(\n",
    "                                \"74%\",\n",
    "                                className=\"card-text\",\n",
    "                                style={'text-align':'center'},\n",
    "                            ),\n",
    "                        ],),color=\"#64abbd\", inverse=True,\n",
    "                    ),\n",
    "                ),className=\"gx-5 g-2\",xs=12,sm=12,md=12,lg=2,xl=2,\n",
    "            ),\n",
    "\n",
    "            dbc.Col(\n",
    "                html.Div(\n",
    "                    dbc.Card(\n",
    "                        dbc.CardBody([\n",
    "                            html.H5(\"Ebit Margin\", className=\"card-title\", style={'text-align':'center'}),\n",
    "                            html.P(\n",
    "                                \"18%\",\n",
    "                                className=\"card-text\",\n",
    "                                style={'text-align':'center'},\n",
    "                            ),\n",
    "                        ],),color=\"#45a127\", inverse=True,\n",
    "                    ),\n",
    "                ),className=\"gx-5 g-2\",xs=12,sm=12,md=12,lg=2,xl=2,\n",
    "            ),\n",
    "\n",
    "            dbc.Col(\n",
    "                html.Div(\n",
    "                    dbc.Card(\n",
    "                        dbc.CardBody([\n",
    "                            html.H5(\"Net Profit Margin\", className=\"card-title\",style={'text-align':'center'}),\n",
    "                            html.P(\n",
    "                                \"14%\",\n",
    "                                className=\"card-text\",\n",
    "                                style={'text-align':'center'},\n",
    "                            ),\n",
    "                        ],),color=\"success\", inverse=True,\n",
    "                    ),\n",
    "                ),className=\"gx-5 g-2\",xs=12,sm=12,md=12,lg=2,xl=2,\n",
    "            ),\n",
    "            ],),\n",
    "\n",
    "\n",
    "        #SPACE\n",
    "        html.Br(),\n",
    "\n",
    "        #CHARTS\n",
    "        dbc.Row([\n",
    "            dbc.Col([\n",
    "                html.Div(\n",
    "                    dcc.Graph(id=\"test2\",figure=fig)\n",
    "                ),\n",
    "            dbc.Row([\n",
    "                dbc.Col(\n",
    "                    html.Div(\n",
    "                        dcc.Graph(id=\"test4\",figure=stacked_bar)\n",
    "                    ), xs=12,sm=12,md=12,lg=5,xl=5,\n",
    "                ),\n",
    "                dbc.Col(\n",
    "                    html.Div(\n",
    "                        dcc.Graph(id=\"test5\",figure=doubleline)\n",
    "                    ),xs=12,sm=12,md=12,lg=4,xl=4,\n",
    "                ),\n",
    "\n",
    "            ],)\n",
    "\n",
    "            ],\n",
    "\n",
    "            ),\n",
    "            dbc.Col(\n",
    "                html.Div(\n",
    "                    dbc.Card(\n",
    "                        dbc.CardBody([\n",
    "                            html.H5(\"Income Statement\", className=\"card-title\"),\n",
    "\n",
    "\n",
    "                            dbc.Row([\n",
    "                                dbc.Col([\n",
    "                                    html.P(\"Revenue\",className=\"card-text\",style={\"font-weight\": \"bold\"})\n",
    "                                ]),\n",
    "                                dbc.Col([\n",
    "                                    html.P(\"1,305,507 €\",style={'text-align':'right'})\n",
    "                                ]),\n",
    "                             ]),\n",
    "\n",
    "                            dbc.Row([\n",
    "                                dbc.Col([\n",
    "                                    html.P(\"COGS\",className=\"card-text\",style={\"font-weight\": \"bold\"})\n",
    "                                ], width=4),\n",
    "                                dbc.Col([\n",
    "                                    html.P(\"208,453 €\",style={'text-align':'right'})\n",
    "                                ]),\n",
    "                             ]),\n",
    "\n",
    "                            html.Hr(style={'borderWidth': \"0.5vh\", \"width\": \"100%\", \"color\": \"blak\"}),\n",
    "\n",
    "                            dbc.Row([\n",
    "                                dbc.Col([\n",
    "                                    html.P(\"GROSS PROFIT\",className=\"card-text\",style={\"font-weight\": \"bold\"})\n",
    "                                ]),\n",
    "                                dbc.Col([\n",
    "                                    html.P(\"1,097,054 €\",style={'text-align':'right'})\n",
    "                                ]),\n",
    "                             ]),                                \n",
    "\n",
    "\n",
    "                            dbc.Row([\n",
    "                                dbc.Col([\n",
    "                                    html.P(\"OPEX\",className=\"card-text\",style={\"font-weight\": \"bold\"})\n",
    "                                ]),\n",
    "                                dbc.Col([\n",
    "                                    html.P(\"815,306 €\",style={'text-align':'right'})\n",
    "                                ]),\n",
    "                             ]),\n",
    "\n",
    "                            dbc.Row([\n",
    "                                dbc.Col([\n",
    "                                    html.P(\"Sales\",className=\"card-text\", style={'margin-left':25})\n",
    "                                ]),\n",
    "                                dbc.Col([\n",
    "                                    html.P(\"279,886 €\",style={'text-align':'right'})\n",
    "                                ]),\n",
    "                             ]),\n",
    "\n",
    "                            dbc.Row([\n",
    "                                dbc.Col([\n",
    "                                    html.P(\"Marketing\",className=\"card-text\", style={'margin-left':25})\n",
    "                                ]),\n",
    "                                dbc.Col([\n",
    "                                    html.P(\"192,710 €\",style={'text-align':'right'})\n",
    "                                ]),\n",
    "                             ]),\n",
    "\n",
    "                            dbc.Row([\n",
    "                                dbc.Col([\n",
    "                                    html.P(\"IT\",className=\"card-text\", style={'margin-left':25})\n",
    "                                ]),\n",
    "                                dbc.Col([\n",
    "                                    html.P(\"192,656 €\",style={'text-align':'right'})\n",
    "                                ]),\n",
    "                             ]),\n",
    "\n",
    "                            dbc.Row([\n",
    "                                dbc.Col([\n",
    "                                    html.P(\"General & Admin \",className=\"card-text\", style={'margin-left':25})\n",
    "                                ]),\n",
    "                                dbc.Col([\n",
    "                                    html.P(\"150,054 €\",style={'text-align':'right'})\n",
    "                                ]),\n",
    "                             ]),\n",
    "\n",
    "                            dbc.Row([\n",
    "                                dbc.Col([\n",
    "                                    html.P(\"OTHER INCOME\",className=\"card-text\",style={\"font-weight\": \"bold\"})\n",
    "                                ]),\n",
    "                                dbc.Col([\n",
    "                                    html.P(\"2,130 €\",style={'text-align':'right'})\n",
    "                                ]),\n",
    "                             ]),\n",
    "\n",
    "                            dbc.Row([\n",
    "                                dbc.Col([\n",
    "                                    html.P(\"OTHER EXPENSES\",className=\"card-text\",style={\"font-weight\": \"bold\"})\n",
    "                                ]),\n",
    "                                dbc.Col([\n",
    "                                    html.P(\"51,195 €\",style={'text-align':'right'})\n",
    "                                ]),\n",
    "                             ]),\n",
    "\n",
    "                            html.Hr(style={'borderWidth': \"0.5vh\", \"width\": \"100%\", \"color\": \"blak\"}),\n",
    "\n",
    "                            dbc.Row([\n",
    "                                dbc.Col([\n",
    "                                    html.P(\"EBIT\",className=\"card-text\",style={\"font-weight\": \"bold\"})\n",
    "                                ]),\n",
    "                                dbc.Col([\n",
    "                                    html.P(\"232,684 €\",style={'text-align':'right'})\n",
    "                                ]),\n",
    "                             ]),\n",
    "\n",
    "                            dbc.Row([\n",
    "                                dbc.Col([\n",
    "                                    html.P(\"Intrest and Tax\",className=\"card-text\", style={'margin-left':25})\n",
    "                                ]),\n",
    "                                dbc.Col([\n",
    "                                    html.P(\"1,305,507 €\",style={'text-align':'right'})\n",
    "                                ]),\n",
    "                             ]),\n",
    "\n",
    "                            html.Hr(style={'borderWidth': \"0.5vh\", \"width\": \"100%\", \"color\": \"blak\"}),\n",
    "\n",
    "                            dbc.Row([\n",
    "                                dbc.Col([\n",
    "                                    html.P(\"NET PROFIT\",className=\"card-text\",style={\"font-weight\": \"bold\"})\n",
    "                                ]),\n",
    "                                dbc.Col([\n",
    "                                    html.P(\"194,440 €\",style={'text-align':'right'})\n",
    "                                ]),\n",
    "                             ]),                  \n",
    "                        ],),\n",
    "                    ),\n",
    "                ),className=\"gx-5 g-2\",xs=12,sm=12,md=12,lg=4,xl=4,\n",
    "            ),\n",
    "\n",
    "        ],),\n",
    "\n",
    "\n",
    "\n",
    "    ],),\n",
    "],\n",
    ")\n",
    "    \n",
    "# add callback for toggling the collapse on small screens\n",
    "@app.callback(\n",
    "    Output(\"navbar-collapse\", \"is_open\"),\n",
    "    [Input(\"navbar-toggler\", \"n_clicks\")],\n",
    "    [State(\"navbar-collapse\", \"is_open\")],\n",
    "    [State(\"navbar-collapse2\", \"is_open\")],   \n",
    ")\n",
    "@app.callback(\n",
    "    dash.dependencies.Output('crossfilter-indicator-scatter', 'figure'),\n",
    "    [dash.dependencies.Input('crossfilter-xaxis-column', 'value'),\n",
    "     dash.dependencies.Input('crossfilter-yaxis-column', 'value'),\n",
    "     dash.dependencies.Input('crossfilter-xaxis-type', 'value'),\n",
    "     dash.dependencies.Input('crossfilter-yaxis-type', 'value')])\n",
    "def toggle_navbar_collapse(n, is_open):\n",
    "    if n:\n",
    "        return not is_open\n",
    "    return is_open"
   ]
  },
  {
   "cell_type": "markdown",
   "id": "59e4f1f8-38d1-4b3b-b93c-c010ef9011b0",
   "metadata": {
    "execution": {
     "iopub.execute_input": "2021-07-02T23:32:10.789097Z",
     "iopub.status.busy": "2021-07-02T23:32:10.788829Z",
     "iopub.status.idle": "2021-07-02T23:32:10.796900Z",
     "shell.execute_reply": "2021-07-02T23:32:10.796358Z",
     "shell.execute_reply.started": "2021-07-02T23:32:10.789033Z"
    },
    "papermill": {},
    "tags": []
   },
   "source": [
    "## Output"
   ]
  },
  {
   "cell_type": "markdown",
   "id": "a828ebca-0b33-4d16-829c-e45044f9659d",
   "metadata": {
    "papermill": {},
    "tags": []
   },
   "source": [
    "### Generate URL and show logs"
   ]
  },
  {
   "cell_type": "code",
   "execution_count": 27,
   "id": "f054b1db-a3eb-4a2b-9ca2-881d7f1dc242",
   "metadata": {
    "execution": {
     "iopub.status.idle": "2022-08-24T11:55:01.499302Z",
     "shell.execute_reply": "2022-08-24T11:55:01.498573Z",
     "shell.execute_reply.started": "2022-08-24T11:52:54.700450Z"
    },
    "papermill": {},
    "tags": []
   },
   "outputs": [],
   "source": [
    "if __name__ == '__main__':\n",
    "    app.run_server(proxy=f\"http://127.0.0.1:{DASH_PORT}::https://app.naas.ai\")"
   ]
  },
  {
   "cell_type": "code",
   "execution_count": null,
   "id": "92a32f6a-73ca-498d-b2bc-5fb5b626a1f7",
   "metadata": {},
   "outputs": [],
   "source": []
  }
 ],
 "metadata": {
  "kernelspec": {
   "display_name": "Python 3",
   "language": "python",
   "name": "python3"
  },
  "language_info": {
   "codemirror_mode": {
    "name": "ipython",
    "version": 3
   },
   "file_extension": ".py",
   "mimetype": "text/x-python",
   "name": "python",
   "nbconvert_exporter": "python",
   "pygments_lexer": "ipython3",
   "version": "3.9.6"
  }
 },
 "nbformat": 4,
 "nbformat_minor": 5
}
