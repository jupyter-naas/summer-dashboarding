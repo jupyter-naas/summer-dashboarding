{
 "cells": [
  {
   "cell_type": "markdown",
   "id": "a481eba6-3b09-4b9f-8df2-509c5c25530e",
   "metadata": {
    "execution": {
     "iopub.execute_input": "2021-02-23T14:22:16.610471Z",
     "iopub.status.busy": "2021-02-23T14:22:16.610129Z",
     "iopub.status.idle": "2021-02-23T14:22:16.627784Z",
     "shell.execute_reply": "2021-02-23T14:22:16.626866Z",
     "shell.execute_reply.started": "2021-02-23T14:22:16.610384Z"
    },
    "papermill": {},
    "tags": []
   },
   "source": [
    "<img width=\"10%\" alt=\"Naas\" src=\"https://landen.imgix.net/jtci2pxwjczr/assets/5ice39g4.png?w=160\"/>"
   ]
  },
  {
   "cell_type": "markdown",
   "id": "0a8ee32d-e46f-474d-b83a-a52196d00a59",
   "metadata": {
    "papermill": {},
    "tags": []
   },
   "source": [
    "# Financial Consolidation Dashboard "
   ]
  },
  {
   "cell_type": "markdown",
   "id": "cf10c740-2a3d-453c-9d34-e704ceb61eeb",
   "metadata": {
    "papermill": {},
    "tags": []
   },
   "source": [
    "**Tags:** #dashboard #plotly #dash #naas #asset #automation #ai #analytics"
   ]
  },
  {
   "cell_type": "markdown",
   "id": "c41b7bf9-6a2d-4b14-947f-8cc81f7220a0",
   "metadata": {
    "papermill": {},
    "tags": []
   },
   "source": [
    "**Author:** [Meriem Si](https://www.linkedin.com/in/meriem-si-104236181/)"
   ]
  },
  {
   "cell_type": "markdown",
   "id": "961d8daf-0ca7-4a3e-8a3e-d0aadc9f1201",
   "metadata": {
    "papermill": {},
    "tags": []
   },
   "source": [
    "This notebook enables you to generate a dashboard to follow the financial consolidation."
   ]
  },
  {
   "cell_type": "markdown",
   "id": "69743f46-0dc5-45f3-bdc6-c570819d572a",
   "metadata": {
    "papermill": {},
    "tags": []
   },
   "source": [
    "## Input"
   ]
  },
  {
   "cell_type": "markdown",
   "id": "08af25b3-ac3c-49c9-ae37-2a72481d7acf",
   "metadata": {
    "papermill": {},
    "tags": []
   },
   "source": [
    "### Import libraries"
   ]
  },
  {
   "cell_type": "code",
   "execution_count": 1,
   "id": "3c02e335-eecb-476d-8df9-0c329f14c14a",
   "metadata": {
    "execution": {
     "iopub.execute_input": "2022-08-31T09:38:07.568944Z",
     "iopub.status.busy": "2022-08-31T09:38:07.568425Z",
     "iopub.status.idle": "2022-08-31T09:38:08.902124Z",
     "shell.execute_reply": "2022-08-31T09:38:08.901451Z",
     "shell.execute_reply.started": "2022-08-31T09:38:07.568841Z"
    },
    "papermill": {},
    "tags": []
   },
   "outputs": [],
   "source": [
    "import dash\n",
    "from dash import html, dcc, Input, Output, State\n",
    "import dash_bootstrap_components as dbc\n",
    "import plotly.graph_objects as go\n",
    "import plotly.express as px\n",
    "import os\n",
    "import pandas as pd\n",
    "from naas_drivers import gsheet\n",
    "from dash_bootstrap_components._components.Container import Container\n",
    "from plotly.subplots import make_subplots"
   ]
  },
  {
   "cell_type": "markdown",
   "id": "adc77f77-a2b0-46e1-80d4-75f06999848a",
   "metadata": {
    "papermill": {},
    "tags": []
   },
   "source": [
    "### Defining the port of the dashboard"
   ]
  },
  {
   "cell_type": "code",
   "execution_count": 2,
   "id": "39611a16-215c-4190-882e-cffec8bb47ce",
   "metadata": {
    "execution": {
     "iopub.execute_input": "2022-08-31T09:38:08.903582Z",
     "iopub.status.busy": "2022-08-31T09:38:08.903340Z",
     "iopub.status.idle": "2022-08-31T09:38:08.906794Z",
     "shell.execute_reply": "2022-08-31T09:38:08.906169Z",
     "shell.execute_reply.started": "2022-08-31T09:38:08.903551Z"
    },
    "papermill": {},
    "tags": []
   },
   "outputs": [],
   "source": [
    "DASH_PORT = 8050"
   ]
  },
  {
   "cell_type": "markdown",
   "id": "40a98d82-6f97-4b91-9914-21b49c5a5baf",
   "metadata": {},
   "source": [
    "### Setup Google Sheets"
   ]
  },
  {
   "cell_type": "code",
   "execution_count": 3,
   "id": "133e30cc-4f50-47a1-b35a-828c70ea3ac5",
   "metadata": {
    "execution": {
     "iopub.execute_input": "2022-08-31T09:38:08.908448Z",
     "iopub.status.busy": "2022-08-31T09:38:08.908212Z",
     "iopub.status.idle": "2022-08-31T09:38:09.007531Z",
     "shell.execute_reply": "2022-08-31T09:38:09.006945Z",
     "shell.execute_reply.started": "2022-08-31T09:38:08.908417Z"
    },
    "tags": []
   },
   "outputs": [],
   "source": [
    "SPREADSHEET_URL = \"https://docs.google.com/spreadsheets/d/127PqDiuz5CXa8tTzhhgUl_ziMYThwZhfWOi86Bo-h-g/edit?usp=sharing\"\n",
    "SHEET_NAME = \"KPIS\"\n",
    "SHEET_NAME_2 = \"REVENUE\"\n",
    "SHEET_NAME_3 = \"OPERATIONAL_EXPENSES\"\n",
    "SHEET_NAME_4 = \"EARNING_BEFORE_INTREST_AND_TAXES\"\n",
    "SHEET_NAME_5 = \"INCOME_STATEMENT\""
   ]
  },
  {
   "cell_type": "markdown",
   "id": "72b56af7-367f-4ead-bf4d-913c7c1b9dd2",
   "metadata": {},
   "source": [
    "### Setup Dash App"
   ]
  },
  {
   "cell_type": "code",
   "execution_count": 4,
   "id": "2de3424a-71fe-4cdb-8d46-c5e7cc0ac2e5",
   "metadata": {
    "execution": {
     "iopub.execute_input": "2022-08-31T09:38:09.009220Z",
     "iopub.status.busy": "2022-08-31T09:38:09.008967Z",
     "iopub.status.idle": "2022-08-31T09:38:09.100067Z",
     "shell.execute_reply": "2022-08-31T09:38:09.099483Z",
     "shell.execute_reply.started": "2022-08-31T09:38:09.009189Z"
    },
    "tags": []
   },
   "outputs": [],
   "source": [
    "APP_TITLE = 'Financial Consolidation'\n",
    "APP_LOGO = \"https://images.plot.ly/logo/new-branding/plotly-logomark.png\""
   ]
  },
  {
   "cell_type": "code",
   "execution_count": 5,
   "id": "adabeba3-93fb-4c2f-bfa7-f05c2f9be1ed",
   "metadata": {
    "execution": {
     "iopub.execute_input": "2022-08-31T09:38:09.101158Z",
     "iopub.status.busy": "2022-08-31T09:38:09.100978Z",
     "iopub.status.idle": "2022-08-31T09:38:09.199409Z",
     "shell.execute_reply": "2022-08-31T09:38:09.198819Z",
     "shell.execute_reply.started": "2022-08-31T09:38:09.101138Z"
    },
    "tags": []
   },
   "outputs": [],
   "source": [
    "# Style used for card\n",
    "CARD_COL_STYLE1= {\n",
    "    \"className\": \"gx-5 g-2\",\n",
    "    \"xs\": 12,\n",
    "    \"sm\": 12,\n",
    "    \"md\": 12,\n",
    "    \"lg\": 2,\n",
    "    \"xl\": 2\n",
    "}\n",
    "\n",
    "CARD_COL_STYLE2= {\n",
    "    \"className\": \"gx-5 g-2\",\n",
    "    \"xs\": 12,\n",
    "    \"sm\": 12,\n",
    "    \"md\": 12,\n",
    "    \"lg\": 12,\n",
    "    \"xl\": 12\n",
    "}\n",
    "\n",
    "CARD_COL_STYLE3= {\n",
    "    \"className\": \"gx-5 g-2\",\n",
    "    \"xs\": 12,\n",
    "    \"sm\": 12,\n",
    "    \"md\": 12,\n",
    "    \"lg\": 12,\n",
    "    \"xl\": 12\n",
    "}"
   ]
  },
  {
   "cell_type": "code",
   "execution_count": 6,
   "id": "6cfe391c-fa23-4117-afd2-70bec74fdf27",
   "metadata": {
    "execution": {
     "iopub.execute_input": "2022-08-31T09:38:09.200687Z",
     "iopub.status.busy": "2022-08-31T09:38:09.200416Z",
     "iopub.status.idle": "2022-08-31T09:38:09.302395Z",
     "shell.execute_reply": "2022-08-31T09:38:09.301781Z",
     "shell.execute_reply.started": "2022-08-31T09:38:09.200644Z"
    },
    "tags": []
   },
   "outputs": [],
   "source": [
    "# Lists used for dropdowns intractiveness\n",
    "entities = [\n",
    "    \"Entity1\",\n",
    "    \"Entity2\"\n",
    "]\n",
    "\n",
    "scenarios = [\n",
    "    \"2022\",\n",
    "    \"2021\",\n",
    "    \"2020\"\n",
    "]"
   ]
  },
  {
   "cell_type": "code",
   "execution_count": 7,
   "id": "9f4c8932-caa7-4451-a63a-3d976d40d8b1",
   "metadata": {
    "execution": {
     "iopub.execute_input": "2022-08-31T09:38:09.303449Z",
     "iopub.status.busy": "2022-08-31T09:38:09.303266Z",
     "iopub.status.idle": "2022-08-31T09:38:09.399850Z",
     "shell.execute_reply": "2022-08-31T09:38:09.399196Z",
     "shell.execute_reply.started": "2022-08-31T09:38:09.303428Z"
    },
    "tags": []
   },
   "outputs": [],
   "source": [
    "# Color used for card\n",
    "CARD_COLOR = [\"#163b78\",\n",
    "             \"#4c718f\",\n",
    "             \"#62a0a6\",\n",
    "             \"#64abbd\",\n",
    "             \"#45a127\",\n",
    "             \"success\"]\n",
    "\n",
    "BACKGROUND_COLOR = \"#f8f9fa\""
   ]
  },
  {
   "cell_type": "markdown",
   "id": "18d44eb6-6cac-40d1-a72f-021592546ec2",
   "metadata": {
    "papermill": {},
    "tags": []
   },
   "source": [
    "## Model"
   ]
  },
  {
   "cell_type": "markdown",
   "id": "6f0989ea-ffff-47dd-bcf0-660a082d5a22",
   "metadata": {},
   "source": [
    "### Data"
   ]
  },
  {
   "cell_type": "markdown",
   "id": "947bec3f-73e3-41f3-a93f-fec282fafb46",
   "metadata": {
    "execution": {
     "iopub.execute_input": "2022-08-24T11:55:28.227266Z",
     "iopub.status.busy": "2022-08-24T11:55:28.227022Z",
     "iopub.status.idle": "2022-08-24T11:55:28.231038Z",
     "shell.execute_reply": "2022-08-24T11:55:28.230422Z",
     "shell.execute_reply.started": "2022-08-24T11:55:28.227230Z"
    },
    "tags": []
   },
   "source": [
    "#### Get Kpis data"
   ]
  },
  {
   "cell_type": "code",
   "execution_count": 8,
   "id": "afad79c9-caa1-473b-9446-ac46d50dbee7",
   "metadata": {
    "execution": {
     "iopub.execute_input": "2022-08-31T09:38:09.402038Z",
     "iopub.status.busy": "2022-08-31T09:38:09.401824Z",
     "iopub.status.idle": "2022-08-31T09:38:10.003881Z",
     "shell.execute_reply": "2022-08-31T09:38:10.003286Z",
     "shell.execute_reply.started": "2022-08-31T09:38:09.402011Z"
    },
    "tags": []
   },
   "outputs": [
    {
     "name": "stdout",
     "output_type": "stream",
     "text": [
      "Nb row: 36\n"
     ]
    },
    {
     "data": {
      "text/html": [
       "<div>\n",
       "<style scoped>\n",
       "    .dataframe tbody tr th:only-of-type {\n",
       "        vertical-align: middle;\n",
       "    }\n",
       "\n",
       "    .dataframe tbody tr th {\n",
       "        vertical-align: top;\n",
       "    }\n",
       "\n",
       "    .dataframe thead th {\n",
       "        text-align: right;\n",
       "    }\n",
       "</style>\n",
       "<table border=\"1\" class=\"dataframe\">\n",
       "  <thead>\n",
       "    <tr style=\"text-align: right;\">\n",
       "      <th></th>\n",
       "      <th>ENTITY</th>\n",
       "      <th>SCENARIO</th>\n",
       "      <th>LABEL</th>\n",
       "      <th>VALUE</th>\n",
       "      <th>UNITS</th>\n",
       "      <th>VALUE_D</th>\n",
       "    </tr>\n",
       "  </thead>\n",
       "  <tbody>\n",
       "    <tr>\n",
       "      <th>0</th>\n",
       "      <td>Entity1</td>\n",
       "      <td>2022</td>\n",
       "      <td>Revenue target</td>\n",
       "      <td>80</td>\n",
       "      <td>%</td>\n",
       "      <td>80 %</td>\n",
       "    </tr>\n",
       "    <tr>\n",
       "      <th>1</th>\n",
       "      <td>Entity1</td>\n",
       "      <td>2022</td>\n",
       "      <td>COGS ratio</td>\n",
       "      <td>20</td>\n",
       "      <td>%</td>\n",
       "      <td>20 %</td>\n",
       "    </tr>\n",
       "    <tr>\n",
       "      <th>2</th>\n",
       "      <td>Entity1</td>\n",
       "      <td>2022</td>\n",
       "      <td>Gross Profit Margin</td>\n",
       "      <td>84</td>\n",
       "      <td>%</td>\n",
       "      <td>84 %</td>\n",
       "    </tr>\n",
       "    <tr>\n",
       "      <th>3</th>\n",
       "      <td>Entity1</td>\n",
       "      <td>2022</td>\n",
       "      <td>Opex Ratio</td>\n",
       "      <td>74</td>\n",
       "      <td>%</td>\n",
       "      <td>74 %</td>\n",
       "    </tr>\n",
       "    <tr>\n",
       "      <th>4</th>\n",
       "      <td>Entity1</td>\n",
       "      <td>2022</td>\n",
       "      <td>Ebit Margin</td>\n",
       "      <td>18</td>\n",
       "      <td>%</td>\n",
       "      <td>18 %</td>\n",
       "    </tr>\n",
       "    <tr>\n",
       "      <th>5</th>\n",
       "      <td>Entity1</td>\n",
       "      <td>2022</td>\n",
       "      <td>Net Profit Margin</td>\n",
       "      <td>14</td>\n",
       "      <td>%</td>\n",
       "      <td>14 %</td>\n",
       "    </tr>\n",
       "  </tbody>\n",
       "</table>\n",
       "</div>"
      ],
      "text/plain": [
       "    ENTITY  SCENARIO                LABEL  VALUE UNITS VALUE_D\n",
       "0  Entity1      2022       Revenue target     80     %    80 %\n",
       "1  Entity1      2022           COGS ratio     20     %    20 %\n",
       "2  Entity1      2022  Gross Profit Margin     84     %    84 %\n",
       "3  Entity1      2022           Opex Ratio     74     %    74 %\n",
       "4  Entity1      2022          Ebit Margin     18     %    18 %\n",
       "5  Entity1      2022    Net Profit Margin     14     %    14 %"
      ]
     },
     "execution_count": 8,
     "metadata": {},
     "output_type": "execute_result"
    }
   ],
   "source": [
    "df_hkpis = gsheet.connect(SPREADSHEET_URL).get(SHEET_NAME)\n",
    "df_hkpis[\"VALUE_D\"] = df_hkpis[\"VALUE\"].astype(str) + \" \" + df_hkpis[\"UNITS\"].astype(str)\n",
    "print(\"Nb row:\", len(df_hkpis))\n",
    "df_hkpis.head(6)"
   ]
  },
  {
   "cell_type": "markdown",
   "id": "c6211f99-a60d-4398-bdfb-bab4493414e9",
   "metadata": {
    "execution": {
     "iopub.execute_input": "2022-08-25T06:39:27.318583Z",
     "iopub.status.busy": "2022-08-25T06:39:27.318176Z",
     "iopub.status.idle": "2022-08-25T06:39:27.322004Z",
     "shell.execute_reply": "2022-08-25T06:39:27.321003Z",
     "shell.execute_reply.started": "2022-08-25T06:39:27.318550Z"
    }
   },
   "source": [
    "#### Get Revenue data"
   ]
  },
  {
   "cell_type": "code",
   "execution_count": 9,
   "id": "8aecb3e8-eb9e-4de7-b77e-7a74c593f1b6",
   "metadata": {
    "execution": {
     "iopub.execute_input": "2022-08-31T09:38:10.005795Z",
     "iopub.status.busy": "2022-08-31T09:38:10.005358Z",
     "iopub.status.idle": "2022-08-31T09:38:10.330828Z",
     "shell.execute_reply": "2022-08-31T09:38:10.330264Z",
     "shell.execute_reply.started": "2022-08-31T09:38:10.005761Z"
    },
    "tags": []
   },
   "outputs": [
    {
     "name": "stdout",
     "output_type": "stream",
     "text": [
      "Nb row: 72\n"
     ]
    },
    {
     "data": {
      "text/html": [
       "<div>\n",
       "<style scoped>\n",
       "    .dataframe tbody tr th:only-of-type {\n",
       "        vertical-align: middle;\n",
       "    }\n",
       "\n",
       "    .dataframe tbody tr th {\n",
       "        vertical-align: top;\n",
       "    }\n",
       "\n",
       "    .dataframe thead th {\n",
       "        text-align: right;\n",
       "    }\n",
       "</style>\n",
       "<table border=\"1\" class=\"dataframe\">\n",
       "  <thead>\n",
       "    <tr style=\"text-align: right;\">\n",
       "      <th></th>\n",
       "      <th>ENTITY</th>\n",
       "      <th>SCENARIO</th>\n",
       "      <th>DATE</th>\n",
       "      <th>VALUE_BAR</th>\n",
       "      <th>VAlUE_LINE1</th>\n",
       "      <th>VAlUE_LINE2</th>\n",
       "    </tr>\n",
       "  </thead>\n",
       "  <tbody>\n",
       "    <tr>\n",
       "      <th>0</th>\n",
       "      <td>Entity1</td>\n",
       "      <td>2022</td>\n",
       "      <td>Jan 15</td>\n",
       "      <td>45</td>\n",
       "      <td>89</td>\n",
       "      <td>78</td>\n",
       "    </tr>\n",
       "    <tr>\n",
       "      <th>1</th>\n",
       "      <td>Entity1</td>\n",
       "      <td>2022</td>\n",
       "      <td>Fev 15</td>\n",
       "      <td>58</td>\n",
       "      <td>91</td>\n",
       "      <td>71</td>\n",
       "    </tr>\n",
       "    <tr>\n",
       "      <th>2</th>\n",
       "      <td>Entity1</td>\n",
       "      <td>2022</td>\n",
       "      <td>Mar 15</td>\n",
       "      <td>21</td>\n",
       "      <td>93</td>\n",
       "      <td>72</td>\n",
       "    </tr>\n",
       "    <tr>\n",
       "      <th>3</th>\n",
       "      <td>Entity1</td>\n",
       "      <td>2022</td>\n",
       "      <td>Apl 15</td>\n",
       "      <td>28</td>\n",
       "      <td>92</td>\n",
       "      <td>73</td>\n",
       "    </tr>\n",
       "    <tr>\n",
       "      <th>4</th>\n",
       "      <td>Entity1</td>\n",
       "      <td>2022</td>\n",
       "      <td>mai 15</td>\n",
       "      <td>24</td>\n",
       "      <td>90</td>\n",
       "      <td>70</td>\n",
       "    </tr>\n",
       "    <tr>\n",
       "      <th>5</th>\n",
       "      <td>Entity1</td>\n",
       "      <td>2022</td>\n",
       "      <td>Jun 15</td>\n",
       "      <td>51</td>\n",
       "      <td>88</td>\n",
       "      <td>78</td>\n",
       "    </tr>\n",
       "  </tbody>\n",
       "</table>\n",
       "</div>"
      ],
      "text/plain": [
       "    ENTITY  SCENARIO     DATE  VALUE_BAR  VAlUE_LINE1  VAlUE_LINE2\n",
       "0  Entity1      2022   Jan 15         45           89           78\n",
       "1  Entity1      2022   Fev 15         58           91           71\n",
       "2  Entity1      2022  Mar 15          21           93           72\n",
       "3  Entity1      2022   Apl 15         28           92           73\n",
       "4  Entity1      2022   mai 15         24           90           70\n",
       "5  Entity1      2022   Jun 15         51           88           78"
      ]
     },
     "execution_count": 9,
     "metadata": {},
     "output_type": "execute_result"
    }
   ],
   "source": [
    "df_revenue = gsheet.connect(SPREADSHEET_URL).get(SHEET_NAME_2)\n",
    "print(\"Nb row:\", len(df_revenue))\n",
    "df_revenue.head(6)"
   ]
  },
  {
   "cell_type": "markdown",
   "id": "156892bf-1f23-457d-b04f-c33014f6e0f0",
   "metadata": {},
   "source": [
    "#### Get Operational expenses data"
   ]
  },
  {
   "cell_type": "code",
   "execution_count": 10,
   "id": "ae601a44-b024-4c4e-806a-381c5689954d",
   "metadata": {
    "execution": {
     "iopub.execute_input": "2022-08-31T09:38:10.333807Z",
     "iopub.status.busy": "2022-08-31T09:38:10.333625Z",
     "iopub.status.idle": "2022-08-31T09:38:10.655462Z",
     "shell.execute_reply": "2022-08-31T09:38:10.654836Z",
     "shell.execute_reply.started": "2022-08-31T09:38:10.333786Z"
    },
    "tags": []
   },
   "outputs": [
    {
     "name": "stdout",
     "output_type": "stream",
     "text": [
      "Nb row: 288\n"
     ]
    },
    {
     "data": {
      "text/html": [
       "<div>\n",
       "<style scoped>\n",
       "    .dataframe tbody tr th:only-of-type {\n",
       "        vertical-align: middle;\n",
       "    }\n",
       "\n",
       "    .dataframe tbody tr th {\n",
       "        vertical-align: top;\n",
       "    }\n",
       "\n",
       "    .dataframe thead th {\n",
       "        text-align: right;\n",
       "    }\n",
       "</style>\n",
       "<table border=\"1\" class=\"dataframe\">\n",
       "  <thead>\n",
       "    <tr style=\"text-align: right;\">\n",
       "      <th></th>\n",
       "      <th>ENTITY</th>\n",
       "      <th>SCENARIO</th>\n",
       "      <th>DATE</th>\n",
       "      <th>VALUE</th>\n",
       "      <th>COUNT</th>\n",
       "    </tr>\n",
       "  </thead>\n",
       "  <tbody>\n",
       "    <tr>\n",
       "      <th>0</th>\n",
       "      <td>Entity1</td>\n",
       "      <td>2022</td>\n",
       "      <td>Jan 15</td>\n",
       "      <td>General</td>\n",
       "      <td>10</td>\n",
       "    </tr>\n",
       "    <tr>\n",
       "      <th>1</th>\n",
       "      <td>Entity1</td>\n",
       "      <td>2022</td>\n",
       "      <td>Jan 15</td>\n",
       "      <td>Marketing</td>\n",
       "      <td>32</td>\n",
       "    </tr>\n",
       "    <tr>\n",
       "      <th>2</th>\n",
       "      <td>Entity1</td>\n",
       "      <td>2022</td>\n",
       "      <td>Jan 15</td>\n",
       "      <td>Sales</td>\n",
       "      <td>20</td>\n",
       "    </tr>\n",
       "    <tr>\n",
       "      <th>3</th>\n",
       "      <td>Entity1</td>\n",
       "      <td>2022</td>\n",
       "      <td>Jan 15</td>\n",
       "      <td>IT</td>\n",
       "      <td>55</td>\n",
       "    </tr>\n",
       "    <tr>\n",
       "      <th>4</th>\n",
       "      <td>Entity1</td>\n",
       "      <td>2022</td>\n",
       "      <td>Feb 15</td>\n",
       "      <td>General</td>\n",
       "      <td>25</td>\n",
       "    </tr>\n",
       "    <tr>\n",
       "      <th>5</th>\n",
       "      <td>Entity1</td>\n",
       "      <td>2022</td>\n",
       "      <td>Feb 15</td>\n",
       "      <td>Marketing</td>\n",
       "      <td>65</td>\n",
       "    </tr>\n",
       "  </tbody>\n",
       "</table>\n",
       "</div>"
      ],
      "text/plain": [
       "    ENTITY  SCENARIO    DATE      VALUE  COUNT\n",
       "0  Entity1      2022  Jan 15    General     10\n",
       "1  Entity1      2022  Jan 15  Marketing     32\n",
       "2  Entity1      2022  Jan 15      Sales     20\n",
       "3  Entity1      2022  Jan 15         IT     55\n",
       "4  Entity1      2022  Feb 15    General     25\n",
       "5  Entity1      2022  Feb 15  Marketing     65"
      ]
     },
     "execution_count": 10,
     "metadata": {},
     "output_type": "execute_result"
    }
   ],
   "source": [
    "df_operational_expenses = gsheet.connect(SPREADSHEET_URL).get(SHEET_NAME_3)\n",
    "print(\"Nb row:\", len(df_operational_expenses ))\n",
    "df_operational_expenses.head(6)"
   ]
  },
  {
   "cell_type": "markdown",
   "id": "6db1cae6-8b6d-435f-b31f-c5c42e4fe0d6",
   "metadata": {},
   "source": [
    "#### Get Earning before intrest and taxes data"
   ]
  },
  {
   "cell_type": "code",
   "execution_count": 11,
   "id": "62c993cb-ab07-482a-a1fe-cd0a9480156a",
   "metadata": {
    "execution": {
     "iopub.execute_input": "2022-08-31T09:38:10.658354Z",
     "iopub.status.busy": "2022-08-31T09:38:10.658175Z",
     "iopub.status.idle": "2022-08-31T09:38:10.963838Z",
     "shell.execute_reply": "2022-08-31T09:38:10.963285Z",
     "shell.execute_reply.started": "2022-08-31T09:38:10.658333Z"
    },
    "tags": []
   },
   "outputs": [
    {
     "name": "stdout",
     "output_type": "stream",
     "text": [
      "Nb row: 72\n"
     ]
    },
    {
     "data": {
      "text/html": [
       "<div>\n",
       "<style scoped>\n",
       "    .dataframe tbody tr th:only-of-type {\n",
       "        vertical-align: middle;\n",
       "    }\n",
       "\n",
       "    .dataframe tbody tr th {\n",
       "        vertical-align: top;\n",
       "    }\n",
       "\n",
       "    .dataframe thead th {\n",
       "        text-align: right;\n",
       "    }\n",
       "</style>\n",
       "<table border=\"1\" class=\"dataframe\">\n",
       "  <thead>\n",
       "    <tr style=\"text-align: right;\">\n",
       "      <th></th>\n",
       "      <th>ENTITY</th>\n",
       "      <th>SCENARIO</th>\n",
       "      <th>DATE</th>\n",
       "      <th>VALUE1</th>\n",
       "      <th>VALUE2</th>\n",
       "    </tr>\n",
       "  </thead>\n",
       "  <tbody>\n",
       "    <tr>\n",
       "      <th>0</th>\n",
       "      <td>Entity1</td>\n",
       "      <td>2022</td>\n",
       "      <td>Jan 15</td>\n",
       "      <td>55</td>\n",
       "      <td>44</td>\n",
       "    </tr>\n",
       "    <tr>\n",
       "      <th>1</th>\n",
       "      <td>Entity1</td>\n",
       "      <td>2022</td>\n",
       "      <td>Fev 15</td>\n",
       "      <td>68</td>\n",
       "      <td>42</td>\n",
       "    </tr>\n",
       "    <tr>\n",
       "      <th>2</th>\n",
       "      <td>Entity1</td>\n",
       "      <td>2022</td>\n",
       "      <td>Mar 15</td>\n",
       "      <td>51</td>\n",
       "      <td>43</td>\n",
       "    </tr>\n",
       "    <tr>\n",
       "      <th>3</th>\n",
       "      <td>Entity1</td>\n",
       "      <td>2022</td>\n",
       "      <td>Apl 15</td>\n",
       "      <td>42</td>\n",
       "      <td>18</td>\n",
       "    </tr>\n",
       "    <tr>\n",
       "      <th>4</th>\n",
       "      <td>Entity1</td>\n",
       "      <td>2022</td>\n",
       "      <td>mai 15</td>\n",
       "      <td>85</td>\n",
       "      <td>16</td>\n",
       "    </tr>\n",
       "    <tr>\n",
       "      <th>5</th>\n",
       "      <td>Entity1</td>\n",
       "      <td>2022</td>\n",
       "      <td>Jun 15</td>\n",
       "      <td>25</td>\n",
       "      <td>42</td>\n",
       "    </tr>\n",
       "  </tbody>\n",
       "</table>\n",
       "</div>"
      ],
      "text/plain": [
       "    ENTITY  SCENARIO     DATE  VALUE1  VALUE2\n",
       "0  Entity1      2022   Jan 15      55      44\n",
       "1  Entity1      2022   Fev 15      68      42\n",
       "2  Entity1      2022  Mar 15       51      43\n",
       "3  Entity1      2022   Apl 15      42      18\n",
       "4  Entity1      2022   mai 15      85      16\n",
       "5  Entity1      2022   Jun 15      25      42"
      ]
     },
     "execution_count": 11,
     "metadata": {},
     "output_type": "execute_result"
    }
   ],
   "source": [
    "df_earningBIT = gsheet.connect(SPREADSHEET_URL).get(SHEET_NAME_4)\n",
    "print(\"Nb row:\", len(df_earningBIT))\n",
    "df_earningBIT.head(6)"
   ]
  },
  {
   "cell_type": "markdown",
   "id": "3dba8666-266e-4790-afae-c491bddf2917",
   "metadata": {},
   "source": [
    "#### Get Income Statement data"
   ]
  },
  {
   "cell_type": "code",
   "execution_count": 12,
   "id": "cd56d163-e99c-4cd0-b4e4-f13093792b6f",
   "metadata": {
    "execution": {
     "iopub.execute_input": "2022-08-31T09:38:10.966514Z",
     "iopub.status.busy": "2022-08-31T09:38:10.966341Z",
     "iopub.status.idle": "2022-08-31T09:38:11.359532Z",
     "shell.execute_reply": "2022-08-31T09:38:11.358992Z",
     "shell.execute_reply.started": "2022-08-31T09:38:10.966495Z"
    },
    "tags": []
   },
   "outputs": [
    {
     "name": "stdout",
     "output_type": "stream",
     "text": [
      "Nb row: 78\n"
     ]
    },
    {
     "data": {
      "text/html": [
       "<div>\n",
       "<style scoped>\n",
       "    .dataframe tbody tr th:only-of-type {\n",
       "        vertical-align: middle;\n",
       "    }\n",
       "\n",
       "    .dataframe tbody tr th {\n",
       "        vertical-align: top;\n",
       "    }\n",
       "\n",
       "    .dataframe thead th {\n",
       "        text-align: right;\n",
       "    }\n",
       "</style>\n",
       "<table border=\"1\" class=\"dataframe\">\n",
       "  <thead>\n",
       "    <tr style=\"text-align: right;\">\n",
       "      <th></th>\n",
       "      <th>ENTITY</th>\n",
       "      <th>SCENARIO</th>\n",
       "      <th>LABEL</th>\n",
       "      <th>VALUE</th>\n",
       "      <th>UNITS</th>\n",
       "      <th>VALUE_D</th>\n",
       "    </tr>\n",
       "  </thead>\n",
       "  <tbody>\n",
       "    <tr>\n",
       "      <th>0</th>\n",
       "      <td>Entity1</td>\n",
       "      <td>2022</td>\n",
       "      <td>Revenue</td>\n",
       "      <td>1,236,544</td>\n",
       "      <td>€</td>\n",
       "      <td>1,236,544 €</td>\n",
       "    </tr>\n",
       "    <tr>\n",
       "      <th>1</th>\n",
       "      <td>Entity1</td>\n",
       "      <td>2022</td>\n",
       "      <td>COGS</td>\n",
       "      <td>200,324</td>\n",
       "      <td>€</td>\n",
       "      <td>200,324 €</td>\n",
       "    </tr>\n",
       "    <tr>\n",
       "      <th>2</th>\n",
       "      <td>Entity1</td>\n",
       "      <td>2022</td>\n",
       "      <td>Gross Profit</td>\n",
       "      <td>210,324</td>\n",
       "      <td>€</td>\n",
       "      <td>210,324 €</td>\n",
       "    </tr>\n",
       "    <tr>\n",
       "      <th>3</th>\n",
       "      <td>Entity1</td>\n",
       "      <td>2022</td>\n",
       "      <td>Opex</td>\n",
       "      <td>60,324</td>\n",
       "      <td>€</td>\n",
       "      <td>60,324 €</td>\n",
       "    </tr>\n",
       "    <tr>\n",
       "      <th>4</th>\n",
       "      <td>Entity1</td>\n",
       "      <td>2022</td>\n",
       "      <td>Sales</td>\n",
       "      <td>660,324</td>\n",
       "      <td>€</td>\n",
       "      <td>660,324 €</td>\n",
       "    </tr>\n",
       "    <tr>\n",
       "      <th>5</th>\n",
       "      <td>Entity1</td>\n",
       "      <td>2022</td>\n",
       "      <td>Marketing</td>\n",
       "      <td>50,324</td>\n",
       "      <td>€</td>\n",
       "      <td>50,324 €</td>\n",
       "    </tr>\n",
       "  </tbody>\n",
       "</table>\n",
       "</div>"
      ],
      "text/plain": [
       "    ENTITY  SCENARIO         LABEL      VALUE UNITS      VALUE_D\n",
       "0  Entity1      2022       Revenue  1,236,544     €  1,236,544 €\n",
       "1  Entity1      2022          COGS    200,324     €    200,324 €\n",
       "2  Entity1      2022  Gross Profit    210,324     €    210,324 €\n",
       "3  Entity1      2022          Opex     60,324     €     60,324 €\n",
       "4  Entity1      2022         Sales    660,324     €    660,324 €\n",
       "5  Entity1      2022     Marketing     50,324     €     50,324 €"
      ]
     },
     "execution_count": 12,
     "metadata": {},
     "output_type": "execute_result"
    }
   ],
   "source": [
    "df_income_statement = gsheet.connect(SPREADSHEET_URL).get(SHEET_NAME_5)\n",
    "df_income_statement[\"VALUE_D\"] = df_income_statement[\"VALUE\"].astype(str) + \" \" + df_income_statement[\"UNITS\"].astype(str)\n",
    "print(\"Nb row:\", len(df_income_statement ))\n",
    "df_income_statement .head(6)"
   ]
  },
  {
   "cell_type": "markdown",
   "id": "9f7fa199-1e60-451e-ab1e-b8739eeec981",
   "metadata": {
    "papermill": {},
    "tags": []
   },
   "source": [
    "### Charts"
   ]
  },
  {
   "cell_type": "markdown",
   "id": "885bca99-383c-43ee-ad55-1edef4f4f913",
   "metadata": {},
   "source": [
    "#### Chart 1 : Revenue"
   ]
  },
  {
   "cell_type": "code",
   "execution_count": 13,
   "id": "f7565f6e-de55-457c-8315-95fae742afcc",
   "metadata": {
    "execution": {
     "iopub.execute_input": "2022-08-31T09:38:11.360787Z",
     "iopub.status.busy": "2022-08-31T09:38:11.360541Z",
     "iopub.status.idle": "2022-08-31T09:38:11.369793Z",
     "shell.execute_reply": "2022-08-31T09:38:11.369281Z",
     "shell.execute_reply.started": "2022-08-31T09:38:11.360756Z"
    },
    "tags": []
   },
   "outputs": [],
   "source": [
    "def create_barlinechart(df,\n",
    "                        label=\"DATE\",\n",
    "                        value_bar=\"VALUE_BAR\",\n",
    "                        value_scatter=\"VAlUE_LINE1\",\n",
    "                        value_scatter_dot=\"VAlUE_LINE2\",\n",
    "                        xaxis_title=None,\n",
    "                        yaxis_title_r=None,\n",
    "                        yaxis_title_l=None):    \n",
    "    fig = go.Figure()\n",
    "    # Create figure with secondary y-axis\n",
    "    fig = make_subplots(specs=[[{\"secondary_y\": True}]])\n",
    "\n",
    "    # Add traces\n",
    "    fig.add_trace(\n",
    "        go.Bar(\n",
    "            x=df[label],\n",
    "            y=df[value_bar],\n",
    "            name=\"Growth\",\n",
    "            marker=dict(color=\"#ADD8E6\"),\n",
    "        ),\n",
    "        secondary_y=False,\n",
    "    )\n",
    "    fig.add_trace(\n",
    "        go.Scatter(\n",
    "            x=df[label],\n",
    "            y=df[value_scatter],\n",
    "            mode=\"lines\",\n",
    "            name=\"Revenue\",\n",
    "            line=dict(color=\"royalblue\", width=2.5),\n",
    "        ),\n",
    "        secondary_y=False,\n",
    "    )\n",
    "    fig.add_trace(\n",
    "        go.Scatter(\n",
    "            x=df[label],\n",
    "            y=df[value_scatter_dot],\n",
    "            name=\"Target\",\n",
    "            line=dict(color='green', width=4, dash='dot'),\n",
    "        ),\n",
    "        secondary_y=True,\n",
    "    )\n",
    "\n",
    "    # Add figure title\n",
    "    fig.update_layout(\n",
    "        legend=dict(orientation=\"h\"),\n",
    "        plot_bgcolor=\"white\",\n",
    "#         height=300,\n",
    "        paper_bgcolor=\"white\",\n",
    "        xaxis=dict(showgrid=False),\n",
    "        yaxis=dict(showgrid=False),\n",
    "        margin=dict(l=20, r=20, t=20, b=20)\n",
    "    )\n",
    "\n",
    "    fig.show()\n",
    "    return fig\n",
    "\n",
    "\n",
    "# fig = create_barlinechart(df_revenue_test,\n",
    "#                           yaxis_title_r=None,\n",
    "#                           yaxis_title_l=None)"
   ]
  },
  {
   "cell_type": "markdown",
   "id": "80fe7916-09eb-4f97-a287-07a4ccf1124e",
   "metadata": {},
   "source": [
    "#### Chart 2 : Operational Expenses"
   ]
  },
  {
   "cell_type": "code",
   "execution_count": 14,
   "id": "e84b09e3-12d0-4905-a7cf-f5f6c96617fe",
   "metadata": {
    "execution": {
     "iopub.execute_input": "2022-08-31T09:38:11.371262Z",
     "iopub.status.busy": "2022-08-31T09:38:11.370744Z",
     "iopub.status.idle": "2022-08-31T09:38:11.461496Z",
     "shell.execute_reply": "2022-08-31T09:38:11.460862Z",
     "shell.execute_reply.started": "2022-08-31T09:38:11.371230Z"
    },
    "tags": []
   },
   "outputs": [],
   "source": [
    "def stacked_bar(df,\n",
    "                labels,\n",
    "                values):\n",
    "    fig2 = px.bar(df,\n",
    "                  x=\"DATE\",\n",
    "                  y=\"COUNT\",\n",
    "                  color=\"VALUE\",\n",
    "#                 width=520, height=400,\n",
    "                  color_discrete_map={\n",
    "                      'General': '#5ac73c',\n",
    "                      'Marketing': '#6dabc7',\n",
    "                      'Sales':'#307a37',\n",
    "                      'IT':'#30337a'\n",
    "                  }\n",
    "                 )\n",
    "    \n",
    "    fig2.update_traces(width=0.5)\n",
    "\n",
    "    fig2.update_layout(yaxis_tickformat = ',',\n",
    "                       legend_title=\"\",\n",
    "                       legend=dict(orientation=\"h\"),\n",
    "                       plot_bgcolor=\"white\",\n",
    "                       paper_bgcolor=\"white\",\n",
    "                       xaxis=dict(showgrid=False),\n",
    "                       yaxis=dict(showgrid=False),\n",
    "                       margin=dict(l=20, r=20, t=20, b=20)\n",
    "                      )    \n",
    "    \n",
    "    # Set the visibility OFF\n",
    "    fig2.update_layout(uniformtext_minsize=8, uniformtext_mode='hide', xaxis_title=None, yaxis_title=None)\n",
    "\n",
    "    return fig2\n",
    "\n",
    "# stacked_bar = stacked_bar(df2, None, None)"
   ]
  },
  {
   "cell_type": "markdown",
   "id": "1b275736-b32f-41de-8e2a-b04323600743",
   "metadata": {},
   "source": [
    "#### Chart 3 : Earnings before Intrest and Taxes"
   ]
  },
  {
   "cell_type": "code",
   "execution_count": 15,
   "id": "a535feee-2ff3-4d0d-a169-6cf7a9c1ce73",
   "metadata": {
    "execution": {
     "iopub.execute_input": "2022-08-31T09:38:11.462838Z",
     "iopub.status.busy": "2022-08-31T09:38:11.462591Z",
     "iopub.status.idle": "2022-08-31T09:38:11.559002Z",
     "shell.execute_reply": "2022-08-31T09:38:11.557593Z",
     "shell.execute_reply.started": "2022-08-31T09:38:11.462806Z"
    },
    "tags": []
   },
   "outputs": [],
   "source": [
    "def create_doublelinechart(df,\n",
    "                        label=\"DATE\",\n",
    "                        value1=\"VALUE1\",\n",
    "                        value2=\"VALUE2\",\n",
    "                        xaxis_title=\"Months\"):    \n",
    "    fig3 = go.Figure()\n",
    "    # Add traces\n",
    "\n",
    "    fig3.add_trace(\n",
    "        go.Scatter(\n",
    "            x=df[label],\n",
    "            y=df[value1],\n",
    "            mode=\"lines\",\n",
    "            name=\"EBIT Actual\",\n",
    "            line=dict(color=\"#0A66C2\", width=2.5),\n",
    "        ),\n",
    "    )\n",
    "    \n",
    "    fig3.add_trace(\n",
    "        go.Scatter(\n",
    "            x=df[label],\n",
    "            y=df[value2],\n",
    "            mode=\"lines\",\n",
    "            name=\"EBIT Target\",\n",
    "            line=dict(color='green', width=4, dash='dot'),\n",
    "        ),\n",
    "    )  \n",
    "\n",
    "    # Add figure title\n",
    "    fig3.update_layout(\n",
    "        legend=dict(orientation=\"h\"),\n",
    "        plot_bgcolor=\"white\",\n",
    "#         height=400,\n",
    "#         width=520,\n",
    "        paper_bgcolor=\"white\",\n",
    "        xaxis_title=xaxis_title,\n",
    "        xaxis_title_font=dict(family=\"Arial\", size=10, color=\"black\"),\n",
    "        xaxis=dict(showgrid=False),\n",
    "        yaxis=dict(showgrid=False),\n",
    "        margin=dict(l=20, r=20, t=20, b=20)\n",
    "    )\n",
    "    \n",
    "    # Set the visibility OFF\n",
    "    fig3.update_layout(uniformtext_minsize=8, uniformtext_mode='hide', xaxis_title=None, yaxis_title=None)\n",
    "    \n",
    "    fig3.show()\n",
    "    return fig3\n",
    "\n",
    "# doubleline = create_doublelinechart(df3)"
   ]
  },
  {
   "cell_type": "markdown",
   "id": "e88267e7-d9ea-406b-a90e-05fb19bace73",
   "metadata": {
    "execution": {
     "iopub.execute_input": "2022-08-07T12:36:43.651149Z",
     "iopub.status.busy": "2022-08-07T12:36:43.650909Z",
     "iopub.status.idle": "2022-08-07T12:36:43.655756Z",
     "shell.execute_reply": "2022-08-07T12:36:43.655122Z",
     "shell.execute_reply.started": "2022-08-07T12:36:43.651126Z"
    }
   },
   "source": [
    "### Design App"
   ]
  },
  {
   "cell_type": "markdown",
   "id": "b13b85a2-f1fb-40c7-a9ed-9e906573b27c",
   "metadata": {},
   "source": [
    "#### Create Dropdown"
   ]
  },
  {
   "cell_type": "code",
   "execution_count": 16,
   "id": "afe16f46-9f4c-4cd5-9bf0-68fe1e01a4bf",
   "metadata": {
    "execution": {
     "iopub.execute_input": "2022-08-31T09:38:11.567244Z",
     "iopub.status.busy": "2022-08-31T09:38:11.565322Z",
     "iopub.status.idle": "2022-08-31T09:38:11.653693Z",
     "shell.execute_reply": "2022-08-31T09:38:11.653019Z",
     "shell.execute_reply.started": "2022-08-31T09:38:11.567211Z"
    },
    "tags": []
   },
   "outputs": [],
   "source": [
    "# Entity's dropdown list\n",
    "dropdown_entity = dcc.Dropdown(\n",
    "    id='entity',\n",
    "    options=[{'label': i, 'value': i} for i in entities],\n",
    "    placeholder='Entity',\n",
    "    value=entities[0],\n",
    ")\n",
    "\n",
    "# Scenario's dropdown list\n",
    "dropdown_scenario = dcc.Dropdown(\n",
    "    id='scenario',\n",
    "    options=[{'label': i, 'value': i} for i in scenarios],\n",
    "    placeholder='Scenario',\n",
    "    value=scenarios[0],\n",
    ")"
   ]
  },
  {
   "cell_type": "markdown",
   "id": "0ac59088-5b71-434f-8240-759c8eff7f11",
   "metadata": {},
   "source": [
    "#### Create Navbar"
   ]
  },
  {
   "cell_type": "code",
   "execution_count": 17,
   "id": "acd3f11b-19b6-4bdd-84fa-39f406c7234b",
   "metadata": {
    "execution": {
     "iopub.execute_input": "2022-08-31T09:38:11.654971Z",
     "iopub.status.busy": "2022-08-31T09:38:11.654620Z",
     "iopub.status.idle": "2022-08-31T09:38:11.751877Z",
     "shell.execute_reply": "2022-08-31T09:38:11.751260Z",
     "shell.execute_reply.started": "2022-08-31T09:38:11.654948Z"
    },
    "tags": []
   },
   "outputs": [],
   "source": [
    "navbar = dbc.Navbar(\n",
    "    dbc.Container(\n",
    "        [\n",
    "            html.A(\n",
    "                # Use row and col to control vertical alignment of logo / brand\n",
    "                dbc.Row(\n",
    "                    [\n",
    "                        dbc.Col(html.Img(src=APP_LOGO, height=\"20\")),\n",
    "                        dbc.Col(dbc.NavbarBrand(APP_TITLE, className=\"ms-2\")),\n",
    "                    ],\n",
    "                    align=\"center\",\n",
    "                    className=\"g-0\",\n",
    "                ),\n",
    "            ),\n",
    "            \n",
    "            dbc.NavbarToggler(\n",
    "                id=\"navbar-toggler\",\n",
    "                n_clicks=0\n",
    "            ),\n",
    "            \n",
    "            dbc.Collapse(\n",
    "                dbc.Nav(\n",
    "                    [\n",
    "                        html.Div(\n",
    "                            [\n",
    "                                html.Div(className=\"w-100\"),\n",
    "                                html.Div(className=\"w-100\"),\n",
    "                                html.Div(dropdown_entity, className=\"w-100\"),\n",
    "                                html.Div(dropdown_scenario, className=\"w-100\")\n",
    "                            ],\n",
    "                            className=\"pt-1 pb-1 d-grid gap-2 d-md-flex w-100\")\n",
    "\n",
    "                    ],\n",
    "                    className=\"ms-auto w-100\",\n",
    "                    navbar=True,\n",
    "                ),\n",
    "                id=\"navbar-collapse\",\n",
    "                navbar=True,\n",
    "                is_open=False,\n",
    "            ),\n",
    "        ],\n",
    "    ),\n",
    "    color=\"#163b78\",\n",
    "    dark=True,\n",
    ")"
   ]
  },
  {
   "cell_type": "markdown",
   "id": "bd0853cd-b861-4d5a-929b-73a90bf29393",
   "metadata": {},
   "source": [
    "#### Create Card"
   ]
  },
  {
   "cell_type": "code",
   "execution_count": 18,
   "id": "35c581bd-041a-42c2-8296-a77db58f4063",
   "metadata": {
    "execution": {
     "iopub.execute_input": "2022-08-31T09:38:11.753439Z",
     "iopub.status.busy": "2022-08-31T09:38:11.753003Z",
     "iopub.status.idle": "2022-08-31T09:38:11.841849Z",
     "shell.execute_reply": "2022-08-31T09:38:11.841190Z",
     "shell.execute_reply.started": "2022-08-31T09:38:11.753406Z"
    },
    "tags": []
   },
   "outputs": [],
   "source": [
    "#Function to create card\n",
    "def create_card_col(uid, card_title, card_paragraph, card_color):\n",
    "    card = dbc.Col(\n",
    "        dbc.Card(\n",
    "            dbc.CardBody(\n",
    "                [\n",
    "#                     html.H5(card_title, className=\"card-title\"),\n",
    "                    html.P(card_title, className=\"card-title\", style={\"font-size\": \"20px\", \"padding-bottom\": \"5px\",'text-align':'center',\"font-weight\": \"bold\"}),\n",
    "                    html.P(card_paragraph, className=\"card-text\", style={\"font-size\": \"18px\",'text-align':'center'}, id=uid)\n",
    "                ]\n",
    "            ),\n",
    "            color= card_color,\n",
    "            inverse=True\n",
    "        ),\n",
    "        **CARD_COL_STYLE1\n",
    "    )\n",
    "    return card"
   ]
  },
  {
   "cell_type": "markdown",
   "id": "50020956-8049-4860-9c66-bea51c8e0b90",
   "metadata": {},
   "source": [
    "#### Create Chart Card"
   ]
  },
  {
   "cell_type": "code",
   "execution_count": 19,
   "id": "eddcb0ff-1a5c-445c-86d6-0e0eb52ce7b0",
   "metadata": {
    "execution": {
     "iopub.execute_input": "2022-08-31T09:38:11.844858Z",
     "iopub.status.busy": "2022-08-31T09:38:11.844645Z",
     "iopub.status.idle": "2022-08-31T09:38:11.935929Z",
     "shell.execute_reply": "2022-08-31T09:38:11.935319Z",
     "shell.execute_reply.started": "2022-08-31T09:38:11.844828Z"
    },
    "tags": []
   },
   "outputs": [],
   "source": [
    "def create_chart(title, chart_id, CARD_COL_STYLE):\n",
    "    card = dbc.Col(\n",
    "        dbc.Card(\n",
    "            dbc.CardBody(\n",
    "                [\n",
    "                    html.H5(\n",
    "                        title,\n",
    "                        style={\n",
    "                            \"padding-top\": \"20px\",\n",
    "                            \"margin-left\": \"20px\",\n",
    "                            \"font-weight\": \"bold\",\n",
    "                        }\n",
    "                    ),\n",
    "                    dcc.Graph(\n",
    "                        id=chart_id,\n",
    "                        config={\n",
    "                            'displayModeBar': True,\n",
    "                            \"staticPlot\": True\n",
    "                        }\n",
    "                    ),\n",
    "                ],\n",
    "            ),\n",
    "            color=CARD_COLOR,\n",
    "            inverse=False\n",
    "        ),\n",
    "        style={\n",
    "            \"background-color\": BACKGROUND_COLOR\n",
    "        },\n",
    "        **CARD_COL_STYLE\n",
    "    )\n",
    "    return card"
   ]
  },
  {
   "cell_type": "markdown",
   "id": "8d251c71-45a9-434b-a6d5-df7a5775875e",
   "metadata": {},
   "source": [
    "#### Create Income Statment Card"
   ]
  },
  {
   "cell_type": "code",
   "execution_count": 20,
   "id": "ed522233-ad83-46a9-b12c-73a04c21d45e",
   "metadata": {
    "execution": {
     "iopub.execute_input": "2022-08-31T09:38:11.937458Z",
     "iopub.status.busy": "2022-08-31T09:38:11.937206Z",
     "iopub.status.idle": "2022-08-31T09:38:12.039788Z",
     "shell.execute_reply": "2022-08-31T09:38:12.032967Z",
     "shell.execute_reply.started": "2022-08-31T09:38:11.937426Z"
    },
    "tags": []
   },
   "outputs": [],
   "source": [
    "income_statement_card = dbc.Col(\n",
    "        dbc.Card(\n",
    "            dbc.CardBody(\n",
    "                [\n",
    "                    html.H5(\n",
    "                        \"Income Statement\",\n",
    "                        className=\"card-title\"\n",
    "                    ),\n",
    "                    dbc.Row(\n",
    "                        [\n",
    "                            dbc.Col(\n",
    "                                    html.P(\n",
    "                                        \"Revenue\",\n",
    "                                        className=\"card-text\",\n",
    "                                        style={\"font-weight\": \"bold\"}\n",
    "                                    )\n",
    "                            ),\n",
    "                            dbc.Col(\n",
    "                                    html.P(\n",
    "                                        \"1,305,507 €\",\n",
    "                                        style={'text-align':'right'},\n",
    "                                        id=\"nb1\"\n",
    "                                    )\n",
    "                            ),\n",
    "                        ]\n",
    "                    ),\n",
    "                    \n",
    "                    dbc.Row(\n",
    "                        [\n",
    "                            dbc.Col(\n",
    "                                html.P(\n",
    "                                    \"COGS\",\n",
    "                                    className=\"card-text\",\n",
    "                                    style={\"font-weight\": \"bold\"}\n",
    "                                ) \n",
    "                            ),\n",
    "                            dbc.Col(\n",
    "                                    html.P(\n",
    "                                        \"208,453 €\",\n",
    "                                        style={'text-align':'right'},\n",
    "                                        id=\"nb2\"\n",
    "                                    )\n",
    "                            ),\n",
    "                        ]\n",
    "                    ),\n",
    "                    html.Hr(\n",
    "                        style={\n",
    "                            'borderWidth': \"0.5vh\",\n",
    "                            \"width\": \"100%\",\n",
    "                            \"color\": \"blak\"\n",
    "                        }\n",
    "                    ),\n",
    "                    dbc.Row(\n",
    "                        [\n",
    "                            dbc.Col(\n",
    "                                html.P(\n",
    "                                    \"GROSS PROFIT\",\n",
    "                                    className=\"card-text\",\n",
    "                                    style={\"font-weight\": \"bold\"}\n",
    "                                )\n",
    "                            ),\n",
    "                            dbc.Col(\n",
    "                                html.P(\n",
    "                                    \"1,097,054 €\",\n",
    "                                    style={'text-align':'right'},\n",
    "                                    id=\"nb3\"\n",
    "                                )\n",
    "                            )\n",
    "                        ]\n",
    "                    ),                              \n",
    "\n",
    "\n",
    "                    dbc.Row(\n",
    "                        [\n",
    "                            dbc.Col(\n",
    "                                html.P(\n",
    "                                    \"OPEX\",\n",
    "                                    className=\"card-text\",\n",
    "                                    style={\"font-weight\": \"bold\"}\n",
    "                                )\n",
    "                            ),\n",
    "                            dbc.Col(\n",
    "                                html.P(\n",
    "                                    \"815,306 €\",\n",
    "                                    style={'text-align':'right'},\n",
    "                                    id=\"nb4\"\n",
    "                                )\n",
    "                            )\n",
    "                        ]\n",
    "                    ),\n",
    "\n",
    "                    dbc.Row(\n",
    "                        [\n",
    "                            dbc.Col(\n",
    "                                html.P(\n",
    "                                    \"Sales\",\n",
    "                                    className=\"card-text\",\n",
    "                                    style={'margin-left':25}\n",
    "                                )\n",
    "                            ),\n",
    "                            dbc.Col(\n",
    "                                html.P(\n",
    "                                    \"279,886 €\",\n",
    "                                    style={'text-align':'right'},\n",
    "                                    id=\"nb5\"\n",
    "                                )\n",
    "                            )\n",
    "                        ]\n",
    "                    ),\n",
    "                    \n",
    "                    dbc.Row(\n",
    "                        [\n",
    "                            dbc.Col(\n",
    "                                html.P(\n",
    "                                    \"Marketing\",\n",
    "                                    className=\"card-text\",\n",
    "                                    style={'margin-left':25}\n",
    "                                )\n",
    "                            ),\n",
    "                            dbc.Col(\n",
    "                                html.P(\n",
    "                                    \"192,710 €\",\n",
    "                                    style={'text-align':'right'},\n",
    "                                    id=\"nb6\"\n",
    "                                )\n",
    "                            )\n",
    "                        ]\n",
    "                    ),\n",
    "\n",
    "                dbc.Row(\n",
    "                    [\n",
    "                        dbc.Col(\n",
    "                            html.P(\n",
    "                                \"IT\",\n",
    "                                className=\"card-text\",\n",
    "                                style={'margin-left':25}\n",
    "                            )\n",
    "                        ),\n",
    "                        dbc.Col(\n",
    "                            html.P(\n",
    "                                \"192,656 €\",\n",
    "                                style={'text-align':'right'},\n",
    "                                id=\"nb7\"\n",
    "                            )\n",
    "                        )\n",
    "                    ]\n",
    "                ),\n",
    "\n",
    "                dbc.Row(\n",
    "                    [\n",
    "                        dbc.Col(\n",
    "                            html.P(\n",
    "                                \"General & Admin \",\n",
    "                                className=\"card-text\",\n",
    "                                style={'margin-left':25}\n",
    "                            )\n",
    "                        ),\n",
    "                        dbc.Col(\n",
    "                            html.P(\n",
    "                                \"150,054 €\",\n",
    "                                style={'text-align':'right'},\n",
    "                                id=\"nb8\")\n",
    "                        )\n",
    "                    ]\n",
    "                ),\n",
    "\n",
    "                dbc.Row(\n",
    "                    [\n",
    "                        dbc.Col(\n",
    "                            html.P(\n",
    "                                \"OTHER INCOME\",\n",
    "                                className=\"card-text\",\n",
    "                                style={\"font-weight\": \"bold\"}\n",
    "                            )\n",
    "                        ),\n",
    "                        dbc.Col(\n",
    "                            html.P(\"2,130 €\",\n",
    "                                   style={'text-align':'right'},\n",
    "                                   id=\"nb9\"\n",
    "                                  )\n",
    "                        )\n",
    "                    ]\n",
    "                ),\n",
    "\n",
    "                dbc.Row(\n",
    "                    [\n",
    "                        dbc.Col(\n",
    "                            html.P(\n",
    "                                \"OTHER EXPENSES\",\n",
    "                                className=\"card-text\",\n",
    "                                style={\"font-weight\": \"bold\"}\n",
    "                            )\n",
    "                        ),\n",
    "                        dbc.Col(\n",
    "                            html.P(\n",
    "                                \"51,195 €\",\n",
    "                                style={'text-align':'right'},\n",
    "                                id=\"nb10\"\n",
    "                            )\n",
    "                        )\n",
    "                    ]\n",
    "                ),\n",
    "\n",
    "                html.Hr(\n",
    "                    style={\n",
    "                        'borderWidth': \"0.5vh\",\n",
    "                        \"width\": \"100%\",\n",
    "                        \"color\": \"blak\"\n",
    "                    }\n",
    "                ),\n",
    "\n",
    "                dbc.Row(\n",
    "                    [\n",
    "                        dbc.Col(\n",
    "                            html.P(\n",
    "                                \"EBIT\",\n",
    "                                className=\"card-text\",\n",
    "                                style={\"font-weight\": \"bold\"}\n",
    "                            )\n",
    "                        ),\n",
    "                        \n",
    "                        dbc.Col(\n",
    "                            html.P(\n",
    "                                \"232,684 €\",\n",
    "                                style={'text-align':'right'},\n",
    "                                id=\"nb11\"\n",
    "                            )\n",
    "                        ),\n",
    "                    ]\n",
    "                ),\n",
    "\n",
    "                dbc.Row(\n",
    "                    [\n",
    "                        dbc.Col(\n",
    "                            html.P(\n",
    "                                \"Intrest and Tax\",\n",
    "                                className=\"card-text\",\n",
    "                                style={'margin-left':25}\n",
    "                            )\n",
    "                        ),\n",
    "                        dbc.Col(\n",
    "                            html.P(\n",
    "                                \"1,305,507 €\",\n",
    "                                style={'text-align':'right'},\n",
    "                                id=\"nb12\"\n",
    "                            )\n",
    "                        )\n",
    "                    ]\n",
    "                ),\n",
    "\n",
    "                html.Hr(style={'borderWidth': \"0.5vh\",\n",
    "                               \"width\": \"100%\",\n",
    "                               \"color\": \"blak\"}\n",
    "                       ),\n",
    "\n",
    "                dbc.Row(\n",
    "                    [\n",
    "                        dbc.Col(\n",
    "                            html.P(\n",
    "                                \"NET PROFIT\",\n",
    "                                className=\"card-text\",\n",
    "                                style={\"font-weight\": \"bold\"}\n",
    "                            )\n",
    "                        ),\n",
    "                        dbc.Col(\n",
    "                            html.P(\n",
    "                                \"194,440 €\",\n",
    "                                style={'text-align':'right'},\n",
    "                                id=\"nb13\"\n",
    "                            )\n",
    "                        )\n",
    "                    ]\n",
    "                )            \n",
    "            ]\n",
    "        ),\n",
    "    ),className=\"gx-5 g-2\",\n",
    "    xs=12, sm=12, md=12, lg=4, xl=4,\n",
    ")"
   ]
  },
  {
   "cell_type": "markdown",
   "id": "a3b9b54e-50d5-43b8-9335-ead33e62fc88",
   "metadata": {
    "papermill": {},
    "tags": []
   },
   "source": [
    "#### Create app layout"
   ]
  },
  {
   "cell_type": "code",
   "execution_count": 21,
   "id": "187504dc-1f7f-4cf4-9242-37d199bf9de9",
   "metadata": {
    "execution": {
     "iopub.execute_input": "2022-08-31T09:38:12.041565Z",
     "iopub.status.busy": "2022-08-31T09:38:12.041107Z",
     "iopub.status.idle": "2022-08-31T09:38:12.133576Z",
     "shell.execute_reply": "2022-08-31T09:38:12.132963Z",
     "shell.execute_reply.started": "2022-08-31T09:38:12.041531Z"
    },
    "tags": []
   },
   "outputs": [],
   "source": [
    "app = dash.Dash(requests_pathname_prefix=f'/user/{os.environ.get(\"JUPYTERHUB_USER\")}/proxy/{DASH_PORT}/', \n",
    "                external_stylesheets=[dbc.themes.BOOTSTRAP],\n",
    "                meta_tags=[{'name': 'viewport','content': 'width=device-width, initial-scale=1.0'}]\n",
    "                )   \n",
    "#app = dash.Dash() if you are not in Naas\n",
    "\n",
    "app.layout = html.Div(\n",
    "[\n",
    "    #Navbar\n",
    "    navbar,\n",
    "\n",
    "    #HKPIS\n",
    "        dbc.Row([\n",
    "            create_card_col(\"card1\", \"Revenue target\", \"85%\",CARD_COLOR[0]),\n",
    "            create_card_col(\"card2\", \"COGS ratio\", \"78%\",CARD_COLOR[1]),\n",
    "            create_card_col(\"card3\", \"Gross Profit Margin\", \"55%\",CARD_COLOR[2]),\n",
    "            create_card_col(\"card4\", \"Opex Ratio\", \"85%\",CARD_COLOR[3]),\n",
    "            create_card_col(\"card5\", \"Ebit Margin\", \"52%\",CARD_COLOR[4]),\n",
    "            create_card_col(\"card6\", \"Net Profit Margin\", \"95%\",CARD_COLOR[5]),\n",
    "        ],\n",
    "            className=\"g-0 d-flex align-items-center\",\n",
    "            style={}\n",
    "        ),\n",
    "\n",
    "        #SPACE\n",
    "#         html.Br(),\n",
    "\n",
    "        #CHARTS\n",
    "        dbc.Row(\n",
    "            [\n",
    "                dbc.Col(\n",
    "                    [\n",
    "                        create_chart(\"Revenue\", \"fig1\", CARD_COL_STYLE2),\n",
    "                        dbc.Row(\n",
    "                            [\n",
    "                                dbc.Col(\n",
    "                                        create_chart(\"Operational Expenses\", \"fig2\", CARD_COL_STYLE3)\n",
    "                                ),\n",
    "                                dbc.Col(\n",
    "                                    [\n",
    "                                        create_chart(\"Earnings before Intrest and Taxes\", \"fig3\", CARD_COL_STYLE3)\n",
    "                                    ]\n",
    "                                )\n",
    "                            ]\n",
    "                        )\n",
    "                    ]\n",
    "                ),\n",
    "                # Income Statement Card \n",
    "                income_statement_card,\n",
    "            ]\n",
    "        )\n",
    "    ]\n",
    ")\n",
    "    \n",
    "# add callback for toggling the collapse on small screens\n",
    "@app.callback(\n",
    "    Output(\"navbar-collapse\", \"is_open\"),\n",
    "    [Input(\"navbar-toggler\", \"n_clicks\")],\n",
    "    [State(\"navbar-collapse\", \"is_open\")],   \n",
    ")\n",
    "\n",
    "def toggle_navbar_collapse(n, is_open):\n",
    "    if n:\n",
    "        return not is_open\n",
    "    return is_open\n",
    "\n",
    "# add callback to filter data in cards and charts\n",
    "@app.callback(\n",
    "    [\n",
    "        Output('card1', 'children'),\n",
    "        Output('card2', 'children'),\n",
    "        Output('card3', 'children'),\n",
    "        Output('card4', 'children'),\n",
    "        Output('card5', 'children'),\n",
    "        Output('card6', 'children'),\n",
    "        Output('fig1', 'figure'),\n",
    "        Output('fig2', 'figure'),\n",
    "        Output('fig3', 'figure'),\n",
    "        Output('nb1', 'children'),\n",
    "        Output('nb2', 'children'),\n",
    "        Output('nb3', 'children'),\n",
    "        Output('nb4', 'children'),\n",
    "        Output('nb5', 'children'),\n",
    "        Output('nb6', 'children'),\n",
    "        Output('nb7', 'children'),\n",
    "        Output('nb8', 'children'),\n",
    "        Output('nb9', 'children'),\n",
    "        Output('nb10', 'children'),\n",
    "        Output('nb11', 'children'),\n",
    "        Output('nb12', 'children'),\n",
    "        Output('nb13', 'children'),\n",
    "    ],\n",
    "    [\n",
    "        Input('entity', 'value'),\n",
    "        Input('scenario', 'value')\n",
    "    ]\n",
    "    \n",
    ")\n",
    "\n",
    "def multi_outputs(entity, scenario):\n",
    "    if entity is None and scenario is None:\n",
    "        raise PreventUpdate\n",
    "        \n",
    "    # Get HKPIs dataframe\n",
    "    dfhkpis = df_hkpis.copy()\n",
    "    dfhkpis = dfhkpis[(dfhkpis[\"ENTITY\"] == entity) &\n",
    "                      (dfhkpis[\"SCENARIO\"].astype(str) == scenario)].reset_index(drop=True)\n",
    "    \n",
    "    # Return card data\n",
    "    card1 = dfhkpis.loc[dfhkpis[\"LABEL\"] == \"Revenue target\", \"VALUE_D\"].values[0]\n",
    "    card2 = dfhkpis.loc[dfhkpis[\"LABEL\"] == \"COGS ratio\", \"VALUE_D\"].values[0]\n",
    "    card3 = dfhkpis.loc[dfhkpis[\"LABEL\"] == \"Gross Profit Margin\", \"VALUE_D\"].values[0]\n",
    "    card4 = dfhkpis.loc[dfhkpis[\"LABEL\"] == \"Opex Ratio\", \"VALUE_D\"].values[0]\n",
    "    card5 = dfhkpis.loc[dfhkpis[\"LABEL\"] == \"Ebit Margin\", \"VALUE_D\"].values[0]\n",
    "    card6 = dfhkpis.loc[dfhkpis[\"LABEL\"] == \"Net Profit Margin\", \"VALUE_D\"].values[0]\n",
    "    \n",
    "    \n",
    "    # Get Revenue graph dataframe\n",
    "    dfrevenue = df_revenue.copy()\n",
    "    dfrevenue = dfrevenue[(dfrevenue[\"ENTITY\"] == entity) &\n",
    "                      (dfrevenue[\"SCENARIO\"].astype(str) == scenario)].reset_index(drop=True)\n",
    "    \n",
    "    # Get Operational expenses graph dataframe\n",
    "    dfoperationalexpenses = df_operational_expenses.copy()\n",
    "    dfoperationalexpenses = dfoperationalexpenses[(dfoperationalexpenses[\"ENTITY\"] == entity) &\n",
    "                      (dfoperationalexpenses[\"SCENARIO\"].astype(str) == scenario)].reset_index(drop=True)\n",
    "    \n",
    "    # Get Earning before intrest and taxes graph dataframe\n",
    "    dfearningBIT = df_earningBIT.copy()\n",
    "    dfearningBIT = dfearningBIT [(dfearningBIT [\"ENTITY\"] == entity) &\n",
    "                      (dfearningBIT [\"SCENARIO\"].astype(str) == scenario)].reset_index(drop=True)\n",
    "    \n",
    "    # Create graphs\n",
    "    fig1= create_barlinechart(dfrevenue, yaxis_title_r=None, yaxis_title_l=None)\n",
    "    fig2= stacked_bar(dfoperationalexpenses, None, None)\n",
    "    fig3= create_doublelinechart(dfearningBIT)\n",
    "\n",
    "    \n",
    "        # Get Earning before intrest and taxes graph dataframe\n",
    "    dfincome_statement = df_income_statement.copy()\n",
    "    dfincome_statement = dfincome_statement[(dfincome_statement [\"ENTITY\"] == entity) &\n",
    "                      (dfincome_statement [\"SCENARIO\"].astype(str) == scenario)].reset_index(drop=True)\n",
    "    \n",
    "    \n",
    "    # Return values of income statement card data\n",
    "    nb1 = dfincome_statement.loc[dfincome_statement[\"LABEL\"] == \"Revenue\", \"VALUE_D\"].values[0]\n",
    "    nb2 = dfincome_statement.loc[dfincome_statement[\"LABEL\"] == \"COGS\", \"VALUE_D\"].values[0]\n",
    "    nb3 = dfincome_statement.loc[dfincome_statement[\"LABEL\"] == \"Gross Profit\", \"VALUE_D\"].values[0]\n",
    "    nb4 = dfincome_statement.loc[dfincome_statement[\"LABEL\"] == \"Opex\", \"VALUE_D\"].values[0]\n",
    "    nb5 = dfincome_statement.loc[dfincome_statement[\"LABEL\"] == \"Sales\", \"VALUE_D\"].values[0]\n",
    "    nb6 = dfincome_statement.loc[dfincome_statement[\"LABEL\"] == \"Marketing\", \"VALUE_D\"].values[0]\n",
    "    nb7 = dfincome_statement.loc[dfincome_statement[\"LABEL\"] == \"IT\", \"VALUE_D\"].values[0]\n",
    "    nb8 = dfincome_statement.loc[dfincome_statement[\"LABEL\"] == \"General & Admin\", \"VALUE_D\"].values[0]\n",
    "    nb9 = dfincome_statement.loc[dfincome_statement[\"LABEL\"] == \"OTHER INCOME\", \"VALUE_D\"].values[0]\n",
    "    nb10 = dfincome_statement.loc[dfincome_statement[\"LABEL\"] == \"OTHER EXPENSES\", \"VALUE_D\"].values[0]\n",
    "    nb11 = dfincome_statement.loc[dfincome_statement[\"LABEL\"] == \"EBIT\", \"VALUE_D\"].values[0]\n",
    "    nb12 = dfincome_statement.loc[dfincome_statement[\"LABEL\"] == \"Intrest and Tax\", \"VALUE_D\"].values[0]\n",
    "    nb13 = dfincome_statement.loc[dfincome_statement[\"LABEL\"] == \"NET PROFIT\", \"VALUE_D\"].values[0]\n",
    "    print(nb1)\n",
    "    \n",
    "    return card1, card2, card3, card4, card5, card6, fig1, fig2, fig3, nb1, nb2, nb3, nb4, nb5, nb6, nb7, nb8, nb9, nb10, nb11, nb12, nb13"
   ]
  },
  {
   "cell_type": "markdown",
   "id": "59e4f1f8-38d1-4b3b-b93c-c010ef9011b0",
   "metadata": {
    "execution": {
     "iopub.execute_input": "2021-07-02T23:32:10.789097Z",
     "iopub.status.busy": "2021-07-02T23:32:10.788829Z",
     "iopub.status.idle": "2021-07-02T23:32:10.796900Z",
     "shell.execute_reply": "2021-07-02T23:32:10.796358Z",
     "shell.execute_reply.started": "2021-07-02T23:32:10.789033Z"
    },
    "papermill": {},
    "tags": []
   },
   "source": [
    "## Output"
   ]
  },
  {
   "cell_type": "markdown",
   "id": "a828ebca-0b33-4d16-829c-e45044f9659d",
   "metadata": {
    "papermill": {},
    "tags": []
   },
   "source": [
    "### Generate URL and show logs"
   ]
  },
  {
   "cell_type": "code",
   "execution_count": null,
   "id": "f054b1db-a3eb-4a2b-9ca2-881d7f1dc242",
   "metadata": {
    "execution": {
     "iopub.execute_input": "2022-08-31T09:38:12.134860Z",
     "iopub.status.busy": "2022-08-31T09:38:12.134613Z"
    },
    "papermill": {},
    "tags": []
   },
   "outputs": [
    {
     "name": "stdout",
     "output_type": "stream",
     "text": [
      "Dash is running on https://app.naas.ai/user/si.merieme@gmail.com/proxy/8050/\n",
      "\n",
      "\u001b[31m\u001b[1mWARNING: This is a development server. Do not use it in a production deployment. Use a production WSGI server instead.\u001b[0m\n",
      " * Serving Flask app '__main__'\n",
      " * Debug mode: off\n"
     ]
    },
    {
     "name": "stderr",
     "output_type": "stream",
     "text": [
      "WARNING: This is a development server. Do not use it in a production deployment. Use a production WSGI server instead.\n",
      " * Running on http://127.0.0.1:8050\n",
      "Press CTRL+C to quit\n"
     ]
    }
   ],
   "source": [
    "if __name__ == '__main__':\n",
    "    app.run_server(proxy=f\"http://127.0.0.1:{DASH_PORT}::https://app.naas.ai\")"
   ]
  },
  {
   "cell_type": "code",
   "execution_count": null,
   "id": "92a32f6a-73ca-498d-b2bc-5fb5b626a1f7",
   "metadata": {},
   "outputs": [],
   "source": []
  },
  {
   "cell_type": "code",
   "execution_count": null,
   "id": "ece764e3-0174-435d-ba3c-23889ddf5af1",
   "metadata": {},
   "outputs": [],
   "source": []
  },
  {
   "cell_type": "code",
   "execution_count": null,
   "id": "f1f9fab3-9484-4f3d-b3fe-143840a4d5b3",
   "metadata": {},
   "outputs": [],
   "source": []
  }
 ],
 "metadata": {
  "kernelspec": {
   "display_name": "Python 3",
   "language": "python",
   "name": "python3"
  },
  "language_info": {
   "codemirror_mode": {
    "name": "ipython",
    "version": 3
   },
   "file_extension": ".py",
   "mimetype": "text/x-python",
   "name": "python",
   "nbconvert_exporter": "python",
   "pygments_lexer": "ipython3",
   "version": "3.9.6"
  }
 },
 "nbformat": 4,
 "nbformat_minor": 5
}
