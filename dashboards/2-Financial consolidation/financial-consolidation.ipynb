{
 "cells": [
  {
   "cell_type": "markdown",
   "id": "a481eba6-3b09-4b9f-8df2-509c5c25530e",
   "metadata": {
    "execution": {
     "iopub.execute_input": "2021-02-23T14:22:16.610471Z",
     "iopub.status.busy": "2021-02-23T14:22:16.610129Z",
     "iopub.status.idle": "2021-02-23T14:22:16.627784Z",
     "shell.execute_reply": "2021-02-23T14:22:16.626866Z",
     "shell.execute_reply.started": "2021-02-23T14:22:16.610384Z"
    },
    "papermill": {},
    "tags": []
   },
   "source": [
    "<img width=\"10%\" alt=\"Naas\" src=\"https://landen.imgix.net/jtci2pxwjczr/assets/5ice39g4.png?w=160\"/>"
   ]
  },
  {
   "cell_type": "markdown",
   "id": "0a8ee32d-e46f-474d-b83a-a52196d00a59",
   "metadata": {
    "papermill": {},
    "tags": []
   },
   "source": [
    "# Financial Consolidation Dashboard "
   ]
  },
  {
   "cell_type": "markdown",
   "id": "cf10c740-2a3d-453c-9d34-e704ceb61eeb",
   "metadata": {
    "papermill": {},
    "tags": []
   },
   "source": [
    "**Tags:** #dashboard #plotly #dash #naas #asset #automation #ai #analytics"
   ]
  },
  {
   "cell_type": "markdown",
   "id": "c41b7bf9-6a2d-4b14-947f-8cc81f7220a0",
   "metadata": {
    "papermill": {},
    "tags": []
   },
   "source": [
    "**Author:** [Meriem Si]"
   ]
  },
  {
   "cell_type": "markdown",
   "id": "961d8daf-0ca7-4a3e-8a3e-d0aadc9f1201",
   "metadata": {
    "papermill": {},
    "tags": []
   },
   "source": [
    "This notebook enables you to generate a dashboard to follow the financial consolidation."
   ]
  },
  {
   "cell_type": "markdown",
   "id": "69743f46-0dc5-45f3-bdc6-c570819d572a",
   "metadata": {
    "papermill": {},
    "tags": []
   },
   "source": [
    "## Input"
   ]
  },
  {
   "cell_type": "markdown",
   "id": "03fd0969-72e9-42e0-8ae5-464dc8d21aec",
   "metadata": {
    "papermill": {},
    "tags": []
   },
   "source": [
    "### Install packages"
   ]
  },
  {
   "cell_type": "code",
   "execution_count": null,
   "id": "8d37e4b7-0359-496a-b48e-95d8f678f493",
   "metadata": {
    "papermill": {},
    "tags": []
   },
   "outputs": [],
   "source": [
    "!pip install dash   \n",
    "!pip install dash-html-components                                         \n",
    "!pip install dash-core-components                                     \n",
    "!pip install plotly"
   ]
  },
  {
   "cell_type": "markdown",
   "id": "08af25b3-ac3c-49c9-ae37-2a72481d7acf",
   "metadata": {
    "papermill": {},
    "tags": []
   },
   "source": [
    "### Import library"
   ]
  },
  {
   "cell_type": "code",
   "execution_count": null,
   "id": "3c02e335-eecb-476d-8df9-0c329f14c14a",
   "metadata": {
    "papermill": {},
    "tags": []
   },
   "outputs": [],
   "source": [
    "import dash\n",
    "from dash import html, dcc, Input, Output, State\n",
    "import dash_bootstrap_components as dbc\n",
    "import plotly.graph_objects as go\n",
    "import plotly.express as px\n",
    "import os\n",
    "import pandas as pd\n",
    "import naas_drivers\n",
    "from dash_bootstrap_components._components.Container import Container\n",
    "from plotly.subplots import make_subplots"
   ]
  },
  {
   "cell_type": "markdown",
   "id": "adc77f77-a2b0-46e1-80d4-75f06999848a",
   "metadata": {
    "papermill": {},
    "tags": []
   },
   "source": [
    "### Defining the port of the dashboard"
   ]
  },
  {
   "cell_type": "code",
   "execution_count": null,
   "id": "39611a16-215c-4190-882e-cffec8bb47ce",
   "metadata": {
    "papermill": {},
    "tags": []
   },
   "outputs": [],
   "source": [
    "DASH_PORT = 8050"
   ]
  },
  {
   "cell_type": "markdown",
   "id": "40a98d82-6f97-4b91-9914-21b49c5a5baf",
   "metadata": {},
   "source": [
    "### Input data from Gsheets"
   ]
  },
  {
   "cell_type": "code",
   "execution_count": null,
   "id": "133e30cc-4f50-47a1-b35a-828c70ea3ac5",
   "metadata": {
    "tags": []
   },
   "outputs": [],
   "source": [
    "spreadsheet_id = \"1yi0qzuUEnE9wMWWQFIVq5Uou8ChxFqF0MMqFM5FtVIM\""
   ]
  },
  {
   "cell_type": "markdown",
   "id": "18d44eb6-6cac-40d1-a72f-021592546ec2",
   "metadata": {
    "papermill": {},
    "tags": []
   },
   "source": [
    "## Model"
   ]
  },
  {
   "cell_type": "markdown",
   "id": "149b5a4c-00c4-4eb0-8d71-d4fc0d269863",
   "metadata": {},
   "source": [
    "### Data"
   ]
  },
  {
   "cell_type": "markdown",
   "id": "c5cfb870-27f9-4ff6-9c04-86d03e665219",
   "metadata": {},
   "source": [
    "#### Highlighted KPIs"
   ]
  },
  {
   "cell_type": "code",
   "execution_count": null,
   "id": "13362b56-def2-4b58-8768-b0651467f1dc",
   "metadata": {
    "tags": []
   },
   "outputs": [],
   "source": [
    "# Dataframe is returned\n",
    "df_hkpis = naas_drivers.gsheet.connect(spreadsheet_id).get(\n",
    "    sheet_name=\"KPIS\"\n",
    ")"
   ]
  },
  {
   "cell_type": "markdown",
   "id": "f987f5de-fb55-40e8-8c48-20fd33cccc6e",
   "metadata": {
    "papermill": {},
    "tags": []
   },
   "source": [
    "#### Gross Profit Margin"
   ]
  },
  {
   "cell_type": "code",
   "execution_count": null,
   "id": "bac82491-4f6c-49f9-bb85-369a99b82938",
   "metadata": {
    "papermill": {},
    "tags": []
   },
   "outputs": [],
   "source": [
    "def gross_profit_margin():\n",
    "\n",
    "    return fig  \n"
   ]
  },
  {
   "cell_type": "markdown",
   "id": "b5fbe2d9-aeae-4c23-88d2-b92ac55d5a95",
   "metadata": {
    "papermill": {},
    "tags": []
   },
   "source": [
    "#### Opex Ratio"
   ]
  },
  {
   "cell_type": "code",
   "execution_count": null,
   "id": "f5f4eee6-bdeb-4579-a398-bf2be1b8bbef",
   "metadata": {
    "papermill": {},
    "tags": []
   },
   "outputs": [],
   "source": [
    "def opex_ratio():\n",
    "\n",
    "    return fig  \n"
   ]
  },
  {
   "cell_type": "markdown",
   "id": "4a26197d-a62c-47d2-962b-261b9887ed35",
   "metadata": {
    "papermill": {},
    "tags": []
   },
   "source": [
    "#### Ebit Margin"
   ]
  },
  {
   "cell_type": "code",
   "execution_count": null,
   "id": "194c8948-6a1f-4a3b-8c4e-7a1ce14431d3",
   "metadata": {
    "papermill": {},
    "tags": []
   },
   "outputs": [],
   "source": [
    "def ebit_margin():\n",
    "\n",
    "    return fig  \n"
   ]
  },
  {
   "cell_type": "markdown",
   "id": "70678e86-88f6-4bc0-8332-91e8c1805a3c",
   "metadata": {
    "papermill": {},
    "tags": []
   },
   "source": [
    "#### Net Profit Margin"
   ]
  },
  {
   "cell_type": "code",
   "execution_count": null,
   "id": "8da7e5d5-1b30-4aeb-8ae7-43ca14c842ad",
   "metadata": {
    "papermill": {},
    "tags": []
   },
   "outputs": [],
   "source": [
    "def net_profit_margin():\n",
    "\n",
    "    return fig  \n"
   ]
  },
  {
   "cell_type": "markdown",
   "id": "3af07f70-7ab6-4b8d-8ed9-a38e571596fd",
   "metadata": {
    "papermill": {},
    "tags": []
   },
   "source": [
    "#### Income Statement"
   ]
  },
  {
   "cell_type": "code",
   "execution_count": null,
   "id": "dbbb57db-5912-4804-9c6e-b892fe9af492",
   "metadata": {
    "papermill": {},
    "tags": []
   },
   "outputs": [],
   "source": [
    "def income_statement():\n",
    "\n",
    "    return fig  \n"
   ]
  },
  {
   "cell_type": "markdown",
   "id": "9f7fa199-1e60-451e-ab1e-b8739eeec981",
   "metadata": {
    "papermill": {},
    "tags": []
   },
   "source": [
    "#### Revenue"
   ]
  },
  {
   "cell_type": "code",
   "execution_count": null,
   "id": "f7565f6e-de55-457c-8315-95fae742afcc",
   "metadata": {
    "tags": []
   },
   "outputs": [],
   "source": [
    "data = [\n",
    "    {\"DATE\": \"Jan 15\", \"VALUE\": 40, \"VARV\": 5},\n",
    "    {\"DATE\": \"Feb 15\", \"VALUE\": 40, \"VARV\": 5.2},\n",
    "    {\"DATE\": \"Mar 15\", \"VALUE\": 45, \"VARV\": 5.42},\n",
    "    {\"DATE\": \"Apr 15\", \"VALUE\": 43, \"VARV\": 5.9},\n",
    "    {\"DATE\": \"May 15\", \"VALUE\": 42, \"VARV\": 6},\n",
    "    {\"DATE\": \"Jun 15\", \"VALUE\": 46, \"VARV\": 6.2},\n",
    "    {\"DATE\": \"Jul 15\", \"VALUE\": 45, \"VARV\": 6.3},\n",
    "    {\"DATE\": \"Aug 15\", \"VALUE\": 41, \"VARV\": 6.6},\n",
    "    {\"DATE\": \"Sep 15\", \"VALUE\": 42, \"VARV\": 6.8},\n",
    "    {\"DATE\": \"Oct 15\", \"VALUE\": 43, \"VARV\": 7},\n",
    "    {\"DATE\": \"Nov 15\", \"VALUE\": 44, \"VARV\": 7.2},\n",
    "    {\"DATE\": \"Dec 15\", \"VALUE\": 45, \"VARV\": 7.5},\n",
    "]\n",
    "df = pd.DataFrame(data)\n",
    "df\n",
    "\n",
    "def create_barlinechart(df,\n",
    "                        label=\"DATE\",\n",
    "                        value=\"VARV\",\n",
    "                        varv=\"VALUE\",\n",
    "                        xaxis_title=None,\n",
    "                        yaxis_title_r=None,\n",
    "                        yaxis_title_l=None):    \n",
    "    # Create figure with secondary y-axis\n",
    "    fig = make_subplots(specs=[[{\"secondary_y\": True}]])\n",
    "\n",
    "    # Add traces\n",
    "    fig.add_trace(\n",
    "        go.Bar(\n",
    "            x=df[label],\n",
    "            y=df[value],\n",
    "            name=\"Growth\",\n",
    "            marker=dict(color=\"#ADD8E6\"),\n",
    "        ),\n",
    "        secondary_y=False,\n",
    "    )\n",
    "    fig.add_trace(\n",
    "        go.Scatter(\n",
    "            x=df[label],\n",
    "            y=[86,87,88,89,90,91,92,93,94,95,96,97],\n",
    "            mode=\"lines\",\n",
    "            name=\"Revenue\",\n",
    "            line=dict(color=\"royalblue\", width=2.5),\n",
    "        ),\n",
    "        secondary_y=False,\n",
    "    )\n",
    "    fig.add_trace(\n",
    "        go.Scatter(\n",
    "            x=df[label],\n",
    "            y=[78,79,80,81,82,83,84,85,86,87,88,89],\n",
    "            name=\"Target\",\n",
    "            line=dict(color='green', width=4, dash='dot'),\n",
    "        ),\n",
    "        secondary_y=False,\n",
    "    )\n",
    "\n",
    "    # Add figure title\n",
    "    fig.update_layout(\n",
    "        title=\"Revenue\",\n",
    "        title_font=dict(family=\"Arial\", size=18, color=\"black\"),\n",
    "        legend=None,\n",
    "        plot_bgcolor=\"#ebebeb\",\n",
    "        height=300,\n",
    "        paper_bgcolor=\"white\",\n",
    "        xaxis_title=xaxis_title,\n",
    "        xaxis_title_font=dict(family=\"Arial\", size=10, color=\"black\"),\n",
    "    )\n",
    "\n",
    "    # Set y-axes titles\n",
    "    fig.update_yaxes(\n",
    "        title_text=yaxis_title_r,\n",
    "        title_font=dict(family=\"Arial\", size=10, color=\"black\"),\n",
    "        secondary_y=False\n",
    "    )\n",
    "    fig.update_yaxes(\n",
    "        title_text=yaxis_title_l,\n",
    "        title_font=dict(family=\"Arial\", size=10, color=\"black\"),\n",
    "        secondary_y=True\n",
    "    )\n",
    "    fig.update_traces(showlegend=False)\n",
    "    fig.show()\n",
    "    return fig\n",
    "\n",
    "fig = create_barlinechart(df,\n",
    "                          yaxis_title_r=None,\n",
    "                          yaxis_title_l=None)"
   ]
  },
  {
   "cell_type": "markdown",
   "id": "80fe7916-09eb-4f97-a287-07a4ccf1124e",
   "metadata": {},
   "source": [
    "### Operational Expenses & Earnings before Intrest and Taxes"
   ]
  },
  {
   "cell_type": "markdown",
   "id": "8af04119-bc84-4e11-81ee-3dd429e64632",
   "metadata": {
    "execution": {
     "iopub.execute_input": "2022-08-10T08:28:33.565735Z",
     "iopub.status.busy": "2022-08-10T08:28:33.565500Z",
     "iopub.status.idle": "2022-08-10T08:28:33.621601Z",
     "shell.execute_reply": "2022-08-10T08:28:33.620109Z",
     "shell.execute_reply.started": "2022-08-10T08:28:33.565712Z"
    },
    "tags": []
   },
   "source": [
    "data2 = [\n",
    "    {\"DATE\": \"Jan 15\", \"VALUE\": 'General', \"COUNT\": 5},\n",
    "    {\"DATE\": \"Jan 15\", \"VALUE\": 'Marketing', \"COUNT\": 5},\n",
    "    {\"DATE\": \"Jan 15\", \"VALUE\": 'Sales', \"COUNT\": 5},\n",
    "    {\"DATE\": \"Jan 15\", \"VALUE\": 'IT', \"COUNT\": 5},\n",
    "    {\"DATE\": \"Feb 15\", \"VALUE\": 'General', \"COUNT\": 5},\n",
    "    {\"DATE\": \"Feb 15\", \"VALUE\": 'Marketing', \"COUNT\": 5},\n",
    "    {\"DATE\": \"Feb 15\", \"VALUE\": 'Sales', \"COUNT\": 5},\n",
    "    {\"DATE\": \"Feb 15\", \"VALUE\": 'IT', \"COUNT\": 5},\n",
    "    {\"DATE\": \"Mar 15\", \"VALUE\": 'General', \"COUNT\": 5},\n",
    "    {\"DATE\": \"Mar 15\", \"VALUE\": 'Marketing', \"COUNT\": 5},\n",
    "    {\"DATE\": \"Mar 15\", \"VALUE\": 'Sales', \"COUNT\": 5},\n",
    "    {\"DATE\": \"Mar 15\", \"VALUE\": 'IT', \"COUNT\": 5},\n",
    "    {\"DATE\": \"Apr 15\", \"VALUE\": 'General', \"COUNT\": 5},\n",
    "    {\"DATE\": \"Apr 15\", \"VALUE\": 'Marketing', \"COUNT\": 5},\n",
    "    {\"DATE\": \"Apr 15\", \"VALUE\": 'Sales', \"COUNT\": 5},\n",
    "    {\"DATE\": \"Apr 15\", \"VALUE\": 'IT', \"COUNT\": 5},\n",
    "    {\"DATE\": \"May 15\", \"VALUE\": 'General', \"COUNT\": 5},\n",
    "    {\"DATE\": \"May 15\", \"VALUE\": 'Marketing', \"COUNT\": 5},\n",
    "    {\"DATE\": \"May 15\", \"VALUE\": 'Sales', \"COUNT\": 5},\n",
    "    {\"DATE\": \"May 15\", \"VALUE\": 'IT', \"COUNT\": 5},\n",
    "    {\"DATE\": \"Jun 15\", \"VALUE\": 'General', \"COUNT\": 5},\n",
    "    {\"DATE\": \"Jun 15\", \"VALUE\": 'Marketing', \"COUNT\": 5},\n",
    "    {\"DATE\": \"Jun 15\", \"VALUE\": 'Sales', \"COUNT\": 5},\n",
    "    {\"DATE\": \"Jun 15\", \"VALUE\": 'IT', \"COUNT\": 5},\n",
    "    {\"DATE\": \"Jul 15\", \"VALUE\": 'General', \"COUNT\": 5},\n",
    "    {\"DATE\": \"Jul 15\", \"VALUE\": 'Marketing', \"COUNT\": 5},\n",
    "    {\"DATE\": \"Jul 15\", \"VALUE\": 'Sales', \"COUNT\": 5},\n",
    "    {\"DATE\": \"Jul 15\", \"VALUE\": 'IT', \"COUNT\": 5},\n",
    "    {\"DATE\": \"Aug 15\", \"VALUE\": 'General', \"COUNT\": 5},\n",
    "    {\"DATE\": \"Aug 15\", \"VALUE\": 'Marketing', \"COUNT\": 5},\n",
    "    {\"DATE\": \"Aug 15\", \"VALUE\": 'Sales', \"COUNT\": 5},\n",
    "    {\"DATE\": \"Aug 15\", \"VALUE\": 'IT', \"COUNT\": 5},\n",
    "    {\"DATE\": \"Sep 15\", \"VALUE\": 'General', \"COUNT\": 5},\n",
    "    {\"DATE\": \"Sep 15\", \"VALUE\": 'Marketing', \"COUNT\": 5},\n",
    "    {\"DATE\": \"Sep 15\", \"VALUE\": 'Sales', \"COUNT\": 5},\n",
    "    {\"DATE\": \"Sep 15\", \"VALUE\": 'IT', \"COUNT\": 5},\n",
    "    {\"DATE\": \"Oct 15\", \"VALUE\": 'General', \"COUNT\": 5},\n",
    "    {\"DATE\": \"Oct 15\", \"VALUE\": 'Marketing', \"COUNT\": 5},\n",
    "    {\"DATE\": \"Oct 15\", \"VALUE\": 'Sales', \"COUNT\": 5},\n",
    "    {\"DATE\": \"Oct 15\", \"VALUE\": 'IT', \"COUNT\": 5},\n",
    "    {\"DATE\": \"Nov 15\", \"VALUE\": 'General', \"COUNT\": 5},\n",
    "    {\"DATE\": \"Nov 15\", \"VALUE\": 'Marketing', \"COUNT\": 5},\n",
    "    {\"DATE\": \"Nov 15\", \"VALUE\": 'Sales', \"COUNT\": 5},\n",
    "    {\"DATE\": \"Nov 15\", \"VALUE\": 'IT', \"COUNT\": 5},\n",
    "    {\"DATE\": \"Dec 15\", \"VALUE\": 'General', \"COUNT\": 5},\n",
    "    {\"DATE\": \"Dec 15\", \"VALUE\": 'Marketing', \"COUNT\": 5},\n",
    "    {\"DATE\": \"Dec 15\", \"VALUE\": 'Sales', \"COUNT\": 5},\n",
    "    {\"DATE\": \"Dec 15\", \"VALUE\": 'IT', \"COUNT\": 5},\n",
    "]\n",
    "df2 = pd.DataFrame(data2)\n",
    "df2\n",
    "\n",
    "\n",
    "def create_multichart(df2,\n",
    "                        label=\"DATE\",\n",
    "                        value=\"COUNT\",\n",
    "                        varv=\"VALUE\",\n",
    "                        xaxis_title=None,\n",
    "                        yaxis_title_r=None,\n",
    "                        yaxis_title_l=None):\n",
    "    fig2 = make_subplots(\n",
    "        rows=1, cols=2,\n",
    "        specs=[[{\"secondary_y\": True}, {\"secondary_y\": True}],\n",
    "          ]),\n",
    "    \n",
    "    # left\n",
    "    fig2.add_trace(\n",
    "        go.Scatter(x=[1, 2, 3], y=[2, 52, 62], name=\"yaxis data\"),\n",
    "        row=1, col=1, secondary_y=False)\n",
    "    \n",
    "    fig2.add_trace(\n",
    "        go.Scatter(x=[1, 2, 3], y=[40, 50, 60], name=\"yaxis2 data\"),\n",
    "        row=1, col=1, secondary_y=True,\n",
    "    )\n",
    "    # right\n",
    "    fig2.add_trace(\n",
    "        go.Scatter(x=[1, 2, 3], y=[2, 52, 62], name=\"yaxis3 data\"),\n",
    "        row=1, col=2, secondary_y=False,\n",
    "    )\n",
    "    \n",
    "    fig2.add_trace(\n",
    "        go.Scatter(x=[1, 2, 3], y=[40, 50, 60], name=\"yaxis4 data\"),\n",
    "        row=1, col=2, secondary_y=True,\n",
    "    )\n",
    "\n",
    "\n",
    "    # Add figure title\n",
    "    fig2.update_layout(\n",
    "        title=\"Revenue\",\n",
    "        title_font=dict(family=\"Arial\", size=18, color=\"black\"),\n",
    "        legend=None,\n",
    "        plot_bgcolor=\"#ebebeb\",\n",
    "        height=300,\n",
    "        paper_bgcolor=\"white\",\n",
    "        xaxis_title=xaxis_title,\n",
    "        xaxis_title_font=dict(family=\"Arial\", size=10, color=\"black\"),\n",
    "    )\n",
    "\n",
    "    # Set y-axes titles\n",
    "    fig2.update_yaxes(\n",
    "        title_text=yaxis_title_r,\n",
    "        title_font=dict(family=\"Arial\", size=10, color=\"black\"),\n",
    "        secondary_y=False\n",
    "    )\n",
    "    fig2.update_yaxes(\n",
    "        title_text=yaxis_title_l,\n",
    "        title_font=dict(family=\"Arial\", size=10, color=\"black\"),\n",
    "        secondary_y=True\n",
    "    )\n",
    "    fig2.update_traces(showlegend=False)\n",
    "    fig2.show()\n",
    "    return fig2\n",
    "\n",
    "                          yaxis_title_l=None)"
   ]
  },
  {
   "cell_type": "markdown",
   "id": "e88267e7-d9ea-406b-a90e-05fb19bace73",
   "metadata": {
    "execution": {
     "iopub.execute_input": "2022-08-07T12:36:43.651149Z",
     "iopub.status.busy": "2022-08-07T12:36:43.650909Z",
     "iopub.status.idle": "2022-08-07T12:36:43.655756Z",
     "shell.execute_reply": "2022-08-07T12:36:43.655122Z",
     "shell.execute_reply.started": "2022-08-07T12:36:43.651126Z"
    }
   },
   "source": [
    "### Design"
   ]
  },
  {
   "cell_type": "markdown",
   "id": "f85cbd85-0994-4420-a720-89b46b2d3d12",
   "metadata": {
    "papermill": {},
    "tags": []
   },
   "source": [
    "#### Initialize Dash app"
   ]
  },
  {
   "cell_type": "code",
   "execution_count": null,
   "id": "a0b39a48-5f62-4ef3-b15c-cb5bd0b11a12",
   "metadata": {
    "papermill": {},
    "tags": []
   },
   "outputs": [],
   "source": [
    "app = dash.Dash(requests_pathname_prefix=f'/user/{os.environ.get(\"JUPYTERHUB_USER\")}/proxy/{DASH_PORT}/', \n",
    "                external_stylesheets=[dbc.themes.BOOTSTRAP])   \n",
    "#app = dash.Dash() if you are not in Naas"
   ]
  },
  {
   "cell_type": "markdown",
   "id": "a3b9b54e-50d5-43b8-9335-ead33e62fc88",
   "metadata": {
    "papermill": {},
    "tags": []
   },
   "source": [
    "#### Create app layout"
   ]
  },
  {
   "cell_type": "code",
   "execution_count": null,
   "id": "037010c9-4877-4ca9-9f1e-1d5ec9a6db39",
   "metadata": {
    "tags": []
   },
   "outputs": [],
   "source": [
    "available_indicators1=[\"Entity1\", \"Entity2\", \"Entity3\", \"Entity4\"]\n",
    "available_indicators2=[\"2022\",\"2021\",\"2020\",\"2019\"]"
   ]
  },
  {
   "cell_type": "code",
   "execution_count": null,
   "id": "22912010-dbc8-4002-be31-20c39a336806",
   "metadata": {
    "tags": []
   },
   "outputs": [],
   "source": [
    "  app.layout = html.Div(\n",
    "    [\n",
    "        # Navbar\n",
    "        \n",
    "        dbc.Navbar(\n",
    "            dbc.Container([\n",
    "                    html.A(\n",
    "                        # Use row and col to control vertical alignment of logo / brand\n",
    "                        dbc.Row([\n",
    "                                dbc.Col(html.Img(src=\"https://images.plot.ly/logo/new-branding/plotly-logomark.png\", height=\"30px\")),\n",
    "                                dbc.Col(dbc.NavbarBrand(\"Financial consolidation\", className=\"ms-2\")),\n",
    "                        ],\n",
    "                            align=\"center\",\n",
    "                            className=\"g-0\",\n",
    "                        ),\n",
    "                    ),\n",
    "                    dbc.DropdownMenu(\n",
    "                        children=[\n",
    "                            dbc.DropdownMenuItem(\"Info1\", href=\"#\"),\n",
    "                            dbc.DropdownMenuItem(\"Info2\", href=\"#\"),\n",
    "                        ],\n",
    "                        nav=True,\n",
    "                        in_navbar=True,\n",
    "                        label=\"Learn more\")\n",
    "                ]\n",
    "            ),\n",
    "            color=\"#163b78\",\n",
    "            dark=True\n",
    "        ),\n",
    "        # Dropdown Lists\n",
    "        html.Div([\n",
    "            html.Div([\n",
    "                dcc.Dropdown(\n",
    "                    id='crossfilter-xaxis-column',\n",
    "                    options=[{'label': i, 'value': i} for i in available_indicators1],\n",
    "                    value='Select'\n",
    "                ),\n",
    "            ],\n",
    "                style={'width': '49%', 'display': 'inline-block'}),\n",
    "            \n",
    "            html.Div([\n",
    "                dcc.Dropdown(\n",
    "                    id='crossfilter-yaxis-column',\n",
    "                    options=[{'label': i, 'value': i} for i in available_indicators2],\n",
    "                    value='Select'\n",
    "                ),\n",
    "            ], style={'width': '49%', 'float': 'right', 'display': 'inline-block'})\n",
    "        ], style={\n",
    "            'borderBottom': 'thin lightgrey solid',\n",
    "            'backgroundColor': 'rgb(250, 250, 250)',\n",
    "            'padding': '10px 5px'\n",
    "    }),\n",
    "        \n",
    "        # Let's assume that we have 2 columns \n",
    "        \n",
    "                #HKPIS\n",
    "        \n",
    "        html.Div([\n",
    "            dbc.Row([\n",
    "                dbc.Col(\n",
    "                    html.Div(\n",
    "                        dbc.Card(\n",
    "                            dbc.CardBody([\n",
    "                                html.H5(\"Gross Profit Margin\", className=\"card-title\"),\n",
    "                                html.P(\n",
    "                                    \"84%\",\n",
    "                                    className=\"card-text\",\n",
    "                                ),\n",
    "                            ],),color=\"#163b78\", inverse=True,\n",
    "                        ),\n",
    "                    ), width=2\n",
    "                ),\n",
    "                \n",
    "                dbc.Col(\n",
    "                    html.Div(\n",
    "                        dbc.Card(\n",
    "                            dbc.CardBody([\n",
    "                                html.H5(\"Opex Ratio\", className=\"card-title\"),\n",
    "                                html.P(\n",
    "                                    \"74%\",\n",
    "                                    className=\"card-text\",\n",
    "                                ),\n",
    "                            ],),color=\"#64abbd\", inverse=True,\n",
    "                        ),\n",
    "                    ), width=2\n",
    "                ),\n",
    "                \n",
    "                dbc.Col(\n",
    "                    html.Div(\n",
    "                        dbc.Card(\n",
    "                            dbc.CardBody([\n",
    "                                html.H5(\"Ebit Margin\", className=\"card-title\"),\n",
    "                                html.P(\n",
    "                                    \"18%\",\n",
    "                                    className=\"card-text\",\n",
    "                                ),\n",
    "                            ],),color=\"#45a127\", inverse=True,\n",
    "                        ),\n",
    "                    ), width=2\n",
    "                ),\n",
    "                \n",
    "                dbc.Col(\n",
    "                    html.Div(\n",
    "                        dbc.Card(\n",
    "                            dbc.CardBody([\n",
    "                                html.H5(\"Net Profit Margin\", className=\"card-title\"),\n",
    "                                html.P(\n",
    "                                    \"14%\",\n",
    "                                    className=\"card-text\",\n",
    "                                ),\n",
    "                            ],),color=\"success\", inverse=True,\n",
    "                        ),\n",
    "                    ), width=2\n",
    "                ),\n",
    "\n",
    "                dbc.Col(\n",
    "                    html.Div(\n",
    "                        dbc.Card(\n",
    "                            dbc.CardBody([\n",
    "                                html.H5(\"Income Statement\", className=\"card-title\"),\n",
    "                                html.P(\n",
    "                                    \"Revenue\",\n",
    "                                    className=\"card-text\",\n",
    "                                ),\n",
    "                            ],),\n",
    "                        ),\n",
    "                    ), width=4\n",
    "                ),\n",
    "                ],),\n",
    "            \n",
    "            dbc.Row([\n",
    "                dbc.Col(\n",
    "                    html.Div(\n",
    "                        dcc.Graph(id=\"test2\",figure=fig)\n",
    "                    ), width=8,\n",
    "                ),\n",
    "            ],),\n",
    "\n",
    "            dbc.Row([\n",
    "                dbc.Col(\n",
    "                    html.Div(\n",
    "                        dcc.Graph(id=\"test4\",figure=fig)\n",
    "                    ), width=4,\n",
    "                ),\n",
    "            ],),\n",
    "            \n",
    "        ],),\n",
    "    ],\n",
    "  )\n",
    "    \n",
    "# add callback for toggling the collapse on small screens\n",
    "@app.callback(\n",
    "    Output(\"navbar-collapse\", \"is_open\"),\n",
    "    [Input(\"navbar-toggler\", \"n_clicks\")],\n",
    "    [State(\"navbar-collapse\", \"is_open\")],\n",
    ")\n",
    "@app.callback(\n",
    "    dash.dependencies.Output('crossfilter-indicator-scatter', 'figure'),\n",
    "    [dash.dependencies.Input('crossfilter-xaxis-column', 'value'),\n",
    "     dash.dependencies.Input('crossfilter-yaxis-column', 'value'),\n",
    "     dash.dependencies.Input('crossfilter-xaxis-type', 'value'),\n",
    "     dash.dependencies.Input('crossfilter-yaxis-type', 'value')])\n",
    "def toggle_navbar_collapse(n, is_open):\n",
    "    if n:\n",
    "        return not is_open\n",
    "    return is_open"
   ]
  },
  {
   "cell_type": "markdown",
   "id": "59e4f1f8-38d1-4b3b-b93c-c010ef9011b0",
   "metadata": {
    "execution": {
     "iopub.execute_input": "2021-07-02T23:32:10.789097Z",
     "iopub.status.busy": "2021-07-02T23:32:10.788829Z",
     "iopub.status.idle": "2021-07-02T23:32:10.796900Z",
     "shell.execute_reply": "2021-07-02T23:32:10.796358Z",
     "shell.execute_reply.started": "2021-07-02T23:32:10.789033Z"
    },
    "papermill": {},
    "tags": []
   },
   "source": [
    "## Output"
   ]
  },
  {
   "cell_type": "markdown",
   "id": "a828ebca-0b33-4d16-829c-e45044f9659d",
   "metadata": {
    "papermill": {},
    "tags": []
   },
   "source": [
    "### Generate URL and show logs"
   ]
  },
  {
   "cell_type": "code",
   "execution_count": null,
   "id": "f054b1db-a3eb-4a2b-9ca2-881d7f1dc242",
   "metadata": {
    "papermill": {},
    "tags": []
   },
   "outputs": [],
   "source": [
    "if __name__ == '__main__':\n",
    "    app.run_server(proxy=f\"http://127.0.0.1:{DASH_PORT}::https://app.naas.ai\")"
   ]
  },
  {
   "cell_type": "code",
   "execution_count": null,
   "id": "e7e1fd49-fdf8-49dc-af46-f4c3a4c00f7e",
   "metadata": {},
   "outputs": [],
   "source": []
  },
  {
   "cell_type": "code",
   "execution_count": null,
   "id": "5e116ea0-0041-474a-81f3-adbbbe72d9be",
   "metadata": {},
   "outputs": [],
   "source": []
  },
  {
   "cell_type": "code",
   "execution_count": null,
   "id": "857b6a31-e2db-434f-870d-990a8a6808db",
   "metadata": {},
   "outputs": [],
   "source": []
  },
  {
   "cell_type": "code",
   "execution_count": null,
   "id": "66714282-a359-4fed-bfe8-52c950b0ead8",
   "metadata": {},
   "outputs": [],
   "source": []
  },
  {
   "cell_type": "code",
   "execution_count": null,
   "id": "15153570-c022-48b1-8866-eff372219dde",
   "metadata": {},
   "outputs": [],
   "source": []
  }
 ],
 "metadata": {
  "kernelspec": {
   "display_name": "Python 3",
   "language": "python",
   "name": "python3"
  },
  "language_info": {
   "codemirror_mode": {
    "name": "ipython",
    "version": 3
   },
   "file_extension": ".py",
   "mimetype": "text/x-python",
   "name": "python",
   "nbconvert_exporter": "python",
   "pygments_lexer": "ipython3",
   "version": "3.9.6"
  }
 },
 "nbformat": 4,
 "nbformat_minor": 5
}
